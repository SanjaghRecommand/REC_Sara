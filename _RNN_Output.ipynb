{
  "cells": [
    {
      "cell_type": "code",
      "execution_count": 1,
      "metadata": {
        "colab": {
          "base_uri": "https://localhost:8080/"
        },
        "id": "Lofi44TW-4VG",
        "outputId": "e1c5566e-76fb-40a8-d7fb-70e4342c8e42"
      },
      "outputs": [
        {
          "output_type": "stream",
          "name": "stdout",
          "text": [
            "Mounted at /content/drive\n"
          ]
        }
      ],
      "source": [
        "from google.colab import drive\n",
        "drive.mount('/content/drive')"
      ]
    },
    {
      "cell_type": "code",
      "execution_count": 14,
      "metadata": {
        "id": "A8HePi8c_Aos"
      },
      "outputs": [],
      "source": [
        "import pandas as pd\n",
        "import numpy as np\n",
        "import matplotlib.pyplot as plt\n",
        "import seaborn as sns\n",
        "from scipy.sparse import csr_matrix\n",
        "import numpy as np\n",
        "from keras.models import Sequential\n",
        "from keras.layers import Dense, LSTM\n",
        "import pandas as pd\n",
        "import tensorflow as tf\n",
        "import torch\n",
        "import pickle\n",
        "from tensorflow.keras.optimizers.legacy import Adam\n",
        "from tabulate import tabulate"
      ]
    },
    {
      "cell_type": "code",
      "execution_count": 8,
      "metadata": {
        "colab": {
          "base_uri": "https://localhost:8080/",
          "height": 206
        },
        "id": "d2bbRGTE_SpC",
        "outputId": "a4a72f72-fbe6-46f5-e6ad-f8225a26ccff"
      },
      "outputs": [
        {
          "output_type": "execute_result",
          "data": {
            "text/plain": [
              "            Init  service     user\n",
              "0  1655018492726      328  1275352\n",
              "1  1655018824405       92  1275354\n",
              "2  1655018831538       12  1275355\n",
              "3  1655018842708      149  1274893\n",
              "4  1655018856558       42     8604"
            ],
            "text/html": [
              "\n",
              "  <div id=\"df-17ad8f28-2305-48a1-b473-86b5af2d9052\">\n",
              "    <div class=\"colab-df-container\">\n",
              "      <div>\n",
              "<style scoped>\n",
              "    .dataframe tbody tr th:only-of-type {\n",
              "        vertical-align: middle;\n",
              "    }\n",
              "\n",
              "    .dataframe tbody tr th {\n",
              "        vertical-align: top;\n",
              "    }\n",
              "\n",
              "    .dataframe thead th {\n",
              "        text-align: right;\n",
              "    }\n",
              "</style>\n",
              "<table border=\"1\" class=\"dataframe\">\n",
              "  <thead>\n",
              "    <tr style=\"text-align: right;\">\n",
              "      <th></th>\n",
              "      <th>Init</th>\n",
              "      <th>service</th>\n",
              "      <th>user</th>\n",
              "    </tr>\n",
              "  </thead>\n",
              "  <tbody>\n",
              "    <tr>\n",
              "      <th>0</th>\n",
              "      <td>1655018492726</td>\n",
              "      <td>328</td>\n",
              "      <td>1275352</td>\n",
              "    </tr>\n",
              "    <tr>\n",
              "      <th>1</th>\n",
              "      <td>1655018824405</td>\n",
              "      <td>92</td>\n",
              "      <td>1275354</td>\n",
              "    </tr>\n",
              "    <tr>\n",
              "      <th>2</th>\n",
              "      <td>1655018831538</td>\n",
              "      <td>12</td>\n",
              "      <td>1275355</td>\n",
              "    </tr>\n",
              "    <tr>\n",
              "      <th>3</th>\n",
              "      <td>1655018842708</td>\n",
              "      <td>149</td>\n",
              "      <td>1274893</td>\n",
              "    </tr>\n",
              "    <tr>\n",
              "      <th>4</th>\n",
              "      <td>1655018856558</td>\n",
              "      <td>42</td>\n",
              "      <td>8604</td>\n",
              "    </tr>\n",
              "  </tbody>\n",
              "</table>\n",
              "</div>\n",
              "      <button class=\"colab-df-convert\" onclick=\"convertToInteractive('df-17ad8f28-2305-48a1-b473-86b5af2d9052')\"\n",
              "              title=\"Convert this dataframe to an interactive table.\"\n",
              "              style=\"display:none;\">\n",
              "        \n",
              "  <svg xmlns=\"http://www.w3.org/2000/svg\" height=\"24px\"viewBox=\"0 0 24 24\"\n",
              "       width=\"24px\">\n",
              "    <path d=\"M0 0h24v24H0V0z\" fill=\"none\"/>\n",
              "    <path d=\"M18.56 5.44l.94 2.06.94-2.06 2.06-.94-2.06-.94-.94-2.06-.94 2.06-2.06.94zm-11 1L8.5 8.5l.94-2.06 2.06-.94-2.06-.94L8.5 2.5l-.94 2.06-2.06.94zm10 10l.94 2.06.94-2.06 2.06-.94-2.06-.94-.94-2.06-.94 2.06-2.06.94z\"/><path d=\"M17.41 7.96l-1.37-1.37c-.4-.4-.92-.59-1.43-.59-.52 0-1.04.2-1.43.59L10.3 9.45l-7.72 7.72c-.78.78-.78 2.05 0 2.83L4 21.41c.39.39.9.59 1.41.59.51 0 1.02-.2 1.41-.59l7.78-7.78 2.81-2.81c.8-.78.8-2.07 0-2.86zM5.41 20L4 18.59l7.72-7.72 1.47 1.35L5.41 20z\"/>\n",
              "  </svg>\n",
              "      </button>\n",
              "      \n",
              "  <style>\n",
              "    .colab-df-container {\n",
              "      display:flex;\n",
              "      flex-wrap:wrap;\n",
              "      gap: 12px;\n",
              "    }\n",
              "\n",
              "    .colab-df-convert {\n",
              "      background-color: #E8F0FE;\n",
              "      border: none;\n",
              "      border-radius: 50%;\n",
              "      cursor: pointer;\n",
              "      display: none;\n",
              "      fill: #1967D2;\n",
              "      height: 32px;\n",
              "      padding: 0 0 0 0;\n",
              "      width: 32px;\n",
              "    }\n",
              "\n",
              "    .colab-df-convert:hover {\n",
              "      background-color: #E2EBFA;\n",
              "      box-shadow: 0px 1px 2px rgba(60, 64, 67, 0.3), 0px 1px 3px 1px rgba(60, 64, 67, 0.15);\n",
              "      fill: #174EA6;\n",
              "    }\n",
              "\n",
              "    [theme=dark] .colab-df-convert {\n",
              "      background-color: #3B4455;\n",
              "      fill: #D2E3FC;\n",
              "    }\n",
              "\n",
              "    [theme=dark] .colab-df-convert:hover {\n",
              "      background-color: #434B5C;\n",
              "      box-shadow: 0px 1px 3px 1px rgba(0, 0, 0, 0.15);\n",
              "      filter: drop-shadow(0px 1px 2px rgba(0, 0, 0, 0.3));\n",
              "      fill: #FFFFFF;\n",
              "    }\n",
              "  </style>\n",
              "\n",
              "      <script>\n",
              "        const buttonEl =\n",
              "          document.querySelector('#df-17ad8f28-2305-48a1-b473-86b5af2d9052 button.colab-df-convert');\n",
              "        buttonEl.style.display =\n",
              "          google.colab.kernel.accessAllowed ? 'block' : 'none';\n",
              "\n",
              "        async function convertToInteractive(key) {\n",
              "          const element = document.querySelector('#df-17ad8f28-2305-48a1-b473-86b5af2d9052');\n",
              "          const dataTable =\n",
              "            await google.colab.kernel.invokeFunction('convertToInteractive',\n",
              "                                                     [key], {});\n",
              "          if (!dataTable) return;\n",
              "\n",
              "          const docLinkHtml = 'Like what you see? Visit the ' +\n",
              "            '<a target=\"_blank\" href=https://colab.research.google.com/notebooks/data_table.ipynb>data table notebook</a>'\n",
              "            + ' to learn more about interactive tables.';\n",
              "          element.innerHTML = '';\n",
              "          dataTable['output_type'] = 'display_data';\n",
              "          await google.colab.output.renderOutput(dataTable, element);\n",
              "          const docLink = document.createElement('div');\n",
              "          docLink.innerHTML = docLinkHtml;\n",
              "          element.appendChild(docLink);\n",
              "        }\n",
              "      </script>\n",
              "    </div>\n",
              "  </div>\n",
              "  "
            ]
          },
          "metadata": {},
          "execution_count": 8
        }
      ],
      "source": [
        "df1 = pd.read_csv ('/content/drive/MyDrive/Recommendation/taskfullshare.csv')\n",
        "df1 = df1.loc[:, ~df1.columns.str.contains('^Unnamed')]\n",
        "df1.head()"
      ]
    },
    {
      "cell_type": "code",
      "execution_count": 9,
      "metadata": {
        "id": "osKhs0RWqToy"
      },
      "outputs": [],
      "source": [
        "df=df1"
      ]
    },
    {
      "cell_type": "code",
      "execution_count": 10,
      "metadata": {
        "colab": {
          "base_uri": "https://localhost:8080/",
          "height": 112
        },
        "id": "zKXIrPiNp_Bg",
        "outputId": "63d764f2-2af2-4c6a-e53a-23f5d7c25bb3"
      },
      "outputs": [
        {
          "output_type": "execute_result",
          "data": {
            "text/plain": [
              "                  Init  service    user  Time\n",
              "1681001  1681064637300      395   89038    92\n",
              "1681000  1681064581152       42  216925    92"
            ],
            "text/html": [
              "\n",
              "  <div id=\"df-9afd27cd-6cf0-4833-a717-fcc4d119087c\">\n",
              "    <div class=\"colab-df-container\">\n",
              "      <div>\n",
              "<style scoped>\n",
              "    .dataframe tbody tr th:only-of-type {\n",
              "        vertical-align: middle;\n",
              "    }\n",
              "\n",
              "    .dataframe tbody tr th {\n",
              "        vertical-align: top;\n",
              "    }\n",
              "\n",
              "    .dataframe thead th {\n",
              "        text-align: right;\n",
              "    }\n",
              "</style>\n",
              "<table border=\"1\" class=\"dataframe\">\n",
              "  <thead>\n",
              "    <tr style=\"text-align: right;\">\n",
              "      <th></th>\n",
              "      <th>Init</th>\n",
              "      <th>service</th>\n",
              "      <th>user</th>\n",
              "      <th>Time</th>\n",
              "    </tr>\n",
              "  </thead>\n",
              "  <tbody>\n",
              "    <tr>\n",
              "      <th>1681001</th>\n",
              "      <td>1681064637300</td>\n",
              "      <td>395</td>\n",
              "      <td>89038</td>\n",
              "      <td>92</td>\n",
              "    </tr>\n",
              "    <tr>\n",
              "      <th>1681000</th>\n",
              "      <td>1681064581152</td>\n",
              "      <td>42</td>\n",
              "      <td>216925</td>\n",
              "      <td>92</td>\n",
              "    </tr>\n",
              "  </tbody>\n",
              "</table>\n",
              "</div>\n",
              "      <button class=\"colab-df-convert\" onclick=\"convertToInteractive('df-9afd27cd-6cf0-4833-a717-fcc4d119087c')\"\n",
              "              title=\"Convert this dataframe to an interactive table.\"\n",
              "              style=\"display:none;\">\n",
              "        \n",
              "  <svg xmlns=\"http://www.w3.org/2000/svg\" height=\"24px\"viewBox=\"0 0 24 24\"\n",
              "       width=\"24px\">\n",
              "    <path d=\"M0 0h24v24H0V0z\" fill=\"none\"/>\n",
              "    <path d=\"M18.56 5.44l.94 2.06.94-2.06 2.06-.94-2.06-.94-.94-2.06-.94 2.06-2.06.94zm-11 1L8.5 8.5l.94-2.06 2.06-.94-2.06-.94L8.5 2.5l-.94 2.06-2.06.94zm10 10l.94 2.06.94-2.06 2.06-.94-2.06-.94-.94-2.06-.94 2.06-2.06.94z\"/><path d=\"M17.41 7.96l-1.37-1.37c-.4-.4-.92-.59-1.43-.59-.52 0-1.04.2-1.43.59L10.3 9.45l-7.72 7.72c-.78.78-.78 2.05 0 2.83L4 21.41c.39.39.9.59 1.41.59.51 0 1.02-.2 1.41-.59l7.78-7.78 2.81-2.81c.8-.78.8-2.07 0-2.86zM5.41 20L4 18.59l7.72-7.72 1.47 1.35L5.41 20z\"/>\n",
              "  </svg>\n",
              "      </button>\n",
              "      \n",
              "  <style>\n",
              "    .colab-df-container {\n",
              "      display:flex;\n",
              "      flex-wrap:wrap;\n",
              "      gap: 12px;\n",
              "    }\n",
              "\n",
              "    .colab-df-convert {\n",
              "      background-color: #E8F0FE;\n",
              "      border: none;\n",
              "      border-radius: 50%;\n",
              "      cursor: pointer;\n",
              "      display: none;\n",
              "      fill: #1967D2;\n",
              "      height: 32px;\n",
              "      padding: 0 0 0 0;\n",
              "      width: 32px;\n",
              "    }\n",
              "\n",
              "    .colab-df-convert:hover {\n",
              "      background-color: #E2EBFA;\n",
              "      box-shadow: 0px 1px 2px rgba(60, 64, 67, 0.3), 0px 1px 3px 1px rgba(60, 64, 67, 0.15);\n",
              "      fill: #174EA6;\n",
              "    }\n",
              "\n",
              "    [theme=dark] .colab-df-convert {\n",
              "      background-color: #3B4455;\n",
              "      fill: #D2E3FC;\n",
              "    }\n",
              "\n",
              "    [theme=dark] .colab-df-convert:hover {\n",
              "      background-color: #434B5C;\n",
              "      box-shadow: 0px 1px 3px 1px rgba(0, 0, 0, 0.15);\n",
              "      filter: drop-shadow(0px 1px 2px rgba(0, 0, 0, 0.3));\n",
              "      fill: #FFFFFF;\n",
              "    }\n",
              "  </style>\n",
              "\n",
              "      <script>\n",
              "        const buttonEl =\n",
              "          document.querySelector('#df-9afd27cd-6cf0-4833-a717-fcc4d119087c button.colab-df-convert');\n",
              "        buttonEl.style.display =\n",
              "          google.colab.kernel.accessAllowed ? 'block' : 'none';\n",
              "\n",
              "        async function convertToInteractive(key) {\n",
              "          const element = document.querySelector('#df-9afd27cd-6cf0-4833-a717-fcc4d119087c');\n",
              "          const dataTable =\n",
              "            await google.colab.kernel.invokeFunction('convertToInteractive',\n",
              "                                                     [key], {});\n",
              "          if (!dataTable) return;\n",
              "\n",
              "          const docLinkHtml = 'Like what you see? Visit the ' +\n",
              "            '<a target=\"_blank\" href=https://colab.research.google.com/notebooks/data_table.ipynb>data table notebook</a>'\n",
              "            + ' to learn more about interactive tables.';\n",
              "          element.innerHTML = '';\n",
              "          dataTable['output_type'] = 'display_data';\n",
              "          await google.colab.output.renderOutput(dataTable, element);\n",
              "          const docLink = document.createElement('div');\n",
              "          docLink.innerHTML = docLinkHtml;\n",
              "          element.appendChild(docLink);\n",
              "        }\n",
              "      </script>\n",
              "    </div>\n",
              "  </div>\n",
              "  "
            ]
          },
          "metadata": {},
          "execution_count": 10
        }
      ],
      "source": [
        "mininit= df.Init.min()\n",
        "df['Time']=df.Init.apply(lambda x: round((x- mininit)/2000000000))\n",
        "# df.drop(columns='Init', inplace=True)\n",
        "df= df[df['user'] >5 ]\n",
        "df.sort_values(by='Init',ascending=False).head(2)"
      ]
    },
    {
      "cell_type": "code",
      "execution_count": 11,
      "metadata": {
        "colab": {
          "base_uri": "https://localhost:8080/",
          "height": 112
        },
        "id": "35Mxn3-GpJZY",
        "outputId": "f502e525-a6ef-431f-e770-e6c731616c4f"
      },
      "outputs": [
        {
          "output_type": "execute_result",
          "data": {
            "text/plain": [
              "                           Init  service    user  Time\n",
              "1681001 2023-04-09 18:23:57.300      395   89038    92\n",
              "1681000 2023-04-09 18:23:01.152       42  216925    92"
            ],
            "text/html": [
              "\n",
              "  <div id=\"df-5e3498f6-d650-4b6d-9937-355c70c8bf73\">\n",
              "    <div class=\"colab-df-container\">\n",
              "      <div>\n",
              "<style scoped>\n",
              "    .dataframe tbody tr th:only-of-type {\n",
              "        vertical-align: middle;\n",
              "    }\n",
              "\n",
              "    .dataframe tbody tr th {\n",
              "        vertical-align: top;\n",
              "    }\n",
              "\n",
              "    .dataframe thead th {\n",
              "        text-align: right;\n",
              "    }\n",
              "</style>\n",
              "<table border=\"1\" class=\"dataframe\">\n",
              "  <thead>\n",
              "    <tr style=\"text-align: right;\">\n",
              "      <th></th>\n",
              "      <th>Init</th>\n",
              "      <th>service</th>\n",
              "      <th>user</th>\n",
              "      <th>Time</th>\n",
              "    </tr>\n",
              "  </thead>\n",
              "  <tbody>\n",
              "    <tr>\n",
              "      <th>1681001</th>\n",
              "      <td>2023-04-09 18:23:57.300</td>\n",
              "      <td>395</td>\n",
              "      <td>89038</td>\n",
              "      <td>92</td>\n",
              "    </tr>\n",
              "    <tr>\n",
              "      <th>1681000</th>\n",
              "      <td>2023-04-09 18:23:01.152</td>\n",
              "      <td>42</td>\n",
              "      <td>216925</td>\n",
              "      <td>92</td>\n",
              "    </tr>\n",
              "  </tbody>\n",
              "</table>\n",
              "</div>\n",
              "      <button class=\"colab-df-convert\" onclick=\"convertToInteractive('df-5e3498f6-d650-4b6d-9937-355c70c8bf73')\"\n",
              "              title=\"Convert this dataframe to an interactive table.\"\n",
              "              style=\"display:none;\">\n",
              "        \n",
              "  <svg xmlns=\"http://www.w3.org/2000/svg\" height=\"24px\"viewBox=\"0 0 24 24\"\n",
              "       width=\"24px\">\n",
              "    <path d=\"M0 0h24v24H0V0z\" fill=\"none\"/>\n",
              "    <path d=\"M18.56 5.44l.94 2.06.94-2.06 2.06-.94-2.06-.94-.94-2.06-.94 2.06-2.06.94zm-11 1L8.5 8.5l.94-2.06 2.06-.94-2.06-.94L8.5 2.5l-.94 2.06-2.06.94zm10 10l.94 2.06.94-2.06 2.06-.94-2.06-.94-.94-2.06-.94 2.06-2.06.94z\"/><path d=\"M17.41 7.96l-1.37-1.37c-.4-.4-.92-.59-1.43-.59-.52 0-1.04.2-1.43.59L10.3 9.45l-7.72 7.72c-.78.78-.78 2.05 0 2.83L4 21.41c.39.39.9.59 1.41.59.51 0 1.02-.2 1.41-.59l7.78-7.78 2.81-2.81c.8-.78.8-2.07 0-2.86zM5.41 20L4 18.59l7.72-7.72 1.47 1.35L5.41 20z\"/>\n",
              "  </svg>\n",
              "      </button>\n",
              "      \n",
              "  <style>\n",
              "    .colab-df-container {\n",
              "      display:flex;\n",
              "      flex-wrap:wrap;\n",
              "      gap: 12px;\n",
              "    }\n",
              "\n",
              "    .colab-df-convert {\n",
              "      background-color: #E8F0FE;\n",
              "      border: none;\n",
              "      border-radius: 50%;\n",
              "      cursor: pointer;\n",
              "      display: none;\n",
              "      fill: #1967D2;\n",
              "      height: 32px;\n",
              "      padding: 0 0 0 0;\n",
              "      width: 32px;\n",
              "    }\n",
              "\n",
              "    .colab-df-convert:hover {\n",
              "      background-color: #E2EBFA;\n",
              "      box-shadow: 0px 1px 2px rgba(60, 64, 67, 0.3), 0px 1px 3px 1px rgba(60, 64, 67, 0.15);\n",
              "      fill: #174EA6;\n",
              "    }\n",
              "\n",
              "    [theme=dark] .colab-df-convert {\n",
              "      background-color: #3B4455;\n",
              "      fill: #D2E3FC;\n",
              "    }\n",
              "\n",
              "    [theme=dark] .colab-df-convert:hover {\n",
              "      background-color: #434B5C;\n",
              "      box-shadow: 0px 1px 3px 1px rgba(0, 0, 0, 0.15);\n",
              "      filter: drop-shadow(0px 1px 2px rgba(0, 0, 0, 0.3));\n",
              "      fill: #FFFFFF;\n",
              "    }\n",
              "  </style>\n",
              "\n",
              "      <script>\n",
              "        const buttonEl =\n",
              "          document.querySelector('#df-5e3498f6-d650-4b6d-9937-355c70c8bf73 button.colab-df-convert');\n",
              "        buttonEl.style.display =\n",
              "          google.colab.kernel.accessAllowed ? 'block' : 'none';\n",
              "\n",
              "        async function convertToInteractive(key) {\n",
              "          const element = document.querySelector('#df-5e3498f6-d650-4b6d-9937-355c70c8bf73');\n",
              "          const dataTable =\n",
              "            await google.colab.kernel.invokeFunction('convertToInteractive',\n",
              "                                                     [key], {});\n",
              "          if (!dataTable) return;\n",
              "\n",
              "          const docLinkHtml = 'Like what you see? Visit the ' +\n",
              "            '<a target=\"_blank\" href=https://colab.research.google.com/notebooks/data_table.ipynb>data table notebook</a>'\n",
              "            + ' to learn more about interactive tables.';\n",
              "          element.innerHTML = '';\n",
              "          dataTable['output_type'] = 'display_data';\n",
              "          await google.colab.output.renderOutput(dataTable, element);\n",
              "          const docLink = document.createElement('div');\n",
              "          docLink.innerHTML = docLinkHtml;\n",
              "          element.appendChild(docLink);\n",
              "        }\n",
              "      </script>\n",
              "    </div>\n",
              "  </div>\n",
              "  "
            ]
          },
          "metadata": {},
          "execution_count": 11
        }
      ],
      "source": [
        "df1['Init'] = pd.to_datetime(df1['Init'],unit='ms')\n",
        "df1=df1.sort_values(by='Init',ascending=False)\n",
        "df1.head(2)"
      ]
    },
    {
      "cell_type": "code",
      "execution_count": 12,
      "metadata": {
        "colab": {
          "base_uri": "https://localhost:8080/",
          "height": 206
        },
        "id": "QWZQAOlQpJci",
        "outputId": "76cc4d43-6f21-4a0e-a662-3eec7a37c533"
      },
      "outputs": [
        {
          "output_type": "execute_result",
          "data": {
            "text/plain": [
              "                         Init  service  user  Time        date  \\\n",
              "40557 2017-06-13 11:00:31.553        0   127     0  2017-06-13   \n",
              "40555 2017-06-13 12:49:36.030        0   130     0  2017-06-13   \n",
              "40554 2017-06-13 13:04:06.644        0   132     0  2017-06-13   \n",
              "40597 2017-06-13 13:24:43.878        0   130     0  2017-06-13   \n",
              "40629 2017-06-14 07:35:55.062        0   134     0  2017-06-14   \n",
              "\n",
              "                  time  \n",
              "40557  11:00:31.553000  \n",
              "40555  12:49:36.030000  \n",
              "40554  13:04:06.644000  \n",
              "40597  13:24:43.878000  \n",
              "40629  07:35:55.062000  "
            ],
            "text/html": [
              "\n",
              "  <div id=\"df-fe8197c1-71f2-4d90-b56a-59999ac83f3a\">\n",
              "    <div class=\"colab-df-container\">\n",
              "      <div>\n",
              "<style scoped>\n",
              "    .dataframe tbody tr th:only-of-type {\n",
              "        vertical-align: middle;\n",
              "    }\n",
              "\n",
              "    .dataframe tbody tr th {\n",
              "        vertical-align: top;\n",
              "    }\n",
              "\n",
              "    .dataframe thead th {\n",
              "        text-align: right;\n",
              "    }\n",
              "</style>\n",
              "<table border=\"1\" class=\"dataframe\">\n",
              "  <thead>\n",
              "    <tr style=\"text-align: right;\">\n",
              "      <th></th>\n",
              "      <th>Init</th>\n",
              "      <th>service</th>\n",
              "      <th>user</th>\n",
              "      <th>Time</th>\n",
              "      <th>date</th>\n",
              "      <th>time</th>\n",
              "    </tr>\n",
              "  </thead>\n",
              "  <tbody>\n",
              "    <tr>\n",
              "      <th>40557</th>\n",
              "      <td>2017-06-13 11:00:31.553</td>\n",
              "      <td>0</td>\n",
              "      <td>127</td>\n",
              "      <td>0</td>\n",
              "      <td>2017-06-13</td>\n",
              "      <td>11:00:31.553000</td>\n",
              "    </tr>\n",
              "    <tr>\n",
              "      <th>40555</th>\n",
              "      <td>2017-06-13 12:49:36.030</td>\n",
              "      <td>0</td>\n",
              "      <td>130</td>\n",
              "      <td>0</td>\n",
              "      <td>2017-06-13</td>\n",
              "      <td>12:49:36.030000</td>\n",
              "    </tr>\n",
              "    <tr>\n",
              "      <th>40554</th>\n",
              "      <td>2017-06-13 13:04:06.644</td>\n",
              "      <td>0</td>\n",
              "      <td>132</td>\n",
              "      <td>0</td>\n",
              "      <td>2017-06-13</td>\n",
              "      <td>13:04:06.644000</td>\n",
              "    </tr>\n",
              "    <tr>\n",
              "      <th>40597</th>\n",
              "      <td>2017-06-13 13:24:43.878</td>\n",
              "      <td>0</td>\n",
              "      <td>130</td>\n",
              "      <td>0</td>\n",
              "      <td>2017-06-13</td>\n",
              "      <td>13:24:43.878000</td>\n",
              "    </tr>\n",
              "    <tr>\n",
              "      <th>40629</th>\n",
              "      <td>2017-06-14 07:35:55.062</td>\n",
              "      <td>0</td>\n",
              "      <td>134</td>\n",
              "      <td>0</td>\n",
              "      <td>2017-06-14</td>\n",
              "      <td>07:35:55.062000</td>\n",
              "    </tr>\n",
              "  </tbody>\n",
              "</table>\n",
              "</div>\n",
              "      <button class=\"colab-df-convert\" onclick=\"convertToInteractive('df-fe8197c1-71f2-4d90-b56a-59999ac83f3a')\"\n",
              "              title=\"Convert this dataframe to an interactive table.\"\n",
              "              style=\"display:none;\">\n",
              "        \n",
              "  <svg xmlns=\"http://www.w3.org/2000/svg\" height=\"24px\"viewBox=\"0 0 24 24\"\n",
              "       width=\"24px\">\n",
              "    <path d=\"M0 0h24v24H0V0z\" fill=\"none\"/>\n",
              "    <path d=\"M18.56 5.44l.94 2.06.94-2.06 2.06-.94-2.06-.94-.94-2.06-.94 2.06-2.06.94zm-11 1L8.5 8.5l.94-2.06 2.06-.94-2.06-.94L8.5 2.5l-.94 2.06-2.06.94zm10 10l.94 2.06.94-2.06 2.06-.94-2.06-.94-.94-2.06-.94 2.06-2.06.94z\"/><path d=\"M17.41 7.96l-1.37-1.37c-.4-.4-.92-.59-1.43-.59-.52 0-1.04.2-1.43.59L10.3 9.45l-7.72 7.72c-.78.78-.78 2.05 0 2.83L4 21.41c.39.39.9.59 1.41.59.51 0 1.02-.2 1.41-.59l7.78-7.78 2.81-2.81c.8-.78.8-2.07 0-2.86zM5.41 20L4 18.59l7.72-7.72 1.47 1.35L5.41 20z\"/>\n",
              "  </svg>\n",
              "      </button>\n",
              "      \n",
              "  <style>\n",
              "    .colab-df-container {\n",
              "      display:flex;\n",
              "      flex-wrap:wrap;\n",
              "      gap: 12px;\n",
              "    }\n",
              "\n",
              "    .colab-df-convert {\n",
              "      background-color: #E8F0FE;\n",
              "      border: none;\n",
              "      border-radius: 50%;\n",
              "      cursor: pointer;\n",
              "      display: none;\n",
              "      fill: #1967D2;\n",
              "      height: 32px;\n",
              "      padding: 0 0 0 0;\n",
              "      width: 32px;\n",
              "    }\n",
              "\n",
              "    .colab-df-convert:hover {\n",
              "      background-color: #E2EBFA;\n",
              "      box-shadow: 0px 1px 2px rgba(60, 64, 67, 0.3), 0px 1px 3px 1px rgba(60, 64, 67, 0.15);\n",
              "      fill: #174EA6;\n",
              "    }\n",
              "\n",
              "    [theme=dark] .colab-df-convert {\n",
              "      background-color: #3B4455;\n",
              "      fill: #D2E3FC;\n",
              "    }\n",
              "\n",
              "    [theme=dark] .colab-df-convert:hover {\n",
              "      background-color: #434B5C;\n",
              "      box-shadow: 0px 1px 3px 1px rgba(0, 0, 0, 0.15);\n",
              "      filter: drop-shadow(0px 1px 2px rgba(0, 0, 0, 0.3));\n",
              "      fill: #FFFFFF;\n",
              "    }\n",
              "  </style>\n",
              "\n",
              "      <script>\n",
              "        const buttonEl =\n",
              "          document.querySelector('#df-fe8197c1-71f2-4d90-b56a-59999ac83f3a button.colab-df-convert');\n",
              "        buttonEl.style.display =\n",
              "          google.colab.kernel.accessAllowed ? 'block' : 'none';\n",
              "\n",
              "        async function convertToInteractive(key) {\n",
              "          const element = document.querySelector('#df-fe8197c1-71f2-4d90-b56a-59999ac83f3a');\n",
              "          const dataTable =\n",
              "            await google.colab.kernel.invokeFunction('convertToInteractive',\n",
              "                                                     [key], {});\n",
              "          if (!dataTable) return;\n",
              "\n",
              "          const docLinkHtml = 'Like what you see? Visit the ' +\n",
              "            '<a target=\"_blank\" href=https://colab.research.google.com/notebooks/data_table.ipynb>data table notebook</a>'\n",
              "            + ' to learn more about interactive tables.';\n",
              "          element.innerHTML = '';\n",
              "          dataTable['output_type'] = 'display_data';\n",
              "          await google.colab.output.renderOutput(dataTable, element);\n",
              "          const docLink = document.createElement('div');\n",
              "          docLink.innerHTML = docLinkHtml;\n",
              "          element.appendChild(docLink);\n",
              "        }\n",
              "      </script>\n",
              "    </div>\n",
              "  </div>\n",
              "  "
            ]
          },
          "metadata": {},
          "execution_count": 12
        }
      ],
      "source": [
        "df1 = df1.sort_values(by='Init')\n",
        "# Extract date and time components\n",
        "df1['date'] = df1['Init'].dt.date\n",
        "df1['time'] = df1['Init'].dt.time\n",
        "df1.head()"
      ]
    },
    {
      "cell_type": "code",
      "execution_count": 13,
      "metadata": {
        "id": "Wy8L7Ts7pJeu"
      },
      "outputs": [],
      "source": [
        "df1= df1.drop_duplicates(subset=['date', 'service', 'user'])\n"
      ]
    },
    {
      "cell_type": "code",
      "execution_count": 14,
      "metadata": {
        "colab": {
          "base_uri": "https://localhost:8080/"
        },
        "id": "zNjrO-vipJhk",
        "outputId": "71a12881-5ebc-41b0-f00f-417a792912ee"
      },
      "outputs": [
        {
          "output_type": "stream",
          "name": "stdout",
          "text": [
            "<class 'pandas.core.frame.DataFrame'>\n",
            "Int64Index: 1482958 entries, 40557 to 1681000\n",
            "Data columns (total 6 columns):\n",
            " #   Column   Non-Null Count    Dtype         \n",
            "---  ------   --------------    -----         \n",
            " 0   Init     1482958 non-null  datetime64[ns]\n",
            " 1   service  1482958 non-null  int64         \n",
            " 2   user     1482958 non-null  int64         \n",
            " 3   Time     1482958 non-null  int64         \n",
            " 4   date     1482958 non-null  object        \n",
            " 5   time     1482958 non-null  object        \n",
            "dtypes: datetime64[ns](1), int64(3), object(2)\n",
            "memory usage: 79.2+ MB\n"
          ]
        }
      ],
      "source": [
        "df1.info()"
      ]
    },
    {
      "cell_type": "code",
      "execution_count": 15,
      "metadata": {
        "colab": {
          "base_uri": "https://localhost:8080/",
          "height": 81
        },
        "id": "Hnw12dRjpoOm",
        "outputId": "5494ae34-1663-43cf-cbd8-2e3bc3c3e8f1"
      },
      "outputs": [
        {
          "output_type": "execute_result",
          "data": {
            "text/plain": [
              "                         Init  service  user  Time\n",
              "40557 2017-06-13 11:00:31.553        0   127     0"
            ],
            "text/html": [
              "\n",
              "  <div id=\"df-c92e41c2-8396-4f97-9ecb-f93bc7f0d3a4\">\n",
              "    <div class=\"colab-df-container\">\n",
              "      <div>\n",
              "<style scoped>\n",
              "    .dataframe tbody tr th:only-of-type {\n",
              "        vertical-align: middle;\n",
              "    }\n",
              "\n",
              "    .dataframe tbody tr th {\n",
              "        vertical-align: top;\n",
              "    }\n",
              "\n",
              "    .dataframe thead th {\n",
              "        text-align: right;\n",
              "    }\n",
              "</style>\n",
              "<table border=\"1\" class=\"dataframe\">\n",
              "  <thead>\n",
              "    <tr style=\"text-align: right;\">\n",
              "      <th></th>\n",
              "      <th>Init</th>\n",
              "      <th>service</th>\n",
              "      <th>user</th>\n",
              "      <th>Time</th>\n",
              "    </tr>\n",
              "  </thead>\n",
              "  <tbody>\n",
              "    <tr>\n",
              "      <th>40557</th>\n",
              "      <td>2017-06-13 11:00:31.553</td>\n",
              "      <td>0</td>\n",
              "      <td>127</td>\n",
              "      <td>0</td>\n",
              "    </tr>\n",
              "  </tbody>\n",
              "</table>\n",
              "</div>\n",
              "      <button class=\"colab-df-convert\" onclick=\"convertToInteractive('df-c92e41c2-8396-4f97-9ecb-f93bc7f0d3a4')\"\n",
              "              title=\"Convert this dataframe to an interactive table.\"\n",
              "              style=\"display:none;\">\n",
              "        \n",
              "  <svg xmlns=\"http://www.w3.org/2000/svg\" height=\"24px\"viewBox=\"0 0 24 24\"\n",
              "       width=\"24px\">\n",
              "    <path d=\"M0 0h24v24H0V0z\" fill=\"none\"/>\n",
              "    <path d=\"M18.56 5.44l.94 2.06.94-2.06 2.06-.94-2.06-.94-.94-2.06-.94 2.06-2.06.94zm-11 1L8.5 8.5l.94-2.06 2.06-.94-2.06-.94L8.5 2.5l-.94 2.06-2.06.94zm10 10l.94 2.06.94-2.06 2.06-.94-2.06-.94-.94-2.06-.94 2.06-2.06.94z\"/><path d=\"M17.41 7.96l-1.37-1.37c-.4-.4-.92-.59-1.43-.59-.52 0-1.04.2-1.43.59L10.3 9.45l-7.72 7.72c-.78.78-.78 2.05 0 2.83L4 21.41c.39.39.9.59 1.41.59.51 0 1.02-.2 1.41-.59l7.78-7.78 2.81-2.81c.8-.78.8-2.07 0-2.86zM5.41 20L4 18.59l7.72-7.72 1.47 1.35L5.41 20z\"/>\n",
              "  </svg>\n",
              "      </button>\n",
              "      \n",
              "  <style>\n",
              "    .colab-df-container {\n",
              "      display:flex;\n",
              "      flex-wrap:wrap;\n",
              "      gap: 12px;\n",
              "    }\n",
              "\n",
              "    .colab-df-convert {\n",
              "      background-color: #E8F0FE;\n",
              "      border: none;\n",
              "      border-radius: 50%;\n",
              "      cursor: pointer;\n",
              "      display: none;\n",
              "      fill: #1967D2;\n",
              "      height: 32px;\n",
              "      padding: 0 0 0 0;\n",
              "      width: 32px;\n",
              "    }\n",
              "\n",
              "    .colab-df-convert:hover {\n",
              "      background-color: #E2EBFA;\n",
              "      box-shadow: 0px 1px 2px rgba(60, 64, 67, 0.3), 0px 1px 3px 1px rgba(60, 64, 67, 0.15);\n",
              "      fill: #174EA6;\n",
              "    }\n",
              "\n",
              "    [theme=dark] .colab-df-convert {\n",
              "      background-color: #3B4455;\n",
              "      fill: #D2E3FC;\n",
              "    }\n",
              "\n",
              "    [theme=dark] .colab-df-convert:hover {\n",
              "      background-color: #434B5C;\n",
              "      box-shadow: 0px 1px 3px 1px rgba(0, 0, 0, 0.15);\n",
              "      filter: drop-shadow(0px 1px 2px rgba(0, 0, 0, 0.3));\n",
              "      fill: #FFFFFF;\n",
              "    }\n",
              "  </style>\n",
              "\n",
              "      <script>\n",
              "        const buttonEl =\n",
              "          document.querySelector('#df-c92e41c2-8396-4f97-9ecb-f93bc7f0d3a4 button.colab-df-convert');\n",
              "        buttonEl.style.display =\n",
              "          google.colab.kernel.accessAllowed ? 'block' : 'none';\n",
              "\n",
              "        async function convertToInteractive(key) {\n",
              "          const element = document.querySelector('#df-c92e41c2-8396-4f97-9ecb-f93bc7f0d3a4');\n",
              "          const dataTable =\n",
              "            await google.colab.kernel.invokeFunction('convertToInteractive',\n",
              "                                                     [key], {});\n",
              "          if (!dataTable) return;\n",
              "\n",
              "          const docLinkHtml = 'Like what you see? Visit the ' +\n",
              "            '<a target=\"_blank\" href=https://colab.research.google.com/notebooks/data_table.ipynb>data table notebook</a>'\n",
              "            + ' to learn more about interactive tables.';\n",
              "          element.innerHTML = '';\n",
              "          dataTable['output_type'] = 'display_data';\n",
              "          await google.colab.output.renderOutput(dataTable, element);\n",
              "          const docLink = document.createElement('div');\n",
              "          docLink.innerHTML = docLinkHtml;\n",
              "          element.appendChild(docLink);\n",
              "        }\n",
              "      </script>\n",
              "    </div>\n",
              "  </div>\n",
              "  "
            ]
          },
          "metadata": {},
          "execution_count": 15
        }
      ],
      "source": [
        "df1=df1.drop(['date','time'],axis=1)\n",
        "df1.head(1)"
      ]
    },
    {
      "cell_type": "code",
      "source": [
        "df1.to_csv('/content/drive/MyDrive/Recommendation/final_data.csv')"
      ],
      "metadata": {
        "id": "31VqLyJR8rGr"
      },
      "execution_count": 16,
      "outputs": []
    },
    {
      "cell_type": "code",
      "execution_count": null,
      "metadata": {
        "id": "F16gznXxrDNT"
      },
      "outputs": [],
      "source": [
        "max_len= 10 # len(tf.keras.utils.pad_sequences(seqservice)[0])\n",
        "item_vocab_size= 588"
      ]
    },
    {
      "cell_type": "code",
      "execution_count": null,
      "metadata": {
        "colab": {
          "base_uri": "https://localhost:8080/"
        },
        "id": "YXG4ah8ApJkV",
        "outputId": "ba6a0760-937a-4568-b195-d96938733663"
      },
      "outputs": [
        {
          "name": "stdout",
          "output_type": "stream",
          "text": [
            "dictionary saved successfully to file\n"
          ]
        }
      ],
      "source": [
        "# seqservice , seqtime ,seqtarget  =[] ,[] ,[] \n",
        "\n",
        "# for user in df1.user.unique():\n",
        "#   user_data = df1[df1['user'] == user].sort_values('Time')\n",
        "#   seqservice.append(user_data.service.values.tolist()[0:-1])\n",
        "#   seqtime.append(user_data.Time.values.tolist()[0:-1])\n",
        "#   seqtarget.append(user_data.Time.values.tolist()[1:])\n",
        "\n",
        "#   # print(user_data)\n",
        "#   # break\n",
        "# train_dict = dict(zip(['item_id', 'nb_days', 'target'],[tf.keras.utils.pad_sequences(seqservice, maxlen=max_len), tf.keras.utils.pad_sequences(seqtime, maxlen=max_len), tf.keras.utils.pad_sequences(seqtarget, maxlen=max_len)]))\n",
        "# # save dictionary to person_data.pkl file\n",
        "# with open('/content/drive/MyDrive/Recommendation/train.pkl', 'wb') as fp:\n",
        "#     pickle.dump(train_dict, fp)\n",
        "#     print('dictionary saved successfully to file')\n",
        "     "
      ]
    },
    {
      "cell_type": "code",
      "execution_count": null,
      "metadata": {
        "colab": {
          "base_uri": "https://localhost:8080/"
        },
        "id": "fFskg90wrTID",
        "outputId": "b4a5928f-98ee-4efe-9dcb-1cef7d3bcbd1"
      },
      "outputs": [
        {
          "output_type": "stream",
          "name": "stdout",
          "text": [
            " dictionary loaded\n"
          ]
        }
      ],
      "source": [
        "with open('/content/drive/MyDrive/Recommendation/train_dict10.pkl', 'rb') as fp:\n",
        "    train_dict = pickle.load(fp)\n",
        "    print(' dictionary loaded')"
      ]
    },
    {
      "cell_type": "code",
      "execution_count": null,
      "metadata": {
        "id": "7ZkJ46ZErCMd"
      },
      "outputs": [],
      "source": [
        "#@title Create_train\n",
        "def create_train_tfdata(train_feat_dict, train_target_tensor,    batch_size, buffer_size=None):\n",
        "    \"\"\"\n",
        "    Create train tf dataset for model train input\n",
        "    :param train_feat_dict: dict, containing the features tensors for train data\n",
        "    :param train_target_tensor: np.array(), the training TARGET tensor\n",
        "    :param batch_size: (int) size of the batch to work with\n",
        "    :param buffer_size: (int) Optional. Default is None. Size of the buffer\n",
        "    :return: (tuple) 1st element is the training dataset,\n",
        "                     2nd is the number of steps per epoch (based on batch size)\n",
        "    \"\"\"\n",
        "    if buffer_size is None:\n",
        "        buffer_size = batch_size*50\n",
        "\n",
        "    train_steps_per_epoch = len(train_target_tensor) // batch_size\n",
        "    train_dataset = tf.data.Dataset.from_tensor_slices((train_feat_dict,train_target_tensor)).cache()\n",
        "    train_dataset = train_dataset.shuffle(buffer_size).batch(batch_size)\n",
        "    train_dataset = train_dataset.repeat().prefetch(tf.data.experimental.AUTOTUNE)\n",
        "    \n",
        "    return train_dataset, train_steps_per_epoch\n",
        "  \n",
        "train_feat_dict = {'item_id': train_dict['item_id'],'nb_days': train_dict['nb_days']}\n",
        "train_target_tensor = train_dict['target'] \n",
        "train_dataset, train_steps_per_epoch = create_train_tfdata(train_feat_dict,  train_target_tensor, batch_size=512)"
      ]
    },
    {
      "cell_type": "code",
      "execution_count": null,
      "metadata": {
        "id": "LDi24xaUrZ4Z"
      },
      "outputs": [],
      "source": [
        "#@title BuildModel\n",
        "def build_model(max_len, item_vocab_size):\n",
        "    \"\"\"\n",
        "    Build a model given the hyper-parameters with item and nb_days input features\n",
        "    :param hp: (kt.HyperParameters) hyper-parameters to use when building this model\n",
        "    :return: built and compiled tensorflow model \n",
        "    \"\"\"\n",
        "    inputs = {}\n",
        "    inputs['item_id'] = tf.keras.Input(batch_input_shape=[None, max_len],   name='item_id', dtype=tf.int32)\n",
        "    # create encoding padding mask\n",
        "    encoding_padding_mask = tf.math.logical_not(tf.math.equal(inputs['item_id'], 0))\n",
        "\n",
        "    # nb_days bucketized\n",
        "    inputs['nb_days'] = tf.keras.Input(batch_input_shape=[None, max_len],  name='nb_days', dtype=tf.int32)\n",
        "\n",
        "    # Pass categorical input through embedding layer\n",
        "    # with size equals to tokenizer vocabulary size\n",
        "    # Remember that vocab_size is len of item tokenizer + 1\n",
        "    # (for the padding '0' value)\n",
        "    \n",
        "    embedding_item = tf.keras.layers.Embedding(input_dim=item_vocab_size,\n",
        "                                               output_dim=16,\n",
        "                                               name='embedding_item'\n",
        "                                              )(inputs['item_id'])\n",
        "    # nbins=100, +1 for zero padding\n",
        "    embedding_nb_days = tf.keras.layers.Embedding(input_dim=100 + 1,\n",
        "                                                  output_dim=100,\n",
        "                                                  name='embedding_nb_days'\n",
        "                                                 )(inputs['nb_days'])\n",
        "\n",
        "    #  Concatenate embedding layers\n",
        "    concat_embedding_input = tf.keras.layers.Concatenate(\n",
        "     name='concat_embedding_input')([embedding_item, embedding_nb_days])\n",
        "\n",
        "    concat_embedding_input = tf.keras.layers.BatchNormalization(\n",
        "     name='batchnorm_inputs')(concat_embedding_input)\n",
        "    \n",
        "    # LSTM layer\n",
        "    rnn = tf.keras.layers.LSTM(units=100,\n",
        "                                   return_sequences=True,\n",
        "                                   stateful=False,\n",
        "                                   recurrent_initializer='glorot_normal',\n",
        "                                   name='LSTM_cat'\n",
        "                                   )(concat_embedding_input)\n",
        "\n",
        "    rnn = tf.keras.layers.BatchNormalization(name='batchnorm_lstm')(rnn)\n",
        "\n",
        "    # Self attention so key=value in inputs\n",
        "    att = tf.keras.layers.Attention(use_scale=False, causal=True,\n",
        "                                    name='attention')(inputs=[rnn, rnn],\n",
        "                                                      mask=[encoding_padding_mask,\n",
        "                                                            encoding_padding_mask])\n",
        "\n",
        "    # Last layer is a fully connected one\n",
        "    x = tf.keras.layers.Dense(item_vocab_size*2)(att)\n",
        "    # x = tf.keras.layers.Dense(32)(x)\n",
        "    output = tf.keras.layers.Dense(item_vocab_size, name='output')(x) #item_vocab_size\n",
        "\n",
        "    model = tf.keras.Model(inputs, output)\n",
        "\n",
        "    model.compile(\n",
        "        optimizer=tf.keras.optimizers.Adam(0.005),\n",
        "        loss=loss_function,\n",
        "        metrics=['sparse_categorical_accuracy'])\n",
        "    \n",
        "    return model"
      ]
    },
    {
      "cell_type": "code",
      "execution_count": null,
      "metadata": {
        "id": "cpfTm5vbrZ73"
      },
      "outputs": [],
      "source": [
        "\n",
        "\n",
        "#@title BuildModelHP\n",
        "def build_modelhp(max_len, item_vocab_size , embedding_item , embedding_nb_days , rnn_units_cat , learning_rate):\n",
        "    \"\"\"\n",
        "    Build a model given the hyper-parameters with item and nb_days input features\n",
        "    :param hp: (kt.HyperParameters) hyper-parameters to use when building this model\n",
        "    :return: built and compiled tensorflow model \n",
        "    \"\"\"\n",
        "    inputs = {}\n",
        "    inputs['item_id'] = tf.keras.Input(batch_input_shape=[None, max_len],\n",
        "                                       name='item_id', dtype=tf.int32)\n",
        "    # create encoding padding mask\n",
        "    encoding_padding_mask = tf.math.logical_not(tf.math.equal(inputs['item_id'], 0))\n",
        "\n",
        "    # nb_days bucketized\n",
        "    inputs['nb_days'] = tf.keras.Input(batch_input_shape=[None, max_len],\n",
        "                                       name='nb_days', dtype=tf.int32)\n",
        "\n",
        "    # Pass categorical input through embedding layer\n",
        "    # with size equals to tokenizer vocabulary size\n",
        "    # Remember that vocab_size is len of item tokenizer + 1\n",
        "    # (for the padding '0' value)\n",
        "    \n",
        "    embedding_item = tf.keras.layers.Embedding(input_dim=item_vocab_size,\n",
        "                                               output_dim=embedding_item,\n",
        "                                               name='embedding_item'\n",
        "                                              )(inputs['item_id'])\n",
        "    # nbins=100, +1 for zero padding\n",
        "    embedding_nb_days = tf.keras.layers.Embedding(input_dim=100 + 1,\n",
        "                                                  output_dim=embedding_nb_days,\n",
        "                                                  name='embedding_nb_days'\n",
        "                                                 )(inputs['nb_days'])\n",
        "\n",
        "    #  Concatenate embedding layers\n",
        "    concat_embedding_input = tf.keras.layers.Concatenate(\n",
        "     name='concat_embedding_input')([embedding_item, embedding_nb_days])\n",
        "\n",
        "    concat_embedding_input = tf.keras.layers.BatchNormalization( name='batchnorm_inputs')(concat_embedding_input)\n",
        "    \n",
        "    # LSTM layer\n",
        "    rnn = tf.keras.layers.LSTM(units=rnn_units_cat, return_sequences=True,  stateful=False,recurrent_initializer='glorot_normal', name='LSTM_cat')(concat_embedding_input)\n",
        "\n",
        "    rnn = tf.keras.layers.BatchNormalization(name='batchnorm_lstm')(rnn)\n",
        "\n",
        "    # Self attention so key=value in inputs\n",
        "    att = tf.keras.layers.Attention(use_scale=False, causal=True,\n",
        "                                    name='attention')(inputs=[rnn, rnn],\n",
        "                                                      mask=[encoding_padding_mask,\n",
        "                                                            encoding_padding_mask])\n",
        "\n",
        "    # Last layer is a fully connected one\n",
        "    output = tf.keras.layers.Dense(item_vocab_size, name='output')(att)\n",
        "\n",
        "    model = tf.keras.Model(inputs, output)\n",
        "    model.compile( optimizer=tf.keras.optimizers.Adam(learning_rate),   loss=loss_function, metrics=['sparse_categorical_accuracy'])\n",
        "    \n",
        "    return model\n",
        "     \n",
        "\n",
        "\n",
        "     \n"
      ]
    },
    {
      "cell_type": "code",
      "execution_count": null,
      "metadata": {
        "id": "sPZGiPdHraAN"
      },
      "outputs": [],
      "source": [
        "#@title LossFun\n",
        "def loss_function(real, pred):\n",
        "    \"\"\"\n",
        "    We redefine our own loss function in order to get rid of the '0' value\n",
        "    which is the one used for padding. This to avoid that the model optimize itself\n",
        "    by predicting this value because it is the padding one.\n",
        "    \n",
        "    :param real: the truth\n",
        "    :param pred: predictions\n",
        "    :return: a masked loss where '0' in real (due to padding)\n",
        "                are not taken into account for the evaluation\n",
        "    \"\"\"\n",
        "\n",
        "    # to check that pred is numric and not nan\n",
        "    mask = tf.math.logical_not(tf.math.equal(real, 0))\n",
        "    loss_object_ = tf.keras.losses.SparseCategoricalCrossentropy(from_logits=True,\n",
        "                                                                 reduction='none')\n",
        "    loss_ = loss_object_(real, pred)\n",
        "    mask = tf.cast(mask, dtype=loss_.dtype)\n",
        "    loss_ *= mask\n",
        "\n",
        "    return tf.reduce_mean(loss_)"
      ]
    },
    {
      "cell_type": "code",
      "execution_count": null,
      "metadata": {
        "id": "gqpduDv0raEU"
      },
      "outputs": [],
      "source": [
        "#@title FitModel\n",
        "def fit_model(model, train_dataset, steps_per_epoch, epochs):\n",
        "    \"\"\"\n",
        "    Fit the Keras model on the training dataset for a number of given epochs\n",
        "    :param model: tf model to be trained\n",
        "    :param train_dataset: (tf.data.Dataset object) the training dataset\n",
        "                          used to fit the model\n",
        "    :param steps_per_epoch: (int) Total number of steps (batches of samples) before \n",
        "                            declaring one epoch finished and starting the next epoch.\n",
        "    :param epochs: (int) the number of epochs for the fitting phase\n",
        "    :return: tuple (mirrored_model, history) with trained model and model history\n",
        "    \"\"\"\n",
        "        # mirrored_strategy allows to use multi GPUs when available\n",
        "    mirrored_strategy = tf.distribute.experimental.MultiWorkerMirroredStrategy(\n",
        "        tf.distribute.experimental.CollectiveCommunication.AUTO)\n",
        "    \n",
        "    with mirrored_strategy.scope():\n",
        "        mirrored_model = model\n",
        "    early_stopping = tf.keras.callbacks.EarlyStopping(patience=2)\n",
        "\n",
        "    history = mirrored_model.fit(train_dataset,  steps_per_epoch=steps_per_epoch,epochs=epochs,callbacks=early_stopping, verbose=2)\n",
        "\n",
        "    return mirrored_model, history\n",
        "     "
      ]
    },
    {
      "cell_type": "code",
      "execution_count": null,
      "metadata": {
        "id": "XjScyQEDsNNJ"
      },
      "outputs": [],
      "source": [
        "# #@title TrainHP\n",
        "# from kerastuner.tuners import RandomSearch\n",
        "\n",
        "# # create a tuner object and define the hyperparameter search space\n",
        "# tuner = RandomSearch(\n",
        "#     build_modelhp,\n",
        "#     objective='val_loss',\n",
        "#     max_trials=10,\n",
        "#     directory='my_dir',\n",
        "#     project_name='my_project',\n",
        "#     hyperparameters={\n",
        "#         'max_len': [3,5,10],\n",
        "#         'item_vocab_size':600,\n",
        "#         'embedding_item': [16, 32, 64],\n",
        "#         'embedding_nb_days': [32, 64, 128],\n",
        "#         'rnn_units_cat': [32, 64, 128],       \n",
        "#         'learning_rate': [0.2, 0.3, 0.4]\n",
        "#     })\n",
        "\n",
        "# # prepare the training and validation data\n",
        "# ...\n",
        "\n",
        "# # start the hyperparameter search\n",
        "# tuner.search(train_dataset, epochs=10)\n",
        "\n",
        "# # fit_model(model, train_dataset, steps_per_epoch, epochs)\n",
        "# # print the best hyperparameters found\n",
        "# best_hyperparams = tuner.get_best_hyperparameters()[0].values\n",
        "# print(\"Best Hyperparameters:\", best_hyperparams)\n"
      ]
    },
    {
      "cell_type": "code",
      "execution_count": null,
      "metadata": {
        "colab": {
          "base_uri": "https://localhost:8080/"
        },
        "id": "jgefwRRzsRHn",
        "outputId": "00909b4c-b60e-4d7a-b17b-a27cfc784a89"
      },
      "outputs": [
        {
          "output_type": "stream",
          "name": "stderr",
          "text": [
            "WARNING:absl:`causal` argument is deprecated. Please use `use_causal_mask` in call() method to specify causal masking.\n",
            "WARNING:tensorflow:From <ipython-input-9-54aaab412f7b>:14: _CollectiveAllReduceStrategyExperimental.__init__ (from tensorflow.python.distribute.collective_all_reduce_strategy) is deprecated and will be removed in a future version.\n",
            "Instructions for updating:\n",
            "use distribute.MultiWorkerMirroredStrategy instead\n",
            "WARNING:tensorflow:Collective ops is not configured at program startup. Some performance features may not be enabled.\n"
          ]
        },
        {
          "output_type": "stream",
          "name": "stdout",
          "text": [
            "Epoch 1/50\n"
          ]
        },
        {
          "output_type": "stream",
          "name": "stderr",
          "text": [
            "WARNING:tensorflow:Early stopping conditioned on metric `val_loss` which is not available. Available metrics are: loss,sparse_categorical_accuracy\n"
          ]
        },
        {
          "output_type": "stream",
          "name": "stdout",
          "text": [
            "50/50 - 16s - loss: 0.8869 - sparse_categorical_accuracy: 0.2743 - 16s/epoch - 319ms/step\n",
            "Epoch 2/50\n"
          ]
        },
        {
          "output_type": "stream",
          "name": "stderr",
          "text": [
            "WARNING:tensorflow:Early stopping conditioned on metric `val_loss` which is not available. Available metrics are: loss,sparse_categorical_accuracy\n"
          ]
        },
        {
          "output_type": "stream",
          "name": "stdout",
          "text": [
            "50/50 - 3s - loss: 0.7146 - sparse_categorical_accuracy: 0.3543 - 3s/epoch - 67ms/step\n",
            "Epoch 3/50\n"
          ]
        },
        {
          "output_type": "stream",
          "name": "stderr",
          "text": [
            "WARNING:tensorflow:Early stopping conditioned on metric `val_loss` which is not available. Available metrics are: loss,sparse_categorical_accuracy\n"
          ]
        },
        {
          "output_type": "stream",
          "name": "stdout",
          "text": [
            "50/50 - 3s - loss: 0.6601 - sparse_categorical_accuracy: 0.3730 - 3s/epoch - 54ms/step\n",
            "Epoch 4/50\n"
          ]
        },
        {
          "output_type": "stream",
          "name": "stderr",
          "text": [
            "WARNING:tensorflow:Early stopping conditioned on metric `val_loss` which is not available. Available metrics are: loss,sparse_categorical_accuracy\n"
          ]
        },
        {
          "output_type": "stream",
          "name": "stdout",
          "text": [
            "50/50 - 2s - loss: 0.6467 - sparse_categorical_accuracy: 0.3813 - 2s/epoch - 43ms/step\n",
            "Epoch 5/50\n"
          ]
        },
        {
          "output_type": "stream",
          "name": "stderr",
          "text": [
            "WARNING:tensorflow:Early stopping conditioned on metric `val_loss` which is not available. Available metrics are: loss,sparse_categorical_accuracy\n"
          ]
        },
        {
          "output_type": "stream",
          "name": "stdout",
          "text": [
            "50/50 - 2s - loss: 0.6297 - sparse_categorical_accuracy: 0.3821 - 2s/epoch - 33ms/step\n",
            "Epoch 6/50\n"
          ]
        },
        {
          "output_type": "stream",
          "name": "stderr",
          "text": [
            "WARNING:tensorflow:Early stopping conditioned on metric `val_loss` which is not available. Available metrics are: loss,sparse_categorical_accuracy\n"
          ]
        },
        {
          "output_type": "stream",
          "name": "stdout",
          "text": [
            "50/50 - 1s - loss: 0.5882 - sparse_categorical_accuracy: 0.3935 - 1s/epoch - 29ms/step\n",
            "Epoch 7/50\n"
          ]
        },
        {
          "output_type": "stream",
          "name": "stderr",
          "text": [
            "WARNING:tensorflow:Early stopping conditioned on metric `val_loss` which is not available. Available metrics are: loss,sparse_categorical_accuracy\n"
          ]
        },
        {
          "output_type": "stream",
          "name": "stdout",
          "text": [
            "50/50 - 1s - loss: 0.5611 - sparse_categorical_accuracy: 0.4005 - 1s/epoch - 26ms/step\n",
            "Epoch 8/50\n"
          ]
        },
        {
          "output_type": "stream",
          "name": "stderr",
          "text": [
            "WARNING:tensorflow:Early stopping conditioned on metric `val_loss` which is not available. Available metrics are: loss,sparse_categorical_accuracy\n"
          ]
        },
        {
          "output_type": "stream",
          "name": "stdout",
          "text": [
            "50/50 - 1s - loss: 0.5393 - sparse_categorical_accuracy: 0.4045 - 1s/epoch - 29ms/step\n",
            "Epoch 9/50\n"
          ]
        },
        {
          "output_type": "stream",
          "name": "stderr",
          "text": [
            "WARNING:tensorflow:Early stopping conditioned on metric `val_loss` which is not available. Available metrics are: loss,sparse_categorical_accuracy\n"
          ]
        },
        {
          "output_type": "stream",
          "name": "stdout",
          "text": [
            "50/50 - 1s - loss: 0.5154 - sparse_categorical_accuracy: 0.4077 - 1s/epoch - 24ms/step\n",
            "Epoch 10/50\n"
          ]
        },
        {
          "output_type": "stream",
          "name": "stderr",
          "text": [
            "WARNING:tensorflow:Early stopping conditioned on metric `val_loss` which is not available. Available metrics are: loss,sparse_categorical_accuracy\n"
          ]
        },
        {
          "output_type": "stream",
          "name": "stdout",
          "text": [
            "50/50 - 2s - loss: 0.4679 - sparse_categorical_accuracy: 0.4124 - 2s/epoch - 31ms/step\n",
            "Epoch 11/50\n"
          ]
        },
        {
          "output_type": "stream",
          "name": "stderr",
          "text": [
            "WARNING:tensorflow:Early stopping conditioned on metric `val_loss` which is not available. Available metrics are: loss,sparse_categorical_accuracy\n"
          ]
        },
        {
          "output_type": "stream",
          "name": "stdout",
          "text": [
            "50/50 - 2s - loss: 0.4283 - sparse_categorical_accuracy: 0.4331 - 2s/epoch - 44ms/step\n",
            "Epoch 12/50\n"
          ]
        },
        {
          "output_type": "stream",
          "name": "stderr",
          "text": [
            "WARNING:tensorflow:Early stopping conditioned on metric `val_loss` which is not available. Available metrics are: loss,sparse_categorical_accuracy\n"
          ]
        },
        {
          "output_type": "stream",
          "name": "stdout",
          "text": [
            "50/50 - 1s - loss: 0.3971 - sparse_categorical_accuracy: 0.4518 - 1s/epoch - 25ms/step\n",
            "Epoch 13/50\n"
          ]
        },
        {
          "output_type": "stream",
          "name": "stderr",
          "text": [
            "WARNING:tensorflow:Early stopping conditioned on metric `val_loss` which is not available. Available metrics are: loss,sparse_categorical_accuracy\n"
          ]
        },
        {
          "output_type": "stream",
          "name": "stdout",
          "text": [
            "50/50 - 1s - loss: 0.3617 - sparse_categorical_accuracy: 0.4654 - 1s/epoch - 25ms/step\n",
            "Epoch 14/50\n"
          ]
        },
        {
          "output_type": "stream",
          "name": "stderr",
          "text": [
            "WARNING:tensorflow:Early stopping conditioned on metric `val_loss` which is not available. Available metrics are: loss,sparse_categorical_accuracy\n"
          ]
        },
        {
          "output_type": "stream",
          "name": "stdout",
          "text": [
            "50/50 - 1s - loss: 0.3330 - sparse_categorical_accuracy: 0.4806 - 1s/epoch - 21ms/step\n",
            "Epoch 15/50\n"
          ]
        },
        {
          "output_type": "stream",
          "name": "stderr",
          "text": [
            "WARNING:tensorflow:Early stopping conditioned on metric `val_loss` which is not available. Available metrics are: loss,sparse_categorical_accuracy\n"
          ]
        },
        {
          "output_type": "stream",
          "name": "stdout",
          "text": [
            "50/50 - 1s - loss: 0.2813 - sparse_categorical_accuracy: 0.5227 - 1s/epoch - 22ms/step\n",
            "Epoch 16/50\n"
          ]
        },
        {
          "output_type": "stream",
          "name": "stderr",
          "text": [
            "WARNING:tensorflow:Early stopping conditioned on metric `val_loss` which is not available. Available metrics are: loss,sparse_categorical_accuracy\n"
          ]
        },
        {
          "output_type": "stream",
          "name": "stdout",
          "text": [
            "50/50 - 1s - loss: 0.1921 - sparse_categorical_accuracy: 0.6134 - 1s/epoch - 24ms/step\n",
            "Epoch 17/50\n"
          ]
        },
        {
          "output_type": "stream",
          "name": "stderr",
          "text": [
            "WARNING:tensorflow:Early stopping conditioned on metric `val_loss` which is not available. Available metrics are: loss,sparse_categorical_accuracy\n"
          ]
        },
        {
          "output_type": "stream",
          "name": "stdout",
          "text": [
            "50/50 - 1s - loss: 0.3894 - sparse_categorical_accuracy: 0.4911 - 1s/epoch - 21ms/step\n",
            "Epoch 18/50\n"
          ]
        },
        {
          "output_type": "stream",
          "name": "stderr",
          "text": [
            "WARNING:tensorflow:Early stopping conditioned on metric `val_loss` which is not available. Available metrics are: loss,sparse_categorical_accuracy\n"
          ]
        },
        {
          "output_type": "stream",
          "name": "stdout",
          "text": [
            "50/50 - 1s - loss: 0.7309 - sparse_categorical_accuracy: 0.3527 - 698ms/epoch - 14ms/step\n",
            "Epoch 19/50\n"
          ]
        },
        {
          "output_type": "stream",
          "name": "stderr",
          "text": [
            "WARNING:tensorflow:Early stopping conditioned on metric `val_loss` which is not available. Available metrics are: loss,sparse_categorical_accuracy\n"
          ]
        },
        {
          "output_type": "stream",
          "name": "stdout",
          "text": [
            "50/50 - 0s - loss: 0.6731 - sparse_categorical_accuracy: 0.3717 - 498ms/epoch - 10ms/step\n",
            "Epoch 20/50\n"
          ]
        },
        {
          "output_type": "stream",
          "name": "stderr",
          "text": [
            "WARNING:tensorflow:Early stopping conditioned on metric `val_loss` which is not available. Available metrics are: loss,sparse_categorical_accuracy\n"
          ]
        },
        {
          "output_type": "stream",
          "name": "stdout",
          "text": [
            "50/50 - 1s - loss: 0.6379 - sparse_categorical_accuracy: 0.3906 - 643ms/epoch - 13ms/step\n",
            "Epoch 21/50\n"
          ]
        },
        {
          "output_type": "stream",
          "name": "stderr",
          "text": [
            "WARNING:tensorflow:Early stopping conditioned on metric `val_loss` which is not available. Available metrics are: loss,sparse_categorical_accuracy\n"
          ]
        },
        {
          "output_type": "stream",
          "name": "stdout",
          "text": [
            "50/50 - 1s - loss: 0.6253 - sparse_categorical_accuracy: 0.3942 - 850ms/epoch - 17ms/step\n",
            "Epoch 22/50\n"
          ]
        },
        {
          "output_type": "stream",
          "name": "stderr",
          "text": [
            "WARNING:tensorflow:Early stopping conditioned on metric `val_loss` which is not available. Available metrics are: loss,sparse_categorical_accuracy\n"
          ]
        },
        {
          "output_type": "stream",
          "name": "stdout",
          "text": [
            "50/50 - 1s - loss: 0.6042 - sparse_categorical_accuracy: 0.3915 - 522ms/epoch - 10ms/step\n",
            "Epoch 23/50\n"
          ]
        },
        {
          "output_type": "stream",
          "name": "stderr",
          "text": [
            "WARNING:tensorflow:Early stopping conditioned on metric `val_loss` which is not available. Available metrics are: loss,sparse_categorical_accuracy\n"
          ]
        },
        {
          "output_type": "stream",
          "name": "stdout",
          "text": [
            "50/50 - 1s - loss: 0.5731 - sparse_categorical_accuracy: 0.4019 - 693ms/epoch - 14ms/step\n",
            "Epoch 24/50\n"
          ]
        },
        {
          "output_type": "stream",
          "name": "stderr",
          "text": [
            "WARNING:tensorflow:Early stopping conditioned on metric `val_loss` which is not available. Available metrics are: loss,sparse_categorical_accuracy\n"
          ]
        },
        {
          "output_type": "stream",
          "name": "stdout",
          "text": [
            "50/50 - 1s - loss: 0.5417 - sparse_categorical_accuracy: 0.4094 - 690ms/epoch - 14ms/step\n",
            "Epoch 25/50\n"
          ]
        },
        {
          "output_type": "stream",
          "name": "stderr",
          "text": [
            "WARNING:tensorflow:Early stopping conditioned on metric `val_loss` which is not available. Available metrics are: loss,sparse_categorical_accuracy\n"
          ]
        },
        {
          "output_type": "stream",
          "name": "stdout",
          "text": [
            "50/50 - 1s - loss: 0.5330 - sparse_categorical_accuracy: 0.4057 - 707ms/epoch - 14ms/step\n",
            "Epoch 26/50\n"
          ]
        },
        {
          "output_type": "stream",
          "name": "stderr",
          "text": [
            "WARNING:tensorflow:Early stopping conditioned on metric `val_loss` which is not available. Available metrics are: loss,sparse_categorical_accuracy\n"
          ]
        },
        {
          "output_type": "stream",
          "name": "stdout",
          "text": [
            "50/50 - 1s - loss: 0.4918 - sparse_categorical_accuracy: 0.4153 - 987ms/epoch - 20ms/step\n",
            "Epoch 27/50\n"
          ]
        },
        {
          "output_type": "stream",
          "name": "stderr",
          "text": [
            "WARNING:tensorflow:Early stopping conditioned on metric `val_loss` which is not available. Available metrics are: loss,sparse_categorical_accuracy\n"
          ]
        },
        {
          "output_type": "stream",
          "name": "stdout",
          "text": [
            "50/50 - 1s - loss: 0.4478 - sparse_categorical_accuracy: 0.4191 - 556ms/epoch - 11ms/step\n",
            "Epoch 28/50\n"
          ]
        },
        {
          "output_type": "stream",
          "name": "stderr",
          "text": [
            "WARNING:tensorflow:Early stopping conditioned on metric `val_loss` which is not available. Available metrics are: loss,sparse_categorical_accuracy\n"
          ]
        },
        {
          "output_type": "stream",
          "name": "stdout",
          "text": [
            "50/50 - 0s - loss: 0.4144 - sparse_categorical_accuracy: 0.4442 - 500ms/epoch - 10ms/step\n",
            "Epoch 29/50\n"
          ]
        },
        {
          "output_type": "stream",
          "name": "stderr",
          "text": [
            "WARNING:tensorflow:Early stopping conditioned on metric `val_loss` which is not available. Available metrics are: loss,sparse_categorical_accuracy\n"
          ]
        },
        {
          "output_type": "stream",
          "name": "stdout",
          "text": [
            "50/50 - 0s - loss: 0.3788 - sparse_categorical_accuracy: 0.4645 - 475ms/epoch - 9ms/step\n",
            "Epoch 30/50\n"
          ]
        },
        {
          "output_type": "stream",
          "name": "stderr",
          "text": [
            "WARNING:tensorflow:Early stopping conditioned on metric `val_loss` which is not available. Available metrics are: loss,sparse_categorical_accuracy\n"
          ]
        },
        {
          "output_type": "stream",
          "name": "stdout",
          "text": [
            "50/50 - 0s - loss: 0.3528 - sparse_categorical_accuracy: 0.4738 - 484ms/epoch - 10ms/step\n",
            "Epoch 31/50\n"
          ]
        },
        {
          "output_type": "stream",
          "name": "stderr",
          "text": [
            "WARNING:tensorflow:Early stopping conditioned on metric `val_loss` which is not available. Available metrics are: loss,sparse_categorical_accuracy\n"
          ]
        },
        {
          "output_type": "stream",
          "name": "stdout",
          "text": [
            "50/50 - 1s - loss: 0.3134 - sparse_categorical_accuracy: 0.4903 - 642ms/epoch - 13ms/step\n",
            "Epoch 32/50\n"
          ]
        },
        {
          "output_type": "stream",
          "name": "stderr",
          "text": [
            "WARNING:tensorflow:Early stopping conditioned on metric `val_loss` which is not available. Available metrics are: loss,sparse_categorical_accuracy\n"
          ]
        },
        {
          "output_type": "stream",
          "name": "stdout",
          "text": [
            "50/50 - 1s - loss: 0.2546 - sparse_categorical_accuracy: 0.5495 - 511ms/epoch - 10ms/step\n",
            "Epoch 33/50\n"
          ]
        },
        {
          "output_type": "stream",
          "name": "stderr",
          "text": [
            "WARNING:tensorflow:Early stopping conditioned on metric `val_loss` which is not available. Available metrics are: loss,sparse_categorical_accuracy\n"
          ]
        },
        {
          "output_type": "stream",
          "name": "stdout",
          "text": [
            "50/50 - 0s - loss: 0.1709 - sparse_categorical_accuracy: 0.6399 - 445ms/epoch - 9ms/step\n",
            "Epoch 34/50\n"
          ]
        },
        {
          "output_type": "stream",
          "name": "stderr",
          "text": [
            "WARNING:tensorflow:Early stopping conditioned on metric `val_loss` which is not available. Available metrics are: loss,sparse_categorical_accuracy\n"
          ]
        },
        {
          "output_type": "stream",
          "name": "stdout",
          "text": [
            "50/50 - 1s - loss: 0.5723 - sparse_categorical_accuracy: 0.4041 - 882ms/epoch - 18ms/step\n",
            "Epoch 35/50\n"
          ]
        },
        {
          "output_type": "stream",
          "name": "stderr",
          "text": [
            "WARNING:tensorflow:Early stopping conditioned on metric `val_loss` which is not available. Available metrics are: loss,sparse_categorical_accuracy\n"
          ]
        },
        {
          "output_type": "stream",
          "name": "stdout",
          "text": [
            "50/50 - 0s - loss: 0.7034 - sparse_categorical_accuracy: 0.3648 - 476ms/epoch - 10ms/step\n",
            "Epoch 36/50\n"
          ]
        },
        {
          "output_type": "stream",
          "name": "stderr",
          "text": [
            "WARNING:tensorflow:Early stopping conditioned on metric `val_loss` which is not available. Available metrics are: loss,sparse_categorical_accuracy\n"
          ]
        },
        {
          "output_type": "stream",
          "name": "stdout",
          "text": [
            "50/50 - 0s - loss: 0.6549 - sparse_categorical_accuracy: 0.3822 - 490ms/epoch - 10ms/step\n",
            "Epoch 37/50\n"
          ]
        },
        {
          "output_type": "stream",
          "name": "stderr",
          "text": [
            "WARNING:tensorflow:Early stopping conditioned on metric `val_loss` which is not available. Available metrics are: loss,sparse_categorical_accuracy\n"
          ]
        },
        {
          "output_type": "stream",
          "name": "stdout",
          "text": [
            "50/50 - 0s - loss: 0.6329 - sparse_categorical_accuracy: 0.3911 - 488ms/epoch - 10ms/step\n",
            "Epoch 38/50\n"
          ]
        },
        {
          "output_type": "stream",
          "name": "stderr",
          "text": [
            "WARNING:tensorflow:Early stopping conditioned on metric `val_loss` which is not available. Available metrics are: loss,sparse_categorical_accuracy\n"
          ]
        },
        {
          "output_type": "stream",
          "name": "stdout",
          "text": [
            "50/50 - 0s - loss: 0.6168 - sparse_categorical_accuracy: 0.3925 - 472ms/epoch - 9ms/step\n",
            "Epoch 39/50\n"
          ]
        },
        {
          "output_type": "stream",
          "name": "stderr",
          "text": [
            "WARNING:tensorflow:Early stopping conditioned on metric `val_loss` which is not available. Available metrics are: loss,sparse_categorical_accuracy\n"
          ]
        },
        {
          "output_type": "stream",
          "name": "stdout",
          "text": [
            "50/50 - 0s - loss: 0.5895 - sparse_categorical_accuracy: 0.3979 - 476ms/epoch - 10ms/step\n",
            "Epoch 40/50\n"
          ]
        },
        {
          "output_type": "stream",
          "name": "stderr",
          "text": [
            "WARNING:tensorflow:Early stopping conditioned on metric `val_loss` which is not available. Available metrics are: loss,sparse_categorical_accuracy\n"
          ]
        },
        {
          "output_type": "stream",
          "name": "stdout",
          "text": [
            "50/50 - 0s - loss: 0.5536 - sparse_categorical_accuracy: 0.4052 - 493ms/epoch - 10ms/step\n",
            "Epoch 41/50\n"
          ]
        },
        {
          "output_type": "stream",
          "name": "stderr",
          "text": [
            "WARNING:tensorflow:Early stopping conditioned on metric `val_loss` which is not available. Available metrics are: loss,sparse_categorical_accuracy\n"
          ]
        },
        {
          "output_type": "stream",
          "name": "stdout",
          "text": [
            "50/50 - 0s - loss: 0.5374 - sparse_categorical_accuracy: 0.4105 - 477ms/epoch - 10ms/step\n",
            "Epoch 42/50\n"
          ]
        },
        {
          "output_type": "stream",
          "name": "stderr",
          "text": [
            "WARNING:tensorflow:Early stopping conditioned on metric `val_loss` which is not available. Available metrics are: loss,sparse_categorical_accuracy\n"
          ]
        },
        {
          "output_type": "stream",
          "name": "stdout",
          "text": [
            "50/50 - 0s - loss: 0.5161 - sparse_categorical_accuracy: 0.4095 - 486ms/epoch - 10ms/step\n",
            "Epoch 43/50\n"
          ]
        },
        {
          "output_type": "stream",
          "name": "stderr",
          "text": [
            "WARNING:tensorflow:Early stopping conditioned on metric `val_loss` which is not available. Available metrics are: loss,sparse_categorical_accuracy\n"
          ]
        },
        {
          "output_type": "stream",
          "name": "stdout",
          "text": [
            "50/50 - 0s - loss: 0.4787 - sparse_categorical_accuracy: 0.4142 - 491ms/epoch - 10ms/step\n",
            "Epoch 44/50\n"
          ]
        },
        {
          "output_type": "stream",
          "name": "stderr",
          "text": [
            "WARNING:tensorflow:Early stopping conditioned on metric `val_loss` which is not available. Available metrics are: loss,sparse_categorical_accuracy\n"
          ]
        },
        {
          "output_type": "stream",
          "name": "stdout",
          "text": [
            "50/50 - 0s - loss: 0.4379 - sparse_categorical_accuracy: 0.4261 - 485ms/epoch - 10ms/step\n",
            "Epoch 45/50\n"
          ]
        },
        {
          "output_type": "stream",
          "name": "stderr",
          "text": [
            "WARNING:tensorflow:Early stopping conditioned on metric `val_loss` which is not available. Available metrics are: loss,sparse_categorical_accuracy\n"
          ]
        },
        {
          "output_type": "stream",
          "name": "stdout",
          "text": [
            "50/50 - 0s - loss: 0.4027 - sparse_categorical_accuracy: 0.4521 - 484ms/epoch - 10ms/step\n",
            "Epoch 46/50\n"
          ]
        },
        {
          "output_type": "stream",
          "name": "stderr",
          "text": [
            "WARNING:tensorflow:Early stopping conditioned on metric `val_loss` which is not available. Available metrics are: loss,sparse_categorical_accuracy\n"
          ]
        },
        {
          "output_type": "stream",
          "name": "stdout",
          "text": [
            "50/50 - 1s - loss: 0.3671 - sparse_categorical_accuracy: 0.4642 - 621ms/epoch - 12ms/step\n",
            "Epoch 47/50\n"
          ]
        },
        {
          "output_type": "stream",
          "name": "stderr",
          "text": [
            "WARNING:tensorflow:Early stopping conditioned on metric `val_loss` which is not available. Available metrics are: loss,sparse_categorical_accuracy\n"
          ]
        },
        {
          "output_type": "stream",
          "name": "stdout",
          "text": [
            "50/50 - 1s - loss: 0.3350 - sparse_categorical_accuracy: 0.4814 - 696ms/epoch - 14ms/step\n",
            "Epoch 48/50\n"
          ]
        },
        {
          "output_type": "stream",
          "name": "stderr",
          "text": [
            "WARNING:tensorflow:Early stopping conditioned on metric `val_loss` which is not available. Available metrics are: loss,sparse_categorical_accuracy\n"
          ]
        },
        {
          "output_type": "stream",
          "name": "stdout",
          "text": [
            "50/50 - 1s - loss: 0.2984 - sparse_categorical_accuracy: 0.5100 - 669ms/epoch - 13ms/step\n",
            "Epoch 49/50\n"
          ]
        },
        {
          "output_type": "stream",
          "name": "stderr",
          "text": [
            "WARNING:tensorflow:Early stopping conditioned on metric `val_loss` which is not available. Available metrics are: loss,sparse_categorical_accuracy\n"
          ]
        },
        {
          "output_type": "stream",
          "name": "stdout",
          "text": [
            "50/50 - 1s - loss: 0.2180 - sparse_categorical_accuracy: 0.5848 - 735ms/epoch - 15ms/step\n",
            "Epoch 50/50\n"
          ]
        },
        {
          "output_type": "stream",
          "name": "stderr",
          "text": [
            "WARNING:tensorflow:Early stopping conditioned on metric `val_loss` which is not available. Available metrics are: loss,sparse_categorical_accuracy\n"
          ]
        },
        {
          "output_type": "stream",
          "name": "stdout",
          "text": [
            "50/50 - 1s - loss: 0.1783 - sparse_categorical_accuracy: 0.6315 - 1s/epoch - 24ms/step\n"
          ]
        },
        {
          "output_type": "execute_result",
          "data": {
            "text/plain": [
              "(<keras.engine.functional.Functional at 0x7fbb820bd1b0>,\n",
              " <keras.callbacks.History at 0x7fbb8212c220>)"
            ]
          },
          "metadata": {},
          "execution_count": 10
        }
      ],
      "source": [
        "\n",
        "from keras.callbacks import EarlyStopping\n",
        "#@title Train\n",
        "\n",
        "hyperparameters={\n",
        "        'max_len': max_len,\n",
        "        'item_vocab_size':item_vocab_size,\n",
        "        'embedding_item': 16,\n",
        "        'embedding_nb_days': 16,\n",
        "        'rnn_units_cat': 128,       \n",
        "        'learning_rate': 0.008    }\n",
        "\n",
        "\n",
        "model=build_modelhp(**hyperparameters)\n",
        "\n",
        "fit_model(model, train_dataset,50, 50)\n",
        "     \n"
      ]
    },
    {
      "cell_type": "markdown",
      "source": [
        "******************************************************************************\n",
        "# Save and load model"
      ],
      "metadata": {
        "id": "8dsh8imBlGTt"
      }
    },
    {
      "cell_type": "code",
      "source": [
        "max_len= 10 # len(tf.keras.utils.pad_sequences(seqservice)[0])\n",
        "item_vocab_size= 588"
      ],
      "metadata": {
        "id": "UR1wx5fiEJmO"
      },
      "execution_count": 16,
      "outputs": []
    },
    {
      "cell_type": "code",
      "source": [
        "from tensorflow.keras.models import Sequential, save_model, load_model"
      ],
      "metadata": {
        "id": "l7m43cUZ6-GN"
      },
      "execution_count": 17,
      "outputs": []
    },
    {
      "cell_type": "code",
      "source": [
        "filepath = '/content/drive/MyDrive/Recommendation/Functional2'\n",
        "save_model(model, filepath)"
      ],
      "metadata": {
        "id": "6jHWeKYi6tNB"
      },
      "execution_count": null,
      "outputs": []
    },
    {
      "cell_type": "code",
      "source": [
        "#@title LossFun\n",
        "def loss_function(real, pred):\n",
        "    \"\"\"\n",
        "    We redefine our own loss function in order to get rid of the '0' value\n",
        "    which is the one used for padding. This to avoid that the model optimize itself\n",
        "    by predicting this value because it is the padding one.\n",
        "    \n",
        "    :param real: the truth\n",
        "    :param pred: predictions\n",
        "    :return: a masked loss where '0' in real (due to padding)\n",
        "                are not taken into account for the evaluation\n",
        "    \"\"\"\n",
        "\n",
        "    # to check that pred is numric and not nan\n",
        "    mask = tf.math.logical_not(tf.math.equal(real, 0))\n",
        "    loss_object_ = tf.keras.losses.SparseCategoricalCrossentropy(from_logits=True,\n",
        "                                                                 reduction='none')\n",
        "    loss_ = loss_object_(real, pred)\n",
        "    mask = tf.cast(mask, dtype=loss_.dtype)\n",
        "    loss_ *= mask\n",
        "\n",
        "    return tf.reduce_mean(loss_)\n",
        "# # Save the model\n",
        "filepath = '/content/drive/MyDrive/Recommendation/Functional'\n",
        "model_S = tf.keras.models.load_model(filepath, custom_objects={'loss_function': loss_function})"
      ],
      "metadata": {
        "id": "5v5T1_vv8Ib4"
      },
      "execution_count": 18,
      "outputs": []
    },
    {
      "cell_type": "code",
      "source": [
        "import pandas as pd"
      ],
      "metadata": {
        "id": "ijr1d3QLLOJz"
      },
      "execution_count": 6,
      "outputs": []
    },
    {
      "cell_type": "code",
      "source": [
        "servicesdf = pd.read_csv ('/content/drive/MyDrive/Recommendation/final_data.csv', index_col='Unnamed: 0')\n",
        "servicesdf.head()"
      ],
      "metadata": {
        "colab": {
          "base_uri": "https://localhost:8080/",
          "height": 206
        },
        "id": "92xVP8B88b6m",
        "outputId": "795a21b4-c6e8-44f1-a2e2-41247d302bfa"
      },
      "execution_count": 7,
      "outputs": [
        {
          "output_type": "execute_result",
          "data": {
            "text/plain": [
              "                          Init  service  user  Time\n",
              "40557  2017-06-13 11:00:31.553        0   127     0\n",
              "40555  2017-06-13 12:49:36.030        0   130     0\n",
              "40554  2017-06-13 13:04:06.644        0   132     0\n",
              "40629  2017-06-14 07:35:55.062        0   134     0\n",
              "40553  2017-06-14 07:37:21.488        4   134     0"
            ],
            "text/html": [
              "\n",
              "  <div id=\"df-58a00068-244d-48b8-89b2-0c3cbcaa7ca2\">\n",
              "    <div class=\"colab-df-container\">\n",
              "      <div>\n",
              "<style scoped>\n",
              "    .dataframe tbody tr th:only-of-type {\n",
              "        vertical-align: middle;\n",
              "    }\n",
              "\n",
              "    .dataframe tbody tr th {\n",
              "        vertical-align: top;\n",
              "    }\n",
              "\n",
              "    .dataframe thead th {\n",
              "        text-align: right;\n",
              "    }\n",
              "</style>\n",
              "<table border=\"1\" class=\"dataframe\">\n",
              "  <thead>\n",
              "    <tr style=\"text-align: right;\">\n",
              "      <th></th>\n",
              "      <th>Init</th>\n",
              "      <th>service</th>\n",
              "      <th>user</th>\n",
              "      <th>Time</th>\n",
              "    </tr>\n",
              "  </thead>\n",
              "  <tbody>\n",
              "    <tr>\n",
              "      <th>40557</th>\n",
              "      <td>2017-06-13 11:00:31.553</td>\n",
              "      <td>0</td>\n",
              "      <td>127</td>\n",
              "      <td>0</td>\n",
              "    </tr>\n",
              "    <tr>\n",
              "      <th>40555</th>\n",
              "      <td>2017-06-13 12:49:36.030</td>\n",
              "      <td>0</td>\n",
              "      <td>130</td>\n",
              "      <td>0</td>\n",
              "    </tr>\n",
              "    <tr>\n",
              "      <th>40554</th>\n",
              "      <td>2017-06-13 13:04:06.644</td>\n",
              "      <td>0</td>\n",
              "      <td>132</td>\n",
              "      <td>0</td>\n",
              "    </tr>\n",
              "    <tr>\n",
              "      <th>40629</th>\n",
              "      <td>2017-06-14 07:35:55.062</td>\n",
              "      <td>0</td>\n",
              "      <td>134</td>\n",
              "      <td>0</td>\n",
              "    </tr>\n",
              "    <tr>\n",
              "      <th>40553</th>\n",
              "      <td>2017-06-14 07:37:21.488</td>\n",
              "      <td>4</td>\n",
              "      <td>134</td>\n",
              "      <td>0</td>\n",
              "    </tr>\n",
              "  </tbody>\n",
              "</table>\n",
              "</div>\n",
              "      <button class=\"colab-df-convert\" onclick=\"convertToInteractive('df-58a00068-244d-48b8-89b2-0c3cbcaa7ca2')\"\n",
              "              title=\"Convert this dataframe to an interactive table.\"\n",
              "              style=\"display:none;\">\n",
              "        \n",
              "  <svg xmlns=\"http://www.w3.org/2000/svg\" height=\"24px\"viewBox=\"0 0 24 24\"\n",
              "       width=\"24px\">\n",
              "    <path d=\"M0 0h24v24H0V0z\" fill=\"none\"/>\n",
              "    <path d=\"M18.56 5.44l.94 2.06.94-2.06 2.06-.94-2.06-.94-.94-2.06-.94 2.06-2.06.94zm-11 1L8.5 8.5l.94-2.06 2.06-.94-2.06-.94L8.5 2.5l-.94 2.06-2.06.94zm10 10l.94 2.06.94-2.06 2.06-.94-2.06-.94-.94-2.06-.94 2.06-2.06.94z\"/><path d=\"M17.41 7.96l-1.37-1.37c-.4-.4-.92-.59-1.43-.59-.52 0-1.04.2-1.43.59L10.3 9.45l-7.72 7.72c-.78.78-.78 2.05 0 2.83L4 21.41c.39.39.9.59 1.41.59.51 0 1.02-.2 1.41-.59l7.78-7.78 2.81-2.81c.8-.78.8-2.07 0-2.86zM5.41 20L4 18.59l7.72-7.72 1.47 1.35L5.41 20z\"/>\n",
              "  </svg>\n",
              "      </button>\n",
              "      \n",
              "  <style>\n",
              "    .colab-df-container {\n",
              "      display:flex;\n",
              "      flex-wrap:wrap;\n",
              "      gap: 12px;\n",
              "    }\n",
              "\n",
              "    .colab-df-convert {\n",
              "      background-color: #E8F0FE;\n",
              "      border: none;\n",
              "      border-radius: 50%;\n",
              "      cursor: pointer;\n",
              "      display: none;\n",
              "      fill: #1967D2;\n",
              "      height: 32px;\n",
              "      padding: 0 0 0 0;\n",
              "      width: 32px;\n",
              "    }\n",
              "\n",
              "    .colab-df-convert:hover {\n",
              "      background-color: #E2EBFA;\n",
              "      box-shadow: 0px 1px 2px rgba(60, 64, 67, 0.3), 0px 1px 3px 1px rgba(60, 64, 67, 0.15);\n",
              "      fill: #174EA6;\n",
              "    }\n",
              "\n",
              "    [theme=dark] .colab-df-convert {\n",
              "      background-color: #3B4455;\n",
              "      fill: #D2E3FC;\n",
              "    }\n",
              "\n",
              "    [theme=dark] .colab-df-convert:hover {\n",
              "      background-color: #434B5C;\n",
              "      box-shadow: 0px 1px 3px 1px rgba(0, 0, 0, 0.15);\n",
              "      filter: drop-shadow(0px 1px 2px rgba(0, 0, 0, 0.3));\n",
              "      fill: #FFFFFF;\n",
              "    }\n",
              "  </style>\n",
              "\n",
              "      <script>\n",
              "        const buttonEl =\n",
              "          document.querySelector('#df-58a00068-244d-48b8-89b2-0c3cbcaa7ca2 button.colab-df-convert');\n",
              "        buttonEl.style.display =\n",
              "          google.colab.kernel.accessAllowed ? 'block' : 'none';\n",
              "\n",
              "        async function convertToInteractive(key) {\n",
              "          const element = document.querySelector('#df-58a00068-244d-48b8-89b2-0c3cbcaa7ca2');\n",
              "          const dataTable =\n",
              "            await google.colab.kernel.invokeFunction('convertToInteractive',\n",
              "                                                     [key], {});\n",
              "          if (!dataTable) return;\n",
              "\n",
              "          const docLinkHtml = 'Like what you see? Visit the ' +\n",
              "            '<a target=\"_blank\" href=https://colab.research.google.com/notebooks/data_table.ipynb>data table notebook</a>'\n",
              "            + ' to learn more about interactive tables.';\n",
              "          element.innerHTML = '';\n",
              "          dataTable['output_type'] = 'display_data';\n",
              "          await google.colab.output.renderOutput(dataTable, element);\n",
              "          const docLink = document.createElement('div');\n",
              "          docLink.innerHTML = docLinkHtml;\n",
              "          element.appendChild(docLink);\n",
              "        }\n",
              "      </script>\n",
              "    </div>\n",
              "  </div>\n",
              "  "
            ]
          },
          "metadata": {},
          "execution_count": 7
        }
      ]
    },
    {
      "cell_type": "code",
      "source": [
        "servicesdf.user.nunique()"
      ],
      "metadata": {
        "colab": {
          "base_uri": "https://localhost:8080/"
        },
        "id": "Q4q1FJFjRB86",
        "outputId": "304909f9-9f96-4c3c-b5a4-7ac5ac219be9"
      },
      "execution_count": null,
      "outputs": [
        {
          "output_type": "execute_result",
          "data": {
            "text/plain": [
              "426026"
            ]
          },
          "metadata": {},
          "execution_count": 65
        }
      ]
    },
    {
      "cell_type": "code",
      "source": [
        "import csv"
      ],
      "metadata": {
        "id": "Dx_qnu9mEUJo"
      },
      "execution_count": 8,
      "outputs": []
    },
    {
      "cell_type": "code",
      "source": [
        "df1=pd.read_csv('/content/drive/MyDrive/Recommendation/final_data.csv')\n"
      ],
      "metadata": {
        "id": "P6PjT-XQDWF5"
      },
      "execution_count": 9,
      "outputs": []
    },
    {
      "cell_type": "code",
      "source": [
        "\n",
        "def ppredict(userno):\n",
        "  dftest= df1[df1.user==userno]\n",
        "  dfuserservice = pd.merge(dftest, servicesdf, on=\"service\")\n",
        "  dfuserservice.drop(columns='service', inplace= True)\n",
        "  # print(tabulate(dftest, headers='keys', tablefmt='psql'))\n",
        "\n",
        "\n",
        "  seqservicet , seqtimet ,seqtargett  =[] ,[] ,[] \n",
        "  for user in dftest.user.unique():\n",
        "    user_data = dftest[dftest['user'] == user].sort_values('Time')\n",
        "    seqservicet.append(user_data.service.values.tolist()[0:-1])\n",
        "    seqtimet.append(user_data.Time.values.tolist()[0:-1])\n",
        "    seqtargett.append(user_data.Time.values.tolist()[1:])\n",
        "\n",
        "  test_dict = dict(zip(['item_id', 'nb_days', 'target'],[tf.keras.utils.pad_sequences(seqservicet , maxlen=max_len), tf.keras.utils.pad_sequences(seqtimet, maxlen=max_len), tf.keras.utils.pad_sequences(seqtargett, maxlen=max_len)]))\n",
        "  test_feat_dict = {'item_id': test_dict['item_id'],'nb_days': test_dict['nb_days']}\n",
        "  y=model_S.predict(test_feat_dict)\n",
        "  mmax=0\n",
        "  mmlist=[]\n",
        "  for i in range(max_len):\n",
        "    values= y[0][i].tolist()\n",
        "    while True:\n",
        "      if max(values) in mmlist: \n",
        "        values[values.index(max(values))]=0\n",
        "      else:      \n",
        "        break\n",
        "    mmax=max(values)\n",
        "    mmlist.append(mmax)\n",
        "    # print(servicesdf[servicesdf.service==values.index(max(values))].service.values)\n",
        "\n",
        "  finaly= np.zeros((item_vocab_size))\n",
        "  for i in range(len(y[0])):\n",
        "      finaly+=y[0][i]\n",
        "  sortyindex=np.argsort(finaly)[-10:]\n",
        "  finaly.sort()\n",
        "  # print(finaly[-10:])\n",
        "  print('-------------------------------------- Method 2:')\n",
        "  x= servicesdf[servicesdf.service.isin(sortyindex)].service.values[-10:]\n",
        "  return x\n"
      ],
      "metadata": {
        "id": "pgDvyoQZ8b9t"
      },
      "execution_count": 10,
      "outputs": []
    },
    {
      "cell_type": "markdown",
      "source": [
        "************************************************************************************************************************************************************************************************************************************************"
      ],
      "metadata": {
        "id": "K4s7UMb1vMNA"
      }
    },
    {
      "cell_type": "markdown",
      "source": [
        "# Matrix"
      ],
      "metadata": {
        "id": "thrbtiSkhCNs"
      }
    },
    {
      "cell_type": "code",
      "source": [
        "def Recommender_System1(userid):\n",
        "    #use set to remove repeated items\n",
        "    Rec_Rnn=set(ppredict(userid))\n",
        "    #load the dataset without time for matrix correlations recommender system\n",
        "    df3= pd.read_csv ('/content/drive/MyDrive/Recommendation/dfn3share.csv')\n",
        "    df3 = df3.loc[:, ~df3.columns.str.contains('^Unnamed')]\n",
        "    #Create the matrix\n",
        "    user = df3.groupby('user')['service'].count()\n",
        "    # can filter the number of services which is used by each user\n",
        "    subcat_more20 = user[user >1].index.to_list()\n",
        "    df_subcat = df3[df3['user'].isin(subcat_more20)].reset_index(drop=True)\n",
        "    # create a matrix from pivot tabel\n",
        "    matrix1 = df_subcat.pivot_table(index=['user'], columns='service', values='count').fillna(0)\n",
        "\n",
        "    merged_filename = f\"merged_output_M{userid}.csv\"\n",
        "    with open(merged_filename, 'w', newline='') as file:\n",
        "        writer = csv.writer(file)\n",
        "        writer.writerow(['correlations', 'service'])  # Write header row\n",
        "        \n",
        "        for i in Rec_Rnn:\n",
        "            Subcat = matrix1[i]\n",
        "            Undo_music1 = pd.DataFrame(matrix1.corrwith(Subcat), columns=['correlations']).sort_values(by=['correlations'], ascending=False).head(5)\n",
        "            Undo_music1['service'] = Undo_music1.index  # Add a new column \"service\" with the index values\n",
        "            for row in Undo_music1.iterrows():\n",
        "                writer.writerow(row[1])  # Write each row directly to the CSV file\n",
        "\n",
        "    # Load merged dataset\n",
        "    merged_df = pd.read_csv(merged_filename)\n",
        "\n",
        "    # Find duplicated rows\n",
        "    duplicated_rows = merged_df[merged_df.duplicated(subset=['service'])]\n",
        "\n",
        "    # Save the duplicated rows to CSV\n",
        "    drop_filename = f\"/content/drive/MyDrive/Recommendation/Recommend_MA{userid}.csv\"\n",
        "    duplicated_rows.to_csv(drop_filename, index=False)\n",
        "\n",
        "    return duplicated_rows\n"
      ],
      "metadata": {
        "id": "oVHlwImeuOFr"
      },
      "execution_count": null,
      "outputs": []
    },
    {
      "cell_type": "code",
      "source": [
        "Recommender_System1(135)"
      ],
      "metadata": {
        "colab": {
          "base_uri": "https://localhost:8080/",
          "height": 180
        },
        "id": "mCsi1wDFtJ04",
        "outputId": "31306c5b-60cd-4ee7-b2bc-c2966da3f2ce"
      },
      "execution_count": null,
      "outputs": [
        {
          "output_type": "stream",
          "name": "stdout",
          "text": [
            "1/1 [==============================] - 0s 21ms/step\n",
            "-------------------------------------- Method 2:\n"
          ]
        },
        {
          "output_type": "execute_result",
          "data": {
            "text/plain": [
              "    correlations  service\n",
              "20      1.000000     63.0\n",
              "21      0.109595     99.0\n",
              "23      0.081614    100.0"
            ],
            "text/html": [
              "\n",
              "  <div id=\"df-3dac4acd-d92c-4ef8-a8d2-b717eb3fe5a5\">\n",
              "    <div class=\"colab-df-container\">\n",
              "      <div>\n",
              "<style scoped>\n",
              "    .dataframe tbody tr th:only-of-type {\n",
              "        vertical-align: middle;\n",
              "    }\n",
              "\n",
              "    .dataframe tbody tr th {\n",
              "        vertical-align: top;\n",
              "    }\n",
              "\n",
              "    .dataframe thead th {\n",
              "        text-align: right;\n",
              "    }\n",
              "</style>\n",
              "<table border=\"1\" class=\"dataframe\">\n",
              "  <thead>\n",
              "    <tr style=\"text-align: right;\">\n",
              "      <th></th>\n",
              "      <th>correlations</th>\n",
              "      <th>service</th>\n",
              "    </tr>\n",
              "  </thead>\n",
              "  <tbody>\n",
              "    <tr>\n",
              "      <th>20</th>\n",
              "      <td>1.000000</td>\n",
              "      <td>63.0</td>\n",
              "    </tr>\n",
              "    <tr>\n",
              "      <th>21</th>\n",
              "      <td>0.109595</td>\n",
              "      <td>99.0</td>\n",
              "    </tr>\n",
              "    <tr>\n",
              "      <th>23</th>\n",
              "      <td>0.081614</td>\n",
              "      <td>100.0</td>\n",
              "    </tr>\n",
              "  </tbody>\n",
              "</table>\n",
              "</div>\n",
              "      <button class=\"colab-df-convert\" onclick=\"convertToInteractive('df-3dac4acd-d92c-4ef8-a8d2-b717eb3fe5a5')\"\n",
              "              title=\"Convert this dataframe to an interactive table.\"\n",
              "              style=\"display:none;\">\n",
              "        \n",
              "  <svg xmlns=\"http://www.w3.org/2000/svg\" height=\"24px\"viewBox=\"0 0 24 24\"\n",
              "       width=\"24px\">\n",
              "    <path d=\"M0 0h24v24H0V0z\" fill=\"none\"/>\n",
              "    <path d=\"M18.56 5.44l.94 2.06.94-2.06 2.06-.94-2.06-.94-.94-2.06-.94 2.06-2.06.94zm-11 1L8.5 8.5l.94-2.06 2.06-.94-2.06-.94L8.5 2.5l-.94 2.06-2.06.94zm10 10l.94 2.06.94-2.06 2.06-.94-2.06-.94-.94-2.06-.94 2.06-2.06.94z\"/><path d=\"M17.41 7.96l-1.37-1.37c-.4-.4-.92-.59-1.43-.59-.52 0-1.04.2-1.43.59L10.3 9.45l-7.72 7.72c-.78.78-.78 2.05 0 2.83L4 21.41c.39.39.9.59 1.41.59.51 0 1.02-.2 1.41-.59l7.78-7.78 2.81-2.81c.8-.78.8-2.07 0-2.86zM5.41 20L4 18.59l7.72-7.72 1.47 1.35L5.41 20z\"/>\n",
              "  </svg>\n",
              "      </button>\n",
              "      \n",
              "  <style>\n",
              "    .colab-df-container {\n",
              "      display:flex;\n",
              "      flex-wrap:wrap;\n",
              "      gap: 12px;\n",
              "    }\n",
              "\n",
              "    .colab-df-convert {\n",
              "      background-color: #E8F0FE;\n",
              "      border: none;\n",
              "      border-radius: 50%;\n",
              "      cursor: pointer;\n",
              "      display: none;\n",
              "      fill: #1967D2;\n",
              "      height: 32px;\n",
              "      padding: 0 0 0 0;\n",
              "      width: 32px;\n",
              "    }\n",
              "\n",
              "    .colab-df-convert:hover {\n",
              "      background-color: #E2EBFA;\n",
              "      box-shadow: 0px 1px 2px rgba(60, 64, 67, 0.3), 0px 1px 3px 1px rgba(60, 64, 67, 0.15);\n",
              "      fill: #174EA6;\n",
              "    }\n",
              "\n",
              "    [theme=dark] .colab-df-convert {\n",
              "      background-color: #3B4455;\n",
              "      fill: #D2E3FC;\n",
              "    }\n",
              "\n",
              "    [theme=dark] .colab-df-convert:hover {\n",
              "      background-color: #434B5C;\n",
              "      box-shadow: 0px 1px 3px 1px rgba(0, 0, 0, 0.15);\n",
              "      filter: drop-shadow(0px 1px 2px rgba(0, 0, 0, 0.3));\n",
              "      fill: #FFFFFF;\n",
              "    }\n",
              "  </style>\n",
              "\n",
              "      <script>\n",
              "        const buttonEl =\n",
              "          document.querySelector('#df-3dac4acd-d92c-4ef8-a8d2-b717eb3fe5a5 button.colab-df-convert');\n",
              "        buttonEl.style.display =\n",
              "          google.colab.kernel.accessAllowed ? 'block' : 'none';\n",
              "\n",
              "        async function convertToInteractive(key) {\n",
              "          const element = document.querySelector('#df-3dac4acd-d92c-4ef8-a8d2-b717eb3fe5a5');\n",
              "          const dataTable =\n",
              "            await google.colab.kernel.invokeFunction('convertToInteractive',\n",
              "                                                     [key], {});\n",
              "          if (!dataTable) return;\n",
              "\n",
              "          const docLinkHtml = 'Like what you see? Visit the ' +\n",
              "            '<a target=\"_blank\" href=https://colab.research.google.com/notebooks/data_table.ipynb>data table notebook</a>'\n",
              "            + ' to learn more about interactive tables.';\n",
              "          element.innerHTML = '';\n",
              "          dataTable['output_type'] = 'display_data';\n",
              "          await google.colab.output.renderOutput(dataTable, element);\n",
              "          const docLink = document.createElement('div');\n",
              "          docLink.innerHTML = docLinkHtml;\n",
              "          element.appendChild(docLink);\n",
              "        }\n",
              "      </script>\n",
              "    </div>\n",
              "  </div>\n",
              "  "
            ]
          },
          "metadata": {},
          "execution_count": 28
        }
      ]
    },
    {
      "cell_type": "markdown",
      "source": [
        "********************************************************************************\n",
        "# Apriori model"
      ],
      "metadata": {
        "id": "8PMCy7oDlVJ8"
      }
    },
    {
      "cell_type": "code",
      "source": [
        "from mlxtend.frequent_patterns import apriori\n"
      ],
      "metadata": {
        "id": "I9YM602_AGQt"
      },
      "execution_count": 11,
      "outputs": []
    },
    {
      "cell_type": "code",
      "source": [
        "def Apriori(userid):\n",
        "  Rec_Rnn=set(ppredict(userid))\n",
        "  df = pd.read_csv ('/content/drive/MyDrive/Recommendation/taskfullshare.csv')\n",
        "  servicesdf = pd.read_csv ('/content/drive/MyDrive/Recommendation/final_data.csv', index_col='Unnamed: 0')\n",
        "  df=df.iloc[:,[1,2,3]]\n",
        "\n",
        "    #حذف یوزرهایی که کمتر از دو سرویس را استفاده کرده اند\n",
        "  df33=df.groupby(by=[\"user\"]).count()\n",
        "  df3=df33[df33.service<3]\n",
        "  df6=df[~df.user.isin(df3.index)]\n",
        "  tab4=pd.pivot_table(df6, index=['user'],columns=['service'], aggfunc=np.sum)\n",
        "  tab4.columns = tab4.columns.droplevel()\n",
        "  tab=tab4.fillna(0).astype(int)\n",
        "  tab=tab.applymap(lambda x: 0 if x==0 else 1)  \n",
        "  support=apriori(tab, min_support=0.01, use_colnames=True)\n",
        "  bestprod=support.sort_values(by='support', ascending=False).head(5)\n",
        "  support['servicecount']= support.itemsets.apply(lambda x : 35 in x) \n",
        "\n",
        "  supp2= support[support.itemsets.str.len()>1].sort_values('itemsets' , ascending=False)\n",
        "  supp3=support[support.itemsets.str.len()>2].sort_values('itemsets' , ascending=False)\n",
        "  supp2['service'] = supp2.itemsets.apply(lambda x: servicesdf[servicesdf.service.isin(x)].service.values)\n",
        "  supp2.sort_values(by='support',ascending=False, inplace=True)\n",
        "  \n",
        "\n",
        "\n",
        "  merged_filename = f\"merged_output_A{userid}.csv\"\n",
        "  with open(merged_filename, 'w', newline='') as file:\n",
        "      writer = csv.writer(file)\n",
        "      writer.writerow(['correlations', 'service'])  # Write header row\n",
        "      # the output of RNN gives to Apriori model\n",
        "      for i in Rec_Rnn:\n",
        "          # Conver Apriori to dataframe\n",
        "          Subcat = pd.DataFrame(supp2[supp2['service'].apply(lambda x: i in x)]).head(5)\n",
        "          \n",
        "          for row in Subcat.iterrows():\n",
        "              writer.writerow(row[1])  # Write each row directly to the CSV file\n",
        "\n",
        "  # Load merged dataset\n",
        "  merged_df = pd.read_csv(merged_filename)\n",
        "\n",
        "  # Find duplicated rows\n",
        "  duplicated_rows = merged_df[merged_df.duplicated(subset=['service'])]\n",
        "\n",
        "  # Save the duplicated rows to CSV\n",
        "  drop_filename = f\"/content/drive/MyDrive/Recommendation/Recommend_AP{userid}.csv\"\n",
        "  duplicated_rows.to_csv(drop_filename, index=False)\n",
        "\n",
        "  return duplicated_rows\n",
        "\n"
      ],
      "metadata": {
        "id": "6LOkcloFlfeg"
      },
      "execution_count": 12,
      "outputs": []
    },
    {
      "cell_type": "code",
      "source": [
        "# چون دیتاست های ورودی تکراری است \n",
        "Apriori(3646)"
      ],
      "metadata": {
        "id": "NPEpvmoBmc_p",
        "colab": {
          "base_uri": "https://localhost:8080/",
          "height": 118
        },
        "outputId": "10a3df3f-430f-41b9-c4ac-1c14ab16f159"
      },
      "execution_count": 20,
      "outputs": [
        {
          "output_type": "stream",
          "name": "stdout",
          "text": [
            "1/1 [==============================] - 0s 25ms/step\n",
            "-------------------------------------- Method 2:\n"
          ]
        },
        {
          "output_type": "execute_result",
          "data": {
            "text/plain": [
              "                              correlations                  service\n",
              "0.023233 frozenset({96, 92})         False  [92 92 92 ... 92 92 92]"
            ],
            "text/html": [
              "\n",
              "  <div id=\"df-4e60c1d8-7178-47ee-8132-f87400b852ad\">\n",
              "    <div class=\"colab-df-container\">\n",
              "      <div>\n",
              "<style scoped>\n",
              "    .dataframe tbody tr th:only-of-type {\n",
              "        vertical-align: middle;\n",
              "    }\n",
              "\n",
              "    .dataframe tbody tr th {\n",
              "        vertical-align: top;\n",
              "    }\n",
              "\n",
              "    .dataframe thead th {\n",
              "        text-align: right;\n",
              "    }\n",
              "</style>\n",
              "<table border=\"1\" class=\"dataframe\">\n",
              "  <thead>\n",
              "    <tr style=\"text-align: right;\">\n",
              "      <th></th>\n",
              "      <th></th>\n",
              "      <th>correlations</th>\n",
              "      <th>service</th>\n",
              "    </tr>\n",
              "  </thead>\n",
              "  <tbody>\n",
              "    <tr>\n",
              "      <th>0.023233</th>\n",
              "      <th>frozenset({96, 92})</th>\n",
              "      <td>False</td>\n",
              "      <td>[92 92 92 ... 92 92 92]</td>\n",
              "    </tr>\n",
              "  </tbody>\n",
              "</table>\n",
              "</div>\n",
              "      <button class=\"colab-df-convert\" onclick=\"convertToInteractive('df-4e60c1d8-7178-47ee-8132-f87400b852ad')\"\n",
              "              title=\"Convert this dataframe to an interactive table.\"\n",
              "              style=\"display:none;\">\n",
              "        \n",
              "  <svg xmlns=\"http://www.w3.org/2000/svg\" height=\"24px\"viewBox=\"0 0 24 24\"\n",
              "       width=\"24px\">\n",
              "    <path d=\"M0 0h24v24H0V0z\" fill=\"none\"/>\n",
              "    <path d=\"M18.56 5.44l.94 2.06.94-2.06 2.06-.94-2.06-.94-.94-2.06-.94 2.06-2.06.94zm-11 1L8.5 8.5l.94-2.06 2.06-.94-2.06-.94L8.5 2.5l-.94 2.06-2.06.94zm10 10l.94 2.06.94-2.06 2.06-.94-2.06-.94-.94-2.06-.94 2.06-2.06.94z\"/><path d=\"M17.41 7.96l-1.37-1.37c-.4-.4-.92-.59-1.43-.59-.52 0-1.04.2-1.43.59L10.3 9.45l-7.72 7.72c-.78.78-.78 2.05 0 2.83L4 21.41c.39.39.9.59 1.41.59.51 0 1.02-.2 1.41-.59l7.78-7.78 2.81-2.81c.8-.78.8-2.07 0-2.86zM5.41 20L4 18.59l7.72-7.72 1.47 1.35L5.41 20z\"/>\n",
              "  </svg>\n",
              "      </button>\n",
              "      \n",
              "  <style>\n",
              "    .colab-df-container {\n",
              "      display:flex;\n",
              "      flex-wrap:wrap;\n",
              "      gap: 12px;\n",
              "    }\n",
              "\n",
              "    .colab-df-convert {\n",
              "      background-color: #E8F0FE;\n",
              "      border: none;\n",
              "      border-radius: 50%;\n",
              "      cursor: pointer;\n",
              "      display: none;\n",
              "      fill: #1967D2;\n",
              "      height: 32px;\n",
              "      padding: 0 0 0 0;\n",
              "      width: 32px;\n",
              "    }\n",
              "\n",
              "    .colab-df-convert:hover {\n",
              "      background-color: #E2EBFA;\n",
              "      box-shadow: 0px 1px 2px rgba(60, 64, 67, 0.3), 0px 1px 3px 1px rgba(60, 64, 67, 0.15);\n",
              "      fill: #174EA6;\n",
              "    }\n",
              "\n",
              "    [theme=dark] .colab-df-convert {\n",
              "      background-color: #3B4455;\n",
              "      fill: #D2E3FC;\n",
              "    }\n",
              "\n",
              "    [theme=dark] .colab-df-convert:hover {\n",
              "      background-color: #434B5C;\n",
              "      box-shadow: 0px 1px 3px 1px rgba(0, 0, 0, 0.15);\n",
              "      filter: drop-shadow(0px 1px 2px rgba(0, 0, 0, 0.3));\n",
              "      fill: #FFFFFF;\n",
              "    }\n",
              "  </style>\n",
              "\n",
              "      <script>\n",
              "        const buttonEl =\n",
              "          document.querySelector('#df-4e60c1d8-7178-47ee-8132-f87400b852ad button.colab-df-convert');\n",
              "        buttonEl.style.display =\n",
              "          google.colab.kernel.accessAllowed ? 'block' : 'none';\n",
              "\n",
              "        async function convertToInteractive(key) {\n",
              "          const element = document.querySelector('#df-4e60c1d8-7178-47ee-8132-f87400b852ad');\n",
              "          const dataTable =\n",
              "            await google.colab.kernel.invokeFunction('convertToInteractive',\n",
              "                                                     [key], {});\n",
              "          if (!dataTable) return;\n",
              "\n",
              "          const docLinkHtml = 'Like what you see? Visit the ' +\n",
              "            '<a target=\"_blank\" href=https://colab.research.google.com/notebooks/data_table.ipynb>data table notebook</a>'\n",
              "            + ' to learn more about interactive tables.';\n",
              "          element.innerHTML = '';\n",
              "          dataTable['output_type'] = 'display_data';\n",
              "          await google.colab.output.renderOutput(dataTable, element);\n",
              "          const docLink = document.createElement('div');\n",
              "          docLink.innerHTML = docLinkHtml;\n",
              "          element.appendChild(docLink);\n",
              "        }\n",
              "      </script>\n",
              "    </div>\n",
              "  </div>\n",
              "  "
            ]
          },
          "metadata": {},
          "execution_count": 20
        }
      ]
    },
    {
      "cell_type": "markdown",
      "source": [],
      "metadata": {
        "id": "P7r-t0Qamdar"
      }
    }
  ],
  "metadata": {
    "colab": {
      "provenance": [],
      "gpuType": "T4"
    },
    "kernelspec": {
      "display_name": "Python 3",
      "name": "python3"
    },
    "language_info": {
      "name": "python"
    },
    "accelerator": "GPU"
  },
  "nbformat": 4,
  "nbformat_minor": 0
}