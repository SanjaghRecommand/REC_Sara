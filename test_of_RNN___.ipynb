{
  "nbformat": 4,
  "nbformat_minor": 0,
  "metadata": {
    "colab": {
      "provenance": [],
      "gpuType": "T4",
      "include_colab_link": true
    },
    "kernelspec": {
      "name": "python3",
      "display_name": "Python 3"
    },
    "language_info": {
      "name": "python"
    },
    "accelerator": "GPU",
    "gpuClass": "standard"
  },
  "cells": [
    {
      "cell_type": "markdown",
      "metadata": {
        "id": "view-in-github",
        "colab_type": "text"
      },
      "source": [
        "<a href=\"https://colab.research.google.com/github/SanjaghRecommand/Recommend/blob/Sara/test_of_RNN___.ipynb\" target=\"_parent\"><img src=\"https://colab.research.google.com/assets/colab-badge.svg\" alt=\"Open In Colab\"/></a>"
      ]
    },
    {
      "cell_type": "code",
      "execution_count": null,
      "metadata": {
        "colab": {
          "base_uri": "https://localhost:8080/"
        },
        "id": "Lofi44TW-4VG",
        "outputId": "7f1e5764-d9f8-43fb-bf69-108c3db52047"
      },
      "outputs": [
        {
          "output_type": "stream",
          "name": "stdout",
          "text": [
            "Mounted at /content/drive\n"
          ]
        }
      ],
      "source": [
        "from google.colab import drive\n",
        "drive.mount('/content/drive')"
      ]
    },
    {
      "cell_type": "code",
      "source": [
        "import pandas as pd\n",
        "import numpy as np\n",
        "import matplotlib.pyplot as plt\n",
        "import seaborn as sns\n",
        "from scipy.sparse import csr_matrix\n",
        "import numpy as np\n",
        "from keras.models import Sequential\n",
        "from keras.layers import Dense, LSTM\n",
        "import pandas as pd\n",
        "import tensorflow as tf\n",
        "import torch\n",
        "import pickle\n",
        "from tabulate import tabulate"
      ],
      "metadata": {
        "id": "A8HePi8c_Aos"
      },
      "execution_count": null,
      "outputs": []
    },
    {
      "cell_type": "code",
      "source": [
        "df1 = pd.read_csv ('/content/drive/MyDrive/Colab Notebooks/sanjaghshare/data/taskfullshare.csv')\n",
        "df1 = df1.loc[:, ~df1.columns.str.contains('^Unnamed')]\n",
        "df1.head()"
      ],
      "metadata": {
        "colab": {
          "base_uri": "https://localhost:8080/",
          "height": 206
        },
        "id": "d2bbRGTE_SpC",
        "outputId": "8b9eeca0-6355-4a36-b8e1-0ecf67ecea20"
      },
      "execution_count": null,
      "outputs": [
        {
          "output_type": "execute_result",
          "data": {
            "text/plain": [
              "            Init  service     user\n",
              "0  1655018492726      328  1275352\n",
              "1  1655018824405       92  1275354\n",
              "2  1655018831538       12  1275355\n",
              "3  1655018842708      149  1274893\n",
              "4  1655018856558       42     8604"
            ],
            "text/html": [
              "\n",
              "  <div id=\"df-9f42b2be-e30f-42d9-8387-348465c4bbe4\">\n",
              "    <div class=\"colab-df-container\">\n",
              "      <div>\n",
              "<style scoped>\n",
              "    .dataframe tbody tr th:only-of-type {\n",
              "        vertical-align: middle;\n",
              "    }\n",
              "\n",
              "    .dataframe tbody tr th {\n",
              "        vertical-align: top;\n",
              "    }\n",
              "\n",
              "    .dataframe thead th {\n",
              "        text-align: right;\n",
              "    }\n",
              "</style>\n",
              "<table border=\"1\" class=\"dataframe\">\n",
              "  <thead>\n",
              "    <tr style=\"text-align: right;\">\n",
              "      <th></th>\n",
              "      <th>Init</th>\n",
              "      <th>service</th>\n",
              "      <th>user</th>\n",
              "    </tr>\n",
              "  </thead>\n",
              "  <tbody>\n",
              "    <tr>\n",
              "      <th>0</th>\n",
              "      <td>1655018492726</td>\n",
              "      <td>328</td>\n",
              "      <td>1275352</td>\n",
              "    </tr>\n",
              "    <tr>\n",
              "      <th>1</th>\n",
              "      <td>1655018824405</td>\n",
              "      <td>92</td>\n",
              "      <td>1275354</td>\n",
              "    </tr>\n",
              "    <tr>\n",
              "      <th>2</th>\n",
              "      <td>1655018831538</td>\n",
              "      <td>12</td>\n",
              "      <td>1275355</td>\n",
              "    </tr>\n",
              "    <tr>\n",
              "      <th>3</th>\n",
              "      <td>1655018842708</td>\n",
              "      <td>149</td>\n",
              "      <td>1274893</td>\n",
              "    </tr>\n",
              "    <tr>\n",
              "      <th>4</th>\n",
              "      <td>1655018856558</td>\n",
              "      <td>42</td>\n",
              "      <td>8604</td>\n",
              "    </tr>\n",
              "  </tbody>\n",
              "</table>\n",
              "</div>\n",
              "      <button class=\"colab-df-convert\" onclick=\"convertToInteractive('df-9f42b2be-e30f-42d9-8387-348465c4bbe4')\"\n",
              "              title=\"Convert this dataframe to an interactive table.\"\n",
              "              style=\"display:none;\">\n",
              "        \n",
              "  <svg xmlns=\"http://www.w3.org/2000/svg\" height=\"24px\"viewBox=\"0 0 24 24\"\n",
              "       width=\"24px\">\n",
              "    <path d=\"M0 0h24v24H0V0z\" fill=\"none\"/>\n",
              "    <path d=\"M18.56 5.44l.94 2.06.94-2.06 2.06-.94-2.06-.94-.94-2.06-.94 2.06-2.06.94zm-11 1L8.5 8.5l.94-2.06 2.06-.94-2.06-.94L8.5 2.5l-.94 2.06-2.06.94zm10 10l.94 2.06.94-2.06 2.06-.94-2.06-.94-.94-2.06-.94 2.06-2.06.94z\"/><path d=\"M17.41 7.96l-1.37-1.37c-.4-.4-.92-.59-1.43-.59-.52 0-1.04.2-1.43.59L10.3 9.45l-7.72 7.72c-.78.78-.78 2.05 0 2.83L4 21.41c.39.39.9.59 1.41.59.51 0 1.02-.2 1.41-.59l7.78-7.78 2.81-2.81c.8-.78.8-2.07 0-2.86zM5.41 20L4 18.59l7.72-7.72 1.47 1.35L5.41 20z\"/>\n",
              "  </svg>\n",
              "      </button>\n",
              "      \n",
              "  <style>\n",
              "    .colab-df-container {\n",
              "      display:flex;\n",
              "      flex-wrap:wrap;\n",
              "      gap: 12px;\n",
              "    }\n",
              "\n",
              "    .colab-df-convert {\n",
              "      background-color: #E8F0FE;\n",
              "      border: none;\n",
              "      border-radius: 50%;\n",
              "      cursor: pointer;\n",
              "      display: none;\n",
              "      fill: #1967D2;\n",
              "      height: 32px;\n",
              "      padding: 0 0 0 0;\n",
              "      width: 32px;\n",
              "    }\n",
              "\n",
              "    .colab-df-convert:hover {\n",
              "      background-color: #E2EBFA;\n",
              "      box-shadow: 0px 1px 2px rgba(60, 64, 67, 0.3), 0px 1px 3px 1px rgba(60, 64, 67, 0.15);\n",
              "      fill: #174EA6;\n",
              "    }\n",
              "\n",
              "    [theme=dark] .colab-df-convert {\n",
              "      background-color: #3B4455;\n",
              "      fill: #D2E3FC;\n",
              "    }\n",
              "\n",
              "    [theme=dark] .colab-df-convert:hover {\n",
              "      background-color: #434B5C;\n",
              "      box-shadow: 0px 1px 3px 1px rgba(0, 0, 0, 0.15);\n",
              "      filter: drop-shadow(0px 1px 2px rgba(0, 0, 0, 0.3));\n",
              "      fill: #FFFFFF;\n",
              "    }\n",
              "  </style>\n",
              "\n",
              "      <script>\n",
              "        const buttonEl =\n",
              "          document.querySelector('#df-9f42b2be-e30f-42d9-8387-348465c4bbe4 button.colab-df-convert');\n",
              "        buttonEl.style.display =\n",
              "          google.colab.kernel.accessAllowed ? 'block' : 'none';\n",
              "\n",
              "        async function convertToInteractive(key) {\n",
              "          const element = document.querySelector('#df-9f42b2be-e30f-42d9-8387-348465c4bbe4');\n",
              "          const dataTable =\n",
              "            await google.colab.kernel.invokeFunction('convertToInteractive',\n",
              "                                                     [key], {});\n",
              "          if (!dataTable) return;\n",
              "\n",
              "          const docLinkHtml = 'Like what you see? Visit the ' +\n",
              "            '<a target=\"_blank\" href=https://colab.research.google.com/notebooks/data_table.ipynb>data table notebook</a>'\n",
              "            + ' to learn more about interactive tables.';\n",
              "          element.innerHTML = '';\n",
              "          dataTable['output_type'] = 'display_data';\n",
              "          await google.colab.output.renderOutput(dataTable, element);\n",
              "          const docLink = document.createElement('div');\n",
              "          docLink.innerHTML = docLinkHtml;\n",
              "          element.appendChild(docLink);\n",
              "        }\n",
              "      </script>\n",
              "    </div>\n",
              "  </div>\n",
              "  "
            ]
          },
          "metadata": {},
          "execution_count": 3
        }
      ]
    },
    {
      "cell_type": "code",
      "source": [
        "df=df1"
      ],
      "metadata": {
        "id": "osKhs0RWqToy"
      },
      "execution_count": null,
      "outputs": []
    },
    {
      "cell_type": "code",
      "source": [
        "mininit= df.Init.min()\n",
        "df['Time']=df.Init.apply(lambda x: round((x- mininit)/2000000000))\n",
        "# df.drop(columns='Init', inplace=True)\n",
        "df= df[df['user'] >5 ]\n",
        "df.sort_values(by='Init',ascending=True).head(2)"
      ],
      "metadata": {
        "colab": {
          "base_uri": "https://localhost:8080/",
          "height": 112
        },
        "id": "zKXIrPiNp_Bg",
        "outputId": "6e04eb29-0741-497b-e1a5-45fa88a194e1"
      },
      "execution_count": null,
      "outputs": [
        {
          "output_type": "execute_result",
          "data": {
            "text/plain": [
              "                Init  service  user  Time\n",
              "40557  1497351631553        0   127     0\n",
              "40555  1497358176030        0   130     0"
            ],
            "text/html": [
              "\n",
              "  <div id=\"df-8bfc70aa-2998-4fef-b8b2-07d369e56235\">\n",
              "    <div class=\"colab-df-container\">\n",
              "      <div>\n",
              "<style scoped>\n",
              "    .dataframe tbody tr th:only-of-type {\n",
              "        vertical-align: middle;\n",
              "    }\n",
              "\n",
              "    .dataframe tbody tr th {\n",
              "        vertical-align: top;\n",
              "    }\n",
              "\n",
              "    .dataframe thead th {\n",
              "        text-align: right;\n",
              "    }\n",
              "</style>\n",
              "<table border=\"1\" class=\"dataframe\">\n",
              "  <thead>\n",
              "    <tr style=\"text-align: right;\">\n",
              "      <th></th>\n",
              "      <th>Init</th>\n",
              "      <th>service</th>\n",
              "      <th>user</th>\n",
              "      <th>Time</th>\n",
              "    </tr>\n",
              "  </thead>\n",
              "  <tbody>\n",
              "    <tr>\n",
              "      <th>40557</th>\n",
              "      <td>1497351631553</td>\n",
              "      <td>0</td>\n",
              "      <td>127</td>\n",
              "      <td>0</td>\n",
              "    </tr>\n",
              "    <tr>\n",
              "      <th>40555</th>\n",
              "      <td>1497358176030</td>\n",
              "      <td>0</td>\n",
              "      <td>130</td>\n",
              "      <td>0</td>\n",
              "    </tr>\n",
              "  </tbody>\n",
              "</table>\n",
              "</div>\n",
              "      <button class=\"colab-df-convert\" onclick=\"convertToInteractive('df-8bfc70aa-2998-4fef-b8b2-07d369e56235')\"\n",
              "              title=\"Convert this dataframe to an interactive table.\"\n",
              "              style=\"display:none;\">\n",
              "        \n",
              "  <svg xmlns=\"http://www.w3.org/2000/svg\" height=\"24px\"viewBox=\"0 0 24 24\"\n",
              "       width=\"24px\">\n",
              "    <path d=\"M0 0h24v24H0V0z\" fill=\"none\"/>\n",
              "    <path d=\"M18.56 5.44l.94 2.06.94-2.06 2.06-.94-2.06-.94-.94-2.06-.94 2.06-2.06.94zm-11 1L8.5 8.5l.94-2.06 2.06-.94-2.06-.94L8.5 2.5l-.94 2.06-2.06.94zm10 10l.94 2.06.94-2.06 2.06-.94-2.06-.94-.94-2.06-.94 2.06-2.06.94z\"/><path d=\"M17.41 7.96l-1.37-1.37c-.4-.4-.92-.59-1.43-.59-.52 0-1.04.2-1.43.59L10.3 9.45l-7.72 7.72c-.78.78-.78 2.05 0 2.83L4 21.41c.39.39.9.59 1.41.59.51 0 1.02-.2 1.41-.59l7.78-7.78 2.81-2.81c.8-.78.8-2.07 0-2.86zM5.41 20L4 18.59l7.72-7.72 1.47 1.35L5.41 20z\"/>\n",
              "  </svg>\n",
              "      </button>\n",
              "      \n",
              "  <style>\n",
              "    .colab-df-container {\n",
              "      display:flex;\n",
              "      flex-wrap:wrap;\n",
              "      gap: 12px;\n",
              "    }\n",
              "\n",
              "    .colab-df-convert {\n",
              "      background-color: #E8F0FE;\n",
              "      border: none;\n",
              "      border-radius: 50%;\n",
              "      cursor: pointer;\n",
              "      display: none;\n",
              "      fill: #1967D2;\n",
              "      height: 32px;\n",
              "      padding: 0 0 0 0;\n",
              "      width: 32px;\n",
              "    }\n",
              "\n",
              "    .colab-df-convert:hover {\n",
              "      background-color: #E2EBFA;\n",
              "      box-shadow: 0px 1px 2px rgba(60, 64, 67, 0.3), 0px 1px 3px 1px rgba(60, 64, 67, 0.15);\n",
              "      fill: #174EA6;\n",
              "    }\n",
              "\n",
              "    [theme=dark] .colab-df-convert {\n",
              "      background-color: #3B4455;\n",
              "      fill: #D2E3FC;\n",
              "    }\n",
              "\n",
              "    [theme=dark] .colab-df-convert:hover {\n",
              "      background-color: #434B5C;\n",
              "      box-shadow: 0px 1px 3px 1px rgba(0, 0, 0, 0.15);\n",
              "      filter: drop-shadow(0px 1px 2px rgba(0, 0, 0, 0.3));\n",
              "      fill: #FFFFFF;\n",
              "    }\n",
              "  </style>\n",
              "\n",
              "      <script>\n",
              "        const buttonEl =\n",
              "          document.querySelector('#df-8bfc70aa-2998-4fef-b8b2-07d369e56235 button.colab-df-convert');\n",
              "        buttonEl.style.display =\n",
              "          google.colab.kernel.accessAllowed ? 'block' : 'none';\n",
              "\n",
              "        async function convertToInteractive(key) {\n",
              "          const element = document.querySelector('#df-8bfc70aa-2998-4fef-b8b2-07d369e56235');\n",
              "          const dataTable =\n",
              "            await google.colab.kernel.invokeFunction('convertToInteractive',\n",
              "                                                     [key], {});\n",
              "          if (!dataTable) return;\n",
              "\n",
              "          const docLinkHtml = 'Like what you see? Visit the ' +\n",
              "            '<a target=\"_blank\" href=https://colab.research.google.com/notebooks/data_table.ipynb>data table notebook</a>'\n",
              "            + ' to learn more about interactive tables.';\n",
              "          element.innerHTML = '';\n",
              "          dataTable['output_type'] = 'display_data';\n",
              "          await google.colab.output.renderOutput(dataTable, element);\n",
              "          const docLink = document.createElement('div');\n",
              "          docLink.innerHTML = docLinkHtml;\n",
              "          element.appendChild(docLink);\n",
              "        }\n",
              "      </script>\n",
              "    </div>\n",
              "  </div>\n",
              "  "
            ]
          },
          "metadata": {},
          "execution_count": 5
        }
      ]
    },
    {
      "cell_type": "code",
      "source": [
        "df1['Init'] = pd.to_datetime(df1['Init'],unit='ms')\n",
        "df1=df1.sort_values(by='Init',ascending=True)\n",
        "df1.head(2)"
      ],
      "metadata": {
        "colab": {
          "base_uri": "https://localhost:8080/",
          "height": 112
        },
        "id": "35Mxn3-GpJZY",
        "outputId": "1c3091e5-cd16-425f-9da4-cebe5ae7c725"
      },
      "execution_count": null,
      "outputs": [
        {
          "output_type": "execute_result",
          "data": {
            "text/plain": [
              "                         Init  service  user  Time\n",
              "40557 2017-06-13 11:00:31.553        0   127     0\n",
              "40555 2017-06-13 12:49:36.030        0   130     0"
            ],
            "text/html": [
              "\n",
              "  <div id=\"df-ae540d46-dc4b-475b-94ec-48455f214661\">\n",
              "    <div class=\"colab-df-container\">\n",
              "      <div>\n",
              "<style scoped>\n",
              "    .dataframe tbody tr th:only-of-type {\n",
              "        vertical-align: middle;\n",
              "    }\n",
              "\n",
              "    .dataframe tbody tr th {\n",
              "        vertical-align: top;\n",
              "    }\n",
              "\n",
              "    .dataframe thead th {\n",
              "        text-align: right;\n",
              "    }\n",
              "</style>\n",
              "<table border=\"1\" class=\"dataframe\">\n",
              "  <thead>\n",
              "    <tr style=\"text-align: right;\">\n",
              "      <th></th>\n",
              "      <th>Init</th>\n",
              "      <th>service</th>\n",
              "      <th>user</th>\n",
              "      <th>Time</th>\n",
              "    </tr>\n",
              "  </thead>\n",
              "  <tbody>\n",
              "    <tr>\n",
              "      <th>40557</th>\n",
              "      <td>2017-06-13 11:00:31.553</td>\n",
              "      <td>0</td>\n",
              "      <td>127</td>\n",
              "      <td>0</td>\n",
              "    </tr>\n",
              "    <tr>\n",
              "      <th>40555</th>\n",
              "      <td>2017-06-13 12:49:36.030</td>\n",
              "      <td>0</td>\n",
              "      <td>130</td>\n",
              "      <td>0</td>\n",
              "    </tr>\n",
              "  </tbody>\n",
              "</table>\n",
              "</div>\n",
              "      <button class=\"colab-df-convert\" onclick=\"convertToInteractive('df-ae540d46-dc4b-475b-94ec-48455f214661')\"\n",
              "              title=\"Convert this dataframe to an interactive table.\"\n",
              "              style=\"display:none;\">\n",
              "        \n",
              "  <svg xmlns=\"http://www.w3.org/2000/svg\" height=\"24px\"viewBox=\"0 0 24 24\"\n",
              "       width=\"24px\">\n",
              "    <path d=\"M0 0h24v24H0V0z\" fill=\"none\"/>\n",
              "    <path d=\"M18.56 5.44l.94 2.06.94-2.06 2.06-.94-2.06-.94-.94-2.06-.94 2.06-2.06.94zm-11 1L8.5 8.5l.94-2.06 2.06-.94-2.06-.94L8.5 2.5l-.94 2.06-2.06.94zm10 10l.94 2.06.94-2.06 2.06-.94-2.06-.94-.94-2.06-.94 2.06-2.06.94z\"/><path d=\"M17.41 7.96l-1.37-1.37c-.4-.4-.92-.59-1.43-.59-.52 0-1.04.2-1.43.59L10.3 9.45l-7.72 7.72c-.78.78-.78 2.05 0 2.83L4 21.41c.39.39.9.59 1.41.59.51 0 1.02-.2 1.41-.59l7.78-7.78 2.81-2.81c.8-.78.8-2.07 0-2.86zM5.41 20L4 18.59l7.72-7.72 1.47 1.35L5.41 20z\"/>\n",
              "  </svg>\n",
              "      </button>\n",
              "      \n",
              "  <style>\n",
              "    .colab-df-container {\n",
              "      display:flex;\n",
              "      flex-wrap:wrap;\n",
              "      gap: 12px;\n",
              "    }\n",
              "\n",
              "    .colab-df-convert {\n",
              "      background-color: #E8F0FE;\n",
              "      border: none;\n",
              "      border-radius: 50%;\n",
              "      cursor: pointer;\n",
              "      display: none;\n",
              "      fill: #1967D2;\n",
              "      height: 32px;\n",
              "      padding: 0 0 0 0;\n",
              "      width: 32px;\n",
              "    }\n",
              "\n",
              "    .colab-df-convert:hover {\n",
              "      background-color: #E2EBFA;\n",
              "      box-shadow: 0px 1px 2px rgba(60, 64, 67, 0.3), 0px 1px 3px 1px rgba(60, 64, 67, 0.15);\n",
              "      fill: #174EA6;\n",
              "    }\n",
              "\n",
              "    [theme=dark] .colab-df-convert {\n",
              "      background-color: #3B4455;\n",
              "      fill: #D2E3FC;\n",
              "    }\n",
              "\n",
              "    [theme=dark] .colab-df-convert:hover {\n",
              "      background-color: #434B5C;\n",
              "      box-shadow: 0px 1px 3px 1px rgba(0, 0, 0, 0.15);\n",
              "      filter: drop-shadow(0px 1px 2px rgba(0, 0, 0, 0.3));\n",
              "      fill: #FFFFFF;\n",
              "    }\n",
              "  </style>\n",
              "\n",
              "      <script>\n",
              "        const buttonEl =\n",
              "          document.querySelector('#df-ae540d46-dc4b-475b-94ec-48455f214661 button.colab-df-convert');\n",
              "        buttonEl.style.display =\n",
              "          google.colab.kernel.accessAllowed ? 'block' : 'none';\n",
              "\n",
              "        async function convertToInteractive(key) {\n",
              "          const element = document.querySelector('#df-ae540d46-dc4b-475b-94ec-48455f214661');\n",
              "          const dataTable =\n",
              "            await google.colab.kernel.invokeFunction('convertToInteractive',\n",
              "                                                     [key], {});\n",
              "          if (!dataTable) return;\n",
              "\n",
              "          const docLinkHtml = 'Like what you see? Visit the ' +\n",
              "            '<a target=\"_blank\" href=https://colab.research.google.com/notebooks/data_table.ipynb>data table notebook</a>'\n",
              "            + ' to learn more about interactive tables.';\n",
              "          element.innerHTML = '';\n",
              "          dataTable['output_type'] = 'display_data';\n",
              "          await google.colab.output.renderOutput(dataTable, element);\n",
              "          const docLink = document.createElement('div');\n",
              "          docLink.innerHTML = docLinkHtml;\n",
              "          element.appendChild(docLink);\n",
              "        }\n",
              "      </script>\n",
              "    </div>\n",
              "  </div>\n",
              "  "
            ]
          },
          "metadata": {},
          "execution_count": 6
        }
      ]
    },
    {
      "cell_type": "code",
      "source": [
        "df1 = df1.sort_values(by='Init')\n",
        "df1['date'] = df1['Init'].dt.date\n",
        "# Extract date and time components\n",
        "df1['date'] = df1['Init'].dt.date\n",
        "df1['time'] = df1['Init'].dt.time\n",
        "df1.head()"
      ],
      "metadata": {
        "colab": {
          "base_uri": "https://localhost:8080/",
          "height": 206
        },
        "id": "QWZQAOlQpJci",
        "outputId": "47752735-43a2-430b-b72e-f0f736ababdf"
      },
      "execution_count": null,
      "outputs": [
        {
          "output_type": "execute_result",
          "data": {
            "text/plain": [
              "                         Init  service  user  Time        date  \\\n",
              "40557 2017-06-13 11:00:31.553        0   127     0  2017-06-13   \n",
              "40555 2017-06-13 12:49:36.030        0   130     0  2017-06-13   \n",
              "40554 2017-06-13 13:04:06.644        0   132     0  2017-06-13   \n",
              "40597 2017-06-13 13:24:43.878        0   130     0  2017-06-13   \n",
              "40629 2017-06-14 07:35:55.062        0   134     0  2017-06-14   \n",
              "\n",
              "                  time  \n",
              "40557  11:00:31.553000  \n",
              "40555  12:49:36.030000  \n",
              "40554  13:04:06.644000  \n",
              "40597  13:24:43.878000  \n",
              "40629  07:35:55.062000  "
            ],
            "text/html": [
              "\n",
              "  <div id=\"df-8c051516-4e8f-4ee4-929f-8b408379cc8f\">\n",
              "    <div class=\"colab-df-container\">\n",
              "      <div>\n",
              "<style scoped>\n",
              "    .dataframe tbody tr th:only-of-type {\n",
              "        vertical-align: middle;\n",
              "    }\n",
              "\n",
              "    .dataframe tbody tr th {\n",
              "        vertical-align: top;\n",
              "    }\n",
              "\n",
              "    .dataframe thead th {\n",
              "        text-align: right;\n",
              "    }\n",
              "</style>\n",
              "<table border=\"1\" class=\"dataframe\">\n",
              "  <thead>\n",
              "    <tr style=\"text-align: right;\">\n",
              "      <th></th>\n",
              "      <th>Init</th>\n",
              "      <th>service</th>\n",
              "      <th>user</th>\n",
              "      <th>Time</th>\n",
              "      <th>date</th>\n",
              "      <th>time</th>\n",
              "    </tr>\n",
              "  </thead>\n",
              "  <tbody>\n",
              "    <tr>\n",
              "      <th>40557</th>\n",
              "      <td>2017-06-13 11:00:31.553</td>\n",
              "      <td>0</td>\n",
              "      <td>127</td>\n",
              "      <td>0</td>\n",
              "      <td>2017-06-13</td>\n",
              "      <td>11:00:31.553000</td>\n",
              "    </tr>\n",
              "    <tr>\n",
              "      <th>40555</th>\n",
              "      <td>2017-06-13 12:49:36.030</td>\n",
              "      <td>0</td>\n",
              "      <td>130</td>\n",
              "      <td>0</td>\n",
              "      <td>2017-06-13</td>\n",
              "      <td>12:49:36.030000</td>\n",
              "    </tr>\n",
              "    <tr>\n",
              "      <th>40554</th>\n",
              "      <td>2017-06-13 13:04:06.644</td>\n",
              "      <td>0</td>\n",
              "      <td>132</td>\n",
              "      <td>0</td>\n",
              "      <td>2017-06-13</td>\n",
              "      <td>13:04:06.644000</td>\n",
              "    </tr>\n",
              "    <tr>\n",
              "      <th>40597</th>\n",
              "      <td>2017-06-13 13:24:43.878</td>\n",
              "      <td>0</td>\n",
              "      <td>130</td>\n",
              "      <td>0</td>\n",
              "      <td>2017-06-13</td>\n",
              "      <td>13:24:43.878000</td>\n",
              "    </tr>\n",
              "    <tr>\n",
              "      <th>40629</th>\n",
              "      <td>2017-06-14 07:35:55.062</td>\n",
              "      <td>0</td>\n",
              "      <td>134</td>\n",
              "      <td>0</td>\n",
              "      <td>2017-06-14</td>\n",
              "      <td>07:35:55.062000</td>\n",
              "    </tr>\n",
              "  </tbody>\n",
              "</table>\n",
              "</div>\n",
              "      <button class=\"colab-df-convert\" onclick=\"convertToInteractive('df-8c051516-4e8f-4ee4-929f-8b408379cc8f')\"\n",
              "              title=\"Convert this dataframe to an interactive table.\"\n",
              "              style=\"display:none;\">\n",
              "        \n",
              "  <svg xmlns=\"http://www.w3.org/2000/svg\" height=\"24px\"viewBox=\"0 0 24 24\"\n",
              "       width=\"24px\">\n",
              "    <path d=\"M0 0h24v24H0V0z\" fill=\"none\"/>\n",
              "    <path d=\"M18.56 5.44l.94 2.06.94-2.06 2.06-.94-2.06-.94-.94-2.06-.94 2.06-2.06.94zm-11 1L8.5 8.5l.94-2.06 2.06-.94-2.06-.94L8.5 2.5l-.94 2.06-2.06.94zm10 10l.94 2.06.94-2.06 2.06-.94-2.06-.94-.94-2.06-.94 2.06-2.06.94z\"/><path d=\"M17.41 7.96l-1.37-1.37c-.4-.4-.92-.59-1.43-.59-.52 0-1.04.2-1.43.59L10.3 9.45l-7.72 7.72c-.78.78-.78 2.05 0 2.83L4 21.41c.39.39.9.59 1.41.59.51 0 1.02-.2 1.41-.59l7.78-7.78 2.81-2.81c.8-.78.8-2.07 0-2.86zM5.41 20L4 18.59l7.72-7.72 1.47 1.35L5.41 20z\"/>\n",
              "  </svg>\n",
              "      </button>\n",
              "      \n",
              "  <style>\n",
              "    .colab-df-container {\n",
              "      display:flex;\n",
              "      flex-wrap:wrap;\n",
              "      gap: 12px;\n",
              "    }\n",
              "\n",
              "    .colab-df-convert {\n",
              "      background-color: #E8F0FE;\n",
              "      border: none;\n",
              "      border-radius: 50%;\n",
              "      cursor: pointer;\n",
              "      display: none;\n",
              "      fill: #1967D2;\n",
              "      height: 32px;\n",
              "      padding: 0 0 0 0;\n",
              "      width: 32px;\n",
              "    }\n",
              "\n",
              "    .colab-df-convert:hover {\n",
              "      background-color: #E2EBFA;\n",
              "      box-shadow: 0px 1px 2px rgba(60, 64, 67, 0.3), 0px 1px 3px 1px rgba(60, 64, 67, 0.15);\n",
              "      fill: #174EA6;\n",
              "    }\n",
              "\n",
              "    [theme=dark] .colab-df-convert {\n",
              "      background-color: #3B4455;\n",
              "      fill: #D2E3FC;\n",
              "    }\n",
              "\n",
              "    [theme=dark] .colab-df-convert:hover {\n",
              "      background-color: #434B5C;\n",
              "      box-shadow: 0px 1px 3px 1px rgba(0, 0, 0, 0.15);\n",
              "      filter: drop-shadow(0px 1px 2px rgba(0, 0, 0, 0.3));\n",
              "      fill: #FFFFFF;\n",
              "    }\n",
              "  </style>\n",
              "\n",
              "      <script>\n",
              "        const buttonEl =\n",
              "          document.querySelector('#df-8c051516-4e8f-4ee4-929f-8b408379cc8f button.colab-df-convert');\n",
              "        buttonEl.style.display =\n",
              "          google.colab.kernel.accessAllowed ? 'block' : 'none';\n",
              "\n",
              "        async function convertToInteractive(key) {\n",
              "          const element = document.querySelector('#df-8c051516-4e8f-4ee4-929f-8b408379cc8f');\n",
              "          const dataTable =\n",
              "            await google.colab.kernel.invokeFunction('convertToInteractive',\n",
              "                                                     [key], {});\n",
              "          if (!dataTable) return;\n",
              "\n",
              "          const docLinkHtml = 'Like what you see? Visit the ' +\n",
              "            '<a target=\"_blank\" href=https://colab.research.google.com/notebooks/data_table.ipynb>data table notebook</a>'\n",
              "            + ' to learn more about interactive tables.';\n",
              "          element.innerHTML = '';\n",
              "          dataTable['output_type'] = 'display_data';\n",
              "          await google.colab.output.renderOutput(dataTable, element);\n",
              "          const docLink = document.createElement('div');\n",
              "          docLink.innerHTML = docLinkHtml;\n",
              "          element.appendChild(docLink);\n",
              "        }\n",
              "      </script>\n",
              "    </div>\n",
              "  </div>\n",
              "  "
            ]
          },
          "metadata": {},
          "execution_count": 7
        }
      ]
    },
    {
      "cell_type": "code",
      "source": [
        "df1= df1.drop_duplicates(subset=['date', 'service', 'user'])\n"
      ],
      "metadata": {
        "id": "Wy8L7Ts7pJeu"
      },
      "execution_count": null,
      "outputs": []
    },
    {
      "cell_type": "code",
      "source": [
        "df1.info()"
      ],
      "metadata": {
        "colab": {
          "base_uri": "https://localhost:8080/"
        },
        "id": "zNjrO-vipJhk",
        "outputId": "eb0abcc5-72f7-4c0f-bb1d-d906b1455497"
      },
      "execution_count": null,
      "outputs": [
        {
          "output_type": "stream",
          "name": "stdout",
          "text": [
            "<class 'pandas.core.frame.DataFrame'>\n",
            "Int64Index: 1482958 entries, 40557 to 1681000\n",
            "Data columns (total 6 columns):\n",
            " #   Column   Non-Null Count    Dtype         \n",
            "---  ------   --------------    -----         \n",
            " 0   Init     1482958 non-null  datetime64[ns]\n",
            " 1   service  1482958 non-null  int64         \n",
            " 2   user     1482958 non-null  int64         \n",
            " 3   Time     1482958 non-null  int64         \n",
            " 4   date     1482958 non-null  object        \n",
            " 5   time     1482958 non-null  object        \n",
            "dtypes: datetime64[ns](1), int64(3), object(2)\n",
            "memory usage: 79.2+ MB\n"
          ]
        }
      ]
    },
    {
      "cell_type": "code",
      "source": [
        "df1=df1.drop(['date','time'],axis=1)\n",
        "df1.head(1)"
      ],
      "metadata": {
        "colab": {
          "base_uri": "https://localhost:8080/",
          "height": 81
        },
        "id": "Hnw12dRjpoOm",
        "outputId": "da5b19fb-f0b6-4855-8eb4-d8eaecc538ef"
      },
      "execution_count": null,
      "outputs": [
        {
          "output_type": "execute_result",
          "data": {
            "text/plain": [
              "                         Init  service  user  Time\n",
              "40557 2017-06-13 11:00:31.553        0   127     0"
            ],
            "text/html": [
              "\n",
              "  <div id=\"df-a6acb296-c623-4580-8a57-71699be2a3dc\">\n",
              "    <div class=\"colab-df-container\">\n",
              "      <div>\n",
              "<style scoped>\n",
              "    .dataframe tbody tr th:only-of-type {\n",
              "        vertical-align: middle;\n",
              "    }\n",
              "\n",
              "    .dataframe tbody tr th {\n",
              "        vertical-align: top;\n",
              "    }\n",
              "\n",
              "    .dataframe thead th {\n",
              "        text-align: right;\n",
              "    }\n",
              "</style>\n",
              "<table border=\"1\" class=\"dataframe\">\n",
              "  <thead>\n",
              "    <tr style=\"text-align: right;\">\n",
              "      <th></th>\n",
              "      <th>Init</th>\n",
              "      <th>service</th>\n",
              "      <th>user</th>\n",
              "      <th>Time</th>\n",
              "    </tr>\n",
              "  </thead>\n",
              "  <tbody>\n",
              "    <tr>\n",
              "      <th>40557</th>\n",
              "      <td>2017-06-13 11:00:31.553</td>\n",
              "      <td>0</td>\n",
              "      <td>127</td>\n",
              "      <td>0</td>\n",
              "    </tr>\n",
              "  </tbody>\n",
              "</table>\n",
              "</div>\n",
              "      <button class=\"colab-df-convert\" onclick=\"convertToInteractive('df-a6acb296-c623-4580-8a57-71699be2a3dc')\"\n",
              "              title=\"Convert this dataframe to an interactive table.\"\n",
              "              style=\"display:none;\">\n",
              "        \n",
              "  <svg xmlns=\"http://www.w3.org/2000/svg\" height=\"24px\"viewBox=\"0 0 24 24\"\n",
              "       width=\"24px\">\n",
              "    <path d=\"M0 0h24v24H0V0z\" fill=\"none\"/>\n",
              "    <path d=\"M18.56 5.44l.94 2.06.94-2.06 2.06-.94-2.06-.94-.94-2.06-.94 2.06-2.06.94zm-11 1L8.5 8.5l.94-2.06 2.06-.94-2.06-.94L8.5 2.5l-.94 2.06-2.06.94zm10 10l.94 2.06.94-2.06 2.06-.94-2.06-.94-.94-2.06-.94 2.06-2.06.94z\"/><path d=\"M17.41 7.96l-1.37-1.37c-.4-.4-.92-.59-1.43-.59-.52 0-1.04.2-1.43.59L10.3 9.45l-7.72 7.72c-.78.78-.78 2.05 0 2.83L4 21.41c.39.39.9.59 1.41.59.51 0 1.02-.2 1.41-.59l7.78-7.78 2.81-2.81c.8-.78.8-2.07 0-2.86zM5.41 20L4 18.59l7.72-7.72 1.47 1.35L5.41 20z\"/>\n",
              "  </svg>\n",
              "      </button>\n",
              "      \n",
              "  <style>\n",
              "    .colab-df-container {\n",
              "      display:flex;\n",
              "      flex-wrap:wrap;\n",
              "      gap: 12px;\n",
              "    }\n",
              "\n",
              "    .colab-df-convert {\n",
              "      background-color: #E8F0FE;\n",
              "      border: none;\n",
              "      border-radius: 50%;\n",
              "      cursor: pointer;\n",
              "      display: none;\n",
              "      fill: #1967D2;\n",
              "      height: 32px;\n",
              "      padding: 0 0 0 0;\n",
              "      width: 32px;\n",
              "    }\n",
              "\n",
              "    .colab-df-convert:hover {\n",
              "      background-color: #E2EBFA;\n",
              "      box-shadow: 0px 1px 2px rgba(60, 64, 67, 0.3), 0px 1px 3px 1px rgba(60, 64, 67, 0.15);\n",
              "      fill: #174EA6;\n",
              "    }\n",
              "\n",
              "    [theme=dark] .colab-df-convert {\n",
              "      background-color: #3B4455;\n",
              "      fill: #D2E3FC;\n",
              "    }\n",
              "\n",
              "    [theme=dark] .colab-df-convert:hover {\n",
              "      background-color: #434B5C;\n",
              "      box-shadow: 0px 1px 3px 1px rgba(0, 0, 0, 0.15);\n",
              "      filter: drop-shadow(0px 1px 2px rgba(0, 0, 0, 0.3));\n",
              "      fill: #FFFFFF;\n",
              "    }\n",
              "  </style>\n",
              "\n",
              "      <script>\n",
              "        const buttonEl =\n",
              "          document.querySelector('#df-a6acb296-c623-4580-8a57-71699be2a3dc button.colab-df-convert');\n",
              "        buttonEl.style.display =\n",
              "          google.colab.kernel.accessAllowed ? 'block' : 'none';\n",
              "\n",
              "        async function convertToInteractive(key) {\n",
              "          const element = document.querySelector('#df-a6acb296-c623-4580-8a57-71699be2a3dc');\n",
              "          const dataTable =\n",
              "            await google.colab.kernel.invokeFunction('convertToInteractive',\n",
              "                                                     [key], {});\n",
              "          if (!dataTable) return;\n",
              "\n",
              "          const docLinkHtml = 'Like what you see? Visit the ' +\n",
              "            '<a target=\"_blank\" href=https://colab.research.google.com/notebooks/data_table.ipynb>data table notebook</a>'\n",
              "            + ' to learn more about interactive tables.';\n",
              "          element.innerHTML = '';\n",
              "          dataTable['output_type'] = 'display_data';\n",
              "          await google.colab.output.renderOutput(dataTable, element);\n",
              "          const docLink = document.createElement('div');\n",
              "          docLink.innerHTML = docLinkHtml;\n",
              "          element.appendChild(docLink);\n",
              "        }\n",
              "      </script>\n",
              "    </div>\n",
              "  </div>\n",
              "  "
            ]
          },
          "metadata": {},
          "execution_count": 10
        }
      ]
    },
    {
      "cell_type": "code",
      "source": [
        "max_len= 10 # len(tf.keras.utils.pad_sequences(seqservice)[0])\n",
        "item_vocab_size= 588"
      ],
      "metadata": {
        "id": "F16gznXxrDNT"
      },
      "execution_count": null,
      "outputs": []
    },
    {
      "cell_type": "code",
      "source": [
        "seqservice , seqtime ,seqtarget  =[] ,[] ,[] \n",
        "\n",
        "for user in df1.user.unique():\n",
        "  user_data = df1[df1['user'] == user].sort_values('Time')\n",
        "  seqservice.append(user_data.service.values.tolist()[0:-1])\n",
        "  seqtime.append(user_data.Time.values.tolist()[0:-1])\n",
        "  seqtarget.append(user_data.Time.values.tolist()[1:])\n",
        "\n",
        "  # print(user_data)\n",
        "  # break\n",
        "train_dict = dict(zip(['item_id', 'nb_days', 'target'],[tf.keras.utils.pad_sequences(seqservice, maxlen=max_len), tf.keras.utils.pad_sequences(seqtime, maxlen=max_len), tf.keras.utils.pad_sequences(seqtarget, maxlen=max_len)]))\n",
        "# save dictionary to person_data.pkl file\n",
        "with open('/content/drive/MyDrive/Recommendation/train_dict10.pkl', 'wb') as fp:\n",
        "    pickle.dump(train_dict, fp)\n",
        "    print('dictionary saved successfully to file')\n",
        "     "
      ],
      "metadata": {
        "colab": {
          "base_uri": "https://localhost:8080/"
        },
        "id": "YXG4ah8ApJkV",
        "outputId": "ba6a0760-937a-4568-b195-d96938733663"
      },
      "execution_count": null,
      "outputs": [
        {
          "output_type": "stream",
          "name": "stdout",
          "text": [
            "dictionary saved successfully to file\n"
          ]
        }
      ]
    },
    {
      "cell_type": "code",
      "source": [
        "with open('/content/drive/MyDrive/Colab Notebooks/sanjaghshare/data/train_dict10.pkl', 'rb') as fp:\n",
        "    # /content/drive/MyDrive/Colab Notebooks/sanjaghshare/data/train_dict10.pkl\n",
        "    train_dict = pickle.load(fp)\n",
        "\n",
        "    print(' dictionary loaded')"
      ],
      "metadata": {
        "colab": {
          "base_uri": "https://localhost:8080/"
        },
        "id": "fFskg90wrTID",
        "outputId": "6d36e65a-c95d-45af-8a7e-661c36f07403"
      },
      "execution_count": null,
      "outputs": [
        {
          "output_type": "stream",
          "name": "stdout",
          "text": [
            " dictionary loaded\n"
          ]
        }
      ]
    },
    {
      "cell_type": "code",
      "source": [
        "#@title Create_train\n",
        "def create_train_tfdata(train_feat_dict, train_target_tensor,    batch_size, buffer_size=None):\n",
        "    \"\"\"\n",
        "    Create train tf dataset for model train input\n",
        "    :param train_feat_dict: dict, containing the features tensors for train data\n",
        "    :param train_target_tensor: np.array(), the training TARGET tensor\n",
        "    :param batch_size: (int) size of the batch to work with\n",
        "    :param buffer_size: (int) Optional. Default is None. Size of the buffer\n",
        "    :return: (tuple) 1st element is the training dataset,\n",
        "                     2nd is the number of steps per epoch (based on batch size)\n",
        "    \"\"\"\n",
        "    if buffer_size is None:\n",
        "        buffer_size = batch_size*50\n",
        "\n",
        "    train_steps_per_epoch = len(train_target_tensor) // batch_size\n",
        "    train_dataset = tf.data.Dataset.from_tensor_slices((train_feat_dict,train_target_tensor)).cache()\n",
        "    train_dataset = train_dataset.shuffle(buffer_size).batch(batch_size)\n",
        "    train_dataset = train_dataset.repeat().prefetch(tf.data.experimental.AUTOTUNE)\n",
        "    \n",
        "    return train_dataset, train_steps_per_epoch\n",
        "  \n",
        "train_feat_dict = {'item_id': train_dict['item_id'],'nb_days': train_dict['nb_days']}\n",
        "train_target_tensor = train_dict['target'] \n",
        "train_dataset, train_steps_per_epoch = create_train_tfdata(train_feat_dict,  train_target_tensor, batch_size=512)"
      ],
      "metadata": {
        "id": "7ZkJ46ZErCMd"
      },
      "execution_count": null,
      "outputs": []
    },
    {
      "cell_type": "code",
      "source": [
        "#@title BuildModel\n",
        "def build_model(max_len, item_vocab_size):\n",
        "    \"\"\"\n",
        "    Build a model given the hyper-parameters with item and nb_days input features\n",
        "    :param hp: (kt.HyperParameters) hyper-parameters to use when building this model\n",
        "    :return: built and compiled tensorflow model \n",
        "    \"\"\"\n",
        "    inputs = {}\n",
        "    inputs['item_id'] = tf.keras.Input(batch_input_shape=[None, max_len],   name='item_id', dtype=tf.int32)\n",
        "    # create encoding padding mask\n",
        "    encoding_padding_mask = tf.math.logical_not(tf.math.equal(inputs['item_id'], 0))\n",
        "\n",
        "    # nb_days bucketized\n",
        "    inputs['nb_days'] = tf.keras.Input(batch_input_shape=[None, max_len],  name='nb_days', dtype=tf.int32)\n",
        "\n",
        "    # Pass categorical input through embedding layer\n",
        "    # with size equals to tokenizer vocabulary size\n",
        "    # Remember that vocab_size is len of item tokenizer + 1\n",
        "    # (for the padding '0' value)\n",
        "    \n",
        "    embedding_item = tf.keras.layers.Embedding(input_dim=item_vocab_size,\n",
        "                                               output_dim=16,\n",
        "                                               name='embedding_item'\n",
        "                                              )(inputs['item_id'])\n",
        "    # nbins=100, +1 for zero padding\n",
        "    embedding_nb_days = tf.keras.layers.Embedding(input_dim=100 + 1,\n",
        "                                                  output_dim=100,\n",
        "                                                  name='embedding_nb_days'\n",
        "                                                 )(inputs['nb_days'])\n",
        "\n",
        "    #  Concatenate embedding layers\n",
        "    concat_embedding_input = tf.keras.layers.Concatenate(\n",
        "     name='concat_embedding_input')([embedding_item, embedding_nb_days])\n",
        "\n",
        "    concat_embedding_input = tf.keras.layers.BatchNormalization(\n",
        "     name='batchnorm_inputs')(concat_embedding_input)\n",
        "    \n",
        "    # LSTM layer\n",
        "    rnn = tf.keras.layers.LSTM(units=100,\n",
        "                                   return_sequences=True,\n",
        "                                   stateful=False,\n",
        "                                   recurrent_initializer='glorot_normal',\n",
        "                                   name='LSTM_cat'\n",
        "                                   )(concat_embedding_input)\n",
        "\n",
        "    rnn = tf.keras.layers.BatchNormalization(name='batchnorm_lstm')(rnn)\n",
        "\n",
        "    # Self attention so key=value in inputs\n",
        "    att = tf.keras.layers.Attention(use_scale=False, causal=True,\n",
        "                                    name='attention')(inputs=[rnn, rnn],\n",
        "                                                      mask=[encoding_padding_mask,\n",
        "                                                            encoding_padding_mask])\n",
        "\n",
        "    # Last layer is a fully connected one\n",
        "    x = tf.keras.layers.Dense(item_vocab_size*2)(att)\n",
        "    # x = tf.keras.layers.Dense(32)(x)\n",
        "    output = tf.keras.layers.Dense(item_vocab_size, name='output')(x) #item_vocab_size\n",
        "\n",
        "    model = tf.keras.Model(inputs, output)\n",
        "\n",
        "    model.compile(\n",
        "        optimizer=tf.keras.optimizers.Adam(0.005),\n",
        "        loss=loss_function,\n",
        "        metrics=['sparse_categorical_accuracy'])\n",
        "    \n",
        "    return model"
      ],
      "metadata": {
        "id": "LDi24xaUrZ4Z"
      },
      "execution_count": null,
      "outputs": []
    },
    {
      "cell_type": "code",
      "source": [
        "\n",
        "\n",
        "#@title BuildModelHP\n",
        "def build_modelhp(max_len, item_vocab_size , embedding_item , embedding_nb_days , rnn_units_cat , learning_rate):\n",
        "    \"\"\"\n",
        "    Build a model given the hyper-parameters with item and nb_days input features\n",
        "    :param hp: (kt.HyperParameters) hyper-parameters to use when building this model\n",
        "    :return: built and compiled tensorflow model \n",
        "    \"\"\"\n",
        "    inputs = {}\n",
        "    inputs['item_id'] = tf.keras.Input(batch_input_shape=[None, max_len],\n",
        "                                       name='item_id', dtype=tf.int32)\n",
        "    # create encoding padding mask\n",
        "    encoding_padding_mask = tf.math.logical_not(tf.math.equal(inputs['item_id'], 0))\n",
        "\n",
        "    # nb_days bucketized\n",
        "    inputs['nb_days'] = tf.keras.Input(batch_input_shape=[None, max_len],\n",
        "                                       name='nb_days', dtype=tf.int32)\n",
        "\n",
        "    # Pass categorical input through embedding layer\n",
        "    # with size equals to tokenizer vocabulary size\n",
        "    # Remember that vocab_size is len of item tokenizer + 1\n",
        "    # (for the padding '0' value)\n",
        "    \n",
        "    embedding_item = tf.keras.layers.Embedding(input_dim=item_vocab_size,\n",
        "                                               output_dim=embedding_item,\n",
        "                                               name='embedding_item'\n",
        "                                              )(inputs['item_id'])\n",
        "    # nbins=100, +1 for zero padding\n",
        "    embedding_nb_days = tf.keras.layers.Embedding(input_dim=100 + 1,\n",
        "                                                  output_dim=embedding_nb_days,\n",
        "                                                  name='embedding_nb_days'\n",
        "                                                 )(inputs['nb_days'])\n",
        "\n",
        "    #  Concatenate embedding layers\n",
        "    concat_embedding_input = tf.keras.layers.Concatenate(\n",
        "     name='concat_embedding_input')([embedding_item, embedding_nb_days])\n",
        "\n",
        "    concat_embedding_input = tf.keras.layers.BatchNormalization( name='batchnorm_inputs')(concat_embedding_input)\n",
        "    \n",
        "    # LSTM layer\n",
        "    rnn = tf.keras.layers.LSTM(units=rnn_units_cat, return_sequences=True,  stateful=False,recurrent_initializer='glorot_normal', name='LSTM_cat')(concat_embedding_input)\n",
        "\n",
        "    rnn = tf.keras.layers.BatchNormalization(name='batchnorm_lstm')(rnn)\n",
        "\n",
        "    # Self attention so key=value in inputs\n",
        "    att = tf.keras.layers.Attention(use_scale=False, causal=True,\n",
        "                                    name='attention')(inputs=[rnn, rnn],\n",
        "                                                      mask=[encoding_padding_mask,\n",
        "                                                            encoding_padding_mask])\n",
        "\n",
        "    # Last layer is a fully connected one\n",
        "    output = tf.keras.layers.Dense(item_vocab_size, name='output')(att)\n",
        "\n",
        "    model = tf.keras.Model(inputs, output)\n",
        "    model.compile( optimizer=tf.keras.optimizers.Adam(learning_rate),   loss=loss_function, metrics=['sparse_categorical_accuracy'])\n",
        "    \n",
        "    return model\n",
        "     \n",
        "\n",
        "\n",
        "     \n"
      ],
      "metadata": {
        "id": "cpfTm5vbrZ73"
      },
      "execution_count": null,
      "outputs": []
    },
    {
      "cell_type": "code",
      "source": [
        "#@title LossFun\n",
        "def loss_function(real, pred):\n",
        "    \"\"\"\n",
        "    We redefine our own loss function in order to get rid of the '0' value\n",
        "    which is the one used for padding. This to avoid that the model optimize itself\n",
        "    by predicting this value because it is the padding one.\n",
        "    \n",
        "    :param real: the truth\n",
        "    :param pred: predictions\n",
        "    :return: a masked loss where '0' in real (due to padding)\n",
        "                are not taken into account for the evaluation\n",
        "    \"\"\"\n",
        "\n",
        "    # to check that pred is numric and not nan\n",
        "    mask = tf.math.logical_not(tf.math.equal(real, 0))\n",
        "    loss_object_ = tf.keras.losses.SparseCategoricalCrossentropy(from_logits=True,\n",
        "                                                                 reduction='none')\n",
        "    loss_ = loss_object_(real, pred)\n",
        "    mask = tf.cast(mask, dtype=loss_.dtype)\n",
        "    loss_ *= mask\n",
        "\n",
        "    return tf.reduce_mean(loss_)"
      ],
      "metadata": {
        "id": "sPZGiPdHraAN"
      },
      "execution_count": null,
      "outputs": []
    },
    {
      "cell_type": "code",
      "source": [
        "#@title FitModel\n",
        "def fit_model(model, train_dataset, steps_per_epoch, epochs):\n",
        "    \"\"\"\n",
        "    Fit the Keras model on the training dataset for a number of given epochs\n",
        "    :param model: tf model to be trained\n",
        "    :param train_dataset: (tf.data.Dataset object) the training dataset\n",
        "                          used to fit the model\n",
        "    :param steps_per_epoch: (int) Total number of steps (batches of samples) before \n",
        "                            declaring one epoch finished and starting the next epoch.\n",
        "    :param epochs: (int) the number of epochs for the fitting phase\n",
        "    :return: tuple (mirrored_model, history) with trained model and model history\n",
        "    \"\"\"\n",
        "        # mirrored_strategy allows to use multi GPUs when available\n",
        "    mirrored_strategy = tf.distribute.experimental.MultiWorkerMirroredStrategy(\n",
        "        tf.distribute.experimental.CollectiveCommunication.AUTO)\n",
        "    \n",
        "    with mirrored_strategy.scope():\n",
        "        mirrored_model = model\n",
        "    early_stopping = tf.keras.callbacks.EarlyStopping(patience=2)\n",
        "\n",
        "    history = mirrored_model.fit(train_dataset,  steps_per_epoch=steps_per_epoch,epochs=epochs,callbacks=early_stopping, verbose=2)\n",
        "\n",
        "    return mirrored_model, history\n",
        "     "
      ],
      "metadata": {
        "id": "gqpduDv0raEU"
      },
      "execution_count": null,
      "outputs": []
    },
    {
      "cell_type": "code",
      "source": [
        "# #@title TrainHP\n",
        "# from kerastuner.tuners import RandomSearch\n",
        "\n",
        "# # create a tuner object and define the hyperparameter search space\n",
        "# tuner = RandomSearch(\n",
        "#     build_modelhp,\n",
        "#     objective='val_loss',\n",
        "#     max_trials=10,\n",
        "#     directory='my_dir',\n",
        "#     project_name='my_project',\n",
        "#     hyperparameters={\n",
        "#         'max_len': [3,5,10],\n",
        "#         'item_vocab_size':600,\n",
        "#         'embedding_item': [16, 32, 64],\n",
        "#         'embedding_nb_days': [32, 64, 128],\n",
        "#         'rnn_units_cat': [32, 64, 128],       \n",
        "#         'learning_rate': [0.2, 0.3, 0.4]\n",
        "#     })\n",
        "\n",
        "# # prepare the training and validation data\n",
        "# ...\n",
        "\n",
        "# # start the hyperparameter search\n",
        "# tuner.search(train_dataset, epochs=10)\n",
        "\n",
        "# # fit_model(model, train_dataset, steps_per_epoch, epochs)\n",
        "# # print the best hyperparameters found\n",
        "# best_hyperparams = tuner.get_best_hyperparameters()[0].values\n",
        "# print(\"Best Hyperparameters:\", best_hyperparams)\n"
      ],
      "metadata": {
        "id": "XjScyQEDsNNJ"
      },
      "execution_count": null,
      "outputs": []
    },
    {
      "cell_type": "code",
      "source": [
        "from keras.callbacks import EarlyStopping\n",
        "#@title Train\n",
        "hyperparameters={\n",
        "        'max_len': max_len,\n",
        "        'item_vocab_size':item_vocab_size,\n",
        "        'embedding_item': 16,\n",
        "        'embedding_nb_days': 16,\n",
        "        'rnn_units_cat': 128,       \n",
        "        'learning_rate': 0.008    }\n",
        "model=build_modelhp(**hyperparameters)\n",
        "fit_model(model, train_dataset,50, 34)     "
      ],
      "metadata": {
        "colab": {
          "base_uri": "https://localhost:8080/"
        },
        "id": "jgefwRRzsRHn",
        "outputId": "de27612c-13b1-4975-8d9d-714f87023a08"
      },
      "execution_count": null,
      "outputs": [
        {
          "output_type": "stream",
          "name": "stderr",
          "text": [
            "WARNING:absl:`causal` argument is deprecated. Please use `use_causal_mask` in call() method to specify causal masking.\n",
            "WARNING:tensorflow:Collective ops is not configured at program startup. Some performance features may not be enabled.\n"
          ]
        },
        {
          "output_type": "stream",
          "name": "stdout",
          "text": [
            "Epoch 1/34\n"
          ]
        },
        {
          "output_type": "stream",
          "name": "stderr",
          "text": [
            "WARNING:tensorflow:Early stopping conditioned on metric `val_loss` which is not available. Available metrics are: loss,sparse_categorical_accuracy\n"
          ]
        },
        {
          "output_type": "stream",
          "name": "stdout",
          "text": [
            "50/50 - 8s - loss: 0.8905 - sparse_categorical_accuracy: 0.2723 - 8s/epoch - 165ms/step\n",
            "Epoch 2/34\n"
          ]
        },
        {
          "output_type": "stream",
          "name": "stderr",
          "text": [
            "WARNING:tensorflow:Early stopping conditioned on metric `val_loss` which is not available. Available metrics are: loss,sparse_categorical_accuracy\n"
          ]
        },
        {
          "output_type": "stream",
          "name": "stdout",
          "text": [
            "50/50 - 2s - loss: 0.7146 - sparse_categorical_accuracy: 0.3513 - 2s/epoch - 36ms/step\n",
            "Epoch 3/34\n"
          ]
        },
        {
          "output_type": "stream",
          "name": "stderr",
          "text": [
            "WARNING:tensorflow:Early stopping conditioned on metric `val_loss` which is not available. Available metrics are: loss,sparse_categorical_accuracy\n"
          ]
        },
        {
          "output_type": "stream",
          "name": "stdout",
          "text": [
            "50/50 - 2s - loss: 0.6646 - sparse_categorical_accuracy: 0.3724 - 2s/epoch - 39ms/step\n",
            "Epoch 4/34\n"
          ]
        },
        {
          "output_type": "stream",
          "name": "stderr",
          "text": [
            "WARNING:tensorflow:Early stopping conditioned on metric `val_loss` which is not available. Available metrics are: loss,sparse_categorical_accuracy\n"
          ]
        },
        {
          "output_type": "stream",
          "name": "stdout",
          "text": [
            "50/50 - 1s - loss: 0.6465 - sparse_categorical_accuracy: 0.3851 - 1s/epoch - 29ms/step\n",
            "Epoch 5/34\n"
          ]
        },
        {
          "output_type": "stream",
          "name": "stderr",
          "text": [
            "WARNING:tensorflow:Early stopping conditioned on metric `val_loss` which is not available. Available metrics are: loss,sparse_categorical_accuracy\n"
          ]
        },
        {
          "output_type": "stream",
          "name": "stdout",
          "text": [
            "50/50 - 2s - loss: 0.6244 - sparse_categorical_accuracy: 0.3834 - 2s/epoch - 48ms/step\n",
            "Epoch 6/34\n"
          ]
        },
        {
          "output_type": "stream",
          "name": "stderr",
          "text": [
            "WARNING:tensorflow:Early stopping conditioned on metric `val_loss` which is not available. Available metrics are: loss,sparse_categorical_accuracy\n"
          ]
        },
        {
          "output_type": "stream",
          "name": "stdout",
          "text": [
            "50/50 - 1s - loss: 0.5843 - sparse_categorical_accuracy: 0.3908 - 1s/epoch - 28ms/step\n",
            "Epoch 7/34\n"
          ]
        },
        {
          "output_type": "stream",
          "name": "stderr",
          "text": [
            "WARNING:tensorflow:Early stopping conditioned on metric `val_loss` which is not available. Available metrics are: loss,sparse_categorical_accuracy\n"
          ]
        },
        {
          "output_type": "stream",
          "name": "stdout",
          "text": [
            "50/50 - 1s - loss: 0.5645 - sparse_categorical_accuracy: 0.4033 - 1s/epoch - 26ms/step\n",
            "Epoch 8/34\n"
          ]
        },
        {
          "output_type": "stream",
          "name": "stderr",
          "text": [
            "WARNING:tensorflow:Early stopping conditioned on metric `val_loss` which is not available. Available metrics are: loss,sparse_categorical_accuracy\n"
          ]
        },
        {
          "output_type": "stream",
          "name": "stdout",
          "text": [
            "50/50 - 1s - loss: 0.5398 - sparse_categorical_accuracy: 0.3997 - 973ms/epoch - 19ms/step\n",
            "Epoch 9/34\n"
          ]
        },
        {
          "output_type": "stream",
          "name": "stderr",
          "text": [
            "WARNING:tensorflow:Early stopping conditioned on metric `val_loss` which is not available. Available metrics are: loss,sparse_categorical_accuracy\n"
          ]
        },
        {
          "output_type": "stream",
          "name": "stdout",
          "text": [
            "50/50 - 1s - loss: 0.5133 - sparse_categorical_accuracy: 0.4107 - 1s/epoch - 22ms/step\n",
            "Epoch 10/34\n"
          ]
        },
        {
          "output_type": "stream",
          "name": "stderr",
          "text": [
            "WARNING:tensorflow:Early stopping conditioned on metric `val_loss` which is not available. Available metrics are: loss,sparse_categorical_accuracy\n"
          ]
        },
        {
          "output_type": "stream",
          "name": "stdout",
          "text": [
            "50/50 - 1s - loss: 0.4688 - sparse_categorical_accuracy: 0.4154 - 982ms/epoch - 20ms/step\n",
            "Epoch 11/34\n"
          ]
        },
        {
          "output_type": "stream",
          "name": "stderr",
          "text": [
            "WARNING:tensorflow:Early stopping conditioned on metric `val_loss` which is not available. Available metrics are: loss,sparse_categorical_accuracy\n"
          ]
        },
        {
          "output_type": "stream",
          "name": "stdout",
          "text": [
            "50/50 - 1s - loss: 0.4288 - sparse_categorical_accuracy: 0.4299 - 849ms/epoch - 17ms/step\n",
            "Epoch 12/34\n"
          ]
        },
        {
          "output_type": "stream",
          "name": "stderr",
          "text": [
            "WARNING:tensorflow:Early stopping conditioned on metric `val_loss` which is not available. Available metrics are: loss,sparse_categorical_accuracy\n"
          ]
        },
        {
          "output_type": "stream",
          "name": "stdout",
          "text": [
            "50/50 - 1s - loss: 0.3981 - sparse_categorical_accuracy: 0.4521 - 1s/epoch - 22ms/step\n",
            "Epoch 13/34\n"
          ]
        },
        {
          "output_type": "stream",
          "name": "stderr",
          "text": [
            "WARNING:tensorflow:Early stopping conditioned on metric `val_loss` which is not available. Available metrics are: loss,sparse_categorical_accuracy\n"
          ]
        },
        {
          "output_type": "stream",
          "name": "stdout",
          "text": [
            "50/50 - 1s - loss: 0.3627 - sparse_categorical_accuracy: 0.4672 - 938ms/epoch - 19ms/step\n",
            "Epoch 14/34\n"
          ]
        },
        {
          "output_type": "stream",
          "name": "stderr",
          "text": [
            "WARNING:tensorflow:Early stopping conditioned on metric `val_loss` which is not available. Available metrics are: loss,sparse_categorical_accuracy\n"
          ]
        },
        {
          "output_type": "stream",
          "name": "stdout",
          "text": [
            "50/50 - 1s - loss: 0.3360 - sparse_categorical_accuracy: 0.4794 - 714ms/epoch - 14ms/step\n",
            "Epoch 15/34\n"
          ]
        },
        {
          "output_type": "stream",
          "name": "stderr",
          "text": [
            "WARNING:tensorflow:Early stopping conditioned on metric `val_loss` which is not available. Available metrics are: loss,sparse_categorical_accuracy\n"
          ]
        },
        {
          "output_type": "stream",
          "name": "stdout",
          "text": [
            "50/50 - 1s - loss: 0.2780 - sparse_categorical_accuracy: 0.5232 - 958ms/epoch - 19ms/step\n",
            "Epoch 16/34\n"
          ]
        },
        {
          "output_type": "stream",
          "name": "stderr",
          "text": [
            "WARNING:tensorflow:Early stopping conditioned on metric `val_loss` which is not available. Available metrics are: loss,sparse_categorical_accuracy\n"
          ]
        },
        {
          "output_type": "stream",
          "name": "stdout",
          "text": [
            "50/50 - 1s - loss: 0.1927 - sparse_categorical_accuracy: 0.6183 - 693ms/epoch - 14ms/step\n",
            "Epoch 17/34\n"
          ]
        },
        {
          "output_type": "stream",
          "name": "stderr",
          "text": [
            "WARNING:tensorflow:Early stopping conditioned on metric `val_loss` which is not available. Available metrics are: loss,sparse_categorical_accuracy\n"
          ]
        },
        {
          "output_type": "stream",
          "name": "stdout",
          "text": [
            "50/50 - 2s - loss: 0.3884 - sparse_categorical_accuracy: 0.4874 - 2s/epoch - 35ms/step\n",
            "Epoch 18/34\n"
          ]
        },
        {
          "output_type": "stream",
          "name": "stderr",
          "text": [
            "WARNING:tensorflow:Early stopping conditioned on metric `val_loss` which is not available. Available metrics are: loss,sparse_categorical_accuracy\n"
          ]
        },
        {
          "output_type": "stream",
          "name": "stdout",
          "text": [
            "50/50 - 1s - loss: 0.7326 - sparse_categorical_accuracy: 0.3535 - 889ms/epoch - 18ms/step\n",
            "Epoch 19/34\n"
          ]
        },
        {
          "output_type": "stream",
          "name": "stderr",
          "text": [
            "WARNING:tensorflow:Early stopping conditioned on metric `val_loss` which is not available. Available metrics are: loss,sparse_categorical_accuracy\n"
          ]
        },
        {
          "output_type": "stream",
          "name": "stdout",
          "text": [
            "50/50 - 1s - loss: 0.6709 - sparse_categorical_accuracy: 0.3738 - 710ms/epoch - 14ms/step\n",
            "Epoch 20/34\n"
          ]
        },
        {
          "output_type": "stream",
          "name": "stderr",
          "text": [
            "WARNING:tensorflow:Early stopping conditioned on metric `val_loss` which is not available. Available metrics are: loss,sparse_categorical_accuracy\n"
          ]
        },
        {
          "output_type": "stream",
          "name": "stdout",
          "text": [
            "50/50 - 1s - loss: 0.6393 - sparse_categorical_accuracy: 0.3884 - 831ms/epoch - 17ms/step\n",
            "Epoch 21/34\n"
          ]
        },
        {
          "output_type": "stream",
          "name": "stderr",
          "text": [
            "WARNING:tensorflow:Early stopping conditioned on metric `val_loss` which is not available. Available metrics are: loss,sparse_categorical_accuracy\n"
          ]
        },
        {
          "output_type": "stream",
          "name": "stdout",
          "text": [
            "50/50 - 0s - loss: 0.6315 - sparse_categorical_accuracy: 0.3926 - 442ms/epoch - 9ms/step\n",
            "Epoch 22/34\n"
          ]
        },
        {
          "output_type": "stream",
          "name": "stderr",
          "text": [
            "WARNING:tensorflow:Early stopping conditioned on metric `val_loss` which is not available. Available metrics are: loss,sparse_categorical_accuracy\n"
          ]
        },
        {
          "output_type": "stream",
          "name": "stdout",
          "text": [
            "50/50 - 0s - loss: 0.6026 - sparse_categorical_accuracy: 0.3942 - 464ms/epoch - 9ms/step\n",
            "Epoch 23/34\n"
          ]
        },
        {
          "output_type": "stream",
          "name": "stderr",
          "text": [
            "WARNING:tensorflow:Early stopping conditioned on metric `val_loss` which is not available. Available metrics are: loss,sparse_categorical_accuracy\n"
          ]
        },
        {
          "output_type": "stream",
          "name": "stdout",
          "text": [
            "50/50 - 0s - loss: 0.5687 - sparse_categorical_accuracy: 0.4015 - 450ms/epoch - 9ms/step\n",
            "Epoch 24/34\n"
          ]
        },
        {
          "output_type": "stream",
          "name": "stderr",
          "text": [
            "WARNING:tensorflow:Early stopping conditioned on metric `val_loss` which is not available. Available metrics are: loss,sparse_categorical_accuracy\n"
          ]
        },
        {
          "output_type": "stream",
          "name": "stdout",
          "text": [
            "50/50 - 0s - loss: 0.5459 - sparse_categorical_accuracy: 0.4098 - 456ms/epoch - 9ms/step\n",
            "Epoch 25/34\n"
          ]
        },
        {
          "output_type": "stream",
          "name": "stderr",
          "text": [
            "WARNING:tensorflow:Early stopping conditioned on metric `val_loss` which is not available. Available metrics are: loss,sparse_categorical_accuracy\n"
          ]
        },
        {
          "output_type": "stream",
          "name": "stdout",
          "text": [
            "50/50 - 0s - loss: 0.5268 - sparse_categorical_accuracy: 0.4051 - 484ms/epoch - 10ms/step\n",
            "Epoch 26/34\n"
          ]
        },
        {
          "output_type": "stream",
          "name": "stderr",
          "text": [
            "WARNING:tensorflow:Early stopping conditioned on metric `val_loss` which is not available. Available metrics are: loss,sparse_categorical_accuracy\n"
          ]
        },
        {
          "output_type": "stream",
          "name": "stdout",
          "text": [
            "50/50 - 1s - loss: 0.4952 - sparse_categorical_accuracy: 0.4121 - 576ms/epoch - 12ms/step\n",
            "Epoch 27/34\n"
          ]
        },
        {
          "output_type": "stream",
          "name": "stderr",
          "text": [
            "WARNING:tensorflow:Early stopping conditioned on metric `val_loss` which is not available. Available metrics are: loss,sparse_categorical_accuracy\n"
          ]
        },
        {
          "output_type": "stream",
          "name": "stdout",
          "text": [
            "50/50 - 0s - loss: 0.4484 - sparse_categorical_accuracy: 0.4224 - 467ms/epoch - 9ms/step\n",
            "Epoch 28/34\n"
          ]
        },
        {
          "output_type": "stream",
          "name": "stderr",
          "text": [
            "WARNING:tensorflow:Early stopping conditioned on metric `val_loss` which is not available. Available metrics are: loss,sparse_categorical_accuracy\n"
          ]
        },
        {
          "output_type": "stream",
          "name": "stdout",
          "text": [
            "50/50 - 0s - loss: 0.4185 - sparse_categorical_accuracy: 0.4435 - 460ms/epoch - 9ms/step\n",
            "Epoch 29/34\n"
          ]
        },
        {
          "output_type": "stream",
          "name": "stderr",
          "text": [
            "WARNING:tensorflow:Early stopping conditioned on metric `val_loss` which is not available. Available metrics are: loss,sparse_categorical_accuracy\n"
          ]
        },
        {
          "output_type": "stream",
          "name": "stdout",
          "text": [
            "50/50 - 0s - loss: 0.3821 - sparse_categorical_accuracy: 0.4607 - 470ms/epoch - 9ms/step\n",
            "Epoch 30/34\n"
          ]
        },
        {
          "output_type": "stream",
          "name": "stderr",
          "text": [
            "WARNING:tensorflow:Early stopping conditioned on metric `val_loss` which is not available. Available metrics are: loss,sparse_categorical_accuracy\n"
          ]
        },
        {
          "output_type": "stream",
          "name": "stdout",
          "text": [
            "50/50 - 0s - loss: 0.3499 - sparse_categorical_accuracy: 0.4782 - 443ms/epoch - 9ms/step\n",
            "Epoch 31/34\n"
          ]
        },
        {
          "output_type": "stream",
          "name": "stderr",
          "text": [
            "WARNING:tensorflow:Early stopping conditioned on metric `val_loss` which is not available. Available metrics are: loss,sparse_categorical_accuracy\n"
          ]
        },
        {
          "output_type": "stream",
          "name": "stdout",
          "text": [
            "50/50 - 0s - loss: 0.3135 - sparse_categorical_accuracy: 0.4918 - 445ms/epoch - 9ms/step\n",
            "Epoch 32/34\n"
          ]
        },
        {
          "output_type": "stream",
          "name": "stderr",
          "text": [
            "WARNING:tensorflow:Early stopping conditioned on metric `val_loss` which is not available. Available metrics are: loss,sparse_categorical_accuracy\n"
          ]
        },
        {
          "output_type": "stream",
          "name": "stdout",
          "text": [
            "50/50 - 0s - loss: 0.2546 - sparse_categorical_accuracy: 0.5421 - 444ms/epoch - 9ms/step\n",
            "Epoch 33/34\n"
          ]
        },
        {
          "output_type": "stream",
          "name": "stderr",
          "text": [
            "WARNING:tensorflow:Early stopping conditioned on metric `val_loss` which is not available. Available metrics are: loss,sparse_categorical_accuracy\n"
          ]
        },
        {
          "output_type": "stream",
          "name": "stdout",
          "text": [
            "50/50 - 1s - loss: 0.1711 - sparse_categorical_accuracy: 0.6438 - 611ms/epoch - 12ms/step\n",
            "Epoch 34/34\n"
          ]
        },
        {
          "output_type": "stream",
          "name": "stderr",
          "text": [
            "WARNING:tensorflow:Early stopping conditioned on metric `val_loss` which is not available. Available metrics are: loss,sparse_categorical_accuracy\n"
          ]
        },
        {
          "output_type": "stream",
          "name": "stdout",
          "text": [
            "50/50 - 1s - loss: 0.5760 - sparse_categorical_accuracy: 0.4052 - 675ms/epoch - 14ms/step\n"
          ]
        },
        {
          "output_type": "execute_result",
          "data": {
            "text/plain": [
              "(<keras.engine.functional.Functional at 0x7fd59c37c3a0>,\n",
              " <keras.callbacks.History at 0x7fd59c37f010>)"
            ]
          },
          "metadata": {},
          "execution_count": 27
        }
      ]
    },
    {
      "cell_type": "code",
      "source": [
        "servicesdf = pd.read_csv ('/content/drive/MyDrive/Colab Notebooks/sanjagh/Recommand/data/servicesdf.csv', index_col='Unnamed: 0')"
      ],
      "metadata": {
        "id": "941zVItT3nmt"
      },
      "execution_count": null,
      "outputs": []
    },
    {
      "cell_type": "code",
      "source": [],
      "metadata": {
        "id": "1zOhUepr3rkb"
      },
      "execution_count": null,
      "outputs": []
    },
    {
      "cell_type": "code",
      "execution_count": null,
      "metadata": {
        "id": "SuK_wPnezAA1"
      },
      "outputs": [],
      "source": [
        "def ppredict(userno):\n",
        "  dftest= df1[df1.user==userno]\n",
        "  dfuserservice = pd.merge(dftest, servicesdf, on=\"service\")\n",
        "  dfuserservice.drop(columns='service', inplace= True)\n",
        "  print(tabulate(dfuserservice, headers='keys', tablefmt='psql'))\n",
        "\n",
        "\n",
        "  seqservicet , seqtimet ,seqtargett  =[] ,[] ,[] \n",
        "  for user in dftest.user.unique():\n",
        "    user_data = dftest[dftest['user'] == user].sort_values('Time')\n",
        "    seqservicet.append(user_data.service.values.tolist()[0:-1])\n",
        "    seqtimet.append(user_data.Time.values.tolist()[0:-1])\n",
        "    seqtargett.append(user_data.Time.values.tolist()[1:])\n",
        "\n",
        "  test_dict = dict(zip(['item_id', 'nb_days', 'target'],[tf.keras.utils.pad_sequences(seqservicet , maxlen=max_len), tf.keras.utils.pad_sequences(seqtimet, maxlen=max_len), tf.keras.utils.pad_sequences(seqtargett, maxlen=max_len)]))\n",
        "  test_feat_dict = {'item_id': test_dict['item_id'],'nb_days': test_dict['nb_days']}\n",
        "  y=model.predict(test_feat_dict)\n",
        "  mmax=0\n",
        "  mmlist=[]\n",
        "  for i in range(max_len):\n",
        "    values= y[0][i].tolist()\n",
        "    while True:\n",
        "      if max(values) in mmlist: \n",
        "        values[values.index(max(values))]=0\n",
        "      else:      \n",
        "        break\n",
        "    mmax=max(values)\n",
        "    mmlist.append(mmax)\n",
        "    print(servicesdf[servicesdf.service==values.index(max(values))].service_title.values)\n",
        "\n",
        "  finaly= np.zeros((item_vocab_size))\n",
        "  for i in range(len(y[0])):\n",
        "      finaly+=y[0][i]\n",
        "  sortyindex=np.argsort(finaly)[-10:]\n",
        "  finaly.sort()\n",
        "  # print(finaly[-10:])\n",
        "  print('-------------------------------------- Method 2:')\n",
        "  print( servicesdf[servicesdf.service.isin(sortyindex)].service_title.values)\n"
      ]
    },
    {
      "cell_type": "code",
      "source": [
        "ppredict(3345)"
      ],
      "metadata": {
        "colab": {
          "base_uri": "https://localhost:8080/"
        },
        "id": "6m7Sq5Fe3wqz",
        "outputId": "dd22dc06-4557-4488-afa5-e6cdae796337"
      },
      "execution_count": null,
      "outputs": [
        {
          "output_type": "stream",
          "name": "stdout",
          "text": [
            "+----+----------------------------+--------+--------+-----------------------------------+----------+\n",
            "|    | Init                       |   user |   Time | service_title                     |   subcat |\n",
            "|----+----------------------------+--------+--------+-----------------------------------+----------|\n",
            "|  0 | 2017-12-16 12:30:21.155000 |   3345 |      8 | نصب-آیفون-تصویری                  |        1 |\n",
            "|  1 | 2021-01-09 11:17:42.393000 |   3345 |     56 | تعمیر-و-تعویض-ال-سی-دی-و-تاچ-گوشی |       71 |\n",
            "+----+----------------------------+--------+--------+-----------------------------------+----------+\n",
            "1/1 [==============================] - 0s 23ms/step\n",
            "['نصب-پوستر-سه-بعدی']\n",
            "['اجرای-پله-استیل']\n",
            "['کابل-کشی-داکت-کشی-و-نصب-ترانکینگ']\n",
            "['نصب-و-تعمیر-موتور-برق']\n",
            "['ساخت-در-و-پنجره-upvc']\n",
            "['عیب-یابی-و-تعمیرات-سخت-افزار']\n",
            "['ایزوگام']\n",
            "['نصب-راه-اندازی-و-نگهداری-UPS']\n",
            "['تعمیر-صندلی-اداری']\n",
            "['نصب-شوفاژ']\n",
            "-------------------------------------- Method 2:\n",
            "['نصب-شوفاژ' 'سیم-کشی-ساختمان' 'ساخت-در-و-پنجره-آلومینیومی'\n",
            " 'ساخت-توری-پنجره' 'ساخت-و-نصب-پارتیشن-آلومینیومی' 'بلکا'\n",
            " 'سرویس-و-تعمیر-یخچال' 'تعمیر-تلفن' 'تعمیر-صندلی-اداری' 'اجرای-پله-استیل']\n"
          ]
        }
      ]
    },
    {
      "cell_type": "code",
      "source": [
        "ppredict(1111)"
      ],
      "metadata": {
        "colab": {
          "base_uri": "https://localhost:8080/"
        },
        "id": "oJcNpEMq3wia",
        "outputId": "759a6785-f319-49eb-d994-5ff722092028"
      },
      "execution_count": null,
      "outputs": [
        {
          "output_type": "stream",
          "name": "stdout",
          "text": [
            "+----+----------------------------+--------+--------+--------------------------+----------+\n",
            "|    | Init                       |   user |   Time | service_title            |   subcat |\n",
            "|----+----------------------------+--------+--------+--------------------------+----------|\n",
            "|  0 | 2017-09-26 15:14:47.793000 |   1111 |      5 | سرویس-و-تعمیر-کولر-آبی   |        0 |\n",
            "|  1 | 2017-09-26 15:16:05.766000 |   1111 |      5 | نصب-و-تعمیر-آنتن-دیجیتال |        1 |\n",
            "|  2 | 2017-09-27 10:29:43.139000 |   1111 |      5 | تعمیر-تلفن               |        1 |\n",
            "|  3 | 2023-03-14 19:56:49.486000 |   1111 |     91 | هایلایت-و-مش-مو-بانوان   |       68 |\n",
            "|  4 | 2023-03-16 17:13:24.784000 |   1111 |     91 | پاکسازی-صورت-بانوان      |       38 |\n",
            "+----+----------------------------+--------+--------+--------------------------+----------+\n",
            "1/1 [==============================] - 0s 19ms/step\n",
            "['نصب-پوستر-سه-بعدی']\n",
            "['اجرای-پله-استیل']\n",
            "['کابل-کشی-داکت-کشی-و-نصب-ترانکینگ']\n",
            "['نصب-و-تعمیر-موتور-برق']\n",
            "['ساخت-در-و-پنجره-upvc']\n",
            "['عیب-یابی-و-تعمیرات-سخت-افزار']\n",
            "['ایزوگام']\n",
            "['لوله-بازکنی']\n",
            "['لوله-بازکنی']\n",
            "['قفسه-های-صنعتی-و-فروشگاهی']\n",
            "-------------------------------------- Method 2:\n",
            "['نصب-آیفون-تصویری' 'تعمیر-آیفون-تصویری-و-صوتی'\n",
            " 'تعمیرات-و-نصب-تلفن-سانترال' 'رویه-کوبی-مبل'\n",
            " 'طراحی-و-ساخت-کابینت-آشپزخانه' 'نصب-پارکت' 'نصب-و-راه-اندازی-آسانسور'\n",
            " 'بلکا' 'اجرای-پله-استیل' 'قفسه-های-صنعتی-و-فروشگاهی']\n"
          ]
        }
      ]
    },
    {
      "cell_type": "code",
      "source": [
        "ppredict(1514100)"
      ],
      "metadata": {
        "colab": {
          "base_uri": "https://localhost:8080/"
        },
        "id": "WzAa0VND3wat",
        "outputId": "1cf58377-44e1-44af-cf06-aa0c369df530"
      },
      "execution_count": null,
      "outputs": [
        {
          "output_type": "stream",
          "name": "stdout",
          "text": [
            "+----+----------------------------+---------+--------+----------------------+----------+\n",
            "|    | Init                       |    user |   Time | service_title        |   subcat |\n",
            "|----+----------------------------+---------+--------+----------------------+----------|\n",
            "|  0 | 2023-04-09 17:54:15.085000 | 1514100 |     92 | نصب-دوربین-مدار-بسته |        1 |\n",
            "+----+----------------------------+---------+--------+----------------------+----------+\n",
            "1/1 [==============================] - 0s 28ms/step\n",
            "['نصب-پوستر-سه-بعدی']\n",
            "['اجرای-پله-استیل']\n",
            "['کابل-کشی-داکت-کشی-و-نصب-ترانکینگ']\n",
            "['نصب-و-تعمیر-موتور-برق']\n",
            "['ساخت-در-و-پنجره-upvc']\n",
            "['عیب-یابی-و-تعمیرات-سخت-افزار']\n",
            "['ایزوگام']\n",
            "['نصب-راه-اندازی-و-نگهداری-UPS']\n",
            "['تعمیر-صندلی-اداری']\n",
            "['ساخت-توری-پنجره']\n",
            "-------------------------------------- Method 2:\n",
            "['ساخت-توری-پنجره' 'عیب-یابی-و-تعمیرات-سخت-افزار'\n",
            " 'کابل-کشی-داکت-کشی-و-نصب-ترانکینگ' 'نصب-راه-اندازی-و-نگهداری-UPS'\n",
            " 'نصب-و-تعمیر-موتور-برق' 'ساخت-در-و-پنجره-upvc' 'نصب-پوستر-سه-بعدی'\n",
            " 'ایزوگام' 'تعمیر-صندلی-اداری' 'اجرای-پله-استیل']\n"
          ]
        }
      ]
    },
    {
      "cell_type": "code",
      "source": [
        "ppredict(60816)"
      ],
      "metadata": {
        "colab": {
          "base_uri": "https://localhost:8080/"
        },
        "id": "7OQRXXuU3wPX",
        "outputId": "4486cc29-50f7-4c28-f151-138ece88905d"
      },
      "execution_count": null,
      "outputs": [
        {
          "output_type": "stream",
          "name": "stdout",
          "text": [
            "+----+----------------------------+--------+--------+-----------------------+----------+\n",
            "|    | Init                       |   user |   Time | service_title         |   subcat |\n",
            "|----+----------------------------+--------+--------+-----------------------+----------|\n",
            "|  0 | 2018-11-14 09:35:52.006000 |  60816 |     22 | تعمیرات-موبایل-و-تبلت |       71 |\n",
            "|  1 | 2021-12-27 18:42:54.770000 |  60816 |     72 | تربیت-سگ              |       33 |\n",
            "|  2 | 2022-05-26 09:01:36.474000 |  60816 |     78 | تعمیر-مبل             |        4 |\n",
            "+----+----------------------------+--------+--------+-----------------------+----------+\n",
            "1/1 [==============================] - 0s 20ms/step\n",
            "['نصب-پوستر-سه-بعدی']\n",
            "['اجرای-پله-استیل']\n",
            "['کابل-کشی-داکت-کشی-و-نصب-ترانکینگ']\n",
            "['نصب-و-تعمیر-موتور-برق']\n",
            "['ساخت-در-و-پنجره-upvc']\n",
            "['عیب-یابی-و-تعمیرات-سخت-افزار']\n",
            "['ایزوگام']\n",
            "['نصب-راه-اندازی-و-نگهداری-UPS']\n",
            "['ساخت-در-و-پنجره-آهنی']\n",
            "['تعمیر-تلفن']\n",
            "-------------------------------------- Method 2:\n",
            "['تعمیر-تلفن' 'سیم-کشی-تلفن' 'نصب-و-تعمیر-آنتن-تلویزیون'\n",
            " 'نصب-و-تعمیر-آنتن-دیجیتال' 'نصب-و-تعمیر-موتور-برق'\n",
            " 'تعمیر-و-سرویس-آسانسور' 'گل-آرایی-باغ-و-تالار-عروسی' 'نصب-پوستر-سه-بعدی'\n",
            " 'تعمیر-صندلی-اداری' 'اجرای-پله-استیل']\n"
          ]
        }
      ]
    },
    {
      "cell_type": "code",
      "source": [
        "ppredict(60818)"
      ],
      "metadata": {
        "colab": {
          "base_uri": "https://localhost:8080/"
        },
        "id": "2oA39apP6WMr",
        "outputId": "a99ee4c1-2a98-4f23-a138-671ee27b6ed6"
      },
      "execution_count": null,
      "outputs": [
        {
          "output_type": "stream",
          "name": "stdout",
          "text": [
            "+----+----------------------------+--------+--------+-----------------------+----------+\n",
            "|    | Init                       |   user |   Time | service_title         |   subcat |\n",
            "|----+----------------------------+--------+--------+-----------------------+----------|\n",
            "|  0 | 2018-11-14 09:42:31.679000 |  60818 |     22 | تعمیرات-موبایل-و-تبلت |       71 |\n",
            "|  1 | 2018-11-16 12:32:22.530000 |  60818 |     23 | تعمیرات-موبایل-و-تبلت |       71 |\n",
            "|  2 | 2018-11-27 15:21:55.131000 |  60818 |     23 | تعمیرات-موبایل-و-تبلت |       71 |\n",
            "|  3 | 2018-12-01 09:26:34.923000 |  60818 |     23 | تعمیرات-موبایل-و-تبلت |       71 |\n",
            "+----+----------------------------+--------+--------+-----------------------+----------+\n",
            "1/1 [==============================] - 0s 21ms/step\n",
            "['نصب-پوستر-سه-بعدی']\n",
            "['اجرای-پله-استیل']\n",
            "['کابل-کشی-داکت-کشی-و-نصب-ترانکینگ']\n",
            "['نصب-و-تعمیر-موتور-برق']\n",
            "['ساخت-در-و-پنجره-upvc']\n",
            "['عیب-یابی-و-تعمیرات-سخت-افزار']\n",
            "['ایزوگام']\n",
            "['ساخت-در-و-پنجره-آهنی']\n",
            "['لوله-کشی-فاضلاب']\n",
            "['لوله-کشی-فاضلاب']\n",
            "-------------------------------------- Method 2:\n",
            "['ساخت-در-و-پنجره-آهنی' 'لوله-کشی-فاضلاب' 'سیم-کشی-ساختمان'\n",
            " 'طراحی-و-نصب-روشنایی' 'نصب-آیفون-تصویری' 'تعمیر-آیفون-تصویری-و-صوتی'\n",
            " 'تعمیرات-و-نصب-تلفن-سانترال' 'کلید-سازی' 'کپی-ریموت'\n",
            " 'ساخت-در-و-پنجره-آلومینیومی']\n"
          ]
        }
      ]
    }
  ]
}