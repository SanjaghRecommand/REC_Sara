{
 "cells": [
  {
   "cell_type": "code",
   "execution_count": 1,
   "id": "1e0d439b-164f-4dc4-b06f-63ad1754e07c",
   "metadata": {
    "tags": []
   },
   "outputs": [],
   "source": [
    "import pandas as pd\n",
    "from sklearn.cluster import KMeans\n",
    "import matplotlib.pyplot as plt\n",
    "import numpy as np"
   ]
  },
  {
   "cell_type": "code",
   "execution_count": 2,
   "id": "1f5c0730-c9b4-4748-878d-ab5c22744870",
   "metadata": {
    "tags": []
   },
   "outputs": [
    {
     "data": {
      "text/html": [
       "<div>\n",
       "<style scoped>\n",
       "    .dataframe tbody tr th:only-of-type {\n",
       "        vertical-align: middle;\n",
       "    }\n",
       "\n",
       "    .dataframe tbody tr th {\n",
       "        vertical-align: top;\n",
       "    }\n",
       "\n",
       "    .dataframe thead th {\n",
       "        text-align: right;\n",
       "    }\n",
       "</style>\n",
       "<table border=\"1\" class=\"dataframe\">\n",
       "  <thead>\n",
       "    <tr style=\"text-align: right;\">\n",
       "      <th></th>\n",
       "      <th>Unnamed: 0</th>\n",
       "      <th>user</th>\n",
       "      <th>service</th>\n",
       "      <th>count</th>\n",
       "      <th>subcat</th>\n",
       "      <th>gender</th>\n",
       "    </tr>\n",
       "  </thead>\n",
       "  <tbody>\n",
       "    <tr>\n",
       "      <th>0</th>\n",
       "      <td>0</td>\n",
       "      <td>3646</td>\n",
       "      <td>92</td>\n",
       "      <td>127</td>\n",
       "      <td>15</td>\n",
       "      <td>1</td>\n",
       "    </tr>\n",
       "    <tr>\n",
       "      <th>1</th>\n",
       "      <td>1</td>\n",
       "      <td>3646</td>\n",
       "      <td>94</td>\n",
       "      <td>18</td>\n",
       "      <td>15</td>\n",
       "      <td>1</td>\n",
       "    </tr>\n",
       "    <tr>\n",
       "      <th>2</th>\n",
       "      <td>2</td>\n",
       "      <td>3646</td>\n",
       "      <td>93</td>\n",
       "      <td>19</td>\n",
       "      <td>15</td>\n",
       "      <td>1</td>\n",
       "    </tr>\n",
       "    <tr>\n",
       "      <th>3</th>\n",
       "      <td>3</td>\n",
       "      <td>3646</td>\n",
       "      <td>95</td>\n",
       "      <td>2</td>\n",
       "      <td>17</td>\n",
       "      <td>1</td>\n",
       "    </tr>\n",
       "    <tr>\n",
       "      <th>4</th>\n",
       "      <td>4</td>\n",
       "      <td>3646</td>\n",
       "      <td>114</td>\n",
       "      <td>1</td>\n",
       "      <td>15</td>\n",
       "      <td>1</td>\n",
       "    </tr>\n",
       "  </tbody>\n",
       "</table>\n",
       "</div>"
      ],
      "text/plain": [
       "   Unnamed: 0  user  service  count  subcat  gender\n",
       "0           0  3646       92    127      15       1\n",
       "1           1  3646       94     18      15       1\n",
       "2           2  3646       93     19      15       1\n",
       "3           3  3646       95      2      17       1\n",
       "4           4  3646      114      1      15       1"
      ]
     },
     "execution_count": 2,
     "metadata": {},
     "output_type": "execute_result"
    }
   ],
   "source": [
    "df=pd.read_csv('dfn3share.csv')\n",
    "df.head()"
   ]
  },
  {
   "cell_type": "code",
   "execution_count": 3,
   "id": "17a679e0-dcf7-4e9d-8daf-c4fe485668ed",
   "metadata": {
    "tags": []
   },
   "outputs": [],
   "source": [
    "features = ['user', 'service', 'count']"
   ]
  },
  {
   "cell_type": "code",
   "execution_count": 4,
   "id": "3bfa7e5a-81cc-4dff-8d54-d50e507c9455",
   "metadata": {
    "tags": []
   },
   "outputs": [],
   "source": [
    "inertia = []\n",
    "for cl_num in range(1 , 10):\n",
    "    km = KMeans(n_clusters = cl_num, max_iter=100, n_init='auto', random_state= 100)\n",
    "    km.fit(df)\n",
    "    inertia.append(km.inertia_)\n"
   ]
  },
  {
   "cell_type": "code",
   "execution_count": 5,
   "id": "d4bc8a82-c53a-40b5-b278-951ff5278268",
   "metadata": {
    "tags": []
   },
   "outputs": [
    {
     "data": {
      "text/plain": [
       "(Text(0.5, 0, 'Number of Clusters'), Text(0, 0.5, 'Inertia'))"
      ]
     },
     "execution_count": 5,
     "metadata": {},
     "output_type": "execute_result"
    },
    {
     "data": {
      "image/png": "[encoded data removed]",
      "text/plain": [
       "<Figure size 500x200 with 1 Axes>"
      ]
     },
     "metadata": {},
     "output_type": "display_data"
    }
   ],
   "source": [
    "fig = plt.figure(figsize=(5, 2))\n",
    "\n",
    "plt.plot(np.arange(1 , 10) , inertia , 'o')\n",
    "plt.plot(np.arange(1 , 10) , inertia , '-')\n",
    "plt.xlabel('Number of Clusters') , plt.ylabel('Inertia')"
   ]
  },
  {
   "cell_type": "code",
   "execution_count": 6,
   "id": "91aeb476-8c3e-4483-912a-f05c930c8699",
   "metadata": {
    "tags": []
   },
   "outputs": [],
   "source": [
    "# Create a subset of the data with only the selected features\n",
    "subset = df[features]\n",
    "# Normalize the data\n",
    "normalized_data = (subset - subset.mean()) / subset.std()"
   ]
  },
  {
   "cell_type": "code",
   "execution_count": 7,
   "id": "09081a0a-e6fe-451b-83da-c0e23711e321",
   "metadata": {
    "tags": []
   },
   "outputs": [
    {
     "name": "stderr",
     "output_type": "stream",
     "text": [
      "/home/sara/.local/lib/python3.10/site-packages/sklearn/cluster/_kmeans.py:870: FutureWarning: The default value of `n_init` will change from 10 to 'auto' in 1.4. Set the value of `n_init` explicitly to suppress the warning\n",
      "  warnings.warn(\n"
     ]
    }
   ],
   "source": [
    "num_clusters=5\n",
    "kmeans = KMeans(n_clusters=num_clusters)\n",
    "kmeans.fit(normalized_data)\n",
    "# Get the cluster assignments for each user\n",
    "cluster_assignments = kmeans.predict(normalized_data)\n",
    "\n",
    "\n"
   ]
  },
  {
   "cell_type": "code",
   "execution_count": 8,
   "id": "4fda2139-b984-4434-ada4-f3539b9f6ce8",
   "metadata": {
    "tags": []
   },
   "outputs": [
    {
     "data": {
      "text/html": [
       "<div>\n",
       "<style scoped>\n",
       "    .dataframe tbody tr th:only-of-type {\n",
       "        vertical-align: middle;\n",
       "    }\n",
       "\n",
       "    .dataframe tbody tr th {\n",
       "        vertical-align: top;\n",
       "    }\n",
       "\n",
       "    .dataframe thead th {\n",
       "        text-align: right;\n",
       "    }\n",
       "</style>\n",
       "<table border=\"1\" class=\"dataframe\">\n",
       "  <thead>\n",
       "    <tr style=\"text-align: right;\">\n",
       "      <th></th>\n",
       "      <th>Unnamed: 0</th>\n",
       "      <th>user</th>\n",
       "      <th>service</th>\n",
       "      <th>count</th>\n",
       "      <th>subcat</th>\n",
       "      <th>gender</th>\n",
       "      <th>cluster</th>\n",
       "    </tr>\n",
       "  </thead>\n",
       "  <tbody>\n",
       "    <tr>\n",
       "      <th>0</th>\n",
       "      <td>0</td>\n",
       "      <td>3646</td>\n",
       "      <td>92</td>\n",
       "      <td>127</td>\n",
       "      <td>15</td>\n",
       "      <td>1</td>\n",
       "      <td>3</td>\n",
       "    </tr>\n",
       "    <tr>\n",
       "      <th>1</th>\n",
       "      <td>1</td>\n",
       "      <td>3646</td>\n",
       "      <td>94</td>\n",
       "      <td>18</td>\n",
       "      <td>15</td>\n",
       "      <td>1</td>\n",
       "      <td>3</td>\n",
       "    </tr>\n",
       "    <tr>\n",
       "      <th>2</th>\n",
       "      <td>2</td>\n",
       "      <td>3646</td>\n",
       "      <td>93</td>\n",
       "      <td>19</td>\n",
       "      <td>15</td>\n",
       "      <td>1</td>\n",
       "      <td>3</td>\n",
       "    </tr>\n",
       "    <tr>\n",
       "      <th>3</th>\n",
       "      <td>3</td>\n",
       "      <td>3646</td>\n",
       "      <td>95</td>\n",
       "      <td>2</td>\n",
       "      <td>17</td>\n",
       "      <td>1</td>\n",
       "      <td>0</td>\n",
       "    </tr>\n",
       "    <tr>\n",
       "      <th>4</th>\n",
       "      <td>4</td>\n",
       "      <td>3646</td>\n",
       "      <td>114</td>\n",
       "      <td>1</td>\n",
       "      <td>15</td>\n",
       "      <td>1</td>\n",
       "      <td>0</td>\n",
       "    </tr>\n",
       "  </tbody>\n",
       "</table>\n",
       "</div>"
      ],
      "text/plain": [
       "   Unnamed: 0  user  service  count  subcat  gender  cluster\n",
       "0           0  3646       92    127      15       1        3\n",
       "1           1  3646       94     18      15       1        3\n",
       "2           2  3646       93     19      15       1        3\n",
       "3           3  3646       95      2      17       1        0\n",
       "4           4  3646      114      1      15       1        0"
      ]
     },
     "execution_count": 8,
     "metadata": {},
     "output_type": "execute_result"
    }
   ],
   "source": [
    "# Assign each user to a cluster in the original DataFrame\n",
    "df['cluster'] = cluster_assignments\n",
    "df.head()"
   ]
  },
  {
   "cell_type": "code",
   "execution_count": 11,
   "id": "33153834-1a4e-4e85-8fc3-cdd2643c4c9d",
   "metadata": {
    "tags": []
   },
   "outputs": [
    {
     "name": "stdout",
     "output_type": "stream",
     "text": [
      "[  3646  78178 469578 433936 134337]\n"
     ]
    }
   ],
   "source": [
    "# Find similar users to a given user\n",
    "user_id = 690214\n",
    "user_cluster = df.loc[df['user'] == user_id, 'cluster'].iloc[0]\n",
    "similar_users = df.loc[df['cluster'] == user_cluster, 'user'].unique()\n",
    "similar_users = similar_users[similar_users != user_id][:5] # Exclude the given user and select 5 similar users\n",
    "\n",
    "# Print the similar users\n",
    "print(similar_users)"
   ]
  },
  {
   "cell_type": "code",
   "execution_count": 17,
   "id": "2ce39a37-9ff4-4f16-a6d3-d11de10fad25",
   "metadata": {
    "tags": []
   },
   "outputs": [
    {
     "name": "stdout",
     "output_type": "stream",
     "text": [
      "[92 94 93 96 20]\n"
     ]
    }
   ],
   "source": [
    "# Find similar services for each users \n",
    "user_id = 3646\n",
    "user_cluster = df.loc[df['user'] == user_id, 'cluster'].iloc[0]\n",
    "similar_users = df.loc[df['cluster'] == user_cluster, 'service'].unique()\n",
    "similar_users = similar_users[similar_users != user_id][:5] # Exclude the given user and select 5 similar users\n",
    "\n",
    "# Print the similar users\n",
    "print(similar_users)"
   ]
  },
  {
   "cell_type": "code",
   "execution_count": 15,
   "id": "6550f2a7-af59-4647-8aad-5cf66a606c0a",
   "metadata": {
    "tags": []
   },
   "outputs": [],
   "source": [
    "k = 5\n",
    "km_cluster = KMeans(n_clusters = k , n_init = 'auto',max_iter=200, random_state= 120)\n",
    "km_cluster.fit(df)\n",
    "labels = km_cluster.labels_\n",
    "centroids = km_cluster.cluster_centers_"
   ]
  },
  {
   "cell_type": "code",
   "execution_count": 16,
   "id": "4fdb18ad-2f74-465e-9c55-4441f0c4e493",
   "metadata": {
    "tags": []
   },
   "outputs": [
    {
     "data": {
      "text/plain": [
       "0.829366699414569"
      ]
     },
     "execution_count": 16,
     "metadata": {},
     "output_type": "execute_result"
    }
   ],
   "source": [
    "from sklearn.metrics import davies_bouldin_score\n",
    "davies_bouldin_score(df, labels)"
   ]
  },
  {
   "cell_type": "code",
   "execution_count": null,
   "id": "b430a102-e2e6-4293-b0d6-b9201df7b05f",
   "metadata": {},
   "outputs": [],
   "source": []
  }
 ],
 "metadata": {
  "kernelspec": {
   "display_name": "Python 3 (ipykernel)",
   "language": "python",
   "name": "python3"
  },
  "language_info": {
   "codemirror_mode": {
    "name": "ipython",
    "version": 3
   },
   "file_extension": ".py",
   "mimetype": "text/x-python",
   "name": "python",
   "nbconvert_exporter": "python",
   "pygments_lexer": "ipython3",
   "version": "3.10.6"
  }
 },
 "nbformat": 4,
 "nbformat_minor": 5
}
