{
  "cells": [
    {
      "cell_type": "markdown",
      "metadata": {
        "id": "view-in-github",
        "colab_type": "text"
      },
      "source": [
        "<a href=\"https://colab.research.google.com/github/SanjaghRecommand/Recommend/blob/Foad/RNN.ipynb\" target=\"_parent\"><img src=\"https://colab.research.google.com/assets/colab-badge.svg\" alt=\"Open In Colab\"/></a>"
      ]
    },
    {
      "cell_type": "code",
      "execution_count": 1,
      "metadata": {
        "id": "aloFGCILu23N"
      },
      "outputs": [],
      "source": [
        "import numpy as np\n",
        "from keras.models import Sequential\n",
        "from keras.layers import Dense, LSTM\n",
        "import pandas as pd\n",
        "import tensorflow as tf\n",
        "import torch\n",
        "import pickle\n",
        "from tabulate import tabulate\n"
      ]
    },
    {
      "cell_type": "code",
      "execution_count": 2,
      "metadata": {
        "id": "8rF4Ia3zu20S"
      },
      "outputs": [],
      "source": [
        "df = pd.read_csv ('/content/drive/MyDrive/Colab Notebooks/sanjaghshare/data/taskfullshare.csv')\n",
        "df.drop(columns=['Unnamed: 0'], inplace=True)\n",
        "# df2=df.sort_values('user').iloc[0:20000,]"
      ]
    },
    {
      "cell_type": "code",
      "execution_count": 3,
      "metadata": {
        "id": "oBb-qrStu2xg"
      },
      "outputs": [],
      "source": [
        "mininit= df.Init.min()\n",
        "df['time']=df.Init.apply(lambda x: round((x- mininit)/2000000000))\n",
        "df.drop(columns='Init', inplace=True)\n",
        "df= df[df['user'] >5 ]\n",
        "df3=df\n"
      ]
    },
    {
      "cell_type": "code",
      "execution_count": 100,
      "metadata": {
        "id": "2b-5N2qP9zhh"
      },
      "outputs": [],
      "source": [
        "max_len= 10 # len(tf.keras.utils.pad_sequences(seqservice)[0])\n",
        "item_vocab_size= 588"
      ]
    },
    {
      "cell_type": "code",
      "execution_count": null,
      "metadata": {
        "id": "y7qfEk8FceCm"
      },
      "outputs": [],
      "source": [
        "seqservice , seqtime ,seqtarget  =[] ,[] ,[] \n",
        "\n",
        "for user in df.user.unique():\n",
        "  user_data = df[df['user'] == user].sort_values('time')\n",
        "  seqservice.append(user_data.service.values.tolist()[0:-1])\n",
        "  seqtime.append(user_data.time.values.tolist()[0:-1])\n",
        "  seqtarget.append(user_data.time.values.tolist()[1:])\n",
        "\n",
        "  # print(user_data)\n",
        "  # break\n",
        "train_dict = dict(zip(['item_id', 'nb_days', 'target'],[tf.keras.utils.pad_sequences(seqservice, maxlen=max_len), tf.keras.utils.pad_sequences(seqtime, maxlen=max_len), tf.keras.utils.pad_sequences(seqtarget, maxlen=max_len)]))\n",
        "# save dictionary to person_data.pkl file\n",
        "with open('/content/drive/MyDrive/Colab Notebooks/sanjaghshare/data/train_dict10.pkl', 'wb') as fp:\n",
        "    pickle.dump(train_dict, fp)\n",
        "    print('dictionary saved successfully to file')"
      ]
    },
    {
      "cell_type": "code",
      "execution_count": 4,
      "metadata": {
        "colab": {
          "base_uri": "https://localhost:8080/"
        },
        "id": "5ZDyAbzk2UWn",
        "outputId": "f2140e53-67ee-4c81-ce0f-cf353f523c3a"
      },
      "outputs": [
        {
          "output_type": "stream",
          "name": "stdout",
          "text": [
            " dictionary loaded\n"
          ]
        }
      ],
      "source": [
        "with open('/content/drive/MyDrive/Colab Notebooks/sanjaghshare/data/train_dict.pkl', 'rb') as fp:\n",
        "    train_dict = pickle.load(fp)\n",
        "    print(' dictionary loaded')\n"
      ]
    },
    {
      "cell_type": "code",
      "execution_count": 5,
      "metadata": {
        "id": "qOMwG1L98PU9"
      },
      "outputs": [],
      "source": [
        "#@title Create_train\n",
        "def create_train_tfdata(train_feat_dict, train_target_tensor,    batch_size, buffer_size=None):\n",
        "    \"\"\"\n",
        "    Create train tf dataset for model train input\n",
        "    :param train_feat_dict: dict, containing the features tensors for train data\n",
        "    :param train_target_tensor: np.array(), the training TARGET tensor\n",
        "    :param batch_size: (int) size of the batch to work with\n",
        "    :param buffer_size: (int) Optional. Default is None. Size of the buffer\n",
        "    :return: (tuple) 1st element is the training dataset,\n",
        "                     2nd is the number of steps per epoch (based on batch size)\n",
        "    \"\"\"\n",
        "    if buffer_size is None:\n",
        "        buffer_size = batch_size*50\n",
        "\n",
        "    train_steps_per_epoch = len(train_target_tensor) // batch_size\n",
        "    train_dataset = tf.data.Dataset.from_tensor_slices((train_feat_dict,train_target_tensor)).cache()\n",
        "    train_dataset = train_dataset.shuffle(buffer_size).batch(batch_size)\n",
        "    train_dataset = train_dataset.repeat().prefetch(tf.data.experimental.AUTOTUNE)\n",
        "    \n",
        "    return train_dataset, train_steps_per_epoch\n",
        "  \n",
        "train_feat_dict = {'item_id': train_dict['item_id'],'nb_days': train_dict['nb_days']}\n",
        "train_target_tensor = train_dict['target'] \n",
        "train_dataset, train_steps_per_epoch = create_train_tfdata(train_feat_dict,  train_target_tensor, batch_size=512)\n",
        "  "
      ]
    },
    {
      "cell_type": "code",
      "execution_count": null,
      "metadata": {
        "id": "_RDC45v_8QSc",
        "cellView": "form"
      },
      "outputs": [],
      "source": [
        "#@title BuildModel\n",
        "def build_model(max_len, item_vocab_size):\n",
        "    \"\"\"\n",
        "    Build a model given the hyper-parameters with item and nb_days input features\n",
        "    :param hp: (kt.HyperParameters) hyper-parameters to use when building this model\n",
        "    :return: built and compiled tensorflow model \n",
        "    \"\"\"\n",
        "    inputs = {}\n",
        "    inputs['item_id'] = tf.keras.Input(batch_input_shape=[None, max_len],   name='item_id', dtype=tf.int32)\n",
        "    # create encoding padding mask\n",
        "    encoding_padding_mask = tf.math.logical_not(tf.math.equal(inputs['item_id'], 0))\n",
        "\n",
        "    # nb_days bucketized\n",
        "    inputs['nb_days'] = tf.keras.Input(batch_input_shape=[None, max_len],  name='nb_days', dtype=tf.int32)\n",
        "\n",
        "    # Pass categorical input through embedding layer\n",
        "    # with size equals to tokenizer vocabulary size\n",
        "    # Remember that vocab_size is len of item tokenizer + 1\n",
        "    # (for the padding '0' value)\n",
        "    \n",
        "    embedding_item = tf.keras.layers.Embedding(input_dim=item_vocab_size,\n",
        "                                               output_dim=16,\n",
        "                                               name='embedding_item'\n",
        "                                              )(inputs['item_id'])\n",
        "    # nbins=100, +1 for zero padding\n",
        "    embedding_nb_days = tf.keras.layers.Embedding(input_dim=100 + 1,\n",
        "                                                  output_dim=100,\n",
        "                                                  name='embedding_nb_days'\n",
        "                                                 )(inputs['nb_days'])\n",
        "\n",
        "    #  Concatenate embedding layers\n",
        "    concat_embedding_input = tf.keras.layers.Concatenate(\n",
        "     name='concat_embedding_input')([embedding_item, embedding_nb_days])\n",
        "\n",
        "    concat_embedding_input = tf.keras.layers.BatchNormalization(\n",
        "     name='batchnorm_inputs')(concat_embedding_input)\n",
        "    \n",
        "    # LSTM layer\n",
        "    rnn = tf.keras.layers.LSTM(units=100,\n",
        "                                   return_sequences=True,\n",
        "                                   stateful=False,\n",
        "                                   recurrent_initializer='glorot_normal',\n",
        "                                   name='LSTM_cat'\n",
        "                                   )(concat_embedding_input)\n",
        "\n",
        "    rnn = tf.keras.layers.BatchNormalization(name='batchnorm_lstm')(rnn)\n",
        "\n",
        "    # Self attention so key=value in inputs\n",
        "    att = tf.keras.layers.Attention(use_scale=False, causal=True,\n",
        "                                    name='attention')(inputs=[rnn, rnn],\n",
        "                                                      mask=[encoding_padding_mask,\n",
        "                                                            encoding_padding_mask])\n",
        "\n",
        "    # Last layer is a fully connected one\n",
        "    x = tf.keras.layers.Dense(item_vocab_size*2)(att)\n",
        "    # x = tf.keras.layers.Dense(32)(x)\n",
        "    output = tf.keras.layers.Dense(item_vocab_size, name='output')(x) #item_vocab_size\n",
        "\n",
        "    model = tf.keras.Model(inputs, output)\n",
        "\n",
        "    model.compile(\n",
        "        optimizer=tf.keras.optimizers.Adam(0.005),\n",
        "        loss=loss_function,\n",
        "        metrics=['sparse_categorical_accuracy'])\n",
        "    \n",
        "    return model"
      ]
    },
    {
      "cell_type": "code",
      "execution_count": 6,
      "metadata": {
        "id": "2nKSijmm9OOn"
      },
      "outputs": [],
      "source": [
        "#@title BuildModelHP\n",
        "def build_modelhp(max_len, item_vocab_size , embedding_item , embedding_nb_days , rnn_units_cat , learning_rate):\n",
        "    \"\"\"\n",
        "    Build a model given the hyper-parameters with item and nb_days input features\n",
        "    :param hp: (kt.HyperParameters) hyper-parameters to use when building this model\n",
        "    :return: built and compiled tensorflow model \n",
        "    \"\"\"\n",
        "    inputs = {}\n",
        "    inputs['item_id'] = tf.keras.Input(batch_input_shape=[None, max_len],\n",
        "                                       name='item_id', dtype=tf.int32)\n",
        "    # create encoding padding mask\n",
        "    encoding_padding_mask = tf.math.logical_not(tf.math.equal(inputs['item_id'], 0))\n",
        "\n",
        "    # nb_days bucketized\n",
        "    inputs['nb_days'] = tf.keras.Input(batch_input_shape=[None, max_len],\n",
        "                                       name='nb_days', dtype=tf.int32)\n",
        "\n",
        "    # Pass categorical input through embedding layer\n",
        "    # with size equals to tokenizer vocabulary size\n",
        "    # Remember that vocab_size is len of item tokenizer + 1\n",
        "    # (for the padding '0' value)\n",
        "    \n",
        "    embedding_item = tf.keras.layers.Embedding(input_dim=item_vocab_size,\n",
        "                                               output_dim=embedding_item,\n",
        "                                               name='embedding_item'\n",
        "                                              )(inputs['item_id'])\n",
        "    # nbins=100, +1 for zero padding\n",
        "    embedding_nb_days = tf.keras.layers.Embedding(input_dim=100 + 1,\n",
        "                                                  output_dim=embedding_nb_days,\n",
        "                                                  name='embedding_nb_days'\n",
        "                                                 )(inputs['nb_days'])\n",
        "\n",
        "    #  Concatenate embedding layers\n",
        "    concat_embedding_input = tf.keras.layers.Concatenate(\n",
        "     name='concat_embedding_input')([embedding_item, embedding_nb_days])\n",
        "\n",
        "    concat_embedding_input = tf.keras.layers.BatchNormalization( name='batchnorm_inputs')(concat_embedding_input)\n",
        "    \n",
        "    # LSTM layer\n",
        "    rnn = tf.keras.layers.LSTM(units=rnn_units_cat, return_sequences=True,  stateful=False,recurrent_initializer='glorot_normal', name='LSTM_cat')(concat_embedding_input)\n",
        "\n",
        "    rnn = tf.keras.layers.BatchNormalization(name='batchnorm_lstm')(rnn)\n",
        "\n",
        "    # Self attention so key=value in inputs\n",
        "    att = tf.keras.layers.Attention(use_scale=False, causal=True,\n",
        "                                    name='attention')(inputs=[rnn, rnn],\n",
        "                                                      mask=[encoding_padding_mask,\n",
        "                                                            encoding_padding_mask])\n",
        "\n",
        "    # Last layer is a fully connected one\n",
        "    output = tf.keras.layers.Dense(item_vocab_size, name='output')(att)\n",
        "\n",
        "    model = tf.keras.Model(inputs, output)\n",
        "    model.compile( optimizer=tf.keras.optimizers.Adam(learning_rate),   loss=loss_function, metrics=['sparse_categorical_accuracy'])\n",
        "    \n",
        "    return model"
      ]
    },
    {
      "cell_type": "code",
      "execution_count": 7,
      "metadata": {
        "id": "DBToDaQiJ6-X",
        "cellView": "form"
      },
      "outputs": [],
      "source": [
        "#@title LossFun\n",
        "def loss_function(real, pred):\n",
        "    \"\"\"\n",
        "    We redefine our own loss function in order to get rid of the '0' value\n",
        "    which is the one used for padding. This to avoid that the model optimize itself\n",
        "    by predicting this value because it is the padding one.\n",
        "    \n",
        "    :param real: the truth\n",
        "    :param pred: predictions\n",
        "    :return: a masked loss where '0' in real (due to padding)\n",
        "                are not taken into account for the evaluation\n",
        "    \"\"\"\n",
        "\n",
        "    # to check that pred is numric and not nan\n",
        "    mask = tf.math.logical_not(tf.math.equal(real, 0))\n",
        "    loss_object_ = tf.keras.losses.SparseCategoricalCrossentropy(from_logits=True,\n",
        "                                                                 reduction='none')\n",
        "    loss_ = loss_object_(real, pred)\n",
        "    mask = tf.cast(mask, dtype=loss_.dtype)\n",
        "    loss_ *= mask\n",
        "\n",
        "    return tf.reduce_mean(loss_)"
      ]
    },
    {
      "cell_type": "code",
      "execution_count": 8,
      "metadata": {
        "id": "P2uZ6TtiJ-v0"
      },
      "outputs": [],
      "source": [
        "#@title FitModel\n",
        "def fit_model(model, train_dataset, steps_per_epoch, epochs):\n",
        "    \"\"\"\n",
        "    Fit the Keras model on the training dataset for a number of given epochs\n",
        "    :param model: tf model to be trained\n",
        "    :param train_dataset: (tf.data.Dataset object) the training dataset\n",
        "                          used to fit the model\n",
        "    :param steps_per_epoch: (int) Total number of steps (batches of samples) before \n",
        "                            declaring one epoch finished and starting the next epoch.\n",
        "    :param epochs: (int) the number of epochs for the fitting phase\n",
        "    :return: tuple (mirrored_model, history) with trained model and model history\n",
        "    \"\"\"\n",
        "        # mirrored_strategy allows to use multi GPUs when available\n",
        "    mirrored_strategy = tf.distribute.experimental.MultiWorkerMirroredStrategy(\n",
        "        tf.distribute.experimental.CollectiveCommunication.AUTO)\n",
        "    \n",
        "    with mirrored_strategy.scope():\n",
        "        mirrored_model = model\n",
        "\n",
        "    history = mirrored_model.fit(train_dataset,  steps_per_epoch=steps_per_epoch,     epochs=epochs, verbose=2)\n",
        "\n",
        "    return mirrored_model, history"
      ]
    },
    {
      "cell_type": "code",
      "execution_count": null,
      "metadata": {
        "id": "nhJjpIkW95b3",
        "cellView": "form"
      },
      "outputs": [],
      "source": [
        "#@title TrainHP\n",
        "from kerastuner.tuners import RandomSearch\n",
        "\n",
        "# create a tuner object and define the hyperparameter search space\n",
        "tuner = RandomSearch(\n",
        "    build_modelhp,\n",
        "    objective='val_loss',\n",
        "    max_trials=10,\n",
        "    directory='my_dir',\n",
        "    project_name='my_project',\n",
        "    hyperparameters={\n",
        "        'max_len': [3,5,10],\n",
        "        'item_vocab_size':600,\n",
        "        'embedding_item': [16, 32, 64],\n",
        "        'embedding_nb_days': [32, 64, 128],\n",
        "        'rnn_units_cat': [32, 64, 128],       \n",
        "        'learning_rate': [0.2, 0.3, 0.4]\n",
        "    })\n",
        "\n",
        "# prepare the training and validation data\n",
        "...\n",
        "\n",
        "# start the hyperparameter search\n",
        "tuner.search(train_dataset, epochs=10)\n",
        "\n",
        "# fit_model(model, train_dataset, steps_per_epoch, epochs)\n",
        "# print the best hyperparameters found\n",
        "best_hyperparams = tuner.get_best_hyperparameters()[0].values\n",
        "print(\"Best Hyperparameters:\", best_hyperparams)\n"
      ]
    },
    {
      "cell_type": "code",
      "execution_count": 99,
      "metadata": {
        "id": "sYkOrcErKBst",
        "colab": {
          "base_uri": "https://localhost:8080/"
        },
        "outputId": "048440e6-b03e-42bc-e178-d85990fefbd4"
      },
      "outputs": [
        {
          "output_type": "stream",
          "name": "stderr",
          "text": [
            "WARNING:absl:`causal` argument is deprecated. Please use `use_causal_mask` in call() method to specify causal masking.\n",
            "WARNING:tensorflow:Collective ops is not configured at program startup. Some performance features may not be enabled.\n"
          ]
        },
        {
          "output_type": "stream",
          "name": "stdout",
          "text": [
            "Epoch 1/18\n",
            "50/50 - 11s - loss: 1.5668 - sparse_categorical_accuracy: 0.3315 - 11s/epoch - 220ms/step\n",
            "Epoch 2/18\n",
            "50/50 - 2s - loss: 1.2683 - sparse_categorical_accuracy: 0.4192 - 2s/epoch - 44ms/step\n",
            "Epoch 3/18\n",
            "50/50 - 1s - loss: 1.1932 - sparse_categorical_accuracy: 0.4396 - 1s/epoch - 23ms/step\n",
            "Epoch 4/18\n",
            "50/50 - 1s - loss: 1.1321 - sparse_categorical_accuracy: 0.4583 - 1s/epoch - 25ms/step\n",
            "Epoch 5/18\n",
            "50/50 - 1s - loss: 1.1050 - sparse_categorical_accuracy: 0.4695 - 1s/epoch - 27ms/step\n",
            "Epoch 6/18\n",
            "50/50 - 2s - loss: 1.0807 - sparse_categorical_accuracy: 0.4637 - 2s/epoch - 34ms/step\n",
            "Epoch 7/18\n",
            "50/50 - 2s - loss: 1.0096 - sparse_categorical_accuracy: 0.4806 - 2s/epoch - 49ms/step\n",
            "Epoch 8/18\n",
            "50/50 - 1s - loss: 0.9748 - sparse_categorical_accuracy: 0.4900 - 1s/epoch - 25ms/step\n",
            "Epoch 9/18\n",
            "50/50 - 1s - loss: 0.9278 - sparse_categorical_accuracy: 0.5216 - 1s/epoch - 23ms/step\n",
            "Epoch 10/18\n",
            "50/50 - 1s - loss: 0.8671 - sparse_categorical_accuracy: 0.5200 - 1s/epoch - 20ms/step\n",
            "Epoch 11/18\n",
            "50/50 - 1s - loss: 0.8314 - sparse_categorical_accuracy: 0.4912 - 870ms/epoch - 17ms/step\n",
            "Epoch 12/18\n",
            "50/50 - 1s - loss: 0.7515 - sparse_categorical_accuracy: 0.5352 - 861ms/epoch - 17ms/step\n",
            "Epoch 13/18\n",
            "50/50 - 1s - loss: 0.6897 - sparse_categorical_accuracy: 0.5678 - 1s/epoch - 20ms/step\n",
            "Epoch 14/18\n",
            "50/50 - 1s - loss: 0.6241 - sparse_categorical_accuracy: 0.5934 - 863ms/epoch - 17ms/step\n",
            "Epoch 15/18\n",
            "50/50 - 1s - loss: 0.5508 - sparse_categorical_accuracy: 0.6176 - 737ms/epoch - 15ms/step\n",
            "Epoch 16/18\n",
            "50/50 - 1s - loss: 0.3882 - sparse_categorical_accuracy: 0.7008 - 1s/epoch - 24ms/step\n",
            "Epoch 17/18\n",
            "50/50 - 1s - loss: 0.6995 - sparse_categorical_accuracy: 0.5652 - 1s/epoch - 21ms/step\n",
            "Epoch 18/18\n",
            "50/50 - 1s - loss: 1.2262 - sparse_categorical_accuracy: 0.4245 - 725ms/epoch - 15ms/step\n"
          ]
        },
        {
          "output_type": "execute_result",
          "data": {
            "text/plain": [
              "(<keras.engine.functional.Functional at 0x7f2ed05509d0>,\n",
              " <keras.callbacks.History at 0x7f2ed05af820>)"
            ]
          },
          "metadata": {},
          "execution_count": 99
        }
      ],
      "source": [
        "#@title Train\n",
        "\n",
        "hyperparameters={\n",
        "        'max_len': max_len,\n",
        "        'item_vocab_size':item_vocab_size,\n",
        "        'embedding_item': 16,\n",
        "        'embedding_nb_days': 16,\n",
        "        'rnn_units_cat': 128,       \n",
        "        'learning_rate': 0.008    }\n",
        "\n",
        "\n",
        "# model=build_model(max_len, item_vocab_size)\n",
        "model=build_modelhp(**hyperparameters)\n",
        "\n",
        "\n",
        "fit_model(model, train_dataset,50, 18)"
      ]
    },
    {
      "cell_type": "code",
      "execution_count": null,
      "metadata": {
        "colab": {
          "base_uri": "https://localhost:8080/"
        },
        "id": "0PpnWKj9OicC",
        "outputId": "4cc9c73d-4ce1-47aa-fefc-a8915a46eade"
      },
      "outputs": [
        {
          "name": "stderr",
          "output_type": "stream",
          "text": [
            "WARNING:absl:Found untraced functions such as lstm_cell_6_layer_call_fn, lstm_cell_6_layer_call_and_return_conditional_losses while saving (showing 2 of 2). These functions will not be directly callable after loading.\n"
          ]
        }
      ],
      "source": [
        "model.save(\"/content/drive/MyDrive/Colab Notebook/sanjagh/Recommand/savedmodels/modelRNN\")"
      ]
    },
    {
      "cell_type": "markdown",
      "metadata": {
        "id": "ntahA1AWdoIt"
      },
      "source": [
        "### Test"
      ]
    },
    {
      "cell_type": "code",
      "execution_count": 23,
      "metadata": {
        "id": "-V0jWcAX4Jun"
      },
      "outputs": [],
      "source": [
        "servicesdf = pd.read_csv ('/content/drive/MyDrive/Colab Notebooks/sanjagh/Recommand/data/servicesdf.csv', index_col='Unnamed: 0')\n"
      ]
    },
    {
      "cell_type": "code",
      "source": [
        "def ppredict(userno):\n",
        "  dftest= df[df.user==userno]\n",
        "  dfuserservice = pd.merge(dftest, servicesdf, on=\"service\")\n",
        "  dfuserservice.drop(columns='service', inplace= True)\n",
        "  print(tabulate(dfuserservice, headers='keys', tablefmt='psql'))\n",
        "\n",
        "\n",
        "  seqservicet , seqtimet ,seqtargett  =[] ,[] ,[] \n",
        "  for user in dftest.user.unique():\n",
        "    user_data = dftest[dftest['user'] == user].sort_values('time')\n",
        "    seqservicet.append(user_data.service.values.tolist()[0:-1])\n",
        "    seqtimet.append(user_data.time.values.tolist()[0:-1])\n",
        "    seqtargett.append(user_data.time.values.tolist()[1:])\n",
        "\n",
        "  test_dict = dict(zip(['item_id', 'nb_days', 'target'],[tf.keras.utils.pad_sequences(seqservicet , maxlen=5), tf.keras.utils.pad_sequences(seqtimet, maxlen=5), tf.keras.utils.pad_sequences(seqtargett, maxlen=5)]))\n",
        "  test_feat_dict = {'item_id': test_dict['item_id'],'nb_days': test_dict['nb_days']}\n",
        "  y=model.predict(test_feat_dict)\n",
        "  mmax=0\n",
        "  mmlist=[]\n",
        "  for i in range(max_len):\n",
        "    values= y[0][i].tolist()\n",
        "    while True:\n",
        "      if max(values) in mmlist: \n",
        "        values[values.index(max(values))]=0\n",
        "      else:      \n",
        "        break\n",
        "    mmax=max(values)\n",
        "    mmlist.append(mmax)\n",
        "    print(values.index(max(values)), servicesdf[servicesdf.service==values.index(max(values))].service_title.values)\n"
      ],
      "metadata": {
        "id": "SuK_wPnezAA1"
      },
      "execution_count": 83,
      "outputs": []
    },
    {
      "cell_type": "code",
      "source": [
        "ppredict(3345)"
      ],
      "metadata": {
        "colab": {
          "base_uri": "https://localhost:8080/"
        },
        "id": "tqBxbPoAtHOe",
        "outputId": "6b9df5b0-fe3e-40f2-cceb-721c6ed69650"
      },
      "execution_count": 81,
      "outputs": [
        {
          "output_type": "stream",
          "name": "stdout",
          "text": [
            "+----+--------+--------+-----------------------------------+----------+\n",
            "|    |   user |   time | service_title                     |   subcat |\n",
            "|----+--------+--------+-----------------------------------+----------|\n",
            "|  0 |   3345 |      8 | نصب-آیفون-تصویری                  |        1 |\n",
            "|  1 |   3345 |     56 | تعمیر-و-تعویض-ال-سی-دی-و-تاچ-گوشی |       71 |\n",
            "+----+--------+--------+-----------------------------------+----------+\n",
            "1/1 [==============================] - 0s 475ms/step\n",
            "['بازسازی-خانه']\n",
            "['ساخت-و-اجرای-نرده-استیل']\n",
            "['نصب-و-تعمیر-آنتن-دیجیتال']\n",
            "['نصب-ویندوز-و-نرم-افزار']\n",
            "['ساخت-و-اجرای-سقف-کاذب']\n"
          ]
        }
      ]
    },
    {
      "cell_type": "code",
      "source": [
        "ppredict(1111)"
      ],
      "metadata": {
        "colab": {
          "base_uri": "https://localhost:8080/"
        },
        "id": "k-1w7IULtav_",
        "outputId": "a3528e87-1fb5-43d4-e295-a3f62bde8b41"
      },
      "execution_count": 63,
      "outputs": [
        {
          "output_type": "stream",
          "name": "stdout",
          "text": [
            "+----+--------+--------+--------------------------+----------+\n",
            "|    |   user |   time | service_title            |   subcat |\n",
            "|----+--------+--------+--------------------------+----------|\n",
            "|  0 |   1111 |      5 | نصب-و-تعمیر-آنتن-دیجیتال |        1 |\n",
            "|  1 |   1111 |      5 | تعمیر-تلفن               |        1 |\n",
            "|  2 |   1111 |      5 | سرویس-و-تعمیر-کولر-آبی   |        0 |\n",
            "|  3 |   1111 |     91 | هایلایت-و-مش-مو-بانوان   |       68 |\n",
            "|  4 |   1111 |     91 | پاکسازی-صورت-بانوان      |       38 |\n",
            "+----+--------+--------+--------------------------+----------+\n",
            "1/1 [==============================] - 0s 21ms/step\n",
            "['سرویس-و-تعمیر-یخچال']\n",
            "['تعمیر-مبل']\n",
            "['تعمیر-مبل']\n",
            "['نظافت-منزل']\n",
            "['قفسه-های-صنعتی-و-فروشگاهی']\n"
          ]
        }
      ]
    },
    {
      "cell_type": "code",
      "source": [
        "ppredict(1111)"
      ],
      "metadata": {
        "colab": {
          "base_uri": "https://localhost:8080/"
        },
        "id": "9zGSnGBq6lwc",
        "outputId": "35bd502f-f665-483b-9d53-d3ee62f3956f"
      },
      "execution_count": 84,
      "outputs": [
        {
          "output_type": "stream",
          "name": "stdout",
          "text": [
            "+----+--------+--------+--------------------------+----------+\n",
            "|    |   user |   time | service_title            |   subcat |\n",
            "|----+--------+--------+--------------------------+----------|\n",
            "|  0 |   1111 |      5 | نصب-و-تعمیر-آنتن-دیجیتال |        1 |\n",
            "|  1 |   1111 |      5 | تعمیر-تلفن               |        1 |\n",
            "|  2 |   1111 |      5 | سرویس-و-تعمیر-کولر-آبی   |        0 |\n",
            "|  3 |   1111 |     91 | هایلایت-و-مش-مو-بانوان   |       68 |\n",
            "|  4 |   1111 |     91 | پاکسازی-صورت-بانوان      |       38 |\n",
            "+----+--------+--------+--------------------------+----------+\n",
            "1/1 [==============================] - 0s 21ms/step\n",
            "83 ['بازسازی-خانه']\n",
            "53 ['نصب-شیشه-سکوریت']\n",
            "53 ['نصب-شیشه-سکوریت']\n",
            "88 ['ساخت-و-اجرای-نرده-استیل']\n",
            "91 ['قفسه-های-صنعتی-و-فروشگاهی']\n"
          ]
        }
      ]
    },
    {
      "cell_type": "code",
      "source": [
        "ppredict(35)"
      ],
      "metadata": {
        "colab": {
          "base_uri": "https://localhost:8080/"
        },
        "id": "TEAueUSm3eTw",
        "outputId": "57bb86f3-969f-4b24-ab98-060cfa0c0013"
      },
      "execution_count": 64,
      "outputs": [
        {
          "output_type": "stream",
          "name": "stdout",
          "text": [
            "+----+--------+--------+-----------------+----------+\n",
            "|    |   user |   time | service_title   |   subcat |\n",
            "|----+--------+--------+-----------------+----------|\n",
            "|  0 |     35 |      1 | نقاشی-ساختمان   |       80 |\n",
            "|  1 |     35 |     55 | نصب-پارکت       |        9 |\n",
            "|  2 |     35 |     55 | شیشه-بری-و-آینه |        7 |\n",
            "+----+--------+--------+-----------------+----------+\n",
            "1/1 [==============================] - 0s 20ms/step\n",
            "['سرویس-و-تعمیر-یخچال']\n",
            "['نظافت-منزل']\n",
            "['ساخت-و-اجرای-نرده-استیل']\n",
            "['نصب-شیشه-سکوریت']\n",
            "['طراحی-و-ساخت-کابینت-آشپزخانه']\n"
          ]
        }
      ]
    },
    {
      "cell_type": "code",
      "source": [
        "ppredict(35)"
      ],
      "metadata": {
        "colab": {
          "base_uri": "https://localhost:8080/"
        },
        "id": "ormdrhf7660T",
        "outputId": "2d2a3fb8-2c79-48c2-8a7f-bbadf0b71258"
      },
      "execution_count": 85,
      "outputs": [
        {
          "output_type": "stream",
          "name": "stdout",
          "text": [
            "+----+--------+--------+-----------------+----------+\n",
            "|    |   user |   time | service_title   |   subcat |\n",
            "|----+--------+--------+-----------------+----------|\n",
            "|  0 |     35 |      1 | نقاشی-ساختمان   |       80 |\n",
            "|  1 |     35 |     55 | نصب-پارکت       |        9 |\n",
            "|  2 |     35 |     55 | شیشه-بری-و-آینه |        7 |\n",
            "+----+--------+--------+-----------------+----------+\n",
            "1/1 [==============================] - 0s 21ms/step\n",
            "83 ['بازسازی-خانه']\n",
            "88 ['ساخت-و-اجرای-نرده-استیل']\n",
            "75 ['نصب-و-تعمیر-آنتن-دیجیتال']\n",
            "58 ['نصب-لمینت']\n",
            "55 ['طراحی-و-ساخت-کابینت-آشپزخانه']\n"
          ]
        }
      ]
    },
    {
      "cell_type": "code",
      "source": [
        "wppredict(1514100)"
      ],
      "metadata": {
        "colab": {
          "base_uri": "https://localhost:8080/"
        },
        "id": "9WiSmdld4CrJ",
        "outputId": "6365eccb-e85f-4a38-85f6-5f8bf0f73053"
      },
      "execution_count": 69,
      "outputs": [
        {
          "output_type": "stream",
          "name": "stdout",
          "text": [
            "+----+---------+--------+----------------------+----------+\n",
            "|    |    user |   time | service_title        |   subcat |\n",
            "|----+---------+--------+----------------------+----------|\n",
            "|  0 | 1514100 |     92 | نصب-دوربین-مدار-بسته |        1 |\n",
            "|  1 | 1514100 |     92 | نصب-دوربین-مدار-بسته |        1 |\n",
            "+----+---------+--------+----------------------+----------+\n",
            "1/1 [==============================] - 0s 42ms/step\n",
            "['سرویس-و-تعمیر-یخچال']\n",
            "['نظافت-منزل']\n",
            "['ساخت-و-اجرای-نرده-استیل']\n",
            "['نصب-چیلر']\n",
            "['نظافت-منزل']\n"
          ]
        }
      ]
    },
    {
      "cell_type": "code",
      "source": [
        "df.sort_values('user').iloc[111300:111330]"
      ],
      "metadata": {
        "id": "Xkar4bdJ4bkZ"
      },
      "execution_count": null,
      "outputs": []
    },
    {
      "cell_type": "code",
      "source": [
        "ppredict(60816)"
      ],
      "metadata": {
        "colab": {
          "base_uri": "https://localhost:8080/"
        },
        "id": "NA8zUkaS4dWx",
        "outputId": "9bec1a72-c2c7-4307-d01a-3c6fb6db12f7"
      },
      "execution_count": 75,
      "outputs": [
        {
          "output_type": "stream",
          "name": "stdout",
          "text": [
            "+----+--------+--------+-----------------------+----------+\n",
            "|    |   user |   time | service_title         |   subcat |\n",
            "|----+--------+--------+-----------------------+----------|\n",
            "|  0 |  60816 |     78 | تعمیر-مبل             |        4 |\n",
            "|  1 |  60816 |     22 | تعمیرات-موبایل-و-تبلت |       71 |\n",
            "|  2 |  60816 |     72 | تربیت-سگ              |       33 |\n",
            "+----+--------+--------+-----------------------+----------+\n",
            "1/1 [==============================] - 0s 24ms/step\n",
            "['سرویس-و-تعمیر-یخچال']\n",
            "['نظافت-منزل']\n",
            "['ساخت-و-اجرای-نرده-استیل']\n",
            "['شیشه-بری-و-آینه']\n",
            "['تعمیر-تلفن']\n"
          ]
        }
      ]
    },
    {
      "cell_type": "code",
      "source": [
        "ppredict(60814)"
      ],
      "metadata": {
        "colab": {
          "base_uri": "https://localhost:8080/"
        },
        "id": "V8QHD74L5EN_",
        "outputId": "6433ba66-5061-47ce-c256-90e0aa27c114"
      },
      "execution_count": 91,
      "outputs": [
        {
          "output_type": "stream",
          "name": "stdout",
          "text": [
            "+----+--------+--------+-----------------------------------+----------+\n",
            "|    |   user |   time | service_title                     |   subcat |\n",
            "|----+--------+--------+-----------------------------------+----------|\n",
            "|  0 |  60814 |     22 | عیب-یابی-و-تعمیرات-سخت-افزار      |       10 |\n",
            "|  1 |  60814 |     58 | تعمیر-و-تعویض-ال-سی-دی-و-تاچ-گوشی |       71 |\n",
            "|  2 |  60814 |     80 | نصب-ماشین-ظرفشویی                 |        0 |\n",
            "+----+--------+--------+-----------------------------------+----------+\n",
            "1/1 [==============================] - 0s 33ms/step\n",
            "83 ['بازسازی-خانه']\n",
            "88 ['ساخت-و-اجرای-نرده-استیل']\n",
            "75 ['نصب-و-تعمیر-آنتن-دیجیتال']\n",
            "62 ['بلکا']\n",
            "58 ['نصب-لمینت']\n"
          ]
        }
      ]
    },
    {
      "cell_type": "code",
      "source": [
        "servicesdf[servicesdf.service_title== 'بلکا']"
      ],
      "metadata": {
        "colab": {
          "base_uri": "https://localhost:8080/",
          "height": 81
        },
        "id": "lwDjvxz15PY4",
        "outputId": "e5161dc2-a61c-41ed-cf6a-b694ef127dd6"
      },
      "execution_count": 92,
      "outputs": [
        {
          "output_type": "execute_result",
          "data": {
            "text/plain": [
              "   service_title  service  subcat\n",
              "62          بلکا       62       9"
            ],
            "text/html": [
              "\n",
              "  <div id=\"df-db1f99d3-0408-4f6c-8b1e-47d81a73f9ff\">\n",
              "    <div class=\"colab-df-container\">\n",
              "      <div>\n",
              "<style scoped>\n",
              "    .dataframe tbody tr th:only-of-type {\n",
              "        vertical-align: middle;\n",
              "    }\n",
              "\n",
              "    .dataframe tbody tr th {\n",
              "        vertical-align: top;\n",
              "    }\n",
              "\n",
              "    .dataframe thead th {\n",
              "        text-align: right;\n",
              "    }\n",
              "</style>\n",
              "<table border=\"1\" class=\"dataframe\">\n",
              "  <thead>\n",
              "    <tr style=\"text-align: right;\">\n",
              "      <th></th>\n",
              "      <th>service_title</th>\n",
              "      <th>service</th>\n",
              "      <th>subcat</th>\n",
              "    </tr>\n",
              "  </thead>\n",
              "  <tbody>\n",
              "    <tr>\n",
              "      <th>62</th>\n",
              "      <td>بلکا</td>\n",
              "      <td>62</td>\n",
              "      <td>9</td>\n",
              "    </tr>\n",
              "  </tbody>\n",
              "</table>\n",
              "</div>\n",
              "      <button class=\"colab-df-convert\" onclick=\"convertToInteractive('df-db1f99d3-0408-4f6c-8b1e-47d81a73f9ff')\"\n",
              "              title=\"Convert this dataframe to an interactive table.\"\n",
              "              style=\"display:none;\">\n",
              "        \n",
              "  <svg xmlns=\"http://www.w3.org/2000/svg\" height=\"24px\"viewBox=\"0 0 24 24\"\n",
              "       width=\"24px\">\n",
              "    <path d=\"M0 0h24v24H0V0z\" fill=\"none\"/>\n",
              "    <path d=\"M18.56 5.44l.94 2.06.94-2.06 2.06-.94-2.06-.94-.94-2.06-.94 2.06-2.06.94zm-11 1L8.5 8.5l.94-2.06 2.06-.94-2.06-.94L8.5 2.5l-.94 2.06-2.06.94zm10 10l.94 2.06.94-2.06 2.06-.94-2.06-.94-.94-2.06-.94 2.06-2.06.94z\"/><path d=\"M17.41 7.96l-1.37-1.37c-.4-.4-.92-.59-1.43-.59-.52 0-1.04.2-1.43.59L10.3 9.45l-7.72 7.72c-.78.78-.78 2.05 0 2.83L4 21.41c.39.39.9.59 1.41.59.51 0 1.02-.2 1.41-.59l7.78-7.78 2.81-2.81c.8-.78.8-2.07 0-2.86zM5.41 20L4 18.59l7.72-7.72 1.47 1.35L5.41 20z\"/>\n",
              "  </svg>\n",
              "      </button>\n",
              "      \n",
              "  <style>\n",
              "    .colab-df-container {\n",
              "      display:flex;\n",
              "      flex-wrap:wrap;\n",
              "      gap: 12px;\n",
              "    }\n",
              "\n",
              "    .colab-df-convert {\n",
              "      background-color: #E8F0FE;\n",
              "      border: none;\n",
              "      border-radius: 50%;\n",
              "      cursor: pointer;\n",
              "      display: none;\n",
              "      fill: #1967D2;\n",
              "      height: 32px;\n",
              "      padding: 0 0 0 0;\n",
              "      width: 32px;\n",
              "    }\n",
              "\n",
              "    .colab-df-convert:hover {\n",
              "      background-color: #E2EBFA;\n",
              "      box-shadow: 0px 1px 2px rgba(60, 64, 67, 0.3), 0px 1px 3px 1px rgba(60, 64, 67, 0.15);\n",
              "      fill: #174EA6;\n",
              "    }\n",
              "\n",
              "    [theme=dark] .colab-df-convert {\n",
              "      background-color: #3B4455;\n",
              "      fill: #D2E3FC;\n",
              "    }\n",
              "\n",
              "    [theme=dark] .colab-df-convert:hover {\n",
              "      background-color: #434B5C;\n",
              "      box-shadow: 0px 1px 3px 1px rgba(0, 0, 0, 0.15);\n",
              "      filter: drop-shadow(0px 1px 2px rgba(0, 0, 0, 0.3));\n",
              "      fill: #FFFFFF;\n",
              "    }\n",
              "  </style>\n",
              "\n",
              "      <script>\n",
              "        const buttonEl =\n",
              "          document.querySelector('#df-db1f99d3-0408-4f6c-8b1e-47d81a73f9ff button.colab-df-convert');\n",
              "        buttonEl.style.display =\n",
              "          google.colab.kernel.accessAllowed ? 'block' : 'none';\n",
              "\n",
              "        async function convertToInteractive(key) {\n",
              "          const element = document.querySelector('#df-db1f99d3-0408-4f6c-8b1e-47d81a73f9ff');\n",
              "          const dataTable =\n",
              "            await google.colab.kernel.invokeFunction('convertToInteractive',\n",
              "                                                     [key], {});\n",
              "          if (!dataTable) return;\n",
              "\n",
              "          const docLinkHtml = 'Like what you see? Visit the ' +\n",
              "            '<a target=\"_blank\" href=https://colab.research.google.com/notebooks/data_table.ipynb>data table notebook</a>'\n",
              "            + ' to learn more about interactive tables.';\n",
              "          element.innerHTML = '';\n",
              "          dataTable['output_type'] = 'display_data';\n",
              "          await google.colab.output.renderOutput(dataTable, element);\n",
              "          const docLink = document.createElement('div');\n",
              "          docLink.innerHTML = docLinkHtml;\n",
              "          element.appendChild(docLink);\n",
              "        }\n",
              "      </script>\n",
              "    </div>\n",
              "  </div>\n",
              "  "
            ]
          },
          "metadata": {},
          "execution_count": 92
        }
      ]
    },
    {
      "cell_type": "code",
      "source": [
        "\n",
        "ppredict(60818)"
      ],
      "metadata": {
        "colab": {
          "base_uri": "https://localhost:8080/"
        },
        "id": "puyclxdJ5xAC",
        "outputId": "a7e3a001-8d2c-4f72-b882-e9d68cbd4638"
      },
      "execution_count": 88,
      "outputs": [
        {
          "output_type": "stream",
          "name": "stdout",
          "text": [
            "+----+--------+--------+-----------------------+----------+\n",
            "|    |   user |   time | service_title         |   subcat |\n",
            "|----+--------+--------+-----------------------+----------|\n",
            "|  0 |  60818 |     22 | تعمیرات-موبایل-و-تبلت |       71 |\n",
            "|  1 |  60818 |     23 | تعمیرات-موبایل-و-تبلت |       71 |\n",
            "|  2 |  60818 |     23 | تعمیرات-موبایل-و-تبلت |       71 |\n",
            "|  3 |  60818 |     23 | تعمیرات-موبایل-و-تبلت |       71 |\n",
            "|  4 |  60818 |     23 | تعمیرات-موبایل-و-تبلت |       71 |\n",
            "+----+--------+--------+-----------------------+----------+\n",
            "1/1 [==============================] - 0s 136ms/step\n",
            "83 ['بازسازی-خانه']\n",
            "22 ['ساخت-در-و-پنجره-آهنی']\n",
            "62 ['بلکا']\n",
            "62 ['بلکا']\n",
            "62 ['بلکا']\n"
          ]
        }
      ]
    },
    {
      "cell_type": "code",
      "source": [],
      "metadata": {
        "id": "nwI6Os0k_O4z"
      },
      "execution_count": null,
      "outputs": []
    }
  ],
  "metadata": {
    "accelerator": "GPU",
    "colab": {
      "provenance": [],
      "mount_file_id": "1xgWBxEdMNkVSk5O1Op8snYMNw1Lk7ELo",
      "authorship_tag": "ABX9TyOYNOXQoiuqIZUKjz2cwxlT",
      "include_colab_link": true
    },
    "gpuClass": "standard",
    "kernelspec": {
      "display_name": "Python 3",
      "name": "python3"
    },
    "language_info": {
      "name": "python"
    }
  },
  "nbformat": 4,
  "nbformat_minor": 0
}