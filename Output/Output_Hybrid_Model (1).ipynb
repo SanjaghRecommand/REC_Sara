{
  "cells": [
    {
      "cell_type": "code",
      "execution_count": null,
      "metadata": {
        "colab": {
          "base_uri": "https://localhost:8080/"
        },
        "id": "2KA48exJFBJN",
        "outputId": "2e9bc777-3c49-45b3-d999-7ee92749c2c3"
      },
      "outputs": [
        {
          "output_type": "stream",
          "name": "stdout",
          "text": [
            "Drive already mounted at /content/drive; to attempt to forcibly remount, call drive.mount(\"/content/drive\", force_remount=True).\n"
          ]
        }
      ],
      "source": [
        "from google.colab import drive\n",
        "drive.mount('/content/drive')"
      ]
    },
    {
      "cell_type": "markdown",
      "source": [
        "## Import Libraries"
      ],
      "metadata": {
        "id": "zE51BO10CmKg"
      }
    },
    {
      "cell_type": "code",
      "execution_count": null,
      "metadata": {
        "id": "vVhLYuXZGD4j"
      },
      "outputs": [],
      "source": [
        "import pandas as pd\n",
        "import numpy as np\n",
        "import matplotlib.pyplot as plt\n",
        "import seaborn as sns\n",
        "from scipy.sparse import csr_matrix\n",
        "from sklearn.metrics import davies_bouldin_score"
      ]
    },
    {
      "cell_type": "markdown",
      "source": [
        "## Read Dataset"
      ],
      "metadata": {
        "id": "Zbp7M3-CDSGn"
      }
    },
    {
      "cell_type": "code",
      "source": [
        "df = pd.read_csv ('/content/drive/MyDrive/Recommendation/dfn3share.csv')\n",
        "df = df.loc[:, ~df.columns.str.contains('^Unnamed')]\n",
        "df.head()"
      ],
      "metadata": {
        "colab": {
          "base_uri": "https://localhost:8080/",
          "height": 206
        },
        "id": "LArB0whhCft0",
        "outputId": "60d86e70-02b7-470c-828c-03a30116e0c0"
      },
      "execution_count": null,
      "outputs": [
        {
          "output_type": "execute_result",
          "data": {
            "text/plain": [
              "   user  service  count  subcat  gender\n",
              "0  3646       92    127      15       1\n",
              "1  3646       94     18      15       1\n",
              "2  3646       93     19      15       1\n",
              "3  3646       95      2      17       1\n",
              "4  3646      114      1      15       1"
            ],
            "text/html": [
              "\n",
              "  <div id=\"df-330a87ed-c515-4b5a-ad72-3302f21337ed\">\n",
              "    <div class=\"colab-df-container\">\n",
              "      <div>\n",
              "<style scoped>\n",
              "    .dataframe tbody tr th:only-of-type {\n",
              "        vertical-align: middle;\n",
              "    }\n",
              "\n",
              "    .dataframe tbody tr th {\n",
              "        vertical-align: top;\n",
              "    }\n",
              "\n",
              "    .dataframe thead th {\n",
              "        text-align: right;\n",
              "    }\n",
              "</style>\n",
              "<table border=\"1\" class=\"dataframe\">\n",
              "  <thead>\n",
              "    <tr style=\"text-align: right;\">\n",
              "      <th></th>\n",
              "      <th>user</th>\n",
              "      <th>service</th>\n",
              "      <th>count</th>\n",
              "      <th>subcat</th>\n",
              "      <th>gender</th>\n",
              "    </tr>\n",
              "  </thead>\n",
              "  <tbody>\n",
              "    <tr>\n",
              "      <th>0</th>\n",
              "      <td>3646</td>\n",
              "      <td>92</td>\n",
              "      <td>127</td>\n",
              "      <td>15</td>\n",
              "      <td>1</td>\n",
              "    </tr>\n",
              "    <tr>\n",
              "      <th>1</th>\n",
              "      <td>3646</td>\n",
              "      <td>94</td>\n",
              "      <td>18</td>\n",
              "      <td>15</td>\n",
              "      <td>1</td>\n",
              "    </tr>\n",
              "    <tr>\n",
              "      <th>2</th>\n",
              "      <td>3646</td>\n",
              "      <td>93</td>\n",
              "      <td>19</td>\n",
              "      <td>15</td>\n",
              "      <td>1</td>\n",
              "    </tr>\n",
              "    <tr>\n",
              "      <th>3</th>\n",
              "      <td>3646</td>\n",
              "      <td>95</td>\n",
              "      <td>2</td>\n",
              "      <td>17</td>\n",
              "      <td>1</td>\n",
              "    </tr>\n",
              "    <tr>\n",
              "      <th>4</th>\n",
              "      <td>3646</td>\n",
              "      <td>114</td>\n",
              "      <td>1</td>\n",
              "      <td>15</td>\n",
              "      <td>1</td>\n",
              "    </tr>\n",
              "  </tbody>\n",
              "</table>\n",
              "</div>\n",
              "      <button class=\"colab-df-convert\" onclick=\"convertToInteractive('df-330a87ed-c515-4b5a-ad72-3302f21337ed')\"\n",
              "              title=\"Convert this dataframe to an interactive table.\"\n",
              "              style=\"display:none;\">\n",
              "        \n",
              "  <svg xmlns=\"http://www.w3.org/2000/svg\" height=\"24px\"viewBox=\"0 0 24 24\"\n",
              "       width=\"24px\">\n",
              "    <path d=\"M0 0h24v24H0V0z\" fill=\"none\"/>\n",
              "    <path d=\"M18.56 5.44l.94 2.06.94-2.06 2.06-.94-2.06-.94-.94-2.06-.94 2.06-2.06.94zm-11 1L8.5 8.5l.94-2.06 2.06-.94-2.06-.94L8.5 2.5l-.94 2.06-2.06.94zm10 10l.94 2.06.94-2.06 2.06-.94-2.06-.94-.94-2.06-.94 2.06-2.06.94z\"/><path d=\"M17.41 7.96l-1.37-1.37c-.4-.4-.92-.59-1.43-.59-.52 0-1.04.2-1.43.59L10.3 9.45l-7.72 7.72c-.78.78-.78 2.05 0 2.83L4 21.41c.39.39.9.59 1.41.59.51 0 1.02-.2 1.41-.59l7.78-7.78 2.81-2.81c.8-.78.8-2.07 0-2.86zM5.41 20L4 18.59l7.72-7.72 1.47 1.35L5.41 20z\"/>\n",
              "  </svg>\n",
              "      </button>\n",
              "      \n",
              "  <style>\n",
              "    .colab-df-container {\n",
              "      display:flex;\n",
              "      flex-wrap:wrap;\n",
              "      gap: 12px;\n",
              "    }\n",
              "\n",
              "    .colab-df-convert {\n",
              "      background-color: #E8F0FE;\n",
              "      border: none;\n",
              "      border-radius: 50%;\n",
              "      cursor: pointer;\n",
              "      display: none;\n",
              "      fill: #1967D2;\n",
              "      height: 32px;\n",
              "      padding: 0 0 0 0;\n",
              "      width: 32px;\n",
              "    }\n",
              "\n",
              "    .colab-df-convert:hover {\n",
              "      background-color: #E2EBFA;\n",
              "      box-shadow: 0px 1px 2px rgba(60, 64, 67, 0.3), 0px 1px 3px 1px rgba(60, 64, 67, 0.15);\n",
              "      fill: #174EA6;\n",
              "    }\n",
              "\n",
              "    [theme=dark] .colab-df-convert {\n",
              "      background-color: #3B4455;\n",
              "      fill: #D2E3FC;\n",
              "    }\n",
              "\n",
              "    [theme=dark] .colab-df-convert:hover {\n",
              "      background-color: #434B5C;\n",
              "      box-shadow: 0px 1px 3px 1px rgba(0, 0, 0, 0.15);\n",
              "      filter: drop-shadow(0px 1px 2px rgba(0, 0, 0, 0.3));\n",
              "      fill: #FFFFFF;\n",
              "    }\n",
              "  </style>\n",
              "\n",
              "      <script>\n",
              "        const buttonEl =\n",
              "          document.querySelector('#df-330a87ed-c515-4b5a-ad72-3302f21337ed button.colab-df-convert');\n",
              "        buttonEl.style.display =\n",
              "          google.colab.kernel.accessAllowed ? 'block' : 'none';\n",
              "\n",
              "        async function convertToInteractive(key) {\n",
              "          const element = document.querySelector('#df-330a87ed-c515-4b5a-ad72-3302f21337ed');\n",
              "          const dataTable =\n",
              "            await google.colab.kernel.invokeFunction('convertToInteractive',\n",
              "                                                     [key], {});\n",
              "          if (!dataTable) return;\n",
              "\n",
              "          const docLinkHtml = 'Like what you see? Visit the ' +\n",
              "            '<a target=\"_blank\" href=https://colab.research.google.com/notebooks/data_table.ipynb>data table notebook</a>'\n",
              "            + ' to learn more about interactive tables.';\n",
              "          element.innerHTML = '';\n",
              "          dataTable['output_type'] = 'display_data';\n",
              "          await google.colab.output.renderOutput(dataTable, element);\n",
              "          const docLink = document.createElement('div');\n",
              "          docLink.innerHTML = docLinkHtml;\n",
              "          element.appendChild(docLink);\n",
              "        }\n",
              "      </script>\n",
              "    </div>\n",
              "  </div>\n",
              "  "
            ]
          },
          "metadata": {},
          "execution_count": 7
        }
      ]
    },
    {
      "cell_type": "markdown",
      "source": [
        "## Hybrid Model"
      ],
      "metadata": {
        "id": "saJzXyXFDn2p"
      }
    },
    {
      "cell_type": "code",
      "source": [
        "def Hybrid(df):\n",
        "  # Create the matrix\n",
        "  min_counting=1\n",
        "  df_top_services = df[df['count']>=min_counting]\n",
        "  df_counting_with_top_services = df[df['service'].isin(list(df_top_services.index))]\n",
        "\n",
        "  min_service_rated = 1\n",
        "  df_users = df_counting_with_top_services[['service','user']].groupby(['user']).agg(['count']).sort_values(('service','count'),ascending=False)\n",
        "  df_top_rating_users = df_users[df_users[('service', 'count')]>=min_service_rated]\n",
        "  top_rating_users = list(df_top_rating_users.index)\n",
        "  df_final=df_counting_with_top_services[df_counting_with_top_services['user'].isin(top_rating_users)]\n",
        "  \n",
        "  df_user_item_matrix = df_final.pivot(index='user',columns='service',values='count')\n",
        "  return df_user_item_matrix\n"
      ],
      "metadata": {
        "id": "NdaE4vhkVSU7"
      },
      "execution_count": null,
      "outputs": []
    },
    {
      "cell_type": "code",
      "source": [
        "def similar_service(item):\n",
        "  service_name = item[92]\n",
        "  return item.corrwith(service_name).sort_values(ascending=False).head(10)\n",
        "  "
      ],
      "metadata": {
        "id": "ePe2aFE4VyQz"
      },
      "execution_count": null,
      "outputs": []
    },
    {
      "cell_type": "code",
      "source": [
        "def recom_user(random_user,item):\n",
        "  # random_user=3646\n",
        "  random_user_df = item[item.index==random_user]\n",
        "  # Let's choose non-NaN. service used by all 3646:\n",
        "  service_used = random_user_df.columns[random_user_df.notna().any()].tolist()\n",
        "  # we have reduced the dataset based on services watched by user 3646:\n",
        "  service_used_df = item[service_used]\n",
        "  # information on how many services each user used in total:\n",
        "  user_service_count = service_used_df.T.notnull().sum()\n",
        "\n",
        "  user_service_count = user_service_count.reset_index()\n",
        "  user_service_count.columns = [\"user\",\"service_count\"]\n",
        "  # user_service_count.head().sort_values(by='service_count',ascending=False)\n",
        "  # 60% of services used by 3646:\n",
        "  perc = len(service_used) * 60 / 100\n",
        "  # People who have use more than 60% service together with 3646 users:\n",
        "  users_same_service = user_service_count[user_service_count[\"service_count\"] > perc][\"user\"]\n",
        "  # Let's combine the data of user #3646 and similar users:\n",
        "  final_df = pd.concat([service_used_df[service_used_df.index.isin(users_same_service)],\n",
        "                      random_user_df[service_used]])\n",
        "  #corr for all users:\n",
        "  corr_df = final_df.T.corr().unstack().sort_values().drop_duplicates()\n",
        "  corr_df = pd.DataFrame(corr_df, columns=[\"corr\"])\n",
        "  corr_df.index.names = ['user_id_1', 'user_id_2']\n",
        "  corr_df = corr_df.reset_index()\n",
        "  # Users with a correlation of %65 or more with 3646 users:\n",
        "  top_users = corr_df[(corr_df[\"user_id_1\"] == random_user) & (corr_df[\"corr\"] >= 0.3)][\n",
        "    [\"user_id_2\", \"corr\"]].reset_index(drop=True)\n",
        "\n",
        "  top_users = top_users.sort_values(by='corr', ascending=False)\n",
        "  top_users.rename(columns={\"user_id_2\": \"user\"}, inplace=True)\n",
        "\n",
        "  top_users_ratings = top_users.merge(df[[\"user\", \"service\", \"count\"]], how='inner')\n",
        "\n",
        "  top_users_ratings = top_users_ratings[top_users_ratings[\"user\"] != random_user]\n",
        "\n",
        "  # Calculate the Weighted Average Recommendation Score and keep the first 5 services.\n",
        "\n",
        "  #Let's do a single score with the most similar by corr * rating:\n",
        "  top_users_ratings['weighted_rating'] = top_users_ratings['corr'] * top_users_ratings['count']\n",
        "  top_users_ratings.groupby('service').agg({\"weighted_rating\": \"mean\"})\n",
        "\n",
        "  recommendation_df = top_users_ratings.groupby('service').agg({\"weighted_rating\": \"mean\"})\n",
        "  recommendation_df = recommendation_df.reset_index()\n",
        "  recommendation_df.head().sort_values(\"weighted_rating\", ascending=False)\n",
        "  service_to_be_recommend = recommendation_df[recommendation_df[\"weighted_rating\"] > 3].sort_values(\"weighted_rating\", ascending=False)\n",
        "  return service_to_be_recommend['service'].to_list()\n",
        "\n"
      ],
      "metadata": {
        "id": "53_q1OaXWKDd"
      },
      "execution_count": null,
      "outputs": []
    },
    {
      "cell_type": "code",
      "source": [
        "item=Hybrid(df)\n",
        "recom_user(3646\t,item)"
      ],
      "metadata": {
        "id": "zgjseVNZRK65",
        "colab": {
          "base_uri": "https://localhost:8080/"
        },
        "outputId": "43fdf78d-868a-4d69-e751-9703c917b811"
      },
      "execution_count": null,
      "outputs": [
        {
          "output_type": "execute_result",
          "data": {
            "text/plain": [
              "[92, 337, 508, 393, 175, 171, 75, 52, 20, 17]"
            ]
          },
          "metadata": {},
          "execution_count": 11
        }
      ]
    },
    {
      "cell_type": "code",
      "source": [
        "import csv\n",
        "\n",
        "def generate_output1():\n",
        "    count=0\n",
        "    # Iterate over all users in the dataset\n",
        "    all_users = df1['user'].unique()[:10]\n",
        "    filename = '/content/drive/MyDrive/Final_Recommender/Hybrid/user_Hybrid.csv'\n",
        "    \n",
        "    with open(filename, 'a', newline='') as csvfile:  # changed mode from 'w' to 'a'\n",
        "        writer = csv.writer(csvfile)\n",
        "        \n",
        "        # write header only if the file is empty\n",
        "        if csvfile.tell() == 0:\n",
        "            writer.writerow(['User ID', 'Service'])\n",
        "        \n",
        "        for user in all_users:\n",
        "            item=Hybrid(df)\n",
        "            user_output = recom_user(user,item)\n",
        "            print(user)\n",
        "            print(user_output)\n",
        "\n",
        "            writer.writerow([user, user_output]) \n",
        "            \n",
        "            count += 1\n",
        "            print(count)"
      ],
      "metadata": {
        "id": "eYuWaiJdc1Ja"
      },
      "execution_count": null,
      "outputs": []
    }
  ],
  "metadata": {
    "colab": {
      "provenance": [],
      "gpuType": "T4"
    },
    "kernelspec": {
      "display_name": "Python 3",
      "name": "python3"
    },
    "language_info": {
      "name": "python"
    },
    "accelerator": "GPU"
  },
  "nbformat": 4,
  "nbformat_minor": 0
}