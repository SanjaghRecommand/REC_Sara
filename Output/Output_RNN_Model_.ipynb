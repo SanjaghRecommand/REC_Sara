{
  "cells": [
    {
      "cell_type": "code",
      "execution_count": 1,
      "metadata": {
        "colab": {
          "base_uri": "https://localhost:8080/"
        },
        "id": "Lofi44TW-4VG",
        "outputId": "45fbc087-85ce-4fe2-bca9-a2b3c196fc35"
      },
      "outputs": [
        {
          "output_type": "stream",
          "name": "stdout",
          "text": [
            "Mounted at /content/drive\n"
          ]
        }
      ],
      "source": [
        "from google.colab import drive\n",
        "drive.mount('/content/drive')"
      ]
    },
    {
      "cell_type": "code",
      "execution_count": 2,
      "metadata": {
        "id": "A8HePi8c_Aos"
      },
      "outputs": [],
      "source": [
        "import pandas as pd\n",
        "import numpy as np\n",
        "import matplotlib.pyplot as plt\n",
        "import seaborn as sns\n",
        "from scipy.sparse import csr_matrix\n",
        "import numpy as np\n",
        "from keras.models import Sequential\n",
        "from keras.layers import Dense, LSTM\n",
        "import pandas as pd\n",
        "import tensorflow as tf\n",
        "import torch\n",
        "import pickle\n",
        "from tensorflow.keras.optimizers.legacy import Adam\n",
        "from tabulate import tabulate"
      ]
    },
    {
      "cell_type": "markdown",
      "source": [
        "# آماده سازی دیتا برای حذف تاریخ های تکراری در یک روز "
      ],
      "metadata": {
        "id": "fBfbhtgLZRY8"
      }
    },
    {
      "cell_type": "code",
      "execution_count": 3,
      "metadata": {
        "colab": {
          "base_uri": "https://localhost:8080/",
          "height": 206
        },
        "id": "d2bbRGTE_SpC",
        "outputId": "bd8d4a77-2b9c-4d00-919a-03e50a8405ee"
      },
      "outputs": [
        {
          "output_type": "execute_result",
          "data": {
            "text/plain": [
              "            Init  service     user\n",
              "0  1655018492726      328  1275352\n",
              "1  1655018824405       92  1275354\n",
              "2  1655018831538       12  1275355\n",
              "3  1655018842708      149  1274893\n",
              "4  1655018856558       42     8604"
            ],
            "text/html": [
              "\n",
              "  <div id=\"df-c1bcd7cc-1010-40ae-a515-33dbc4ee770e\">\n",
              "    <div class=\"colab-df-container\">\n",
              "      <div>\n",
              "<style scoped>\n",
              "    .dataframe tbody tr th:only-of-type {\n",
              "        vertical-align: middle;\n",
              "    }\n",
              "\n",
              "    .dataframe tbody tr th {\n",
              "        vertical-align: top;\n",
              "    }\n",
              "\n",
              "    .dataframe thead th {\n",
              "        text-align: right;\n",
              "    }\n",
              "</style>\n",
              "<table border=\"1\" class=\"dataframe\">\n",
              "  <thead>\n",
              "    <tr style=\"text-align: right;\">\n",
              "      <th></th>\n",
              "      <th>Init</th>\n",
              "      <th>service</th>\n",
              "      <th>user</th>\n",
              "    </tr>\n",
              "  </thead>\n",
              "  <tbody>\n",
              "    <tr>\n",
              "      <th>0</th>\n",
              "      <td>1655018492726</td>\n",
              "      <td>328</td>\n",
              "      <td>1275352</td>\n",
              "    </tr>\n",
              "    <tr>\n",
              "      <th>1</th>\n",
              "      <td>1655018824405</td>\n",
              "      <td>92</td>\n",
              "      <td>1275354</td>\n",
              "    </tr>\n",
              "    <tr>\n",
              "      <th>2</th>\n",
              "      <td>1655018831538</td>\n",
              "      <td>12</td>\n",
              "      <td>1275355</td>\n",
              "    </tr>\n",
              "    <tr>\n",
              "      <th>3</th>\n",
              "      <td>1655018842708</td>\n",
              "      <td>149</td>\n",
              "      <td>1274893</td>\n",
              "    </tr>\n",
              "    <tr>\n",
              "      <th>4</th>\n",
              "      <td>1655018856558</td>\n",
              "      <td>42</td>\n",
              "      <td>8604</td>\n",
              "    </tr>\n",
              "  </tbody>\n",
              "</table>\n",
              "</div>\n",
              "      <button class=\"colab-df-convert\" onclick=\"convertToInteractive('df-c1bcd7cc-1010-40ae-a515-33dbc4ee770e')\"\n",
              "              title=\"Convert this dataframe to an interactive table.\"\n",
              "              style=\"display:none;\">\n",
              "        \n",
              "  <svg xmlns=\"http://www.w3.org/2000/svg\" height=\"24px\"viewBox=\"0 0 24 24\"\n",
              "       width=\"24px\">\n",
              "    <path d=\"M0 0h24v24H0V0z\" fill=\"none\"/>\n",
              "    <path d=\"M18.56 5.44l.94 2.06.94-2.06 2.06-.94-2.06-.94-.94-2.06-.94 2.06-2.06.94zm-11 1L8.5 8.5l.94-2.06 2.06-.94-2.06-.94L8.5 2.5l-.94 2.06-2.06.94zm10 10l.94 2.06.94-2.06 2.06-.94-2.06-.94-.94-2.06-.94 2.06-2.06.94z\"/><path d=\"M17.41 7.96l-1.37-1.37c-.4-.4-.92-.59-1.43-.59-.52 0-1.04.2-1.43.59L10.3 9.45l-7.72 7.72c-.78.78-.78 2.05 0 2.83L4 21.41c.39.39.9.59 1.41.59.51 0 1.02-.2 1.41-.59l7.78-7.78 2.81-2.81c.8-.78.8-2.07 0-2.86zM5.41 20L4 18.59l7.72-7.72 1.47 1.35L5.41 20z\"/>\n",
              "  </svg>\n",
              "      </button>\n",
              "      \n",
              "  <style>\n",
              "    .colab-df-container {\n",
              "      display:flex;\n",
              "      flex-wrap:wrap;\n",
              "      gap: 12px;\n",
              "    }\n",
              "\n",
              "    .colab-df-convert {\n",
              "      background-color: #E8F0FE;\n",
              "      border: none;\n",
              "      border-radius: 50%;\n",
              "      cursor: pointer;\n",
              "      display: none;\n",
              "      fill: #1967D2;\n",
              "      height: 32px;\n",
              "      padding: 0 0 0 0;\n",
              "      width: 32px;\n",
              "    }\n",
              "\n",
              "    .colab-df-convert:hover {\n",
              "      background-color: #E2EBFA;\n",
              "      box-shadow: 0px 1px 2px rgba(60, 64, 67, 0.3), 0px 1px 3px 1px rgba(60, 64, 67, 0.15);\n",
              "      fill: #174EA6;\n",
              "    }\n",
              "\n",
              "    [theme=dark] .colab-df-convert {\n",
              "      background-color: #3B4455;\n",
              "      fill: #D2E3FC;\n",
              "    }\n",
              "\n",
              "    [theme=dark] .colab-df-convert:hover {\n",
              "      background-color: #434B5C;\n",
              "      box-shadow: 0px 1px 3px 1px rgba(0, 0, 0, 0.15);\n",
              "      filter: drop-shadow(0px 1px 2px rgba(0, 0, 0, 0.3));\n",
              "      fill: #FFFFFF;\n",
              "    }\n",
              "  </style>\n",
              "\n",
              "      <script>\n",
              "        const buttonEl =\n",
              "          document.querySelector('#df-c1bcd7cc-1010-40ae-a515-33dbc4ee770e button.colab-df-convert');\n",
              "        buttonEl.style.display =\n",
              "          google.colab.kernel.accessAllowed ? 'block' : 'none';\n",
              "\n",
              "        async function convertToInteractive(key) {\n",
              "          const element = document.querySelector('#df-c1bcd7cc-1010-40ae-a515-33dbc4ee770e');\n",
              "          const dataTable =\n",
              "            await google.colab.kernel.invokeFunction('convertToInteractive',\n",
              "                                                     [key], {});\n",
              "          if (!dataTable) return;\n",
              "\n",
              "          const docLinkHtml = 'Like what you see? Visit the ' +\n",
              "            '<a target=\"_blank\" href=https://colab.research.google.com/notebooks/data_table.ipynb>data table notebook</a>'\n",
              "            + ' to learn more about interactive tables.';\n",
              "          element.innerHTML = '';\n",
              "          dataTable['output_type'] = 'display_data';\n",
              "          await google.colab.output.renderOutput(dataTable, element);\n",
              "          const docLink = document.createElement('div');\n",
              "          docLink.innerHTML = docLinkHtml;\n",
              "          element.appendChild(docLink);\n",
              "        }\n",
              "      </script>\n",
              "    </div>\n",
              "  </div>\n",
              "  "
            ]
          },
          "metadata": {},
          "execution_count": 3
        }
      ],
      "source": [
        "df1 = pd.read_csv ('/content/drive/MyDrive/Recommendation/taskfullshare.csv')\n",
        "df1 = df1.loc[:, ~df1.columns.str.contains('^Unnamed')]\n",
        "df1.head()"
      ]
    },
    {
      "cell_type": "code",
      "execution_count": 20,
      "metadata": {
        "id": "osKhs0RWqToy"
      },
      "outputs": [],
      "source": [
        "df=df1"
      ]
    },
    {
      "cell_type": "code",
      "execution_count": 21,
      "metadata": {
        "colab": {
          "base_uri": "https://localhost:8080/",
          "height": 112
        },
        "id": "zKXIrPiNp_Bg",
        "outputId": "f6a01192-8804-4944-d3e1-0d80ff8ef9ec"
      },
      "outputs": [
        {
          "output_type": "execute_result",
          "data": {
            "text/plain": [
              "                  Init  service    user  Time\n",
              "1681001  1681064637300      395   89038    92\n",
              "1681000  1681064581152       42  216925    92"
            ],
            "text/html": [
              "\n",
              "  <div id=\"df-7db4eac1-312a-4ccb-bc0c-426513280f63\">\n",
              "    <div class=\"colab-df-container\">\n",
              "      <div>\n",
              "<style scoped>\n",
              "    .dataframe tbody tr th:only-of-type {\n",
              "        vertical-align: middle;\n",
              "    }\n",
              "\n",
              "    .dataframe tbody tr th {\n",
              "        vertical-align: top;\n",
              "    }\n",
              "\n",
              "    .dataframe thead th {\n",
              "        text-align: right;\n",
              "    }\n",
              "</style>\n",
              "<table border=\"1\" class=\"dataframe\">\n",
              "  <thead>\n",
              "    <tr style=\"text-align: right;\">\n",
              "      <th></th>\n",
              "      <th>Init</th>\n",
              "      <th>service</th>\n",
              "      <th>user</th>\n",
              "      <th>Time</th>\n",
              "    </tr>\n",
              "  </thead>\n",
              "  <tbody>\n",
              "    <tr>\n",
              "      <th>1681001</th>\n",
              "      <td>1681064637300</td>\n",
              "      <td>395</td>\n",
              "      <td>89038</td>\n",
              "      <td>92</td>\n",
              "    </tr>\n",
              "    <tr>\n",
              "      <th>1681000</th>\n",
              "      <td>1681064581152</td>\n",
              "      <td>42</td>\n",
              "      <td>216925</td>\n",
              "      <td>92</td>\n",
              "    </tr>\n",
              "  </tbody>\n",
              "</table>\n",
              "</div>\n",
              "      <button class=\"colab-df-convert\" onclick=\"convertToInteractive('df-7db4eac1-312a-4ccb-bc0c-426513280f63')\"\n",
              "              title=\"Convert this dataframe to an interactive table.\"\n",
              "              style=\"display:none;\">\n",
              "        \n",
              "  <svg xmlns=\"http://www.w3.org/2000/svg\" height=\"24px\"viewBox=\"0 0 24 24\"\n",
              "       width=\"24px\">\n",
              "    <path d=\"M0 0h24v24H0V0z\" fill=\"none\"/>\n",
              "    <path d=\"M18.56 5.44l.94 2.06.94-2.06 2.06-.94-2.06-.94-.94-2.06-.94 2.06-2.06.94zm-11 1L8.5 8.5l.94-2.06 2.06-.94-2.06-.94L8.5 2.5l-.94 2.06-2.06.94zm10 10l.94 2.06.94-2.06 2.06-.94-2.06-.94-.94-2.06-.94 2.06-2.06.94z\"/><path d=\"M17.41 7.96l-1.37-1.37c-.4-.4-.92-.59-1.43-.59-.52 0-1.04.2-1.43.59L10.3 9.45l-7.72 7.72c-.78.78-.78 2.05 0 2.83L4 21.41c.39.39.9.59 1.41.59.51 0 1.02-.2 1.41-.59l7.78-7.78 2.81-2.81c.8-.78.8-2.07 0-2.86zM5.41 20L4 18.59l7.72-7.72 1.47 1.35L5.41 20z\"/>\n",
              "  </svg>\n",
              "      </button>\n",
              "      \n",
              "  <style>\n",
              "    .colab-df-container {\n",
              "      display:flex;\n",
              "      flex-wrap:wrap;\n",
              "      gap: 12px;\n",
              "    }\n",
              "\n",
              "    .colab-df-convert {\n",
              "      background-color: #E8F0FE;\n",
              "      border: none;\n",
              "      border-radius: 50%;\n",
              "      cursor: pointer;\n",
              "      display: none;\n",
              "      fill: #1967D2;\n",
              "      height: 32px;\n",
              "      padding: 0 0 0 0;\n",
              "      width: 32px;\n",
              "    }\n",
              "\n",
              "    .colab-df-convert:hover {\n",
              "      background-color: #E2EBFA;\n",
              "      box-shadow: 0px 1px 2px rgba(60, 64, 67, 0.3), 0px 1px 3px 1px rgba(60, 64, 67, 0.15);\n",
              "      fill: #174EA6;\n",
              "    }\n",
              "\n",
              "    [theme=dark] .colab-df-convert {\n",
              "      background-color: #3B4455;\n",
              "      fill: #D2E3FC;\n",
              "    }\n",
              "\n",
              "    [theme=dark] .colab-df-convert:hover {\n",
              "      background-color: #434B5C;\n",
              "      box-shadow: 0px 1px 3px 1px rgba(0, 0, 0, 0.15);\n",
              "      filter: drop-shadow(0px 1px 2px rgba(0, 0, 0, 0.3));\n",
              "      fill: #FFFFFF;\n",
              "    }\n",
              "  </style>\n",
              "\n",
              "      <script>\n",
              "        const buttonEl =\n",
              "          document.querySelector('#df-7db4eac1-312a-4ccb-bc0c-426513280f63 button.colab-df-convert');\n",
              "        buttonEl.style.display =\n",
              "          google.colab.kernel.accessAllowed ? 'block' : 'none';\n",
              "\n",
              "        async function convertToInteractive(key) {\n",
              "          const element = document.querySelector('#df-7db4eac1-312a-4ccb-bc0c-426513280f63');\n",
              "          const dataTable =\n",
              "            await google.colab.kernel.invokeFunction('convertToInteractive',\n",
              "                                                     [key], {});\n",
              "          if (!dataTable) return;\n",
              "\n",
              "          const docLinkHtml = 'Like what you see? Visit the ' +\n",
              "            '<a target=\"_blank\" href=https://colab.research.google.com/notebooks/data_table.ipynb>data table notebook</a>'\n",
              "            + ' to learn more about interactive tables.';\n",
              "          element.innerHTML = '';\n",
              "          dataTable['output_type'] = 'display_data';\n",
              "          await google.colab.output.renderOutput(dataTable, element);\n",
              "          const docLink = document.createElement('div');\n",
              "          docLink.innerHTML = docLinkHtml;\n",
              "          element.appendChild(docLink);\n",
              "        }\n",
              "      </script>\n",
              "    </div>\n",
              "  </div>\n",
              "  "
            ]
          },
          "metadata": {},
          "execution_count": 21
        }
      ],
      "source": [
        "mininit= df.Init.min()\n",
        "df['Time']=df.Init.apply(lambda x: round((x- mininit)/2000000000))\n",
        "# df.drop(columns='Init', inplace=True)\n",
        "df= df[df['user'] >5 ]\n",
        "df.sort_values(by='Init',ascending=False).head(2)"
      ]
    },
    {
      "cell_type": "code",
      "execution_count": 22,
      "metadata": {
        "colab": {
          "base_uri": "https://localhost:8080/",
          "height": 112
        },
        "id": "35Mxn3-GpJZY",
        "outputId": "072eb500-8d6f-4883-810d-e8218e795cf4"
      },
      "outputs": [
        {
          "output_type": "execute_result",
          "data": {
            "text/plain": [
              "                           Init  service    user  Time\n",
              "1681001 2023-04-09 18:23:57.300      395   89038    92\n",
              "1681000 2023-04-09 18:23:01.152       42  216925    92"
            ],
            "text/html": [
              "\n",
              "  <div id=\"df-610793c7-48e8-4cd6-a4d1-cf9b8db385e6\">\n",
              "    <div class=\"colab-df-container\">\n",
              "      <div>\n",
              "<style scoped>\n",
              "    .dataframe tbody tr th:only-of-type {\n",
              "        vertical-align: middle;\n",
              "    }\n",
              "\n",
              "    .dataframe tbody tr th {\n",
              "        vertical-align: top;\n",
              "    }\n",
              "\n",
              "    .dataframe thead th {\n",
              "        text-align: right;\n",
              "    }\n",
              "</style>\n",
              "<table border=\"1\" class=\"dataframe\">\n",
              "  <thead>\n",
              "    <tr style=\"text-align: right;\">\n",
              "      <th></th>\n",
              "      <th>Init</th>\n",
              "      <th>service</th>\n",
              "      <th>user</th>\n",
              "      <th>Time</th>\n",
              "    </tr>\n",
              "  </thead>\n",
              "  <tbody>\n",
              "    <tr>\n",
              "      <th>1681001</th>\n",
              "      <td>2023-04-09 18:23:57.300</td>\n",
              "      <td>395</td>\n",
              "      <td>89038</td>\n",
              "      <td>92</td>\n",
              "    </tr>\n",
              "    <tr>\n",
              "      <th>1681000</th>\n",
              "      <td>2023-04-09 18:23:01.152</td>\n",
              "      <td>42</td>\n",
              "      <td>216925</td>\n",
              "      <td>92</td>\n",
              "    </tr>\n",
              "  </tbody>\n",
              "</table>\n",
              "</div>\n",
              "      <button class=\"colab-df-convert\" onclick=\"convertToInteractive('df-610793c7-48e8-4cd6-a4d1-cf9b8db385e6')\"\n",
              "              title=\"Convert this dataframe to an interactive table.\"\n",
              "              style=\"display:none;\">\n",
              "        \n",
              "  <svg xmlns=\"http://www.w3.org/2000/svg\" height=\"24px\"viewBox=\"0 0 24 24\"\n",
              "       width=\"24px\">\n",
              "    <path d=\"M0 0h24v24H0V0z\" fill=\"none\"/>\n",
              "    <path d=\"M18.56 5.44l.94 2.06.94-2.06 2.06-.94-2.06-.94-.94-2.06-.94 2.06-2.06.94zm-11 1L8.5 8.5l.94-2.06 2.06-.94-2.06-.94L8.5 2.5l-.94 2.06-2.06.94zm10 10l.94 2.06.94-2.06 2.06-.94-2.06-.94-.94-2.06-.94 2.06-2.06.94z\"/><path d=\"M17.41 7.96l-1.37-1.37c-.4-.4-.92-.59-1.43-.59-.52 0-1.04.2-1.43.59L10.3 9.45l-7.72 7.72c-.78.78-.78 2.05 0 2.83L4 21.41c.39.39.9.59 1.41.59.51 0 1.02-.2 1.41-.59l7.78-7.78 2.81-2.81c.8-.78.8-2.07 0-2.86zM5.41 20L4 18.59l7.72-7.72 1.47 1.35L5.41 20z\"/>\n",
              "  </svg>\n",
              "      </button>\n",
              "      \n",
              "  <style>\n",
              "    .colab-df-container {\n",
              "      display:flex;\n",
              "      flex-wrap:wrap;\n",
              "      gap: 12px;\n",
              "    }\n",
              "\n",
              "    .colab-df-convert {\n",
              "      background-color: #E8F0FE;\n",
              "      border: none;\n",
              "      border-radius: 50%;\n",
              "      cursor: pointer;\n",
              "      display: none;\n",
              "      fill: #1967D2;\n",
              "      height: 32px;\n",
              "      padding: 0 0 0 0;\n",
              "      width: 32px;\n",
              "    }\n",
              "\n",
              "    .colab-df-convert:hover {\n",
              "      background-color: #E2EBFA;\n",
              "      box-shadow: 0px 1px 2px rgba(60, 64, 67, 0.3), 0px 1px 3px 1px rgba(60, 64, 67, 0.15);\n",
              "      fill: #174EA6;\n",
              "    }\n",
              "\n",
              "    [theme=dark] .colab-df-convert {\n",
              "      background-color: #3B4455;\n",
              "      fill: #D2E3FC;\n",
              "    }\n",
              "\n",
              "    [theme=dark] .colab-df-convert:hover {\n",
              "      background-color: #434B5C;\n",
              "      box-shadow: 0px 1px 3px 1px rgba(0, 0, 0, 0.15);\n",
              "      filter: drop-shadow(0px 1px 2px rgba(0, 0, 0, 0.3));\n",
              "      fill: #FFFFFF;\n",
              "    }\n",
              "  </style>\n",
              "\n",
              "      <script>\n",
              "        const buttonEl =\n",
              "          document.querySelector('#df-610793c7-48e8-4cd6-a4d1-cf9b8db385e6 button.colab-df-convert');\n",
              "        buttonEl.style.display =\n",
              "          google.colab.kernel.accessAllowed ? 'block' : 'none';\n",
              "\n",
              "        async function convertToInteractive(key) {\n",
              "          const element = document.querySelector('#df-610793c7-48e8-4cd6-a4d1-cf9b8db385e6');\n",
              "          const dataTable =\n",
              "            await google.colab.kernel.invokeFunction('convertToInteractive',\n",
              "                                                     [key], {});\n",
              "          if (!dataTable) return;\n",
              "\n",
              "          const docLinkHtml = 'Like what you see? Visit the ' +\n",
              "            '<a target=\"_blank\" href=https://colab.research.google.com/notebooks/data_table.ipynb>data table notebook</a>'\n",
              "            + ' to learn more about interactive tables.';\n",
              "          element.innerHTML = '';\n",
              "          dataTable['output_type'] = 'display_data';\n",
              "          await google.colab.output.renderOutput(dataTable, element);\n",
              "          const docLink = document.createElement('div');\n",
              "          docLink.innerHTML = docLinkHtml;\n",
              "          element.appendChild(docLink);\n",
              "        }\n",
              "      </script>\n",
              "    </div>\n",
              "  </div>\n",
              "  "
            ]
          },
          "metadata": {},
          "execution_count": 22
        }
      ],
      "source": [
        "df1['Init'] = pd.to_datetime(df1['Init'],unit='ms')\n",
        "df1=df1.sort_values(by='Init',ascending=False)\n",
        "df1.head(2)"
      ]
    },
    {
      "cell_type": "code",
      "execution_count": 23,
      "metadata": {
        "colab": {
          "base_uri": "https://localhost:8080/",
          "height": 206
        },
        "id": "QWZQAOlQpJci",
        "outputId": "5021c37e-ea5a-4a58-9eaf-3109d7153e0b"
      },
      "outputs": [
        {
          "output_type": "execute_result",
          "data": {
            "text/plain": [
              "                         Init  service  user  Time        date  \\\n",
              "40557 2017-06-13 11:00:31.553        0   127     0  2017-06-13   \n",
              "40555 2017-06-13 12:49:36.030        0   130     0  2017-06-13   \n",
              "40554 2017-06-13 13:04:06.644        0   132     0  2017-06-13   \n",
              "40597 2017-06-13 13:24:43.878        0   130     0  2017-06-13   \n",
              "40629 2017-06-14 07:35:55.062        0   134     0  2017-06-14   \n",
              "\n",
              "                  time  \n",
              "40557  11:00:31.553000  \n",
              "40555  12:49:36.030000  \n",
              "40554  13:04:06.644000  \n",
              "40597  13:24:43.878000  \n",
              "40629  07:35:55.062000  "
            ],
            "text/html": [
              "\n",
              "  <div id=\"df-f2925210-4e46-4dad-aec9-4b20ea193c1a\">\n",
              "    <div class=\"colab-df-container\">\n",
              "      <div>\n",
              "<style scoped>\n",
              "    .dataframe tbody tr th:only-of-type {\n",
              "        vertical-align: middle;\n",
              "    }\n",
              "\n",
              "    .dataframe tbody tr th {\n",
              "        vertical-align: top;\n",
              "    }\n",
              "\n",
              "    .dataframe thead th {\n",
              "        text-align: right;\n",
              "    }\n",
              "</style>\n",
              "<table border=\"1\" class=\"dataframe\">\n",
              "  <thead>\n",
              "    <tr style=\"text-align: right;\">\n",
              "      <th></th>\n",
              "      <th>Init</th>\n",
              "      <th>service</th>\n",
              "      <th>user</th>\n",
              "      <th>Time</th>\n",
              "      <th>date</th>\n",
              "      <th>time</th>\n",
              "    </tr>\n",
              "  </thead>\n",
              "  <tbody>\n",
              "    <tr>\n",
              "      <th>40557</th>\n",
              "      <td>2017-06-13 11:00:31.553</td>\n",
              "      <td>0</td>\n",
              "      <td>127</td>\n",
              "      <td>0</td>\n",
              "      <td>2017-06-13</td>\n",
              "      <td>11:00:31.553000</td>\n",
              "    </tr>\n",
              "    <tr>\n",
              "      <th>40555</th>\n",
              "      <td>2017-06-13 12:49:36.030</td>\n",
              "      <td>0</td>\n",
              "      <td>130</td>\n",
              "      <td>0</td>\n",
              "      <td>2017-06-13</td>\n",
              "      <td>12:49:36.030000</td>\n",
              "    </tr>\n",
              "    <tr>\n",
              "      <th>40554</th>\n",
              "      <td>2017-06-13 13:04:06.644</td>\n",
              "      <td>0</td>\n",
              "      <td>132</td>\n",
              "      <td>0</td>\n",
              "      <td>2017-06-13</td>\n",
              "      <td>13:04:06.644000</td>\n",
              "    </tr>\n",
              "    <tr>\n",
              "      <th>40597</th>\n",
              "      <td>2017-06-13 13:24:43.878</td>\n",
              "      <td>0</td>\n",
              "      <td>130</td>\n",
              "      <td>0</td>\n",
              "      <td>2017-06-13</td>\n",
              "      <td>13:24:43.878000</td>\n",
              "    </tr>\n",
              "    <tr>\n",
              "      <th>40629</th>\n",
              "      <td>2017-06-14 07:35:55.062</td>\n",
              "      <td>0</td>\n",
              "      <td>134</td>\n",
              "      <td>0</td>\n",
              "      <td>2017-06-14</td>\n",
              "      <td>07:35:55.062000</td>\n",
              "    </tr>\n",
              "  </tbody>\n",
              "</table>\n",
              "</div>\n",
              "      <button class=\"colab-df-convert\" onclick=\"convertToInteractive('df-f2925210-4e46-4dad-aec9-4b20ea193c1a')\"\n",
              "              title=\"Convert this dataframe to an interactive table.\"\n",
              "              style=\"display:none;\">\n",
              "        \n",
              "  <svg xmlns=\"http://www.w3.org/2000/svg\" height=\"24px\"viewBox=\"0 0 24 24\"\n",
              "       width=\"24px\">\n",
              "    <path d=\"M0 0h24v24H0V0z\" fill=\"none\"/>\n",
              "    <path d=\"M18.56 5.44l.94 2.06.94-2.06 2.06-.94-2.06-.94-.94-2.06-.94 2.06-2.06.94zm-11 1L8.5 8.5l.94-2.06 2.06-.94-2.06-.94L8.5 2.5l-.94 2.06-2.06.94zm10 10l.94 2.06.94-2.06 2.06-.94-2.06-.94-.94-2.06-.94 2.06-2.06.94z\"/><path d=\"M17.41 7.96l-1.37-1.37c-.4-.4-.92-.59-1.43-.59-.52 0-1.04.2-1.43.59L10.3 9.45l-7.72 7.72c-.78.78-.78 2.05 0 2.83L4 21.41c.39.39.9.59 1.41.59.51 0 1.02-.2 1.41-.59l7.78-7.78 2.81-2.81c.8-.78.8-2.07 0-2.86zM5.41 20L4 18.59l7.72-7.72 1.47 1.35L5.41 20z\"/>\n",
              "  </svg>\n",
              "      </button>\n",
              "      \n",
              "  <style>\n",
              "    .colab-df-container {\n",
              "      display:flex;\n",
              "      flex-wrap:wrap;\n",
              "      gap: 12px;\n",
              "    }\n",
              "\n",
              "    .colab-df-convert {\n",
              "      background-color: #E8F0FE;\n",
              "      border: none;\n",
              "      border-radius: 50%;\n",
              "      cursor: pointer;\n",
              "      display: none;\n",
              "      fill: #1967D2;\n",
              "      height: 32px;\n",
              "      padding: 0 0 0 0;\n",
              "      width: 32px;\n",
              "    }\n",
              "\n",
              "    .colab-df-convert:hover {\n",
              "      background-color: #E2EBFA;\n",
              "      box-shadow: 0px 1px 2px rgba(60, 64, 67, 0.3), 0px 1px 3px 1px rgba(60, 64, 67, 0.15);\n",
              "      fill: #174EA6;\n",
              "    }\n",
              "\n",
              "    [theme=dark] .colab-df-convert {\n",
              "      background-color: #3B4455;\n",
              "      fill: #D2E3FC;\n",
              "    }\n",
              "\n",
              "    [theme=dark] .colab-df-convert:hover {\n",
              "      background-color: #434B5C;\n",
              "      box-shadow: 0px 1px 3px 1px rgba(0, 0, 0, 0.15);\n",
              "      filter: drop-shadow(0px 1px 2px rgba(0, 0, 0, 0.3));\n",
              "      fill: #FFFFFF;\n",
              "    }\n",
              "  </style>\n",
              "\n",
              "      <script>\n",
              "        const buttonEl =\n",
              "          document.querySelector('#df-f2925210-4e46-4dad-aec9-4b20ea193c1a button.colab-df-convert');\n",
              "        buttonEl.style.display =\n",
              "          google.colab.kernel.accessAllowed ? 'block' : 'none';\n",
              "\n",
              "        async function convertToInteractive(key) {\n",
              "          const element = document.querySelector('#df-f2925210-4e46-4dad-aec9-4b20ea193c1a');\n",
              "          const dataTable =\n",
              "            await google.colab.kernel.invokeFunction('convertToInteractive',\n",
              "                                                     [key], {});\n",
              "          if (!dataTable) return;\n",
              "\n",
              "          const docLinkHtml = 'Like what you see? Visit the ' +\n",
              "            '<a target=\"_blank\" href=https://colab.research.google.com/notebooks/data_table.ipynb>data table notebook</a>'\n",
              "            + ' to learn more about interactive tables.';\n",
              "          element.innerHTML = '';\n",
              "          dataTable['output_type'] = 'display_data';\n",
              "          await google.colab.output.renderOutput(dataTable, element);\n",
              "          const docLink = document.createElement('div');\n",
              "          docLink.innerHTML = docLinkHtml;\n",
              "          element.appendChild(docLink);\n",
              "        }\n",
              "      </script>\n",
              "    </div>\n",
              "  </div>\n",
              "  "
            ]
          },
          "metadata": {},
          "execution_count": 23
        }
      ],
      "source": [
        "df1 = df1.sort_values(by='Init')\n",
        "# Extract date and time components\n",
        "df1['date'] = df1['Init'].dt.date\n",
        "df1['time'] = df1['Init'].dt.time\n",
        "df1.head()"
      ]
    },
    {
      "cell_type": "code",
      "execution_count": 24,
      "metadata": {
        "id": "Wy8L7Ts7pJeu"
      },
      "outputs": [],
      "source": [
        "df1= df1.drop_duplicates(subset=['date', 'service', 'user'])\n"
      ]
    },
    {
      "cell_type": "code",
      "execution_count": 25,
      "metadata": {
        "colab": {
          "base_uri": "https://localhost:8080/"
        },
        "id": "zNjrO-vipJhk",
        "outputId": "71373964-3630-4b87-d346-07949ce63eeb"
      },
      "outputs": [
        {
          "output_type": "stream",
          "name": "stdout",
          "text": [
            "<class 'pandas.core.frame.DataFrame'>\n",
            "Int64Index: 1482958 entries, 40557 to 1681000\n",
            "Data columns (total 6 columns):\n",
            " #   Column   Non-Null Count    Dtype         \n",
            "---  ------   --------------    -----         \n",
            " 0   Init     1482958 non-null  datetime64[ns]\n",
            " 1   service  1482958 non-null  int64         \n",
            " 2   user     1482958 non-null  int64         \n",
            " 3   Time     1482958 non-null  int64         \n",
            " 4   date     1482958 non-null  object        \n",
            " 5   time     1482958 non-null  object        \n",
            "dtypes: datetime64[ns](1), int64(3), object(2)\n",
            "memory usage: 79.2+ MB\n"
          ]
        }
      ],
      "source": [
        "df1.info()"
      ]
    },
    {
      "cell_type": "code",
      "execution_count": 26,
      "metadata": {
        "colab": {
          "base_uri": "https://localhost:8080/",
          "height": 81
        },
        "id": "Hnw12dRjpoOm",
        "outputId": "edd91531-ddcc-4780-fbc6-3ccd57407646"
      },
      "outputs": [
        {
          "output_type": "execute_result",
          "data": {
            "text/plain": [
              "                         Init  service  user  Time\n",
              "40557 2017-06-13 11:00:31.553        0   127     0"
            ],
            "text/html": [
              "\n",
              "  <div id=\"df-390325af-da0f-4128-948f-49bcb39b4360\">\n",
              "    <div class=\"colab-df-container\">\n",
              "      <div>\n",
              "<style scoped>\n",
              "    .dataframe tbody tr th:only-of-type {\n",
              "        vertical-align: middle;\n",
              "    }\n",
              "\n",
              "    .dataframe tbody tr th {\n",
              "        vertical-align: top;\n",
              "    }\n",
              "\n",
              "    .dataframe thead th {\n",
              "        text-align: right;\n",
              "    }\n",
              "</style>\n",
              "<table border=\"1\" class=\"dataframe\">\n",
              "  <thead>\n",
              "    <tr style=\"text-align: right;\">\n",
              "      <th></th>\n",
              "      <th>Init</th>\n",
              "      <th>service</th>\n",
              "      <th>user</th>\n",
              "      <th>Time</th>\n",
              "    </tr>\n",
              "  </thead>\n",
              "  <tbody>\n",
              "    <tr>\n",
              "      <th>40557</th>\n",
              "      <td>2017-06-13 11:00:31.553</td>\n",
              "      <td>0</td>\n",
              "      <td>127</td>\n",
              "      <td>0</td>\n",
              "    </tr>\n",
              "  </tbody>\n",
              "</table>\n",
              "</div>\n",
              "      <button class=\"colab-df-convert\" onclick=\"convertToInteractive('df-390325af-da0f-4128-948f-49bcb39b4360')\"\n",
              "              title=\"Convert this dataframe to an interactive table.\"\n",
              "              style=\"display:none;\">\n",
              "        \n",
              "  <svg xmlns=\"http://www.w3.org/2000/svg\" height=\"24px\"viewBox=\"0 0 24 24\"\n",
              "       width=\"24px\">\n",
              "    <path d=\"M0 0h24v24H0V0z\" fill=\"none\"/>\n",
              "    <path d=\"M18.56 5.44l.94 2.06.94-2.06 2.06-.94-2.06-.94-.94-2.06-.94 2.06-2.06.94zm-11 1L8.5 8.5l.94-2.06 2.06-.94-2.06-.94L8.5 2.5l-.94 2.06-2.06.94zm10 10l.94 2.06.94-2.06 2.06-.94-2.06-.94-.94-2.06-.94 2.06-2.06.94z\"/><path d=\"M17.41 7.96l-1.37-1.37c-.4-.4-.92-.59-1.43-.59-.52 0-1.04.2-1.43.59L10.3 9.45l-7.72 7.72c-.78.78-.78 2.05 0 2.83L4 21.41c.39.39.9.59 1.41.59.51 0 1.02-.2 1.41-.59l7.78-7.78 2.81-2.81c.8-.78.8-2.07 0-2.86zM5.41 20L4 18.59l7.72-7.72 1.47 1.35L5.41 20z\"/>\n",
              "  </svg>\n",
              "      </button>\n",
              "      \n",
              "  <style>\n",
              "    .colab-df-container {\n",
              "      display:flex;\n",
              "      flex-wrap:wrap;\n",
              "      gap: 12px;\n",
              "    }\n",
              "\n",
              "    .colab-df-convert {\n",
              "      background-color: #E8F0FE;\n",
              "      border: none;\n",
              "      border-radius: 50%;\n",
              "      cursor: pointer;\n",
              "      display: none;\n",
              "      fill: #1967D2;\n",
              "      height: 32px;\n",
              "      padding: 0 0 0 0;\n",
              "      width: 32px;\n",
              "    }\n",
              "\n",
              "    .colab-df-convert:hover {\n",
              "      background-color: #E2EBFA;\n",
              "      box-shadow: 0px 1px 2px rgba(60, 64, 67, 0.3), 0px 1px 3px 1px rgba(60, 64, 67, 0.15);\n",
              "      fill: #174EA6;\n",
              "    }\n",
              "\n",
              "    [theme=dark] .colab-df-convert {\n",
              "      background-color: #3B4455;\n",
              "      fill: #D2E3FC;\n",
              "    }\n",
              "\n",
              "    [theme=dark] .colab-df-convert:hover {\n",
              "      background-color: #434B5C;\n",
              "      box-shadow: 0px 1px 3px 1px rgba(0, 0, 0, 0.15);\n",
              "      filter: drop-shadow(0px 1px 2px rgba(0, 0, 0, 0.3));\n",
              "      fill: #FFFFFF;\n",
              "    }\n",
              "  </style>\n",
              "\n",
              "      <script>\n",
              "        const buttonEl =\n",
              "          document.querySelector('#df-390325af-da0f-4128-948f-49bcb39b4360 button.colab-df-convert');\n",
              "        buttonEl.style.display =\n",
              "          google.colab.kernel.accessAllowed ? 'block' : 'none';\n",
              "\n",
              "        async function convertToInteractive(key) {\n",
              "          const element = document.querySelector('#df-390325af-da0f-4128-948f-49bcb39b4360');\n",
              "          const dataTable =\n",
              "            await google.colab.kernel.invokeFunction('convertToInteractive',\n",
              "                                                     [key], {});\n",
              "          if (!dataTable) return;\n",
              "\n",
              "          const docLinkHtml = 'Like what you see? Visit the ' +\n",
              "            '<a target=\"_blank\" href=https://colab.research.google.com/notebooks/data_table.ipynb>data table notebook</a>'\n",
              "            + ' to learn more about interactive tables.';\n",
              "          element.innerHTML = '';\n",
              "          dataTable['output_type'] = 'display_data';\n",
              "          await google.colab.output.renderOutput(dataTable, element);\n",
              "          const docLink = document.createElement('div');\n",
              "          docLink.innerHTML = docLinkHtml;\n",
              "          element.appendChild(docLink);\n",
              "        }\n",
              "      </script>\n",
              "    </div>\n",
              "  </div>\n",
              "  "
            ]
          },
          "metadata": {},
          "execution_count": 26
        }
      ],
      "source": [
        "df1=df1.drop(['date','time'],axis=1)\n",
        "df1.head(1)"
      ]
    },
    {
      "cell_type": "markdown",
      "source": [
        "# ذخیره دیتای نهایی بع از این که تاریخ های تکراری در یک روز حذف شد"
      ],
      "metadata": {
        "id": "r5dRBtzeZFot"
      }
    },
    {
      "cell_type": "code",
      "source": [
        "df1.to_csv('/content/drive/MyDrive/Recommendation/final_data.csv')"
      ],
      "metadata": {
        "id": "31VqLyJR8rGr"
      },
      "execution_count": 27,
      "outputs": []
    },
    {
      "cell_type": "code",
      "execution_count": 4,
      "metadata": {
        "id": "F16gznXxrDNT"
      },
      "outputs": [],
      "source": [
        "max_len= 10 # len(tf.keras.utils.pad_sequences(seqservice)[0])\n",
        "item_vocab_size= 588"
      ]
    },
    {
      "cell_type": "code",
      "execution_count": null,
      "metadata": {
        "colab": {
          "base_uri": "https://localhost:8080/"
        },
        "id": "YXG4ah8ApJkV",
        "outputId": "ba6a0760-937a-4568-b195-d96938733663"
      },
      "outputs": [
        {
          "name": "stdout",
          "output_type": "stream",
          "text": [
            "dictionary saved successfully to file\n"
          ]
        }
      ],
      "source": [
        "# seqservice , seqtime ,seqtarget  =[] ,[] ,[] \n",
        "\n",
        "# for user in df1.user.unique():\n",
        "#   user_data = df1[df1['user'] == user].sort_values('Time')\n",
        "#   seqservice.append(user_data.service.values.tolist()[0:-1])\n",
        "#   seqtime.append(user_data.Time.values.tolist()[0:-1])\n",
        "#   seqtarget.append(user_data.Time.values.tolist()[1:])\n",
        "\n",
        "#   # print(user_data)\n",
        "#   # break\n",
        "# train_dict = dict(zip(['item_id', 'nb_days', 'target'],[tf.keras.utils.pad_sequences(seqservice, maxlen=max_len), tf.keras.utils.pad_sequences(seqtime, maxlen=max_len), tf.keras.utils.pad_sequences(seqtarget, maxlen=max_len)]))\n",
        "# # save dictionary to person_data.pkl file\n",
        "# with open('/content/drive/MyDrive/Recommendation/train.pkl', 'wb') as fp:\n",
        "#     pickle.dump(train_dict, fp)\n",
        "#     print('dictionary saved successfully to file')\n",
        "     "
      ]
    },
    {
      "cell_type": "code",
      "execution_count": 5,
      "metadata": {
        "colab": {
          "base_uri": "https://localhost:8080/"
        },
        "id": "fFskg90wrTID",
        "outputId": "2da48fea-c030-43e5-90fc-939139738970"
      },
      "outputs": [
        {
          "output_type": "stream",
          "name": "stdout",
          "text": [
            " dictionary loaded\n"
          ]
        }
      ],
      "source": [
        "with open('/content/drive/MyDrive/Recommendation/train_dict10.pkl', 'rb') as fp:\n",
        "    train_dict = pickle.load(fp)\n",
        "    print(' dictionary loaded')"
      ]
    },
    {
      "cell_type": "code",
      "execution_count": null,
      "metadata": {
        "id": "7ZkJ46ZErCMd"
      },
      "outputs": [],
      "source": [
        "#@title Create_train\n",
        "def create_train_tfdata(train_feat_dict, train_target_tensor,    batch_size, buffer_size=None):\n",
        "    \"\"\"\n",
        "    Create train tf dataset for model train input\n",
        "    :param train_feat_dict: dict, containing the features tensors for train data\n",
        "    :param train_target_tensor: np.array(), the training TARGET tensor\n",
        "    :param batch_size: (int) size of the batch to work with\n",
        "    :param buffer_size: (int) Optional. Default is None. Size of the buffer\n",
        "    :return: (tuple) 1st element is the training dataset,\n",
        "                     2nd is the number of steps per epoch (based on batch size)\n",
        "    \"\"\"\n",
        "    if buffer_size is None:\n",
        "        buffer_size = batch_size*50\n",
        "\n",
        "    train_steps_per_epoch = len(train_target_tensor) // batch_size\n",
        "    train_dataset = tf.data.Dataset.from_tensor_slices((train_feat_dict,train_target_tensor)).cache()\n",
        "    train_dataset = train_dataset.shuffle(buffer_size).batch(batch_size)\n",
        "    train_dataset = train_dataset.repeat().prefetch(tf.data.experimental.AUTOTUNE)\n",
        "    \n",
        "    return train_dataset, train_steps_per_epoch\n",
        "  \n",
        "train_feat_dict = {'item_id': train_dict['item_id'],'nb_days': train_dict['nb_days']}\n",
        "train_target_tensor = train_dict['target'] \n",
        "train_dataset, train_steps_per_epoch = create_train_tfdata(train_feat_dict,  train_target_tensor, batch_size=512)"
      ]
    },
    {
      "cell_type": "code",
      "execution_count": null,
      "metadata": {
        "id": "LDi24xaUrZ4Z"
      },
      "outputs": [],
      "source": [
        "#@title BuildModel\n",
        "def build_model(max_len, item_vocab_size):\n",
        "    \"\"\"\n",
        "    Build a model given the hyper-parameters with item and nb_days input features\n",
        "    :param hp: (kt.HyperParameters) hyper-parameters to use when building this model\n",
        "    :return: built and compiled tensorflow model \n",
        "    \"\"\"\n",
        "    inputs = {}\n",
        "    inputs['item_id'] = tf.keras.Input(batch_input_shape=[None, max_len],   name='item_id', dtype=tf.int32)\n",
        "    # create encoding padding mask\n",
        "    encoding_padding_mask = tf.math.logical_not(tf.math.equal(inputs['item_id'], 0))\n",
        "\n",
        "    # nb_days bucketized\n",
        "    inputs['nb_days'] = tf.keras.Input(batch_input_shape=[None, max_len],  name='nb_days', dtype=tf.int32)\n",
        "\n",
        "    # Pass categorical input through embedding layer\n",
        "    # with size equals to tokenizer vocabulary size\n",
        "    # Remember that vocab_size is len of item tokenizer + 1\n",
        "    # (for the padding '0' value)\n",
        "    \n",
        "    embedding_item = tf.keras.layers.Embedding(input_dim=item_vocab_size,\n",
        "                                               output_dim=16,\n",
        "                                               name='embedding_item'\n",
        "                                              )(inputs['item_id'])\n",
        "    # nbins=100, +1 for zero padding\n",
        "    embedding_nb_days = tf.keras.layers.Embedding(input_dim=100 + 1,\n",
        "                                                  output_dim=100,\n",
        "                                                  name='embedding_nb_days'\n",
        "                                                 )(inputs['nb_days'])\n",
        "\n",
        "    #  Concatenate embedding layers\n",
        "    concat_embedding_input = tf.keras.layers.Concatenate(\n",
        "     name='concat_embedding_input')([embedding_item, embedding_nb_days])\n",
        "\n",
        "    concat_embedding_input = tf.keras.layers.BatchNormalization(\n",
        "     name='batchnorm_inputs')(concat_embedding_input)\n",
        "    \n",
        "    # LSTM layer\n",
        "    rnn = tf.keras.layers.LSTM(units=100,\n",
        "                                   return_sequences=True,\n",
        "                                   stateful=False,\n",
        "                                   recurrent_initializer='glorot_normal',\n",
        "                                   name='LSTM_cat'\n",
        "                                   )(concat_embedding_input)\n",
        "\n",
        "    rnn = tf.keras.layers.BatchNormalization(name='batchnorm_lstm')(rnn)\n",
        "\n",
        "    # Self attention so key=value in inputs\n",
        "    att = tf.keras.layers.Attention(use_scale=False, causal=True,\n",
        "                                    name='attention')(inputs=[rnn, rnn],\n",
        "                                                      mask=[encoding_padding_mask,\n",
        "                                                            encoding_padding_mask])\n",
        "\n",
        "    # Last layer is a fully connected one\n",
        "    x = tf.keras.layers.Dense(item_vocab_size*2)(att)\n",
        "    # x = tf.keras.layers.Dense(32)(x)\n",
        "    output = tf.keras.layers.Dense(item_vocab_size, name='output')(x) #item_vocab_size\n",
        "\n",
        "    model = tf.keras.Model(inputs, output)\n",
        "\n",
        "    model.compile(\n",
        "        optimizer=tf.keras.optimizers.Adam(0.005),\n",
        "        loss=loss_function,\n",
        "        metrics=['sparse_categorical_accuracy'])\n",
        "    \n",
        "    return model"
      ]
    },
    {
      "cell_type": "code",
      "execution_count": null,
      "metadata": {
        "id": "cpfTm5vbrZ73"
      },
      "outputs": [],
      "source": [
        "\n",
        "\n",
        "#@title BuildModelHP\n",
        "def build_modelhp(max_len, item_vocab_size , embedding_item , embedding_nb_days , rnn_units_cat , learning_rate):\n",
        "    \"\"\"\n",
        "    Build a model given the hyper-parameters with item and nb_days input features\n",
        "    :param hp: (kt.HyperParameters) hyper-parameters to use when building this model\n",
        "    :return: built and compiled tensorflow model \n",
        "    \"\"\"\n",
        "    inputs = {}\n",
        "    inputs['item_id'] = tf.keras.Input(batch_input_shape=[None, max_len],\n",
        "                                       name='item_id', dtype=tf.int32)\n",
        "    # create encoding padding mask\n",
        "    encoding_padding_mask = tf.math.logical_not(tf.math.equal(inputs['item_id'], 0))\n",
        "\n",
        "    # nb_days bucketized\n",
        "    inputs['nb_days'] = tf.keras.Input(batch_input_shape=[None, max_len],\n",
        "                                       name='nb_days', dtype=tf.int32)\n",
        "\n",
        "    # Pass categorical input through embedding layer\n",
        "    # with size equals to tokenizer vocabulary size\n",
        "    # Remember that vocab_size is len of item tokenizer + 1\n",
        "    # (for the padding '0' value)\n",
        "    \n",
        "    embedding_item = tf.keras.layers.Embedding(input_dim=item_vocab_size,\n",
        "                                               output_dim=embedding_item,\n",
        "                                               name='embedding_item'\n",
        "                                              )(inputs['item_id'])\n",
        "    # nbins=100, +1 for zero padding\n",
        "    embedding_nb_days = tf.keras.layers.Embedding(input_dim=100 + 1,\n",
        "                                                  output_dim=embedding_nb_days,\n",
        "                                                  name='embedding_nb_days'\n",
        "                                                 )(inputs['nb_days'])\n",
        "\n",
        "    #  Concatenate embedding layers\n",
        "    concat_embedding_input = tf.keras.layers.Concatenate(\n",
        "     name='concat_embedding_input')([embedding_item, embedding_nb_days])\n",
        "\n",
        "    concat_embedding_input = tf.keras.layers.BatchNormalization( name='batchnorm_inputs')(concat_embedding_input)\n",
        "    \n",
        "    # LSTM layer\n",
        "    rnn = tf.keras.layers.LSTM(units=rnn_units_cat, return_sequences=True,  stateful=False,recurrent_initializer='glorot_normal', name='LSTM_cat')(concat_embedding_input)\n",
        "\n",
        "    rnn = tf.keras.layers.BatchNormalization(name='batchnorm_lstm')(rnn)\n",
        "\n",
        "    # Self attention so key=value in inputs\n",
        "    att = tf.keras.layers.Attention(use_scale=False, causal=True,\n",
        "                                    name='attention')(inputs=[rnn, rnn],\n",
        "                                                      mask=[encoding_padding_mask,\n",
        "                                                            encoding_padding_mask])\n",
        "\n",
        "    # Last layer is a fully connected one\n",
        "    output = tf.keras.layers.Dense(item_vocab_size, name='output')(att)\n",
        "\n",
        "    model = tf.keras.Model(inputs, output)\n",
        "    model.compile( optimizer=tf.keras.optimizers.Adam(learning_rate),   loss=loss_function, metrics=['sparse_categorical_accuracy'])\n",
        "    \n",
        "    return model\n",
        "     \n",
        "\n",
        "\n",
        "     \n"
      ]
    },
    {
      "cell_type": "code",
      "execution_count": null,
      "metadata": {
        "id": "sPZGiPdHraAN"
      },
      "outputs": [],
      "source": [
        "#@title LossFun\n",
        "def loss_function(real, pred):\n",
        "    \"\"\"\n",
        "    We redefine our own loss function in order to get rid of the '0' value\n",
        "    which is the one used for padding. This to avoid that the model optimize itself\n",
        "    by predicting this value because it is the padding one.\n",
        "    \n",
        "    :param real: the truth\n",
        "    :param pred: predictions\n",
        "    :return: a masked loss where '0' in real (due to padding)\n",
        "                are not taken into account for the evaluation\n",
        "    \"\"\"\n",
        "\n",
        "    # to check that pred is numric and not nan\n",
        "    mask = tf.math.logical_not(tf.math.equal(real, 0))\n",
        "    loss_object_ = tf.keras.losses.SparseCategoricalCrossentropy(from_logits=True,\n",
        "                                                                 reduction='none')\n",
        "    loss_ = loss_object_(real, pred)\n",
        "    mask = tf.cast(mask, dtype=loss_.dtype)\n",
        "    loss_ *= mask\n",
        "\n",
        "    return tf.reduce_mean(loss_)"
      ]
    },
    {
      "cell_type": "code",
      "execution_count": null,
      "metadata": {
        "id": "gqpduDv0raEU"
      },
      "outputs": [],
      "source": [
        "#@title FitModel\n",
        "def fit_model(model, train_dataset, steps_per_epoch, epochs):\n",
        "    \"\"\"\n",
        "    Fit the Keras model on the training dataset for a number of given epochs\n",
        "    :param model: tf model to be trained\n",
        "    :param train_dataset: (tf.data.Dataset object) the training dataset\n",
        "                          used to fit the model\n",
        "    :param steps_per_epoch: (int) Total number of steps (batches of samples) before \n",
        "                            declaring one epoch finished and starting the next epoch.\n",
        "    :param epochs: (int) the number of epochs for the fitting phase\n",
        "    :return: tuple (mirrored_model, history) with trained model and model history\n",
        "    \"\"\"\n",
        "        # mirrored_strategy allows to use multi GPUs when available\n",
        "    mirrored_strategy = tf.distribute.experimental.MultiWorkerMirroredStrategy(\n",
        "        tf.distribute.experimental.CollectiveCommunication.AUTO)\n",
        "    \n",
        "    with mirrored_strategy.scope():\n",
        "        mirrored_model = model\n",
        "    early_stopping = tf.keras.callbacks.EarlyStopping(patience=2)\n",
        "\n",
        "    history = mirrored_model.fit(train_dataset,  steps_per_epoch=steps_per_epoch,epochs=epochs,callbacks=early_stopping, verbose=2)\n",
        "\n",
        "    return mirrored_model, history\n",
        "     "
      ]
    },
    {
      "cell_type": "code",
      "execution_count": null,
      "metadata": {
        "id": "XjScyQEDsNNJ"
      },
      "outputs": [],
      "source": [
        "# #@title TrainHP\n",
        "# from kerastuner.tuners import RandomSearch\n",
        "\n",
        "# # create a tuner object and define the hyperparameter search space\n",
        "# tuner = RandomSearch(\n",
        "#     build_modelhp,\n",
        "#     objective='val_loss',\n",
        "#     max_trials=10,\n",
        "#     directory='my_dir',\n",
        "#     project_name='my_project',\n",
        "#     hyperparameters={\n",
        "#         'max_len': [3,5,10],\n",
        "#         'item_vocab_size':600,\n",
        "#         'embedding_item': [16, 32, 64],\n",
        "#         'embedding_nb_days': [32, 64, 128],\n",
        "#         'rnn_units_cat': [32, 64, 128],       \n",
        "#         'learning_rate': [0.2, 0.3, 0.4]\n",
        "#     })\n",
        "\n",
        "# # prepare the training and validation data\n",
        "# ...\n",
        "\n",
        "# # start the hyperparameter search\n",
        "# tuner.search(train_dataset, epochs=10)\n",
        "\n",
        "# # fit_model(model, train_dataset, steps_per_epoch, epochs)\n",
        "# # print the best hyperparameters found\n",
        "# best_hyperparams = tuner.get_best_hyperparameters()[0].values\n",
        "# print(\"Best Hyperparameters:\", best_hyperparams)\n"
      ]
    },
    {
      "cell_type": "code",
      "execution_count": null,
      "metadata": {
        "id": "jgefwRRzsRHn"
      },
      "outputs": [],
      "source": [
        "\n",
        "from keras.callbacks import EarlyStopping\n",
        "#@title Train\n",
        "\n",
        "hyperparameters={\n",
        "        'max_len': max_len,\n",
        "        'item_vocab_size':item_vocab_size,\n",
        "        'embedding_item': 16,\n",
        "        'embedding_nb_days': 16,\n",
        "        'rnn_units_cat': 128,       \n",
        "        'learning_rate': 0.008    }\n",
        "\n",
        "\n",
        "model=build_modelhp(**hyperparameters)\n",
        "\n",
        "fit_model(model, train_dataset,50, 50)\n",
        "     \n"
      ]
    },
    {
      "cell_type": "markdown",
      "source": [
        "******************************************************************************\n",
        "# Save and load model"
      ],
      "metadata": {
        "id": "8dsh8imBlGTt"
      }
    },
    {
      "cell_type": "code",
      "source": [
        "from tensorflow.keras.models import Sequential, save_model, load_model"
      ],
      "metadata": {
        "id": "l7m43cUZ6-GN"
      },
      "execution_count": null,
      "outputs": []
    },
    {
      "cell_type": "code",
      "source": [
        "filepath = '/content/drive/MyDrive/Recommendation/Functional2'\n",
        "save_model(model, filepath)"
      ],
      "metadata": {
        "id": "6jHWeKYi6tNB"
      },
      "execution_count": null,
      "outputs": []
    },
    {
      "cell_type": "markdown",
      "source": [
        "# Load model"
      ],
      "metadata": {
        "id": "xEAcF_KqW0cv"
      }
    },
    {
      "cell_type": "code",
      "source": [
        "#@title LossFun\n",
        "def loss_function(real, pred):\n",
        "    \"\"\"\n",
        "    We redefine our own loss function in order to get rid of the '0' value\n",
        "    which is the one used for padding. This to avoid that the model optimize itself\n",
        "    by predicting this value because it is the padding one.\n",
        "    \n",
        "    :param real: the truth\n",
        "    :param pred: predictions\n",
        "    :return: a masked loss where '0' in real (due to padding)\n",
        "                are not taken into account for the evaluation\n",
        "    \"\"\"\n",
        "\n",
        "    # to check that pred is numric and not nan\n",
        "    mask = tf.math.logical_not(tf.math.equal(real, 0))\n",
        "    loss_object_ = tf.keras.losses.SparseCategoricalCrossentropy(from_logits=True,\n",
        "                                                                 reduction='none')\n",
        "    loss_ = loss_object_(real, pred)\n",
        "    mask = tf.cast(mask, dtype=loss_.dtype)\n",
        "    loss_ *= mask\n",
        "\n",
        "    return tf.reduce_mean(loss_)\n",
        "# # Save the model\n",
        "filepath = '/content/drive/MyDrive/Recommendation/Functional'\n",
        "model_S = tf.keras.models.load_model(filepath, custom_objects={'loss_function': loss_function})"
      ],
      "metadata": {
        "id": "5v5T1_vv8Ib4"
      },
      "execution_count": 6,
      "outputs": []
    },
    {
      "cell_type": "markdown",
      "source": [
        "# بار گذاری دیتاهای مورد نیاز"
      ],
      "metadata": {
        "id": "EipO_4LxZhGB"
      }
    },
    {
      "cell_type": "code",
      "source": [
        "df1=pd.read_csv('/content/drive/MyDrive/Recommendation/final_data.csv')"
      ],
      "metadata": {
        "id": "bR5q1IKeZmqO"
      },
      "execution_count": 28,
      "outputs": []
    },
    {
      "cell_type": "code",
      "source": [
        "servicesdf = pd.read_csv ('/content/drive/MyDrive/Recommendation/final_data.csv', index_col='Unnamed: 0')\n",
        "servicesdf.head()"
      ],
      "metadata": {
        "colab": {
          "base_uri": "https://localhost:8080/",
          "height": 206
        },
        "id": "92xVP8B88b6m",
        "outputId": "92347ec9-cb21-413a-d292-3197aec5ba87"
      },
      "execution_count": 7,
      "outputs": [
        {
          "output_type": "execute_result",
          "data": {
            "text/plain": [
              "                          Init  service  user  Time\n",
              "40557  2017-06-13 11:00:31.553        0   127     0\n",
              "40555  2017-06-13 12:49:36.030        0   130     0\n",
              "40554  2017-06-13 13:04:06.644        0   132     0\n",
              "40629  2017-06-14 07:35:55.062        0   134     0\n",
              "40553  2017-06-14 07:37:21.488        4   134     0"
            ],
            "text/html": [
              "\n",
              "  <div id=\"df-da195781-db85-4704-a693-eb6b64cbb711\">\n",
              "    <div class=\"colab-df-container\">\n",
              "      <div>\n",
              "<style scoped>\n",
              "    .dataframe tbody tr th:only-of-type {\n",
              "        vertical-align: middle;\n",
              "    }\n",
              "\n",
              "    .dataframe tbody tr th {\n",
              "        vertical-align: top;\n",
              "    }\n",
              "\n",
              "    .dataframe thead th {\n",
              "        text-align: right;\n",
              "    }\n",
              "</style>\n",
              "<table border=\"1\" class=\"dataframe\">\n",
              "  <thead>\n",
              "    <tr style=\"text-align: right;\">\n",
              "      <th></th>\n",
              "      <th>Init</th>\n",
              "      <th>service</th>\n",
              "      <th>user</th>\n",
              "      <th>Time</th>\n",
              "    </tr>\n",
              "  </thead>\n",
              "  <tbody>\n",
              "    <tr>\n",
              "      <th>40557</th>\n",
              "      <td>2017-06-13 11:00:31.553</td>\n",
              "      <td>0</td>\n",
              "      <td>127</td>\n",
              "      <td>0</td>\n",
              "    </tr>\n",
              "    <tr>\n",
              "      <th>40555</th>\n",
              "      <td>2017-06-13 12:49:36.030</td>\n",
              "      <td>0</td>\n",
              "      <td>130</td>\n",
              "      <td>0</td>\n",
              "    </tr>\n",
              "    <tr>\n",
              "      <th>40554</th>\n",
              "      <td>2017-06-13 13:04:06.644</td>\n",
              "      <td>0</td>\n",
              "      <td>132</td>\n",
              "      <td>0</td>\n",
              "    </tr>\n",
              "    <tr>\n",
              "      <th>40629</th>\n",
              "      <td>2017-06-14 07:35:55.062</td>\n",
              "      <td>0</td>\n",
              "      <td>134</td>\n",
              "      <td>0</td>\n",
              "    </tr>\n",
              "    <tr>\n",
              "      <th>40553</th>\n",
              "      <td>2017-06-14 07:37:21.488</td>\n",
              "      <td>4</td>\n",
              "      <td>134</td>\n",
              "      <td>0</td>\n",
              "    </tr>\n",
              "  </tbody>\n",
              "</table>\n",
              "</div>\n",
              "      <button class=\"colab-df-convert\" onclick=\"convertToInteractive('df-da195781-db85-4704-a693-eb6b64cbb711')\"\n",
              "              title=\"Convert this dataframe to an interactive table.\"\n",
              "              style=\"display:none;\">\n",
              "        \n",
              "  <svg xmlns=\"http://www.w3.org/2000/svg\" height=\"24px\"viewBox=\"0 0 24 24\"\n",
              "       width=\"24px\">\n",
              "    <path d=\"M0 0h24v24H0V0z\" fill=\"none\"/>\n",
              "    <path d=\"M18.56 5.44l.94 2.06.94-2.06 2.06-.94-2.06-.94-.94-2.06-.94 2.06-2.06.94zm-11 1L8.5 8.5l.94-2.06 2.06-.94-2.06-.94L8.5 2.5l-.94 2.06-2.06.94zm10 10l.94 2.06.94-2.06 2.06-.94-2.06-.94-.94-2.06-.94 2.06-2.06.94z\"/><path d=\"M17.41 7.96l-1.37-1.37c-.4-.4-.92-.59-1.43-.59-.52 0-1.04.2-1.43.59L10.3 9.45l-7.72 7.72c-.78.78-.78 2.05 0 2.83L4 21.41c.39.39.9.59 1.41.59.51 0 1.02-.2 1.41-.59l7.78-7.78 2.81-2.81c.8-.78.8-2.07 0-2.86zM5.41 20L4 18.59l7.72-7.72 1.47 1.35L5.41 20z\"/>\n",
              "  </svg>\n",
              "      </button>\n",
              "      \n",
              "  <style>\n",
              "    .colab-df-container {\n",
              "      display:flex;\n",
              "      flex-wrap:wrap;\n",
              "      gap: 12px;\n",
              "    }\n",
              "\n",
              "    .colab-df-convert {\n",
              "      background-color: #E8F0FE;\n",
              "      border: none;\n",
              "      border-radius: 50%;\n",
              "      cursor: pointer;\n",
              "      display: none;\n",
              "      fill: #1967D2;\n",
              "      height: 32px;\n",
              "      padding: 0 0 0 0;\n",
              "      width: 32px;\n",
              "    }\n",
              "\n",
              "    .colab-df-convert:hover {\n",
              "      background-color: #E2EBFA;\n",
              "      box-shadow: 0px 1px 2px rgba(60, 64, 67, 0.3), 0px 1px 3px 1px rgba(60, 64, 67, 0.15);\n",
              "      fill: #174EA6;\n",
              "    }\n",
              "\n",
              "    [theme=dark] .colab-df-convert {\n",
              "      background-color: #3B4455;\n",
              "      fill: #D2E3FC;\n",
              "    }\n",
              "\n",
              "    [theme=dark] .colab-df-convert:hover {\n",
              "      background-color: #434B5C;\n",
              "      box-shadow: 0px 1px 3px 1px rgba(0, 0, 0, 0.15);\n",
              "      filter: drop-shadow(0px 1px 2px rgba(0, 0, 0, 0.3));\n",
              "      fill: #FFFFFF;\n",
              "    }\n",
              "  </style>\n",
              "\n",
              "      <script>\n",
              "        const buttonEl =\n",
              "          document.querySelector('#df-da195781-db85-4704-a693-eb6b64cbb711 button.colab-df-convert');\n",
              "        buttonEl.style.display =\n",
              "          google.colab.kernel.accessAllowed ? 'block' : 'none';\n",
              "\n",
              "        async function convertToInteractive(key) {\n",
              "          const element = document.querySelector('#df-da195781-db85-4704-a693-eb6b64cbb711');\n",
              "          const dataTable =\n",
              "            await google.colab.kernel.invokeFunction('convertToInteractive',\n",
              "                                                     [key], {});\n",
              "          if (!dataTable) return;\n",
              "\n",
              "          const docLinkHtml = 'Like what you see? Visit the ' +\n",
              "            '<a target=\"_blank\" href=https://colab.research.google.com/notebooks/data_table.ipynb>data table notebook</a>'\n",
              "            + ' to learn more about interactive tables.';\n",
              "          element.innerHTML = '';\n",
              "          dataTable['output_type'] = 'display_data';\n",
              "          await google.colab.output.renderOutput(dataTable, element);\n",
              "          const docLink = document.createElement('div');\n",
              "          docLink.innerHTML = docLinkHtml;\n",
              "          element.appendChild(docLink);\n",
              "        }\n",
              "      </script>\n",
              "    </div>\n",
              "  </div>\n",
              "  "
            ]
          },
          "metadata": {},
          "execution_count": 7
        }
      ]
    },
    {
      "cell_type": "code",
      "source": [
        "import csv"
      ],
      "metadata": {
        "id": "Dx_qnu9mEUJo"
      },
      "execution_count": 8,
      "outputs": []
    },
    {
      "cell_type": "code",
      "source": [
        "\n",
        "def ppredict(userno):\n",
        "  dftest= df1[df1.user==userno]\n",
        "  dfuserservice = pd.merge(dftest, servicesdf, on=\"service\")\n",
        "  dfuserservice.drop(columns='service', inplace= True)\n",
        "  # print(tabulate(dftest, headers='keys', tablefmt='psql'))\n",
        "\n",
        "\n",
        "  seqservicet , seqtimet ,seqtargett  =[] ,[] ,[] \n",
        "  for user in dftest.user.unique():\n",
        "    user_data = dftest[dftest['user'] == user].sort_values('Time')\n",
        "    seqservicet.append(user_data.service.values.tolist()[0:-1])\n",
        "    seqtimet.append(user_data.Time.values.tolist()[0:-1])\n",
        "    seqtargett.append(user_data.Time.values.tolist()[1:])\n",
        "\n",
        "  test_dict = dict(zip(['item_id', 'nb_days', 'target'],[tf.keras.utils.pad_sequences(seqservicet , maxlen=max_len), tf.keras.utils.pad_sequences(seqtimet, maxlen=max_len), tf.keras.utils.pad_sequences(seqtargett, maxlen=max_len)]))\n",
        "  test_feat_dict = {'item_id': test_dict['item_id'],'nb_days': test_dict['nb_days']}\n",
        "  y=model_S.predict(test_feat_dict)\n",
        "  mmax=0\n",
        "  mmlist=[]\n",
        "  for i in range(max_len):\n",
        "    values= y[0][i].tolist()\n",
        "    while True:\n",
        "      if max(values) in mmlist: \n",
        "        values[values.index(max(values))]=0\n",
        "      else:      \n",
        "        break\n",
        "    mmax=max(values)\n",
        "    mmlist.append(mmax)\n",
        "    # print(servicesdf[servicesdf.service==values.index(max(values))].service.values)\n",
        "\n",
        "  finaly= np.zeros((item_vocab_size))\n",
        "  for i in range(len(y[0])):\n",
        "      finaly+=y[0][i]\n",
        "  sortyindex=np.argsort(finaly)[-10:]\n",
        "  finaly.sort()\n",
        "  # print(finaly[-10:])\n",
        "  print('-------------------------------------- Method 2:')\n",
        "  x= servicesdf[servicesdf.service.isin(sortyindex)].service.values[-10:]\n",
        "  return x\n"
      ],
      "metadata": {
        "id": "pgDvyoQZ8b9t"
      },
      "execution_count": 29,
      "outputs": []
    },
    {
      "cell_type": "code",
      "source": [
        "ppredict(135)"
      ],
      "metadata": {
        "colab": {
          "base_uri": "https://localhost:8080/"
        },
        "id": "WH3A44i_Yiuh",
        "outputId": "82b5a6a4-615f-4737-f0fc-1fb251755352"
      },
      "execution_count": 30,
      "outputs": [
        {
          "output_type": "stream",
          "name": "stdout",
          "text": [
            "1/1 [==============================] - 4s 4s/step\n",
            "-------------------------------------- Method 2:\n"
          ]
        },
        {
          "output_type": "execute_result",
          "data": {
            "text/plain": [
              "array([62, 67, 68, 68, 64, 67, 67, 63, 64, 67])"
            ]
          },
          "metadata": {},
          "execution_count": 30
        }
      ]
    },
    {
      "cell_type": "markdown",
      "source": [
        "************************************************************************************************************************************************************************************************************************************************"
      ],
      "metadata": {
        "id": "K4s7UMb1vMNA"
      }
    },
    {
      "cell_type": "markdown",
      "source": [
        "# Predict function"
      ],
      "metadata": {
        "id": "thrbtiSkhCNs"
      }
    },
    {
      "cell_type": "markdown",
      "source": [
        "# در اینجا تمام خروجی ها در یک فایل ذخیره میشوند به صورت فرمت زیر"
      ],
      "metadata": {
        "id": "Zezpm2VKcN8-"
      }
    },
    {
      "cell_type": "code",
      "source": [
        "'''User ID\tService\n",
        "127\t[68 80 84 68 80 59 75 84 80 75]\n",
        "130\t[68 80 84 68 80 59 75 84 80 75]\n",
        "132\t[27 61 29 29 29 28 59 29 27 29]\n",
        "134\t[84 68 74 68 80 84 68 80 84 80]\n",
        "135\t[62 67 68 68 64 67 67 63 64 67]\n",
        "137\t[74 67 68 80 68 80 67 67 80 67]\n",
        "139\t[68 80 84 68 80 59 75 84 80 75]\n",
        "141\t[84 68 74 68 80 84 68 80 84 80]\n",
        "144\t[68 80 84 68 80 59 75 84 80 75]\n",
        "155\t[35 46 36 37 49 47 49 37 46 34]'''"
      ],
      "metadata": {
        "id": "K1_SGo1TcbQM"
      },
      "execution_count": null,
      "outputs": []
    },
    {
      "cell_type": "code",
      "source": [
        "import csv\n",
        "\n",
        "def generate_output1():\n",
        "    count=0\n",
        "    # Iterate over all users in the dataset\n",
        "    all_users = df1['user'].unique()[:10]\n",
        "    filename = '/content/drive/MyDrive/Final_Recommender/RNN/user_RNN.csv'\n",
        "    \n",
        "    with open(filename, 'a', newline='') as csvfile:  # changed mode from 'w' to 'a'\n",
        "        writer = csv.writer(csvfile)\n",
        "        \n",
        "        # write header only if the file is empty\n",
        "        if csvfile.tell() == 0:\n",
        "            writer.writerow(['User ID', 'Service'])\n",
        "        \n",
        "        for user in all_users:\n",
        "            user_output = ppredict(user)\n",
        "            print(user)\n",
        "            print(user_output)\n",
        "\n",
        "            writer.writerow([user, user_output]) \n",
        "            \n",
        "            count += 1\n",
        "            print(count)"
      ],
      "metadata": {
        "id": "fgj6xKj1bhUt"
      },
      "execution_count": 43,
      "outputs": []
    },
    {
      "cell_type": "code",
      "source": [
        "generate_output1()"
      ],
      "metadata": {
        "colab": {
          "base_uri": "https://localhost:8080/"
        },
        "id": "Dbf4D0lXYCsA",
        "outputId": "292e8d1f-36ee-4972-abef-9feb27179421"
      },
      "execution_count": 44,
      "outputs": [
        {
          "output_type": "stream",
          "name": "stdout",
          "text": [
            "1/1 [==============================] - 0s 21ms/step\n",
            "-------------------------------------- Method 2:\n",
            "127\n",
            "[68 80 84 68 80 59 75 84 80 75]\n",
            "1\n",
            "1/1 [==============================] - 0s 25ms/step\n",
            "-------------------------------------- Method 2:\n",
            "130\n",
            "[68 80 84 68 80 59 75 84 80 75]\n",
            "2\n",
            "1/1 [==============================] - 0s 26ms/step\n",
            "-------------------------------------- Method 2:\n",
            "132\n",
            "[27 61 29 29 29 28 59 29 27 29]\n",
            "3\n",
            "1/1 [==============================] - 0s 22ms/step\n",
            "-------------------------------------- Method 2:\n",
            "134\n",
            "[84 68 74 68 80 84 68 80 84 80]\n",
            "4\n",
            "1/1 [==============================] - 0s 21ms/step\n",
            "-------------------------------------- Method 2:\n",
            "135\n",
            "[62 67 68 68 64 67 67 63 64 67]\n",
            "5\n",
            "1/1 [==============================] - 0s 20ms/step\n",
            "-------------------------------------- Method 2:\n",
            "137\n",
            "[74 67 68 80 68 80 67 67 80 67]\n",
            "6\n",
            "1/1 [==============================] - 0s 21ms/step\n",
            "-------------------------------------- Method 2:\n",
            "139\n",
            "[68 80 84 68 80 59 75 84 80 75]\n",
            "7\n",
            "1/1 [==============================] - 0s 24ms/step\n",
            "-------------------------------------- Method 2:\n",
            "141\n",
            "[84 68 74 68 80 84 68 80 84 80]\n",
            "8\n",
            "1/1 [==============================] - 0s 24ms/step\n",
            "-------------------------------------- Method 2:\n",
            "144\n",
            "[68 80 84 68 80 59 75 84 80 75]\n",
            "9\n",
            "1/1 [==============================] - 0s 20ms/step\n",
            "-------------------------------------- Method 2:\n",
            "155\n",
            "[35 46 36 37 49 47 49 37 46 34]\n",
            "10\n"
          ]
        }
      ]
    }
  ],
  "metadata": {
    "colab": {
      "provenance": [],
      "gpuType": "T4"
    },
    "kernelspec": {
      "display_name": "Python 3",
      "name": "python3"
    },
    "language_info": {
      "name": "python"
    },
    "accelerator": "GPU"
  },
  "nbformat": 4,
  "nbformat_minor": 0
}