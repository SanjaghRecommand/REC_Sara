{
  "nbformat": 4,
  "nbformat_minor": 0,
  "metadata": {
    "colab": {
      "provenance": [],
      "mount_file_id": "1EjjNDf_4aScYGU-54qS4TLWn52htifRy",
      "authorship_tag": "ABX9TyOB7fZtIdvwR/UliUnKI4PO",
      "include_colab_link": true
    },
    "kernelspec": {
      "name": "python3",
      "display_name": "Python 3"
    },
    "language_info": {
      "name": "python"
    }
  },
  "cells": [
    {
      "cell_type": "markdown",
      "metadata": {
        "id": "view-in-github",
        "colab_type": "text"
      },
      "source": [
        "<a href=\"https://colab.research.google.com/github/SanjaghRecommand/Recommend/blob/Foad/tensorflow_recommenders.ipynb\" target=\"_parent\"><img src=\"https://colab.research.google.com/assets/colab-badge.svg\" alt=\"Open In Colab\"/></a>"
      ]
    },
    {
      "cell_type": "code",
      "source": [
        "pip install tensorflow_recommenders"
      ],
      "metadata": {
        "id": "lEuiw6nEG4_f"
      },
      "execution_count": null,
      "outputs": []
    },
    {
      "cell_type": "code",
      "source": [
        "from typing import Dict, Text\n",
        " \n",
        "import numpy as np\n",
        "import pandas as pd\n",
        "import tensorflow as tf\n",
        " \n",
        "import tensorflow_recommenders as tfrs "
      ],
      "metadata": {
        "id": "2Bnfmwk9j2zA"
      },
      "execution_count": null,
      "outputs": []
    },
    {
      "cell_type": "code",
      "source": [
        "data = pd.read_csv ('/content/drive/MyDrive/Colab Notebooks/sanjaghshare/data/dfn3share.csv')\n",
        "# dffull = pd.read_csv ('/content/drive/MyDrive/Colab Notebooks/sanjaghshare/data/taskfullshare.csv')"
      ],
      "metadata": {
        "id": "IWPsNfpZw6Rb"
      },
      "execution_count": null,
      "outputs": []
    },
    {
      "cell_type": "code",
      "source": [
        "data"
      ],
      "metadata": {
        "colab": {
          "base_uri": "https://localhost:8080/",
          "height": 424
        },
        "id": "9vy-v0IgHgK3",
        "outputId": "e28c193a-ae4d-4665-d076-e67c0e609187"
      },
      "execution_count": null,
      "outputs": [
        {
          "output_type": "execute_result",
          "data": {
            "text/plain": [
              "         Unnamed: 0     user  service  count  subcat  gender\n",
              "0                 0     3646       92    127      15       1\n",
              "1                 1     3646       94     18      15       1\n",
              "2                 2     3646       93     19      15       1\n",
              "3                 3     3646       95      2      17       1\n",
              "4                 4     3646      114      1      15       1\n",
              "...             ...      ...      ...    ...     ...     ...\n",
              "1143745     1143745  1476035      525      2      72       1\n",
              "1143746     1143746  1396700      525      2      72       3\n",
              "1143747     1143747  1444961      185      2      25       2\n",
              "1143748     1143748  1507320      207      1      25       2\n",
              "1143749     1143749  1507320      198      1      25       2\n",
              "\n",
              "[1143750 rows x 6 columns]"
            ],
            "text/html": [
              "\n",
              "  <div id=\"df-449f99a7-4bd6-43c4-8942-48e99d132e59\">\n",
              "    <div class=\"colab-df-container\">\n",
              "      <div>\n",
              "<style scoped>\n",
              "    .dataframe tbody tr th:only-of-type {\n",
              "        vertical-align: middle;\n",
              "    }\n",
              "\n",
              "    .dataframe tbody tr th {\n",
              "        vertical-align: top;\n",
              "    }\n",
              "\n",
              "    .dataframe thead th {\n",
              "        text-align: right;\n",
              "    }\n",
              "</style>\n",
              "<table border=\"1\" class=\"dataframe\">\n",
              "  <thead>\n",
              "    <tr style=\"text-align: right;\">\n",
              "      <th></th>\n",
              "      <th>Unnamed: 0</th>\n",
              "      <th>user</th>\n",
              "      <th>service</th>\n",
              "      <th>count</th>\n",
              "      <th>subcat</th>\n",
              "      <th>gender</th>\n",
              "    </tr>\n",
              "  </thead>\n",
              "  <tbody>\n",
              "    <tr>\n",
              "      <th>0</th>\n",
              "      <td>0</td>\n",
              "      <td>3646</td>\n",
              "      <td>92</td>\n",
              "      <td>127</td>\n",
              "      <td>15</td>\n",
              "      <td>1</td>\n",
              "    </tr>\n",
              "    <tr>\n",
              "      <th>1</th>\n",
              "      <td>1</td>\n",
              "      <td>3646</td>\n",
              "      <td>94</td>\n",
              "      <td>18</td>\n",
              "      <td>15</td>\n",
              "      <td>1</td>\n",
              "    </tr>\n",
              "    <tr>\n",
              "      <th>2</th>\n",
              "      <td>2</td>\n",
              "      <td>3646</td>\n",
              "      <td>93</td>\n",
              "      <td>19</td>\n",
              "      <td>15</td>\n",
              "      <td>1</td>\n",
              "    </tr>\n",
              "    <tr>\n",
              "      <th>3</th>\n",
              "      <td>3</td>\n",
              "      <td>3646</td>\n",
              "      <td>95</td>\n",
              "      <td>2</td>\n",
              "      <td>17</td>\n",
              "      <td>1</td>\n",
              "    </tr>\n",
              "    <tr>\n",
              "      <th>4</th>\n",
              "      <td>4</td>\n",
              "      <td>3646</td>\n",
              "      <td>114</td>\n",
              "      <td>1</td>\n",
              "      <td>15</td>\n",
              "      <td>1</td>\n",
              "    </tr>\n",
              "    <tr>\n",
              "      <th>...</th>\n",
              "      <td>...</td>\n",
              "      <td>...</td>\n",
              "      <td>...</td>\n",
              "      <td>...</td>\n",
              "      <td>...</td>\n",
              "      <td>...</td>\n",
              "    </tr>\n",
              "    <tr>\n",
              "      <th>1143745</th>\n",
              "      <td>1143745</td>\n",
              "      <td>1476035</td>\n",
              "      <td>525</td>\n",
              "      <td>2</td>\n",
              "      <td>72</td>\n",
              "      <td>1</td>\n",
              "    </tr>\n",
              "    <tr>\n",
              "      <th>1143746</th>\n",
              "      <td>1143746</td>\n",
              "      <td>1396700</td>\n",
              "      <td>525</td>\n",
              "      <td>2</td>\n",
              "      <td>72</td>\n",
              "      <td>3</td>\n",
              "    </tr>\n",
              "    <tr>\n",
              "      <th>1143747</th>\n",
              "      <td>1143747</td>\n",
              "      <td>1444961</td>\n",
              "      <td>185</td>\n",
              "      <td>2</td>\n",
              "      <td>25</td>\n",
              "      <td>2</td>\n",
              "    </tr>\n",
              "    <tr>\n",
              "      <th>1143748</th>\n",
              "      <td>1143748</td>\n",
              "      <td>1507320</td>\n",
              "      <td>207</td>\n",
              "      <td>1</td>\n",
              "      <td>25</td>\n",
              "      <td>2</td>\n",
              "    </tr>\n",
              "    <tr>\n",
              "      <th>1143749</th>\n",
              "      <td>1143749</td>\n",
              "      <td>1507320</td>\n",
              "      <td>198</td>\n",
              "      <td>1</td>\n",
              "      <td>25</td>\n",
              "      <td>2</td>\n",
              "    </tr>\n",
              "  </tbody>\n",
              "</table>\n",
              "<p>1143750 rows × 6 columns</p>\n",
              "</div>\n",
              "      <button class=\"colab-df-convert\" onclick=\"convertToInteractive('df-449f99a7-4bd6-43c4-8942-48e99d132e59')\"\n",
              "              title=\"Convert this dataframe to an interactive table.\"\n",
              "              style=\"display:none;\">\n",
              "        \n",
              "  <svg xmlns=\"http://www.w3.org/2000/svg\" height=\"24px\"viewBox=\"0 0 24 24\"\n",
              "       width=\"24px\">\n",
              "    <path d=\"M0 0h24v24H0V0z\" fill=\"none\"/>\n",
              "    <path d=\"M18.56 5.44l.94 2.06.94-2.06 2.06-.94-2.06-.94-.94-2.06-.94 2.06-2.06.94zm-11 1L8.5 8.5l.94-2.06 2.06-.94-2.06-.94L8.5 2.5l-.94 2.06-2.06.94zm10 10l.94 2.06.94-2.06 2.06-.94-2.06-.94-.94-2.06-.94 2.06-2.06.94z\"/><path d=\"M17.41 7.96l-1.37-1.37c-.4-.4-.92-.59-1.43-.59-.52 0-1.04.2-1.43.59L10.3 9.45l-7.72 7.72c-.78.78-.78 2.05 0 2.83L4 21.41c.39.39.9.59 1.41.59.51 0 1.02-.2 1.41-.59l7.78-7.78 2.81-2.81c.8-.78.8-2.07 0-2.86zM5.41 20L4 18.59l7.72-7.72 1.47 1.35L5.41 20z\"/>\n",
              "  </svg>\n",
              "      </button>\n",
              "      \n",
              "  <style>\n",
              "    .colab-df-container {\n",
              "      display:flex;\n",
              "      flex-wrap:wrap;\n",
              "      gap: 12px;\n",
              "    }\n",
              "\n",
              "    .colab-df-convert {\n",
              "      background-color: #E8F0FE;\n",
              "      border: none;\n",
              "      border-radius: 50%;\n",
              "      cursor: pointer;\n",
              "      display: none;\n",
              "      fill: #1967D2;\n",
              "      height: 32px;\n",
              "      padding: 0 0 0 0;\n",
              "      width: 32px;\n",
              "    }\n",
              "\n",
              "    .colab-df-convert:hover {\n",
              "      background-color: #E2EBFA;\n",
              "      box-shadow: 0px 1px 2px rgba(60, 64, 67, 0.3), 0px 1px 3px 1px rgba(60, 64, 67, 0.15);\n",
              "      fill: #174EA6;\n",
              "    }\n",
              "\n",
              "    [theme=dark] .colab-df-convert {\n",
              "      background-color: #3B4455;\n",
              "      fill: #D2E3FC;\n",
              "    }\n",
              "\n",
              "    [theme=dark] .colab-df-convert:hover {\n",
              "      background-color: #434B5C;\n",
              "      box-shadow: 0px 1px 3px 1px rgba(0, 0, 0, 0.15);\n",
              "      filter: drop-shadow(0px 1px 2px rgba(0, 0, 0, 0.3));\n",
              "      fill: #FFFFFF;\n",
              "    }\n",
              "  </style>\n",
              "\n",
              "      <script>\n",
              "        const buttonEl =\n",
              "          document.querySelector('#df-449f99a7-4bd6-43c4-8942-48e99d132e59 button.colab-df-convert');\n",
              "        buttonEl.style.display =\n",
              "          google.colab.kernel.accessAllowed ? 'block' : 'none';\n",
              "\n",
              "        async function convertToInteractive(key) {\n",
              "          const element = document.querySelector('#df-449f99a7-4bd6-43c4-8942-48e99d132e59');\n",
              "          const dataTable =\n",
              "            await google.colab.kernel.invokeFunction('convertToInteractive',\n",
              "                                                     [key], {});\n",
              "          if (!dataTable) return;\n",
              "\n",
              "          const docLinkHtml = 'Like what you see? Visit the ' +\n",
              "            '<a target=\"_blank\" href=https://colab.research.google.com/notebooks/data_table.ipynb>data table notebook</a>'\n",
              "            + ' to learn more about interactive tables.';\n",
              "          element.innerHTML = '';\n",
              "          dataTable['output_type'] = 'display_data';\n",
              "          await google.colab.output.renderOutput(dataTable, element);\n",
              "          const docLink = document.createElement('div');\n",
              "          docLink.innerHTML = docLinkHtml;\n",
              "          element.appendChild(docLink);\n",
              "        }\n",
              "      </script>\n",
              "    </div>\n",
              "  </div>\n",
              "  "
            ]
          },
          "metadata": {},
          "execution_count": 7
        }
      ]
    },
    {
      "cell_type": "code",
      "source": [
        "user_ids = data[\"user\"].unique()\n",
        "gender_vocab = tf.keras.layers.experimental.preprocessing.IntegerLookup(vocabulary=data[\"gender\"].unique(), mask_value=None)\n",
        "user_features = {    \"gender\": gender_vocab(tf.constant(data[\"gender\"].values))}"
      ],
      "metadata": {
        "id": "jdoDpBB-w_Jt",
        "colab": {
          "base_uri": "https://localhost:8080/"
        },
        "outputId": "5feecc61-79d5-4786-c9ec-c4910124c704"
      },
      "execution_count": null,
      "outputs": [
        {
          "output_type": "stream",
          "name": "stderr",
          "text": [
            "WARNING:tensorflow:mask_value is deprecated, use mask_token instead.\n"
          ]
        }
      ]
    },
    {
      "cell_type": "code",
      "source": [
        "service_ids = data[\"service\"].unique()\n",
        "category_vocab = tf.keras.layers.experimental.preprocessing.IntegerLookup(vocabulary=data[\"subcat\"].unique(), mask_token=None)\n",
        "service_features = {  \"category\": category_vocab(tf.constant(data[\"subcat\"].values)) }"
      ],
      "metadata": {
        "id": "lVLMT_iyGuxd"
      },
      "execution_count": null,
      "outputs": []
    },
    {
      "cell_type": "code",
      "source": [
        "interactions = tf.data.Dataset.from_tensor_slices((\n",
        "    tf.constant(data[\"user\"].values),\n",
        "    tf.constant(data[\"service\"].values),\n",
        "    tf.constant(data[\"count\"].values)))"
      ],
      "metadata": {
        "id": "cPRTeWALxWFT"
      },
      "execution_count": null,
      "outputs": []
    },
    {
      "cell_type": "code",
      "source": [
        "interactions"
      ],
      "metadata": {
        "id": "Wa7eRfM8N1ST",
        "colab": {
          "base_uri": "https://localhost:8080/"
        },
        "outputId": "ee735280-df90-4859-811e-7947760a9919"
      },
      "execution_count": null,
      "outputs": [
        {
          "output_type": "execute_result",
          "data": {
            "text/plain": [
              "<_TensorSliceDataset element_spec=(TensorSpec(shape=(), dtype=tf.int64, name=None), TensorSpec(shape=(), dtype=tf.int64, name=None), TensorSpec(shape=(), dtype=tf.int64, name=None))>"
            ]
          },
          "metadata": {},
          "execution_count": 14
        }
      ]
    },
    {
      "cell_type": "code",
      "source": [
        "train_size = int(len(data) * 0.8)\n",
        "train_data = interactions.take(train_size)\n",
        "test_data = interactions.skip(train_size)"
      ],
      "metadata": {
        "id": "ru7eYtJDN9VQ"
      },
      "execution_count": null,
      "outputs": []
    },
    {
      "cell_type": "code",
      "source": [
        "class ServiceUsageModel(tfrs.Model):\n",
        "\n",
        "  def __init__(self):\n",
        "    super().__init__()\n",
        "    embedding_dimension = 32\n",
        "    \n",
        "    self.user_embeddings = tf.keras.Sequential([\n",
        "      gender_vocab,\n",
        "      tf.keras.layers.Embedding(gender_vocab.vocab_size(), embedding_dimension)\n",
        "    ])\n",
        "    self.service_embeddings = tf.keras.Sequential([\n",
        "      category_vocab,\n",
        "      tf.keras.layers.Embedding(category_vocab.vocab_size(), embedding_dimension)\n",
        "    ])\n",
        "    \n",
        "    self.task = tfrs.tasks.Ranking(\n",
        "        loss=tf.keras.losses.MeanSquaredError(),\n",
        "        metrics=[tf.keras.metrics.RootMeanSquaredError()]\n",
        "    )\n",
        "  def compute_loss(self, inputs, targets, training=False):\n",
        "        user_embeddings = self.user_model(inputs[\"user\"])\n",
        "        service_embeddings = self.service_model(inputs[\"service\"])\n",
        "\n",
        "        # Concatenate user and service embeddings with gender and category\n",
        "        embeddings = tf.concat([user_embeddings, inputs[\"gender\"], inputs[\"category\"], service_embeddings], axis=1)\n",
        "\n",
        "        # Compute predictions and loss\n",
        "        predictions = self.task(embeddings, service_embeddings)\n",
        "        loss = self.task.loss(targets, predictions)\n",
        "\n",
        "        return loss\n",
        "\n",
        "  def call(self, features):\n",
        "    user_embeddings = self.user_embeddings(features[\"gender\"])\n",
        "    service_embeddings = self.service_embeddings(features[\"category\"])\n",
        "    return user_embeddings, service_embeddings\n",
        "\n",
        "model = ServiceUsageModel()"
      ],
      "metadata": {
        "id": "PF-f12Zcz93i",
        "colab": {
          "base_uri": "https://localhost:8080/"
        },
        "outputId": "f41e6100-7cee-47ce-c3a5-b62aa807f2aa"
      },
      "execution_count": null,
      "outputs": [
        {
          "output_type": "stream",
          "name": "stderr",
          "text": [
            "WARNING:tensorflow:vocab_size is deprecated, please use vocabulary_size.\n",
            "WARNING:tensorflow:vocab_size is deprecated, please use vocabulary_size.\n"
          ]
        }
      ]
    },
    {
      "cell_type": "code",
      "source": [
        "# model.compile(optimizer=tf.keras.optimizers.Adagrad(0.1), loss=tf.keras.losses.MeanSquaredError(), metrics=[tf.keras.metrics.RootMeanSquaredError()])\n",
        "model.compile(optimizer=tf.keras.optimizers.Adagrad(0.1))\n",
        "\n",
        "cached_train_data = train_data.shuffle(len(data)).batch(2048).cache()\n",
        "cached_test_data = test_data.batch(2048).cache()"
      ],
      "metadata": {
        "id": "_gnhA1rOO0J_"
      },
      "execution_count": null,
      "outputs": []
    },
    {
      "cell_type": "code",
      "source": [
        "model.fit(cached_train_data, epochs=10)\n"
      ],
      "metadata": {
        "id": "25rcWmf1O7j_"
      },
      "execution_count": null,
      "outputs": []
    },
    {
      "cell_type": "code",
      "source": [
        "input_data = {\n",
        "    \"user_id\": tf.constant(data[\"user\"].values),\n",
        "    \"service_id\": tf.constant(data[\"service\"].values),\n",
        "    \"gender\": tf.constant(data[\"gender\"].values),\n",
        "    \"category\": tf.constant(data[\"subcat\"].values)\n",
        "}\n",
        "target_data = tf.constant(data[\"count\"].values)\n",
        "\n",
        "# model.fit((input_data, target_data), epochs=10)"
      ],
      "metadata": {
        "id": "CVTLIJZaUYpe"
      },
      "execution_count": null,
      "outputs": []
    },
    {
      "cell_type": "code",
      "source": [
        "class ServiceUsageModel(tfrs.Model):\n",
        "    def __init__(self, user_model, service_model):\n",
        "        super().__init__()\n",
        "        self.user_model = user_model\n",
        "        self.service_model = service_model\n",
        "        self.task = tfrs.tasks.Ranking(\n",
        "            loss=tf.keras.losses.MeanSquaredError(),\n",
        "            metrics=[tf.keras.metrics.RootMeanSquaredError()]\n",
        "        )\n",
        "\n",
        "    def compute_loss(self, inputs, targets, training=False):\n",
        "        user_embeddings = self.user_model(inputs[\"user_id\"])\n",
        "        service_embeddings = self.service_model(inputs[\"service_id\"])\n",
        "\n",
        "        # Concatenate user and service embeddings with gender and category\n",
        "        embeddings = tf.concat([user_embeddings, inputs[\"gender\"], inputs[\"category\"], service_embeddings], axis=1)\n",
        "\n",
        "        # Compute predictions and loss\n",
        "        predictions = self.task(embeddings, service_embeddings)\n",
        "        loss = self.task.loss(targets, predictions)\n",
        "\n",
        "        return loss\n",
        "        "
      ],
      "metadata": {
        "id": "rM2WVB6jUpzE"
      },
      "execution_count": null,
      "outputs": []
    },
    {
      "cell_type": "code",
      "source": [
        "\n",
        "\n",
        "EMBEDDING_SIZE = 25\n",
        "num_users = 1514100\n",
        "num_services = 589\n",
        "num_cats = 81\n",
        "num_genders=3\n",
        "embedding_dim=50"
      ],
      "metadata": {
        "id": "Lhq3oQ0GYzVJ"
      },
      "execution_count": null,
      "outputs": []
    },
    {
      "cell_type": "code",
      "source": [
        "user_id = tf.keras.Input(shape=(), dtype=tf.string, name=\"user_id\")\n",
        "gender = tf.keras.Input(shape=(), dtype=tf.string, name=\"gender\")\n",
        "service_id = tf.keras.Input(shape=(), dtype=tf.string, name=\"service_id\")\n",
        "\n",
        "count = tf.keras.Input(shape=(), dtype=tf.float32, name=\"count\")\n",
        "user_id_embedding = tf.keras.layers.Embedding(input_dim=num_users, output_dim=embedding_dim, name=\"user_id_embedding\")\n",
        "gender_embedding = tf.keras.layers.Embedding(input_dim=num_genders, output_dim=embedding_dim, name=\"gender_embedding\")\n",
        "service_id_embedding = tf.keras.layers.Embedding(input_dim=num_services, output_dim=embedding_dim, name=\"service_id_embedding\")"
      ],
      "metadata": {
        "id": "7-fU_QIDW_vr"
      },
      "execution_count": null,
      "outputs": []
    },
    {
      "cell_type": "code",
      "source": [
        "user_id_embed = user_id_embedding(user_id)\n",
        "gender_embed = gender_embedding(gender)\n",
        "service_id_embed = service_id_embedding(service_id)"
      ],
      "metadata": {
        "id": "lISUs0H5Yp-E"
      },
      "execution_count": null,
      "outputs": []
    },
    {
      "cell_type": "code",
      "source": [
        "concat_layer = tf.keras.layers.Concatenate()([user_id_embed, gender_embed, service_id_embed])\n",
        "dense_layer = tf.keras.layers.Dense(units=64, activation=\"relu\")(concat_layer)\n",
        "count_pred = tf.keras.layers.Dense(units=1, activation=\"linear\")(dense_layer)"
      ],
      "metadata": {
        "id": "tXHw7N_qYtMN"
      },
      "execution_count": null,
      "outputs": []
    },
    {
      "cell_type": "code",
      "source": [
        "model = tf.keras.Model(inputs=[user_id, gender, service_id, count], outputs=count_pred)\n"
      ],
      "metadata": {
        "id": "EWZst4_QZK8P"
      },
      "execution_count": null,
      "outputs": []
    },
    {
      "cell_type": "code",
      "source": [
        "def compute_loss(labels, predictions):\n",
        "    mse = tf.keras.losses.MeanSquaredError()\n",
        "    loss = mse(labels, predictions)\n",
        "    return loss"
      ],
      "metadata": {
        "id": "Om7RxWqYZMsG"
      },
      "execution_count": null,
      "outputs": []
    },
    {
      "cell_type": "code",
      "source": [
        "model.compile(optimizer=tf.keras.optimizers.Adagrad(learning_rate=0.1), loss=compute_loss)\n"
      ],
      "metadata": {
        "id": "WcScWbh6ZPkJ"
      },
      "execution_count": null,
      "outputs": []
    },
    {
      "cell_type": "code",
      "source": [
        "model.fit( tf.constant(data[\"user\"].values), tf.constant(data[\"gender\"].values),\n",
        "          tf.constant(data[\"service\"].values),  tf.constant(data[\"count\"].values),\n",
        "     tf.constant(data[\"count\"].values))\n",
        "\n",
        "# input_data = {\n",
        "#     \"user_id\": tf.constant(data[\"user\"].values),\n",
        "#     \"service_id\": tf.constant(data[\"service\"].values),\n",
        "#     \"gender\": tf.constant(data[\"gender\"].values),\n",
        "#     \"category\": tf.constant(data[\"subcat\"].values)\n",
        "# }\n",
        "# target_data = tf.constant(data[\"count\"].values)"
      ],
      "metadata": {
        "colab": {
          "base_uri": "https://localhost:8080/",
          "height": 397
        },
        "id": "EDhEr_SxZRp-",
        "outputId": "0810c41a-b72d-4a89-f5e1-53ef4d4d6257"
      },
      "execution_count": null,
      "outputs": [
        {
          "output_type": "error",
          "ename": "ValueError",
          "evalue": "ignored",
          "traceback": [
            "\u001b[0;31m---------------------------------------------------------------------------\u001b[0m",
            "\u001b[0;31mValueError\u001b[0m                                Traceback (most recent call last)",
            "\u001b[0;32m<ipython-input-57-08e338efc299>\u001b[0m in \u001b[0;36m<cell line: 1>\u001b[0;34m()\u001b[0m\n\u001b[0;32m----> 1\u001b[0;31m model.fit( tf.constant(data[\"user\"].values), tf.constant(data[\"gender\"].values),\n\u001b[0m\u001b[1;32m      2\u001b[0m           \u001b[0mtf\u001b[0m\u001b[0;34m.\u001b[0m\u001b[0mconstant\u001b[0m\u001b[0;34m(\u001b[0m\u001b[0mdata\u001b[0m\u001b[0;34m[\u001b[0m\u001b[0;34m\"service\"\u001b[0m\u001b[0;34m]\u001b[0m\u001b[0;34m.\u001b[0m\u001b[0mvalues\u001b[0m\u001b[0;34m)\u001b[0m\u001b[0;34m,\u001b[0m  \u001b[0mtf\u001b[0m\u001b[0;34m.\u001b[0m\u001b[0mconstant\u001b[0m\u001b[0;34m(\u001b[0m\u001b[0mdata\u001b[0m\u001b[0;34m[\u001b[0m\u001b[0;34m\"count\"\u001b[0m\u001b[0;34m]\u001b[0m\u001b[0;34m.\u001b[0m\u001b[0mvalues\u001b[0m\u001b[0;34m)\u001b[0m\u001b[0;34m,\u001b[0m\u001b[0;34m\u001b[0m\u001b[0;34m\u001b[0m\u001b[0m\n\u001b[1;32m      3\u001b[0m      tf.constant(data[\"count\"].values))\n\u001b[1;32m      4\u001b[0m \u001b[0;34m\u001b[0m\u001b[0m\n\u001b[1;32m      5\u001b[0m \u001b[0;31m# input_data = {\u001b[0m\u001b[0;34m\u001b[0m\u001b[0;34m\u001b[0m\u001b[0m\n",
            "\u001b[0;32m/usr/local/lib/python3.9/dist-packages/keras/utils/traceback_utils.py\u001b[0m in \u001b[0;36merror_handler\u001b[0;34m(*args, **kwargs)\u001b[0m\n\u001b[1;32m     68\u001b[0m             \u001b[0;31m# To get the full stack trace, call:\u001b[0m\u001b[0;34m\u001b[0m\u001b[0;34m\u001b[0m\u001b[0m\n\u001b[1;32m     69\u001b[0m             \u001b[0;31m# `tf.debugging.disable_traceback_filtering()`\u001b[0m\u001b[0;34m\u001b[0m\u001b[0;34m\u001b[0m\u001b[0m\n\u001b[0;32m---> 70\u001b[0;31m             \u001b[0;32mraise\u001b[0m \u001b[0me\u001b[0m\u001b[0;34m.\u001b[0m\u001b[0mwith_traceback\u001b[0m\u001b[0;34m(\u001b[0m\u001b[0mfiltered_tb\u001b[0m\u001b[0;34m)\u001b[0m \u001b[0;32mfrom\u001b[0m \u001b[0;32mNone\u001b[0m\u001b[0;34m\u001b[0m\u001b[0;34m\u001b[0m\u001b[0m\n\u001b[0m\u001b[1;32m     71\u001b[0m         \u001b[0;32mfinally\u001b[0m\u001b[0;34m:\u001b[0m\u001b[0;34m\u001b[0m\u001b[0;34m\u001b[0m\u001b[0m\n\u001b[1;32m     72\u001b[0m             \u001b[0;32mdel\u001b[0m \u001b[0mfiltered_tb\u001b[0m\u001b[0;34m\u001b[0m\u001b[0;34m\u001b[0m\u001b[0m\n",
            "\u001b[0;32m/usr/local/lib/python3.9/dist-packages/tensorflow/python/framework/ops.py\u001b[0m in \u001b[0;36m__bool__\u001b[0;34m(self)\u001b[0m\n\u001b[1;32m   1069\u001b[0m \u001b[0;34m\u001b[0m\u001b[0m\n\u001b[1;32m   1070\u001b[0m   \u001b[0;32mdef\u001b[0m \u001b[0m__bool__\u001b[0m\u001b[0;34m(\u001b[0m\u001b[0mself\u001b[0m\u001b[0;34m)\u001b[0m\u001b[0;34m:\u001b[0m\u001b[0;34m\u001b[0m\u001b[0;34m\u001b[0m\u001b[0m\n\u001b[0;32m-> 1071\u001b[0;31m     \u001b[0;32mreturn\u001b[0m \u001b[0mbool\u001b[0m\u001b[0;34m(\u001b[0m\u001b[0mself\u001b[0m\u001b[0;34m.\u001b[0m\u001b[0m_numpy\u001b[0m\u001b[0;34m(\u001b[0m\u001b[0;34m)\u001b[0m\u001b[0;34m)\u001b[0m\u001b[0;34m\u001b[0m\u001b[0;34m\u001b[0m\u001b[0m\n\u001b[0m\u001b[1;32m   1072\u001b[0m \u001b[0;34m\u001b[0m\u001b[0m\n\u001b[1;32m   1073\u001b[0m   \u001b[0m__nonzero__\u001b[0m \u001b[0;34m=\u001b[0m \u001b[0m__bool__\u001b[0m\u001b[0;34m\u001b[0m\u001b[0;34m\u001b[0m\u001b[0m\n",
            "\u001b[0;31mValueError\u001b[0m: The truth value of an array with more than one element is ambiguous. Use a.any() or a.all()"
          ]
        }
      ]
    },
    {
      "cell_type": "code",
      "source": [],
      "metadata": {
        "id": "pleF0vpYZ91_"
      },
      "execution_count": null,
      "outputs": []
    }
  ]
}