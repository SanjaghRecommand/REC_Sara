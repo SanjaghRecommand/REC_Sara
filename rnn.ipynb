{
  "nbformat": 4,
  "nbformat_minor": 0,
  "metadata": {
    "colab": {
      "provenance": [],
      "gpuType": "T4",
      "mount_file_id": "1xgWBxEdMNkVSk5O1Op8snYMNw1Lk7ELo",
      "authorship_tag": "ABX9TyO8ReWsEm3vqahlwI2P/BNd",
      "include_colab_link": true
    },
    "kernelspec": {
      "name": "python3",
      "display_name": "Python 3"
    },
    "language_info": {
      "name": "python"
    },
    "accelerator": "GPU",
    "gpuClass": "standard"
  },
  "cells": [
    {
      "cell_type": "markdown",
      "metadata": {
        "id": "view-in-github",
        "colab_type": "text"
      },
      "source": [
        "<a href=\"https://colab.research.google.com/github/SanjaghRecommand/Recommend/blob/Foad/rnn.ipynb\" target=\"_parent\"><img src=\"https://colab.research.google.com/assets/colab-badge.svg\" alt=\"Open In Colab\"/></a>"
      ]
    },
    {
      "cell_type": "code",
      "source": [
        "import numpy as np\n",
        "from keras.models import Sequential\n",
        "from keras.layers import Dense, LSTM\n",
        "import pandas as pd\n",
        "import tensorflow as tf\n",
        "import torch\n"
      ],
      "metadata": {
        "id": "aloFGCILu23N"
      },
      "execution_count": null,
      "outputs": []
    },
    {
      "cell_type": "code",
      "source": [
        "df = pd.read_csv ('/content/drive/MyDrive/Colab Notebooks/sanjaghshare/data/taskfullshare.csv')\n",
        "df.drop(columns=['Unnamed: 0'], inplace=True)\n",
        "# df2=df.sort_values('user').iloc[0:20000,]"
      ],
      "metadata": {
        "id": "8rF4Ia3zu20S"
      },
      "execution_count": null,
      "outputs": []
    },
    {
      "cell_type": "code",
      "source": [
        "mininit= df.Init.min()\n",
        "df['time']=df.Init.apply(lambda x: round((x- mininit)/2000000000))\n",
        "df.drop(columns='Init', inplace=True)\n",
        "df= df[df['user'] >5 ]\n",
        "df3=df\n"
      ],
      "metadata": {
        "id": "oBb-qrStu2xg"
      },
      "execution_count": null,
      "outputs": []
    },
    {
      "cell_type": "code",
      "source": [
        "df"
      ],
      "metadata": {
        "colab": {
          "base_uri": "https://localhost:8080/",
          "height": 423
        },
        "id": "2b-5N2qP9zhh",
        "outputId": "d75498ff-0abb-48c8-bc9a-4fe93b2674bb"
      },
      "execution_count": null,
      "outputs": [
        {
          "output_type": "execute_result",
          "data": {
            "text/plain": [
              "        service   user  time\n",
              "40602         0      6     1\n",
              "131622       92      6    27\n",
              "619004       84      7    52\n",
              "657275      116      7    54\n",
              "407940       10      7    44\n",
              "...         ...    ...   ...\n",
              "561494      156  10508    50\n",
              "47362        80  10508    14\n",
              "47060       117  10508    14\n",
              "46984         0  10512    14\n",
              "46977       148  10512    14\n",
              "\n",
              "[19731 rows x 3 columns]"
            ],
            "text/html": [
              "\n",
              "  <div id=\"df-51de738b-a486-472a-b244-019b7b64f1ee\">\n",
              "    <div class=\"colab-df-container\">\n",
              "      <div>\n",
              "<style scoped>\n",
              "    .dataframe tbody tr th:only-of-type {\n",
              "        vertical-align: middle;\n",
              "    }\n",
              "\n",
              "    .dataframe tbody tr th {\n",
              "        vertical-align: top;\n",
              "    }\n",
              "\n",
              "    .dataframe thead th {\n",
              "        text-align: right;\n",
              "    }\n",
              "</style>\n",
              "<table border=\"1\" class=\"dataframe\">\n",
              "  <thead>\n",
              "    <tr style=\"text-align: right;\">\n",
              "      <th></th>\n",
              "      <th>service</th>\n",
              "      <th>user</th>\n",
              "      <th>time</th>\n",
              "    </tr>\n",
              "  </thead>\n",
              "  <tbody>\n",
              "    <tr>\n",
              "      <th>40602</th>\n",
              "      <td>0</td>\n",
              "      <td>6</td>\n",
              "      <td>1</td>\n",
              "    </tr>\n",
              "    <tr>\n",
              "      <th>131622</th>\n",
              "      <td>92</td>\n",
              "      <td>6</td>\n",
              "      <td>27</td>\n",
              "    </tr>\n",
              "    <tr>\n",
              "      <th>619004</th>\n",
              "      <td>84</td>\n",
              "      <td>7</td>\n",
              "      <td>52</td>\n",
              "    </tr>\n",
              "    <tr>\n",
              "      <th>657275</th>\n",
              "      <td>116</td>\n",
              "      <td>7</td>\n",
              "      <td>54</td>\n",
              "    </tr>\n",
              "    <tr>\n",
              "      <th>407940</th>\n",
              "      <td>10</td>\n",
              "      <td>7</td>\n",
              "      <td>44</td>\n",
              "    </tr>\n",
              "    <tr>\n",
              "      <th>...</th>\n",
              "      <td>...</td>\n",
              "      <td>...</td>\n",
              "      <td>...</td>\n",
              "    </tr>\n",
              "    <tr>\n",
              "      <th>561494</th>\n",
              "      <td>156</td>\n",
              "      <td>10508</td>\n",
              "      <td>50</td>\n",
              "    </tr>\n",
              "    <tr>\n",
              "      <th>47362</th>\n",
              "      <td>80</td>\n",
              "      <td>10508</td>\n",
              "      <td>14</td>\n",
              "    </tr>\n",
              "    <tr>\n",
              "      <th>47060</th>\n",
              "      <td>117</td>\n",
              "      <td>10508</td>\n",
              "      <td>14</td>\n",
              "    </tr>\n",
              "    <tr>\n",
              "      <th>46984</th>\n",
              "      <td>0</td>\n",
              "      <td>10512</td>\n",
              "      <td>14</td>\n",
              "    </tr>\n",
              "    <tr>\n",
              "      <th>46977</th>\n",
              "      <td>148</td>\n",
              "      <td>10512</td>\n",
              "      <td>14</td>\n",
              "    </tr>\n",
              "  </tbody>\n",
              "</table>\n",
              "<p>19731 rows × 3 columns</p>\n",
              "</div>\n",
              "      <button class=\"colab-df-convert\" onclick=\"convertToInteractive('df-51de738b-a486-472a-b244-019b7b64f1ee')\"\n",
              "              title=\"Convert this dataframe to an interactive table.\"\n",
              "              style=\"display:none;\">\n",
              "        \n",
              "  <svg xmlns=\"http://www.w3.org/2000/svg\" height=\"24px\"viewBox=\"0 0 24 24\"\n",
              "       width=\"24px\">\n",
              "    <path d=\"M0 0h24v24H0V0z\" fill=\"none\"/>\n",
              "    <path d=\"M18.56 5.44l.94 2.06.94-2.06 2.06-.94-2.06-.94-.94-2.06-.94 2.06-2.06.94zm-11 1L8.5 8.5l.94-2.06 2.06-.94-2.06-.94L8.5 2.5l-.94 2.06-2.06.94zm10 10l.94 2.06.94-2.06 2.06-.94-2.06-.94-.94-2.06-.94 2.06-2.06.94z\"/><path d=\"M17.41 7.96l-1.37-1.37c-.4-.4-.92-.59-1.43-.59-.52 0-1.04.2-1.43.59L10.3 9.45l-7.72 7.72c-.78.78-.78 2.05 0 2.83L4 21.41c.39.39.9.59 1.41.59.51 0 1.02-.2 1.41-.59l7.78-7.78 2.81-2.81c.8-.78.8-2.07 0-2.86zM5.41 20L4 18.59l7.72-7.72 1.47 1.35L5.41 20z\"/>\n",
              "  </svg>\n",
              "      </button>\n",
              "      \n",
              "  <style>\n",
              "    .colab-df-container {\n",
              "      display:flex;\n",
              "      flex-wrap:wrap;\n",
              "      gap: 12px;\n",
              "    }\n",
              "\n",
              "    .colab-df-convert {\n",
              "      background-color: #E8F0FE;\n",
              "      border: none;\n",
              "      border-radius: 50%;\n",
              "      cursor: pointer;\n",
              "      display: none;\n",
              "      fill: #1967D2;\n",
              "      height: 32px;\n",
              "      padding: 0 0 0 0;\n",
              "      width: 32px;\n",
              "    }\n",
              "\n",
              "    .colab-df-convert:hover {\n",
              "      background-color: #E2EBFA;\n",
              "      box-shadow: 0px 1px 2px rgba(60, 64, 67, 0.3), 0px 1px 3px 1px rgba(60, 64, 67, 0.15);\n",
              "      fill: #174EA6;\n",
              "    }\n",
              "\n",
              "    [theme=dark] .colab-df-convert {\n",
              "      background-color: #3B4455;\n",
              "      fill: #D2E3FC;\n",
              "    }\n",
              "\n",
              "    [theme=dark] .colab-df-convert:hover {\n",
              "      background-color: #434B5C;\n",
              "      box-shadow: 0px 1px 3px 1px rgba(0, 0, 0, 0.15);\n",
              "      filter: drop-shadow(0px 1px 2px rgba(0, 0, 0, 0.3));\n",
              "      fill: #FFFFFF;\n",
              "    }\n",
              "  </style>\n",
              "\n",
              "      <script>\n",
              "        const buttonEl =\n",
              "          document.querySelector('#df-51de738b-a486-472a-b244-019b7b64f1ee button.colab-df-convert');\n",
              "        buttonEl.style.display =\n",
              "          google.colab.kernel.accessAllowed ? 'block' : 'none';\n",
              "\n",
              "        async function convertToInteractive(key) {\n",
              "          const element = document.querySelector('#df-51de738b-a486-472a-b244-019b7b64f1ee');\n",
              "          const dataTable =\n",
              "            await google.colab.kernel.invokeFunction('convertToInteractive',\n",
              "                                                     [key], {});\n",
              "          if (!dataTable) return;\n",
              "\n",
              "          const docLinkHtml = 'Like what you see? Visit the ' +\n",
              "            '<a target=\"_blank\" href=https://colab.research.google.com/notebooks/data_table.ipynb>data table notebook</a>'\n",
              "            + ' to learn more about interactive tables.';\n",
              "          element.innerHTML = '';\n",
              "          dataTable['output_type'] = 'display_data';\n",
              "          await google.colab.output.renderOutput(dataTable, element);\n",
              "          const docLink = document.createElement('div');\n",
              "          docLink.innerHTML = docLinkHtml;\n",
              "          element.appendChild(docLink);\n",
              "        }\n",
              "      </script>\n",
              "    </div>\n",
              "  </div>\n",
              "  "
            ]
          },
          "metadata": {},
          "execution_count": 208
        }
      ]
    },
    {
      "cell_type": "code",
      "source": [
        "seqservice , seqtime ,seqtarget  =[] ,[] ,[] \n",
        "\n",
        "for user in df.user.unique():\n",
        "  user_data = df[df['user'] == user].sort_values('time')\n",
        "  seqservice.append(user_data.service.values.tolist()[0:-1])\n",
        "  seqtime.append(user_data.time.values.tolist()[0:-1])\n",
        "  seqtarget.append(user_data.time.values.tolist()[1:])\n",
        "\n",
        "  # print(user_data)\n",
        "  # break\n",
        "train_dict = dict(zip(['item_id', 'nb_days', 'target'],[tf.keras.utils.pad_sequences(seqservice), tf.keras.utils.pad_sequences(seqtime), tf.keras.utils.pad_sequences(seqtarget)]))"
      ],
      "metadata": {
        "id": "y7qfEk8FceCm"
      },
      "execution_count": null,
      "outputs": []
    },
    {
      "cell_type": "code",
      "source": [
        "#@title Create_train\n",
        "def create_train_tfdata(train_feat_dict, train_target_tensor,    batch_size, buffer_size=None):\n",
        "    \"\"\"\n",
        "    Create train tf dataset for model train input\n",
        "    :param train_feat_dict: dict, containing the features tensors for train data\n",
        "    :param train_target_tensor: np.array(), the training TARGET tensor\n",
        "    :param batch_size: (int) size of the batch to work with\n",
        "    :param buffer_size: (int) Optional. Default is None. Size of the buffer\n",
        "    :return: (tuple) 1st element is the training dataset,\n",
        "                     2nd is the number of steps per epoch (based on batch size)\n",
        "    \"\"\"\n",
        "    if buffer_size is None:\n",
        "        buffer_size = batch_size*50\n",
        "\n",
        "    train_steps_per_epoch = len(train_target_tensor) // batch_size\n",
        "    train_dataset = tf.data.Dataset.from_tensor_slices((train_feat_dict,train_target_tensor)).cache()\n",
        "    train_dataset = train_dataset.shuffle(buffer_size).batch(batch_size)\n",
        "    train_dataset = train_dataset.repeat().prefetch(tf.data.experimental.AUTOTUNE)\n",
        "    \n",
        "    return train_dataset, train_steps_per_epoch\n",
        "  \n",
        "train_feat_dict = {'item_id': train_dict['item_id'],'nb_days': train_dict['nb_days']}\n",
        "train_target_tensor = train_dict['target'] \n",
        "train_dataset, train_steps_per_epoch = create_train_tfdata(train_feat_dict,  train_target_tensor, batch_size=512)\n",
        "  "
      ],
      "metadata": {
        "id": "qOMwG1L98PU9"
      },
      "execution_count": null,
      "outputs": []
    },
    {
      "cell_type": "code",
      "source": [
        "#@title BuildModel\n",
        "def build_model(max_len, item_vocab_size):\n",
        "    \"\"\"\n",
        "    Build a model given the hyper-parameters with item and nb_days input features\n",
        "    :param hp: (kt.HyperParameters) hyper-parameters to use when building this model\n",
        "    :return: built and compiled tensorflow model \n",
        "    \"\"\"\n",
        "    inputs = {}\n",
        "    inputs['item_id'] = tf.keras.Input(batch_input_shape=[None, max_len],   name='item_id', dtype=tf.int32)\n",
        "    # create encoding padding mask\n",
        "    encoding_padding_mask = tf.math.logical_not(tf.math.equal(inputs['item_id'], 0))\n",
        "\n",
        "    # nb_days bucketized\n",
        "    inputs['nb_days'] = tf.keras.Input(batch_input_shape=[None, max_len],  name='nb_days', dtype=tf.int32)\n",
        "\n",
        "    # Pass categorical input through embedding layer\n",
        "    # with size equals to tokenizer vocabulary size\n",
        "    # Remember that vocab_size is len of item tokenizer + 1\n",
        "    # (for the padding '0' value)\n",
        "    \n",
        "    embedding_item = tf.keras.layers.Embedding(input_dim=item_vocab_size,\n",
        "                                               output_dim=50,\n",
        "                                               name='embedding_item'\n",
        "                                              )(inputs['item_id'])\n",
        "    # nbins=100, +1 for zero padding\n",
        "    embedding_nb_days = tf.keras.layers.Embedding(input_dim=100 + 1,\n",
        "                                                  output_dim=100,\n",
        "                                                  name='embedding_nb_days'\n",
        "                                                 )(inputs['nb_days'])\n",
        "\n",
        "    #  Concatenate embedding layers\n",
        "    concat_embedding_input = tf.keras.layers.Concatenate(\n",
        "     name='concat_embedding_input')([embedding_item, embedding_nb_days])\n",
        "\n",
        "    concat_embedding_input = tf.keras.layers.BatchNormalization(\n",
        "     name='batchnorm_inputs')(concat_embedding_input)\n",
        "    \n",
        "    # LSTM layer\n",
        "    rnn = tf.keras.layers.LSTM(units=100,\n",
        "                                   return_sequences=True,\n",
        "                                   stateful=False,\n",
        "                                   recurrent_initializer='glorot_normal',\n",
        "                                   name='LSTM_cat'\n",
        "                                   )(concat_embedding_input)\n",
        "\n",
        "    rnn = tf.keras.layers.BatchNormalization(name='batchnorm_lstm')(rnn)\n",
        "\n",
        "    # Self attention so key=value in inputs\n",
        "    att = tf.keras.layers.Attention(use_scale=False, causal=True,\n",
        "                                    name='attention')(inputs=[rnn, rnn],\n",
        "                                                      mask=[encoding_padding_mask,\n",
        "                                                            encoding_padding_mask])\n",
        "\n",
        "    # Last layer is a fully connected one\n",
        "    output = tf.keras.layers.Dense(item_vocab_size, name='output')(att)\n",
        "\n",
        "    model = tf.keras.Model(inputs, output)\n",
        "\n",
        "    model.compile(\n",
        "        optimizer=tf.keras.optimizers.Adam(0.005),\n",
        "        loss=loss_function,\n",
        "        metrics=['sparse_categorical_accuracy'])\n",
        "    \n",
        "    return model"
      ],
      "metadata": {
        "id": "_RDC45v_8QSc"
      },
      "execution_count": null,
      "outputs": []
    },
    {
      "cell_type": "code",
      "source": [
        "#@title LossFun\n",
        "def loss_function(real, pred):\n",
        "    \"\"\"\n",
        "    We redefine our own loss function in order to get rid of the '0' value\n",
        "    which is the one used for padding. This to avoid that the model optimize itself\n",
        "    by predicting this value because it is the padding one.\n",
        "    \n",
        "    :param real: the truth\n",
        "    :param pred: predictions\n",
        "    :return: a masked loss where '0' in real (due to padding)\n",
        "                are not taken into account for the evaluation\n",
        "    \"\"\"\n",
        "\n",
        "    # to check that pred is numric and not nan\n",
        "    mask = tf.math.logical_not(tf.math.equal(real, 0))\n",
        "    loss_object_ = tf.keras.losses.SparseCategoricalCrossentropy(from_logits=True,\n",
        "                                                                 reduction='none')\n",
        "    loss_ = loss_object_(real, pred)\n",
        "    mask = tf.cast(mask, dtype=loss_.dtype)\n",
        "    loss_ *= mask\n",
        "\n",
        "    return tf.reduce_mean(loss_)"
      ],
      "metadata": {
        "cellView": "form",
        "id": "DBToDaQiJ6-X"
      },
      "execution_count": null,
      "outputs": []
    },
    {
      "cell_type": "code",
      "source": [
        "#@title FitModel\n",
        "def fit_model(model, train_dataset, steps_per_epoch, epochs):\n",
        "    \"\"\"\n",
        "    Fit the Keras model on the training dataset for a number of given epochs\n",
        "    :param model: tf model to be trained\n",
        "    :param train_dataset: (tf.data.Dataset object) the training dataset\n",
        "                          used to fit the model\n",
        "    :param steps_per_epoch: (int) Total number of steps (batches of samples) before \n",
        "                            declaring one epoch finished and starting the next epoch.\n",
        "    :param epochs: (int) the number of epochs for the fitting phase\n",
        "    :return: tuple (mirrored_model, history) with trained model and model history\n",
        "    \"\"\"\n",
        "        # mirrored_strategy allows to use multi GPUs when available\n",
        "    mirrored_strategy = tf.distribute.experimental.MultiWorkerMirroredStrategy(\n",
        "        tf.distribute.experimental.CollectiveCommunication.AUTO)\n",
        "    \n",
        "    with mirrored_strategy.scope():\n",
        "        mirrored_model = model\n",
        "\n",
        "    history = mirrored_model.fit(train_dataset,  steps_per_epoch=steps_per_epoch,     epochs=epochs, verbose=2)\n",
        "\n",
        "    return mirrored_model, history"
      ],
      "metadata": {
        "id": "P2uZ6TtiJ-v0"
      },
      "execution_count": null,
      "outputs": []
    },
    {
      "cell_type": "code",
      "source": [
        "max_len= len(tf.keras.utils.pad_sequences(seqservice)[0])\n",
        "item_vocab_size= 600\n",
        "\n",
        "model=build_model(max_len, item_vocab_size)\n",
        "fit_model(model, train_dataset,50, 35)"
      ],
      "metadata": {
        "colab": {
          "base_uri": "https://localhost:8080/"
        },
        "id": "sYkOrcErKBst",
        "outputId": "34132075-e088-4827-88df-75b733a48f2f"
      },
      "execution_count": null,
      "outputs": [
        {
          "output_type": "stream",
          "name": "stderr",
          "text": [
            "WARNING:absl:`causal` argument is deprecated. Please use `use_causal_mask` in call() method to specify causal masking.\n",
            "WARNING:tensorflow:Collective ops is not configured at program startup. Some performance features may not be enabled.\n"
          ]
        },
        {
          "output_type": "stream",
          "name": "stdout",
          "text": [
            "Epoch 1/35\n",
            "50/50 - 13s - loss: 0.0602 - sparse_categorical_accuracy: 0.4038 - 13s/epoch - 265ms/step\n",
            "Epoch 2/35\n",
            "50/50 - 8s - loss: 0.0396 - sparse_categorical_accuracy: 0.4704 - 8s/epoch - 155ms/step\n",
            "Epoch 3/35\n",
            "50/50 - 8s - loss: 0.0345 - sparse_categorical_accuracy: 0.4800 - 8s/epoch - 155ms/step\n",
            "Epoch 4/35\n",
            "50/50 - 7s - loss: 0.0314 - sparse_categorical_accuracy: 0.4971 - 7s/epoch - 136ms/step\n",
            "Epoch 5/35\n",
            "50/50 - 8s - loss: 0.0301 - sparse_categorical_accuracy: 0.5042 - 8s/epoch - 151ms/step\n",
            "Epoch 6/35\n",
            "50/50 - 7s - loss: 0.0287 - sparse_categorical_accuracy: 0.5012 - 7s/epoch - 137ms/step\n",
            "Epoch 7/35\n",
            "50/50 - 7s - loss: 0.0268 - sparse_categorical_accuracy: 0.5126 - 7s/epoch - 144ms/step\n",
            "Epoch 8/35\n",
            "50/50 - 7s - loss: 0.0253 - sparse_categorical_accuracy: 0.5195 - 7s/epoch - 142ms/step\n",
            "Epoch 9/35\n",
            "50/50 - 7s - loss: 0.0242 - sparse_categorical_accuracy: 0.5542 - 7s/epoch - 146ms/step\n",
            "Epoch 10/35\n",
            "50/50 - 7s - loss: 0.0216 - sparse_categorical_accuracy: 0.5459 - 7s/epoch - 136ms/step\n",
            "Epoch 11/35\n",
            "50/50 - 7s - loss: 0.0202 - sparse_categorical_accuracy: 0.5139 - 7s/epoch - 138ms/step\n",
            "Epoch 12/35\n",
            "50/50 - 7s - loss: 0.0183 - sparse_categorical_accuracy: 0.5584 - 7s/epoch - 135ms/step\n",
            "Epoch 13/35\n",
            "50/50 - 7s - loss: 0.0165 - sparse_categorical_accuracy: 0.5897 - 7s/epoch - 137ms/step\n",
            "Epoch 14/35\n",
            "50/50 - 7s - loss: 0.0146 - sparse_categorical_accuracy: 0.6090 - 7s/epoch - 140ms/step\n",
            "Epoch 15/35\n",
            "50/50 - 7s - loss: 0.0129 - sparse_categorical_accuracy: 0.6358 - 7s/epoch - 139ms/step\n",
            "Epoch 16/35\n",
            "50/50 - 7s - loss: 0.0089 - sparse_categorical_accuracy: 0.7153 - 7s/epoch - 135ms/step\n",
            "Epoch 17/35\n",
            "50/50 - 7s - loss: 0.0225 - sparse_categorical_accuracy: 0.5738 - 7s/epoch - 142ms/step\n",
            "Epoch 18/35\n",
            "50/50 - 7s - loss: 0.0427 - sparse_categorical_accuracy: 0.4737 - 7s/epoch - 131ms/step\n",
            "Epoch 19/35\n",
            "50/50 - 7s - loss: 0.0366 - sparse_categorical_accuracy: 0.4808 - 7s/epoch - 130ms/step\n",
            "Epoch 20/35\n",
            "50/50 - 6s - loss: 0.0326 - sparse_categorical_accuracy: 0.4903 - 6s/epoch - 130ms/step\n",
            "Epoch 21/35\n",
            "50/50 - 7s - loss: 0.0305 - sparse_categorical_accuracy: 0.5041 - 7s/epoch - 130ms/step\n",
            "Epoch 22/35\n",
            "50/50 - 6s - loss: 0.0293 - sparse_categorical_accuracy: 0.5057 - 6s/epoch - 129ms/step\n",
            "Epoch 23/35\n",
            "50/50 - 6s - loss: 0.0275 - sparse_categorical_accuracy: 0.5084 - 6s/epoch - 130ms/step\n",
            "Epoch 24/35\n",
            "50/50 - 6s - loss: 0.0258 - sparse_categorical_accuracy: 0.5134 - 6s/epoch - 129ms/step\n",
            "Epoch 25/35\n",
            "50/50 - 6s - loss: 0.0248 - sparse_categorical_accuracy: 0.5289 - 6s/epoch - 130ms/step\n",
            "Epoch 26/35\n",
            "50/50 - 6s - loss: 0.0232 - sparse_categorical_accuracy: 0.5636 - 6s/epoch - 129ms/step\n",
            "Epoch 27/35\n",
            "50/50 - 6s - loss: 0.0210 - sparse_categorical_accuracy: 0.5279 - 6s/epoch - 130ms/step\n",
            "Epoch 28/35\n",
            "50/50 - 6s - loss: 0.0193 - sparse_categorical_accuracy: 0.5308 - 6s/epoch - 129ms/step\n",
            "Epoch 29/35\n",
            "50/50 - 7s - loss: 0.0176 - sparse_categorical_accuracy: 0.5706 - 7s/epoch - 130ms/step\n",
            "Epoch 30/35\n",
            "50/50 - 6s - loss: 0.0154 - sparse_categorical_accuracy: 0.5993 - 6s/epoch - 129ms/step\n",
            "Epoch 31/35\n",
            "50/50 - 7s - loss: 0.0138 - sparse_categorical_accuracy: 0.6181 - 7s/epoch - 130ms/step\n",
            "Epoch 32/35\n",
            "50/50 - 6s - loss: 0.0117 - sparse_categorical_accuracy: 0.6529 - 6s/epoch - 129ms/step\n",
            "Epoch 33/35\n"
          ]
        }
      ]
    },
    {
      "cell_type": "code",
      "source": [
        "model.save(\"/content/drive/MyDrive/Colab Notebook/sanjagh/Recommand/savedmodels/modelRNN\")"
      ],
      "metadata": {
        "id": "0PpnWKj9OicC"
      },
      "execution_count": null,
      "outputs": []
    },
    {
      "cell_type": "code",
      "source": [
        "len(seqservice)"
      ],
      "metadata": {
        "colab": {
          "base_uri": "https://localhost:8080/"
        },
        "id": "ZS9Lc0XTOjCY",
        "outputId": "28a37e7b-c4f3-40aa-f9d8-3d8415cfb213"
      },
      "execution_count": null,
      "outputs": [
        {
          "output_type": "execute_result",
          "data": {
            "text/plain": [
              "426022"
            ]
          },
          "metadata": {},
          "execution_count": 14
        }
      ]
    },
    {
      "cell_type": "code",
      "source": [],
      "metadata": {
        "id": "4f4qNCStYKJO"
      },
      "execution_count": null,
      "outputs": []
    }
  ]
}