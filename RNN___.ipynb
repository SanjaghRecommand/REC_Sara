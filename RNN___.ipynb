{
  "nbformat": 4,
  "nbformat_minor": 0,
  "metadata": {
    "colab": {
      "provenance": [],
      "gpuType": "T4"
    },
    "kernelspec": {
      "name": "python3",
      "display_name": "Python 3"
    },
    "language_info": {
      "name": "python"
    },
    "accelerator": "GPU",
    "gpuClass": "standard"
  },
  "cells": [
    {
      "cell_type": "code",
      "execution_count": null,
      "metadata": {
        "colab": {
          "base_uri": "https://localhost:8080/"
        },
        "id": "Lofi44TW-4VG",
        "outputId": "4580f3b3-0440-4125-8f15-a7ece47e01af"
      },
      "outputs": [
        {
          "output_type": "stream",
          "name": "stdout",
          "text": [
            "Mounted at /content/drive\n"
          ]
        }
      ],
      "source": [
        "from google.colab import drive\n",
        "drive.mount('/content/drive')"
      ]
    },
    {
      "cell_type": "code",
      "source": [
        "import pandas as pd\n",
        "import numpy as np\n",
        "import matplotlib.pyplot as plt\n",
        "import seaborn as sns\n",
        "from scipy.sparse import csr_matrix\n",
        "import numpy as np\n",
        "from keras.models import Sequential\n",
        "from keras.layers import Dense, LSTM\n",
        "import pandas as pd\n",
        "import tensorflow as tf\n",
        "import torch\n",
        "import pickle\n",
        "from tabulate import tabulate"
      ],
      "metadata": {
        "id": "A8HePi8c_Aos"
      },
      "execution_count": null,
      "outputs": []
    },
    {
      "cell_type": "code",
      "source": [
        "df1 = pd.read_csv ('/content/drive/MyDrive/Recommendation/taskfullshare.csv')\n",
        "df1 = df1.loc[:, ~df1.columns.str.contains('^Unnamed')]\n",
        "df1.head()"
      ],
      "metadata": {
        "colab": {
          "base_uri": "https://localhost:8080/",
          "height": 206
        },
        "id": "d2bbRGTE_SpC",
        "outputId": "9b515b4a-f7f3-49d7-db3e-7444fb533789"
      },
      "execution_count": null,
      "outputs": [
        {
          "output_type": "execute_result",
          "data": {
            "text/plain": [
              "            Init  service     user\n",
              "0  1655018492726      328  1275352\n",
              "1  1655018824405       92  1275354\n",
              "2  1655018831538       12  1275355\n",
              "3  1655018842708      149  1274893\n",
              "4  1655018856558       42     8604"
            ],
            "text/html": [
              "\n",
              "  <div id=\"df-a0c7baa4-8a7e-4682-b4b4-e78f59be8fb2\">\n",
              "    <div class=\"colab-df-container\">\n",
              "      <div>\n",
              "<style scoped>\n",
              "    .dataframe tbody tr th:only-of-type {\n",
              "        vertical-align: middle;\n",
              "    }\n",
              "\n",
              "    .dataframe tbody tr th {\n",
              "        vertical-align: top;\n",
              "    }\n",
              "\n",
              "    .dataframe thead th {\n",
              "        text-align: right;\n",
              "    }\n",
              "</style>\n",
              "<table border=\"1\" class=\"dataframe\">\n",
              "  <thead>\n",
              "    <tr style=\"text-align: right;\">\n",
              "      <th></th>\n",
              "      <th>Init</th>\n",
              "      <th>service</th>\n",
              "      <th>user</th>\n",
              "    </tr>\n",
              "  </thead>\n",
              "  <tbody>\n",
              "    <tr>\n",
              "      <th>0</th>\n",
              "      <td>1655018492726</td>\n",
              "      <td>328</td>\n",
              "      <td>1275352</td>\n",
              "    </tr>\n",
              "    <tr>\n",
              "      <th>1</th>\n",
              "      <td>1655018824405</td>\n",
              "      <td>92</td>\n",
              "      <td>1275354</td>\n",
              "    </tr>\n",
              "    <tr>\n",
              "      <th>2</th>\n",
              "      <td>1655018831538</td>\n",
              "      <td>12</td>\n",
              "      <td>1275355</td>\n",
              "    </tr>\n",
              "    <tr>\n",
              "      <th>3</th>\n",
              "      <td>1655018842708</td>\n",
              "      <td>149</td>\n",
              "      <td>1274893</td>\n",
              "    </tr>\n",
              "    <tr>\n",
              "      <th>4</th>\n",
              "      <td>1655018856558</td>\n",
              "      <td>42</td>\n",
              "      <td>8604</td>\n",
              "    </tr>\n",
              "  </tbody>\n",
              "</table>\n",
              "</div>\n",
              "      <button class=\"colab-df-convert\" onclick=\"convertToInteractive('df-a0c7baa4-8a7e-4682-b4b4-e78f59be8fb2')\"\n",
              "              title=\"Convert this dataframe to an interactive table.\"\n",
              "              style=\"display:none;\">\n",
              "        \n",
              "  <svg xmlns=\"http://www.w3.org/2000/svg\" height=\"24px\"viewBox=\"0 0 24 24\"\n",
              "       width=\"24px\">\n",
              "    <path d=\"M0 0h24v24H0V0z\" fill=\"none\"/>\n",
              "    <path d=\"M18.56 5.44l.94 2.06.94-2.06 2.06-.94-2.06-.94-.94-2.06-.94 2.06-2.06.94zm-11 1L8.5 8.5l.94-2.06 2.06-.94-2.06-.94L8.5 2.5l-.94 2.06-2.06.94zm10 10l.94 2.06.94-2.06 2.06-.94-2.06-.94-.94-2.06-.94 2.06-2.06.94z\"/><path d=\"M17.41 7.96l-1.37-1.37c-.4-.4-.92-.59-1.43-.59-.52 0-1.04.2-1.43.59L10.3 9.45l-7.72 7.72c-.78.78-.78 2.05 0 2.83L4 21.41c.39.39.9.59 1.41.59.51 0 1.02-.2 1.41-.59l7.78-7.78 2.81-2.81c.8-.78.8-2.07 0-2.86zM5.41 20L4 18.59l7.72-7.72 1.47 1.35L5.41 20z\"/>\n",
              "  </svg>\n",
              "      </button>\n",
              "      \n",
              "  <style>\n",
              "    .colab-df-container {\n",
              "      display:flex;\n",
              "      flex-wrap:wrap;\n",
              "      gap: 12px;\n",
              "    }\n",
              "\n",
              "    .colab-df-convert {\n",
              "      background-color: #E8F0FE;\n",
              "      border: none;\n",
              "      border-radius: 50%;\n",
              "      cursor: pointer;\n",
              "      display: none;\n",
              "      fill: #1967D2;\n",
              "      height: 32px;\n",
              "      padding: 0 0 0 0;\n",
              "      width: 32px;\n",
              "    }\n",
              "\n",
              "    .colab-df-convert:hover {\n",
              "      background-color: #E2EBFA;\n",
              "      box-shadow: 0px 1px 2px rgba(60, 64, 67, 0.3), 0px 1px 3px 1px rgba(60, 64, 67, 0.15);\n",
              "      fill: #174EA6;\n",
              "    }\n",
              "\n",
              "    [theme=dark] .colab-df-convert {\n",
              "      background-color: #3B4455;\n",
              "      fill: #D2E3FC;\n",
              "    }\n",
              "\n",
              "    [theme=dark] .colab-df-convert:hover {\n",
              "      background-color: #434B5C;\n",
              "      box-shadow: 0px 1px 3px 1px rgba(0, 0, 0, 0.15);\n",
              "      filter: drop-shadow(0px 1px 2px rgba(0, 0, 0, 0.3));\n",
              "      fill: #FFFFFF;\n",
              "    }\n",
              "  </style>\n",
              "\n",
              "      <script>\n",
              "        const buttonEl =\n",
              "          document.querySelector('#df-a0c7baa4-8a7e-4682-b4b4-e78f59be8fb2 button.colab-df-convert');\n",
              "        buttonEl.style.display =\n",
              "          google.colab.kernel.accessAllowed ? 'block' : 'none';\n",
              "\n",
              "        async function convertToInteractive(key) {\n",
              "          const element = document.querySelector('#df-a0c7baa4-8a7e-4682-b4b4-e78f59be8fb2');\n",
              "          const dataTable =\n",
              "            await google.colab.kernel.invokeFunction('convertToInteractive',\n",
              "                                                     [key], {});\n",
              "          if (!dataTable) return;\n",
              "\n",
              "          const docLinkHtml = 'Like what you see? Visit the ' +\n",
              "            '<a target=\"_blank\" href=https://colab.research.google.com/notebooks/data_table.ipynb>data table notebook</a>'\n",
              "            + ' to learn more about interactive tables.';\n",
              "          element.innerHTML = '';\n",
              "          dataTable['output_type'] = 'display_data';\n",
              "          await google.colab.output.renderOutput(dataTable, element);\n",
              "          const docLink = document.createElement('div');\n",
              "          docLink.innerHTML = docLinkHtml;\n",
              "          element.appendChild(docLink);\n",
              "        }\n",
              "      </script>\n",
              "    </div>\n",
              "  </div>\n",
              "  "
            ]
          },
          "metadata": {},
          "execution_count": 22
        }
      ]
    },
    {
      "cell_type": "code",
      "source": [
        "df=df1"
      ],
      "metadata": {
        "id": "osKhs0RWqToy"
      },
      "execution_count": null,
      "outputs": []
    },
    {
      "cell_type": "code",
      "source": [
        "mininit= df.Init.min()\n",
        "df['Time']=df.Init.apply(lambda x: round((x- mininit)/2000000000))\n",
        "# df.drop(columns='Init', inplace=True)\n",
        "df= df[df['user'] >5 ]\n",
        "df.sort_values(by='Init',ascending=True).head(2)"
      ],
      "metadata": {
        "colab": {
          "base_uri": "https://localhost:8080/",
          "height": 112
        },
        "id": "zKXIrPiNp_Bg",
        "outputId": "fb43a5a2-a7a3-47de-a402-979fdd9e468b"
      },
      "execution_count": null,
      "outputs": [
        {
          "output_type": "execute_result",
          "data": {
            "text/plain": [
              "                Init  service  user  Time\n",
              "40557  1497351631553        0   127     0\n",
              "40555  1497358176030        0   130     0"
            ],
            "text/html": [
              "\n",
              "  <div id=\"df-dae2a250-bde7-4f71-b462-f549a0c6063d\">\n",
              "    <div class=\"colab-df-container\">\n",
              "      <div>\n",
              "<style scoped>\n",
              "    .dataframe tbody tr th:only-of-type {\n",
              "        vertical-align: middle;\n",
              "    }\n",
              "\n",
              "    .dataframe tbody tr th {\n",
              "        vertical-align: top;\n",
              "    }\n",
              "\n",
              "    .dataframe thead th {\n",
              "        text-align: right;\n",
              "    }\n",
              "</style>\n",
              "<table border=\"1\" class=\"dataframe\">\n",
              "  <thead>\n",
              "    <tr style=\"text-align: right;\">\n",
              "      <th></th>\n",
              "      <th>Init</th>\n",
              "      <th>service</th>\n",
              "      <th>user</th>\n",
              "      <th>Time</th>\n",
              "    </tr>\n",
              "  </thead>\n",
              "  <tbody>\n",
              "    <tr>\n",
              "      <th>40557</th>\n",
              "      <td>1497351631553</td>\n",
              "      <td>0</td>\n",
              "      <td>127</td>\n",
              "      <td>0</td>\n",
              "    </tr>\n",
              "    <tr>\n",
              "      <th>40555</th>\n",
              "      <td>1497358176030</td>\n",
              "      <td>0</td>\n",
              "      <td>130</td>\n",
              "      <td>0</td>\n",
              "    </tr>\n",
              "  </tbody>\n",
              "</table>\n",
              "</div>\n",
              "      <button class=\"colab-df-convert\" onclick=\"convertToInteractive('df-dae2a250-bde7-4f71-b462-f549a0c6063d')\"\n",
              "              title=\"Convert this dataframe to an interactive table.\"\n",
              "              style=\"display:none;\">\n",
              "        \n",
              "  <svg xmlns=\"http://www.w3.org/2000/svg\" height=\"24px\"viewBox=\"0 0 24 24\"\n",
              "       width=\"24px\">\n",
              "    <path d=\"M0 0h24v24H0V0z\" fill=\"none\"/>\n",
              "    <path d=\"M18.56 5.44l.94 2.06.94-2.06 2.06-.94-2.06-.94-.94-2.06-.94 2.06-2.06.94zm-11 1L8.5 8.5l.94-2.06 2.06-.94-2.06-.94L8.5 2.5l-.94 2.06-2.06.94zm10 10l.94 2.06.94-2.06 2.06-.94-2.06-.94-.94-2.06-.94 2.06-2.06.94z\"/><path d=\"M17.41 7.96l-1.37-1.37c-.4-.4-.92-.59-1.43-.59-.52 0-1.04.2-1.43.59L10.3 9.45l-7.72 7.72c-.78.78-.78 2.05 0 2.83L4 21.41c.39.39.9.59 1.41.59.51 0 1.02-.2 1.41-.59l7.78-7.78 2.81-2.81c.8-.78.8-2.07 0-2.86zM5.41 20L4 18.59l7.72-7.72 1.47 1.35L5.41 20z\"/>\n",
              "  </svg>\n",
              "      </button>\n",
              "      \n",
              "  <style>\n",
              "    .colab-df-container {\n",
              "      display:flex;\n",
              "      flex-wrap:wrap;\n",
              "      gap: 12px;\n",
              "    }\n",
              "\n",
              "    .colab-df-convert {\n",
              "      background-color: #E8F0FE;\n",
              "      border: none;\n",
              "      border-radius: 50%;\n",
              "      cursor: pointer;\n",
              "      display: none;\n",
              "      fill: #1967D2;\n",
              "      height: 32px;\n",
              "      padding: 0 0 0 0;\n",
              "      width: 32px;\n",
              "    }\n",
              "\n",
              "    .colab-df-convert:hover {\n",
              "      background-color: #E2EBFA;\n",
              "      box-shadow: 0px 1px 2px rgba(60, 64, 67, 0.3), 0px 1px 3px 1px rgba(60, 64, 67, 0.15);\n",
              "      fill: #174EA6;\n",
              "    }\n",
              "\n",
              "    [theme=dark] .colab-df-convert {\n",
              "      background-color: #3B4455;\n",
              "      fill: #D2E3FC;\n",
              "    }\n",
              "\n",
              "    [theme=dark] .colab-df-convert:hover {\n",
              "      background-color: #434B5C;\n",
              "      box-shadow: 0px 1px 3px 1px rgba(0, 0, 0, 0.15);\n",
              "      filter: drop-shadow(0px 1px 2px rgba(0, 0, 0, 0.3));\n",
              "      fill: #FFFFFF;\n",
              "    }\n",
              "  </style>\n",
              "\n",
              "      <script>\n",
              "        const buttonEl =\n",
              "          document.querySelector('#df-dae2a250-bde7-4f71-b462-f549a0c6063d button.colab-df-convert');\n",
              "        buttonEl.style.display =\n",
              "          google.colab.kernel.accessAllowed ? 'block' : 'none';\n",
              "\n",
              "        async function convertToInteractive(key) {\n",
              "          const element = document.querySelector('#df-dae2a250-bde7-4f71-b462-f549a0c6063d');\n",
              "          const dataTable =\n",
              "            await google.colab.kernel.invokeFunction('convertToInteractive',\n",
              "                                                     [key], {});\n",
              "          if (!dataTable) return;\n",
              "\n",
              "          const docLinkHtml = 'Like what you see? Visit the ' +\n",
              "            '<a target=\"_blank\" href=https://colab.research.google.com/notebooks/data_table.ipynb>data table notebook</a>'\n",
              "            + ' to learn more about interactive tables.';\n",
              "          element.innerHTML = '';\n",
              "          dataTable['output_type'] = 'display_data';\n",
              "          await google.colab.output.renderOutput(dataTable, element);\n",
              "          const docLink = document.createElement('div');\n",
              "          docLink.innerHTML = docLinkHtml;\n",
              "          element.appendChild(docLink);\n",
              "        }\n",
              "      </script>\n",
              "    </div>\n",
              "  </div>\n",
              "  "
            ]
          },
          "metadata": {},
          "execution_count": 24
        }
      ]
    },
    {
      "cell_type": "code",
      "source": [
        "df1['Init'] = pd.to_datetime(df1['Init'],unit='ms')\n",
        "df1=df1.sort_values(by='Init',ascending=True)\n",
        "df1.head(2)"
      ],
      "metadata": {
        "colab": {
          "base_uri": "https://localhost:8080/",
          "height": 112
        },
        "id": "35Mxn3-GpJZY",
        "outputId": "0e3a36d2-ca91-4e61-f5b4-184c92700347"
      },
      "execution_count": null,
      "outputs": [
        {
          "output_type": "execute_result",
          "data": {
            "text/plain": [
              "                         Init  service  user  Time\n",
              "40557 2017-06-13 11:00:31.553        0   127     0\n",
              "40555 2017-06-13 12:49:36.030        0   130     0"
            ],
            "text/html": [
              "\n",
              "  <div id=\"df-2e5130c5-c17f-4de9-af2a-d9ee67887c2a\">\n",
              "    <div class=\"colab-df-container\">\n",
              "      <div>\n",
              "<style scoped>\n",
              "    .dataframe tbody tr th:only-of-type {\n",
              "        vertical-align: middle;\n",
              "    }\n",
              "\n",
              "    .dataframe tbody tr th {\n",
              "        vertical-align: top;\n",
              "    }\n",
              "\n",
              "    .dataframe thead th {\n",
              "        text-align: right;\n",
              "    }\n",
              "</style>\n",
              "<table border=\"1\" class=\"dataframe\">\n",
              "  <thead>\n",
              "    <tr style=\"text-align: right;\">\n",
              "      <th></th>\n",
              "      <th>Init</th>\n",
              "      <th>service</th>\n",
              "      <th>user</th>\n",
              "      <th>Time</th>\n",
              "    </tr>\n",
              "  </thead>\n",
              "  <tbody>\n",
              "    <tr>\n",
              "      <th>40557</th>\n",
              "      <td>2017-06-13 11:00:31.553</td>\n",
              "      <td>0</td>\n",
              "      <td>127</td>\n",
              "      <td>0</td>\n",
              "    </tr>\n",
              "    <tr>\n",
              "      <th>40555</th>\n",
              "      <td>2017-06-13 12:49:36.030</td>\n",
              "      <td>0</td>\n",
              "      <td>130</td>\n",
              "      <td>0</td>\n",
              "    </tr>\n",
              "  </tbody>\n",
              "</table>\n",
              "</div>\n",
              "      <button class=\"colab-df-convert\" onclick=\"convertToInteractive('df-2e5130c5-c17f-4de9-af2a-d9ee67887c2a')\"\n",
              "              title=\"Convert this dataframe to an interactive table.\"\n",
              "              style=\"display:none;\">\n",
              "        \n",
              "  <svg xmlns=\"http://www.w3.org/2000/svg\" height=\"24px\"viewBox=\"0 0 24 24\"\n",
              "       width=\"24px\">\n",
              "    <path d=\"M0 0h24v24H0V0z\" fill=\"none\"/>\n",
              "    <path d=\"M18.56 5.44l.94 2.06.94-2.06 2.06-.94-2.06-.94-.94-2.06-.94 2.06-2.06.94zm-11 1L8.5 8.5l.94-2.06 2.06-.94-2.06-.94L8.5 2.5l-.94 2.06-2.06.94zm10 10l.94 2.06.94-2.06 2.06-.94-2.06-.94-.94-2.06-.94 2.06-2.06.94z\"/><path d=\"M17.41 7.96l-1.37-1.37c-.4-.4-.92-.59-1.43-.59-.52 0-1.04.2-1.43.59L10.3 9.45l-7.72 7.72c-.78.78-.78 2.05 0 2.83L4 21.41c.39.39.9.59 1.41.59.51 0 1.02-.2 1.41-.59l7.78-7.78 2.81-2.81c.8-.78.8-2.07 0-2.86zM5.41 20L4 18.59l7.72-7.72 1.47 1.35L5.41 20z\"/>\n",
              "  </svg>\n",
              "      </button>\n",
              "      \n",
              "  <style>\n",
              "    .colab-df-container {\n",
              "      display:flex;\n",
              "      flex-wrap:wrap;\n",
              "      gap: 12px;\n",
              "    }\n",
              "\n",
              "    .colab-df-convert {\n",
              "      background-color: #E8F0FE;\n",
              "      border: none;\n",
              "      border-radius: 50%;\n",
              "      cursor: pointer;\n",
              "      display: none;\n",
              "      fill: #1967D2;\n",
              "      height: 32px;\n",
              "      padding: 0 0 0 0;\n",
              "      width: 32px;\n",
              "    }\n",
              "\n",
              "    .colab-df-convert:hover {\n",
              "      background-color: #E2EBFA;\n",
              "      box-shadow: 0px 1px 2px rgba(60, 64, 67, 0.3), 0px 1px 3px 1px rgba(60, 64, 67, 0.15);\n",
              "      fill: #174EA6;\n",
              "    }\n",
              "\n",
              "    [theme=dark] .colab-df-convert {\n",
              "      background-color: #3B4455;\n",
              "      fill: #D2E3FC;\n",
              "    }\n",
              "\n",
              "    [theme=dark] .colab-df-convert:hover {\n",
              "      background-color: #434B5C;\n",
              "      box-shadow: 0px 1px 3px 1px rgba(0, 0, 0, 0.15);\n",
              "      filter: drop-shadow(0px 1px 2px rgba(0, 0, 0, 0.3));\n",
              "      fill: #FFFFFF;\n",
              "    }\n",
              "  </style>\n",
              "\n",
              "      <script>\n",
              "        const buttonEl =\n",
              "          document.querySelector('#df-2e5130c5-c17f-4de9-af2a-d9ee67887c2a button.colab-df-convert');\n",
              "        buttonEl.style.display =\n",
              "          google.colab.kernel.accessAllowed ? 'block' : 'none';\n",
              "\n",
              "        async function convertToInteractive(key) {\n",
              "          const element = document.querySelector('#df-2e5130c5-c17f-4de9-af2a-d9ee67887c2a');\n",
              "          const dataTable =\n",
              "            await google.colab.kernel.invokeFunction('convertToInteractive',\n",
              "                                                     [key], {});\n",
              "          if (!dataTable) return;\n",
              "\n",
              "          const docLinkHtml = 'Like what you see? Visit the ' +\n",
              "            '<a target=\"_blank\" href=https://colab.research.google.com/notebooks/data_table.ipynb>data table notebook</a>'\n",
              "            + ' to learn more about interactive tables.';\n",
              "          element.innerHTML = '';\n",
              "          dataTable['output_type'] = 'display_data';\n",
              "          await google.colab.output.renderOutput(dataTable, element);\n",
              "          const docLink = document.createElement('div');\n",
              "          docLink.innerHTML = docLinkHtml;\n",
              "          element.appendChild(docLink);\n",
              "        }\n",
              "      </script>\n",
              "    </div>\n",
              "  </div>\n",
              "  "
            ]
          },
          "metadata": {},
          "execution_count": 25
        }
      ]
    },
    {
      "cell_type": "code",
      "source": [
        "df1 = df1.sort_values(by='Init')\n",
        "df1['date'] = df1['Init'].dt.date\n",
        "# Extract date and time components\n",
        "df1['date'] = df1['Init'].dt.date\n",
        "df1['time'] = df1['Init'].dt.time\n",
        "df1.head()"
      ],
      "metadata": {
        "colab": {
          "base_uri": "https://localhost:8080/",
          "height": 206
        },
        "id": "QWZQAOlQpJci",
        "outputId": "44b945d5-37cc-4b26-dbf7-5b2b9a9fe7ff"
      },
      "execution_count": null,
      "outputs": [
        {
          "output_type": "execute_result",
          "data": {
            "text/plain": [
              "                         Init  service  user  Time        date  \\\n",
              "40557 2017-06-13 11:00:31.553        0   127     0  2017-06-13   \n",
              "40555 2017-06-13 12:49:36.030        0   130     0  2017-06-13   \n",
              "40554 2017-06-13 13:04:06.644        0   132     0  2017-06-13   \n",
              "40597 2017-06-13 13:24:43.878        0   130     0  2017-06-13   \n",
              "40629 2017-06-14 07:35:55.062        0   134     0  2017-06-14   \n",
              "\n",
              "                  time  \n",
              "40557  11:00:31.553000  \n",
              "40555  12:49:36.030000  \n",
              "40554  13:04:06.644000  \n",
              "40597  13:24:43.878000  \n",
              "40629  07:35:55.062000  "
            ],
            "text/html": [
              "\n",
              "  <div id=\"df-9d92a192-dd63-41b6-9f58-a34d150eba03\">\n",
              "    <div class=\"colab-df-container\">\n",
              "      <div>\n",
              "<style scoped>\n",
              "    .dataframe tbody tr th:only-of-type {\n",
              "        vertical-align: middle;\n",
              "    }\n",
              "\n",
              "    .dataframe tbody tr th {\n",
              "        vertical-align: top;\n",
              "    }\n",
              "\n",
              "    .dataframe thead th {\n",
              "        text-align: right;\n",
              "    }\n",
              "</style>\n",
              "<table border=\"1\" class=\"dataframe\">\n",
              "  <thead>\n",
              "    <tr style=\"text-align: right;\">\n",
              "      <th></th>\n",
              "      <th>Init</th>\n",
              "      <th>service</th>\n",
              "      <th>user</th>\n",
              "      <th>Time</th>\n",
              "      <th>date</th>\n",
              "      <th>time</th>\n",
              "    </tr>\n",
              "  </thead>\n",
              "  <tbody>\n",
              "    <tr>\n",
              "      <th>40557</th>\n",
              "      <td>2017-06-13 11:00:31.553</td>\n",
              "      <td>0</td>\n",
              "      <td>127</td>\n",
              "      <td>0</td>\n",
              "      <td>2017-06-13</td>\n",
              "      <td>11:00:31.553000</td>\n",
              "    </tr>\n",
              "    <tr>\n",
              "      <th>40555</th>\n",
              "      <td>2017-06-13 12:49:36.030</td>\n",
              "      <td>0</td>\n",
              "      <td>130</td>\n",
              "      <td>0</td>\n",
              "      <td>2017-06-13</td>\n",
              "      <td>12:49:36.030000</td>\n",
              "    </tr>\n",
              "    <tr>\n",
              "      <th>40554</th>\n",
              "      <td>2017-06-13 13:04:06.644</td>\n",
              "      <td>0</td>\n",
              "      <td>132</td>\n",
              "      <td>0</td>\n",
              "      <td>2017-06-13</td>\n",
              "      <td>13:04:06.644000</td>\n",
              "    </tr>\n",
              "    <tr>\n",
              "      <th>40597</th>\n",
              "      <td>2017-06-13 13:24:43.878</td>\n",
              "      <td>0</td>\n",
              "      <td>130</td>\n",
              "      <td>0</td>\n",
              "      <td>2017-06-13</td>\n",
              "      <td>13:24:43.878000</td>\n",
              "    </tr>\n",
              "    <tr>\n",
              "      <th>40629</th>\n",
              "      <td>2017-06-14 07:35:55.062</td>\n",
              "      <td>0</td>\n",
              "      <td>134</td>\n",
              "      <td>0</td>\n",
              "      <td>2017-06-14</td>\n",
              "      <td>07:35:55.062000</td>\n",
              "    </tr>\n",
              "  </tbody>\n",
              "</table>\n",
              "</div>\n",
              "      <button class=\"colab-df-convert\" onclick=\"convertToInteractive('df-9d92a192-dd63-41b6-9f58-a34d150eba03')\"\n",
              "              title=\"Convert this dataframe to an interactive table.\"\n",
              "              style=\"display:none;\">\n",
              "        \n",
              "  <svg xmlns=\"http://www.w3.org/2000/svg\" height=\"24px\"viewBox=\"0 0 24 24\"\n",
              "       width=\"24px\">\n",
              "    <path d=\"M0 0h24v24H0V0z\" fill=\"none\"/>\n",
              "    <path d=\"M18.56 5.44l.94 2.06.94-2.06 2.06-.94-2.06-.94-.94-2.06-.94 2.06-2.06.94zm-11 1L8.5 8.5l.94-2.06 2.06-.94-2.06-.94L8.5 2.5l-.94 2.06-2.06.94zm10 10l.94 2.06.94-2.06 2.06-.94-2.06-.94-.94-2.06-.94 2.06-2.06.94z\"/><path d=\"M17.41 7.96l-1.37-1.37c-.4-.4-.92-.59-1.43-.59-.52 0-1.04.2-1.43.59L10.3 9.45l-7.72 7.72c-.78.78-.78 2.05 0 2.83L4 21.41c.39.39.9.59 1.41.59.51 0 1.02-.2 1.41-.59l7.78-7.78 2.81-2.81c.8-.78.8-2.07 0-2.86zM5.41 20L4 18.59l7.72-7.72 1.47 1.35L5.41 20z\"/>\n",
              "  </svg>\n",
              "      </button>\n",
              "      \n",
              "  <style>\n",
              "    .colab-df-container {\n",
              "      display:flex;\n",
              "      flex-wrap:wrap;\n",
              "      gap: 12px;\n",
              "    }\n",
              "\n",
              "    .colab-df-convert {\n",
              "      background-color: #E8F0FE;\n",
              "      border: none;\n",
              "      border-radius: 50%;\n",
              "      cursor: pointer;\n",
              "      display: none;\n",
              "      fill: #1967D2;\n",
              "      height: 32px;\n",
              "      padding: 0 0 0 0;\n",
              "      width: 32px;\n",
              "    }\n",
              "\n",
              "    .colab-df-convert:hover {\n",
              "      background-color: #E2EBFA;\n",
              "      box-shadow: 0px 1px 2px rgba(60, 64, 67, 0.3), 0px 1px 3px 1px rgba(60, 64, 67, 0.15);\n",
              "      fill: #174EA6;\n",
              "    }\n",
              "\n",
              "    [theme=dark] .colab-df-convert {\n",
              "      background-color: #3B4455;\n",
              "      fill: #D2E3FC;\n",
              "    }\n",
              "\n",
              "    [theme=dark] .colab-df-convert:hover {\n",
              "      background-color: #434B5C;\n",
              "      box-shadow: 0px 1px 3px 1px rgba(0, 0, 0, 0.15);\n",
              "      filter: drop-shadow(0px 1px 2px rgba(0, 0, 0, 0.3));\n",
              "      fill: #FFFFFF;\n",
              "    }\n",
              "  </style>\n",
              "\n",
              "      <script>\n",
              "        const buttonEl =\n",
              "          document.querySelector('#df-9d92a192-dd63-41b6-9f58-a34d150eba03 button.colab-df-convert');\n",
              "        buttonEl.style.display =\n",
              "          google.colab.kernel.accessAllowed ? 'block' : 'none';\n",
              "\n",
              "        async function convertToInteractive(key) {\n",
              "          const element = document.querySelector('#df-9d92a192-dd63-41b6-9f58-a34d150eba03');\n",
              "          const dataTable =\n",
              "            await google.colab.kernel.invokeFunction('convertToInteractive',\n",
              "                                                     [key], {});\n",
              "          if (!dataTable) return;\n",
              "\n",
              "          const docLinkHtml = 'Like what you see? Visit the ' +\n",
              "            '<a target=\"_blank\" href=https://colab.research.google.com/notebooks/data_table.ipynb>data table notebook</a>'\n",
              "            + ' to learn more about interactive tables.';\n",
              "          element.innerHTML = '';\n",
              "          dataTable['output_type'] = 'display_data';\n",
              "          await google.colab.output.renderOutput(dataTable, element);\n",
              "          const docLink = document.createElement('div');\n",
              "          docLink.innerHTML = docLinkHtml;\n",
              "          element.appendChild(docLink);\n",
              "        }\n",
              "      </script>\n",
              "    </div>\n",
              "  </div>\n",
              "  "
            ]
          },
          "metadata": {},
          "execution_count": 26
        }
      ]
    },
    {
      "cell_type": "code",
      "source": [
        "df1= df1.drop_duplicates(subset=['date', 'service', 'user'])\n"
      ],
      "metadata": {
        "id": "Wy8L7Ts7pJeu"
      },
      "execution_count": null,
      "outputs": []
    },
    {
      "cell_type": "code",
      "source": [
        "df1.info()"
      ],
      "metadata": {
        "colab": {
          "base_uri": "https://localhost:8080/"
        },
        "id": "zNjrO-vipJhk",
        "outputId": "f804dca3-ff71-4abf-e770-09eea79cc067"
      },
      "execution_count": null,
      "outputs": [
        {
          "output_type": "stream",
          "name": "stdout",
          "text": [
            "<class 'pandas.core.frame.DataFrame'>\n",
            "Int64Index: 1482958 entries, 40557 to 1681000\n",
            "Data columns (total 6 columns):\n",
            " #   Column   Non-Null Count    Dtype         \n",
            "---  ------   --------------    -----         \n",
            " 0   Init     1482958 non-null  datetime64[ns]\n",
            " 1   service  1482958 non-null  int64         \n",
            " 2   user     1482958 non-null  int64         \n",
            " 3   Time     1482958 non-null  int64         \n",
            " 4   date     1482958 non-null  object        \n",
            " 5   time     1482958 non-null  object        \n",
            "dtypes: datetime64[ns](1), int64(3), object(2)\n",
            "memory usage: 79.2+ MB\n"
          ]
        }
      ]
    },
    {
      "cell_type": "code",
      "source": [
        "df1=df1.drop(['date','time'],axis=1)\n",
        "df1.head(1)"
      ],
      "metadata": {
        "colab": {
          "base_uri": "https://localhost:8080/",
          "height": 81
        },
        "id": "Hnw12dRjpoOm",
        "outputId": "affe3bb6-a052-4afa-84d6-f9f08e5eccd7"
      },
      "execution_count": null,
      "outputs": [
        {
          "output_type": "execute_result",
          "data": {
            "text/plain": [
              "                         Init  service  user  Time\n",
              "40557 2017-06-13 11:00:31.553        0   127     0"
            ],
            "text/html": [
              "\n",
              "  <div id=\"df-0e364f84-64a7-42cb-9f4a-5152d3584eee\">\n",
              "    <div class=\"colab-df-container\">\n",
              "      <div>\n",
              "<style scoped>\n",
              "    .dataframe tbody tr th:only-of-type {\n",
              "        vertical-align: middle;\n",
              "    }\n",
              "\n",
              "    .dataframe tbody tr th {\n",
              "        vertical-align: top;\n",
              "    }\n",
              "\n",
              "    .dataframe thead th {\n",
              "        text-align: right;\n",
              "    }\n",
              "</style>\n",
              "<table border=\"1\" class=\"dataframe\">\n",
              "  <thead>\n",
              "    <tr style=\"text-align: right;\">\n",
              "      <th></th>\n",
              "      <th>Init</th>\n",
              "      <th>service</th>\n",
              "      <th>user</th>\n",
              "      <th>Time</th>\n",
              "    </tr>\n",
              "  </thead>\n",
              "  <tbody>\n",
              "    <tr>\n",
              "      <th>40557</th>\n",
              "      <td>2017-06-13 11:00:31.553</td>\n",
              "      <td>0</td>\n",
              "      <td>127</td>\n",
              "      <td>0</td>\n",
              "    </tr>\n",
              "  </tbody>\n",
              "</table>\n",
              "</div>\n",
              "      <button class=\"colab-df-convert\" onclick=\"convertToInteractive('df-0e364f84-64a7-42cb-9f4a-5152d3584eee')\"\n",
              "              title=\"Convert this dataframe to an interactive table.\"\n",
              "              style=\"display:none;\">\n",
              "        \n",
              "  <svg xmlns=\"http://www.w3.org/2000/svg\" height=\"24px\"viewBox=\"0 0 24 24\"\n",
              "       width=\"24px\">\n",
              "    <path d=\"M0 0h24v24H0V0z\" fill=\"none\"/>\n",
              "    <path d=\"M18.56 5.44l.94 2.06.94-2.06 2.06-.94-2.06-.94-.94-2.06-.94 2.06-2.06.94zm-11 1L8.5 8.5l.94-2.06 2.06-.94-2.06-.94L8.5 2.5l-.94 2.06-2.06.94zm10 10l.94 2.06.94-2.06 2.06-.94-2.06-.94-.94-2.06-.94 2.06-2.06.94z\"/><path d=\"M17.41 7.96l-1.37-1.37c-.4-.4-.92-.59-1.43-.59-.52 0-1.04.2-1.43.59L10.3 9.45l-7.72 7.72c-.78.78-.78 2.05 0 2.83L4 21.41c.39.39.9.59 1.41.59.51 0 1.02-.2 1.41-.59l7.78-7.78 2.81-2.81c.8-.78.8-2.07 0-2.86zM5.41 20L4 18.59l7.72-7.72 1.47 1.35L5.41 20z\"/>\n",
              "  </svg>\n",
              "      </button>\n",
              "      \n",
              "  <style>\n",
              "    .colab-df-container {\n",
              "      display:flex;\n",
              "      flex-wrap:wrap;\n",
              "      gap: 12px;\n",
              "    }\n",
              "\n",
              "    .colab-df-convert {\n",
              "      background-color: #E8F0FE;\n",
              "      border: none;\n",
              "      border-radius: 50%;\n",
              "      cursor: pointer;\n",
              "      display: none;\n",
              "      fill: #1967D2;\n",
              "      height: 32px;\n",
              "      padding: 0 0 0 0;\n",
              "      width: 32px;\n",
              "    }\n",
              "\n",
              "    .colab-df-convert:hover {\n",
              "      background-color: #E2EBFA;\n",
              "      box-shadow: 0px 1px 2px rgba(60, 64, 67, 0.3), 0px 1px 3px 1px rgba(60, 64, 67, 0.15);\n",
              "      fill: #174EA6;\n",
              "    }\n",
              "\n",
              "    [theme=dark] .colab-df-convert {\n",
              "      background-color: #3B4455;\n",
              "      fill: #D2E3FC;\n",
              "    }\n",
              "\n",
              "    [theme=dark] .colab-df-convert:hover {\n",
              "      background-color: #434B5C;\n",
              "      box-shadow: 0px 1px 3px 1px rgba(0, 0, 0, 0.15);\n",
              "      filter: drop-shadow(0px 1px 2px rgba(0, 0, 0, 0.3));\n",
              "      fill: #FFFFFF;\n",
              "    }\n",
              "  </style>\n",
              "\n",
              "      <script>\n",
              "        const buttonEl =\n",
              "          document.querySelector('#df-0e364f84-64a7-42cb-9f4a-5152d3584eee button.colab-df-convert');\n",
              "        buttonEl.style.display =\n",
              "          google.colab.kernel.accessAllowed ? 'block' : 'none';\n",
              "\n",
              "        async function convertToInteractive(key) {\n",
              "          const element = document.querySelector('#df-0e364f84-64a7-42cb-9f4a-5152d3584eee');\n",
              "          const dataTable =\n",
              "            await google.colab.kernel.invokeFunction('convertToInteractive',\n",
              "                                                     [key], {});\n",
              "          if (!dataTable) return;\n",
              "\n",
              "          const docLinkHtml = 'Like what you see? Visit the ' +\n",
              "            '<a target=\"_blank\" href=https://colab.research.google.com/notebooks/data_table.ipynb>data table notebook</a>'\n",
              "            + ' to learn more about interactive tables.';\n",
              "          element.innerHTML = '';\n",
              "          dataTable['output_type'] = 'display_data';\n",
              "          await google.colab.output.renderOutput(dataTable, element);\n",
              "          const docLink = document.createElement('div');\n",
              "          docLink.innerHTML = docLinkHtml;\n",
              "          element.appendChild(docLink);\n",
              "        }\n",
              "      </script>\n",
              "    </div>\n",
              "  </div>\n",
              "  "
            ]
          },
          "metadata": {},
          "execution_count": 29
        }
      ]
    },
    {
      "cell_type": "code",
      "source": [
        "max_len= 10 # len(tf.keras.utils.pad_sequences(seqservice)[0])\n",
        "item_vocab_size= 588"
      ],
      "metadata": {
        "id": "F16gznXxrDNT"
      },
      "execution_count": null,
      "outputs": []
    },
    {
      "cell_type": "code",
      "source": [
        "seqservice , seqtime ,seqtarget  =[] ,[] ,[] \n",
        "\n",
        "for user in df1.user.unique():\n",
        "  user_data = df1[df1['user'] == user].sort_values('Time')\n",
        "  seqservice.append(user_data.service.values.tolist()[0:-1])\n",
        "  seqtime.append(user_data.Time.values.tolist()[0:-1])\n",
        "  seqtarget.append(user_data.Time.values.tolist()[1:])\n",
        "\n",
        "  # print(user_data)\n",
        "  # break\n",
        "train_dict = dict(zip(['item_id', 'nb_days', 'target'],[tf.keras.utils.pad_sequences(seqservice, maxlen=max_len), tf.keras.utils.pad_sequences(seqtime, maxlen=max_len), tf.keras.utils.pad_sequences(seqtarget, maxlen=max_len)]))\n",
        "# save dictionary to person_data.pkl file\n",
        "with open('/content/drive/MyDrive/Recommendation/train_dict10.pkl', 'wb') as fp:\n",
        "    pickle.dump(train_dict, fp)\n",
        "    print('dictionary saved successfully to file')\n",
        "     "
      ],
      "metadata": {
        "colab": {
          "base_uri": "https://localhost:8080/"
        },
        "id": "YXG4ah8ApJkV",
        "outputId": "ba6a0760-937a-4568-b195-d96938733663"
      },
      "execution_count": null,
      "outputs": [
        {
          "output_type": "stream",
          "name": "stdout",
          "text": [
            "dictionary saved successfully to file\n"
          ]
        }
      ]
    },
    {
      "cell_type": "code",
      "source": [
        "with open('/content/drive/MyDrive/Recommendation/train_dict10.pkl', 'rb') as fp:\n",
        "    train_dict = pickle.load(fp)\n",
        "    print(' dictionary loaded')"
      ],
      "metadata": {
        "colab": {
          "base_uri": "https://localhost:8080/"
        },
        "id": "fFskg90wrTID",
        "outputId": "43ad53be-779a-4f5a-a55c-ba4944790558"
      },
      "execution_count": null,
      "outputs": [
        {
          "output_type": "stream",
          "name": "stdout",
          "text": [
            " dictionary loaded\n"
          ]
        }
      ]
    },
    {
      "cell_type": "code",
      "source": [
        "#@title Create_train\n",
        "def create_train_tfdata(train_feat_dict, train_target_tensor,    batch_size, buffer_size=None):\n",
        "    \"\"\"\n",
        "    Create train tf dataset for model train input\n",
        "    :param train_feat_dict: dict, containing the features tensors for train data\n",
        "    :param train_target_tensor: np.array(), the training TARGET tensor\n",
        "    :param batch_size: (int) size of the batch to work with\n",
        "    :param buffer_size: (int) Optional. Default is None. Size of the buffer\n",
        "    :return: (tuple) 1st element is the training dataset,\n",
        "                     2nd is the number of steps per epoch (based on batch size)\n",
        "    \"\"\"\n",
        "    if buffer_size is None:\n",
        "        buffer_size = batch_size*50\n",
        "\n",
        "    train_steps_per_epoch = len(train_target_tensor) // batch_size\n",
        "    train_dataset = tf.data.Dataset.from_tensor_slices((train_feat_dict,train_target_tensor)).cache()\n",
        "    train_dataset = train_dataset.shuffle(buffer_size).batch(batch_size)\n",
        "    train_dataset = train_dataset.repeat().prefetch(tf.data.experimental.AUTOTUNE)\n",
        "    \n",
        "    return train_dataset, train_steps_per_epoch\n",
        "  \n",
        "train_feat_dict = {'item_id': train_dict['item_id'],'nb_days': train_dict['nb_days']}\n",
        "train_target_tensor = train_dict['target'] \n",
        "train_dataset, train_steps_per_epoch = create_train_tfdata(train_feat_dict,  train_target_tensor, batch_size=512)"
      ],
      "metadata": {
        "id": "7ZkJ46ZErCMd"
      },
      "execution_count": null,
      "outputs": []
    },
    {
      "cell_type": "code",
      "source": [
        "#@title BuildModel\n",
        "def build_model(max_len, item_vocab_size):\n",
        "    \"\"\"\n",
        "    Build a model given the hyper-parameters with item and nb_days input features\n",
        "    :param hp: (kt.HyperParameters) hyper-parameters to use when building this model\n",
        "    :return: built and compiled tensorflow model \n",
        "    \"\"\"\n",
        "    inputs = {}\n",
        "    inputs['item_id'] = tf.keras.Input(batch_input_shape=[None, max_len],   name='item_id', dtype=tf.int32)\n",
        "    # create encoding padding mask\n",
        "    encoding_padding_mask = tf.math.logical_not(tf.math.equal(inputs['item_id'], 0))\n",
        "\n",
        "    # nb_days bucketized\n",
        "    inputs['nb_days'] = tf.keras.Input(batch_input_shape=[None, max_len],  name='nb_days', dtype=tf.int32)\n",
        "\n",
        "    # Pass categorical input through embedding layer\n",
        "    # with size equals to tokenizer vocabulary size\n",
        "    # Remember that vocab_size is len of item tokenizer + 1\n",
        "    # (for the padding '0' value)\n",
        "    \n",
        "    embedding_item = tf.keras.layers.Embedding(input_dim=item_vocab_size,\n",
        "                                               output_dim=16,\n",
        "                                               name='embedding_item'\n",
        "                                              )(inputs['item_id'])\n",
        "    # nbins=100, +1 for zero padding\n",
        "    embedding_nb_days = tf.keras.layers.Embedding(input_dim=100 + 1,\n",
        "                                                  output_dim=100,\n",
        "                                                  name='embedding_nb_days'\n",
        "                                                 )(inputs['nb_days'])\n",
        "\n",
        "    #  Concatenate embedding layers\n",
        "    concat_embedding_input = tf.keras.layers.Concatenate(\n",
        "     name='concat_embedding_input')([embedding_item, embedding_nb_days])\n",
        "\n",
        "    concat_embedding_input = tf.keras.layers.BatchNormalization(\n",
        "     name='batchnorm_inputs')(concat_embedding_input)\n",
        "    \n",
        "    # LSTM layer\n",
        "    rnn = tf.keras.layers.LSTM(units=100,\n",
        "                                   return_sequences=True,\n",
        "                                   stateful=False,\n",
        "                                   recurrent_initializer='glorot_normal',\n",
        "                                   name='LSTM_cat'\n",
        "                                   )(concat_embedding_input)\n",
        "\n",
        "    rnn = tf.keras.layers.BatchNormalization(name='batchnorm_lstm')(rnn)\n",
        "\n",
        "    # Self attention so key=value in inputs\n",
        "    att = tf.keras.layers.Attention(use_scale=False, causal=True,\n",
        "                                    name='attention')(inputs=[rnn, rnn],\n",
        "                                                      mask=[encoding_padding_mask,\n",
        "                                                            encoding_padding_mask])\n",
        "\n",
        "    # Last layer is a fully connected one\n",
        "    x = tf.keras.layers.Dense(item_vocab_size*2)(att)\n",
        "    # x = tf.keras.layers.Dense(32)(x)\n",
        "    output = tf.keras.layers.Dense(item_vocab_size, name='output')(x) #item_vocab_size\n",
        "\n",
        "    model = tf.keras.Model(inputs, output)\n",
        "\n",
        "    model.compile(\n",
        "        optimizer=tf.keras.optimizers.Adam(0.005),\n",
        "        loss=loss_function,\n",
        "        metrics=['sparse_categorical_accuracy'])\n",
        "    \n",
        "    return model"
      ],
      "metadata": {
        "id": "LDi24xaUrZ4Z"
      },
      "execution_count": null,
      "outputs": []
    },
    {
      "cell_type": "code",
      "source": [
        "\n",
        "\n",
        "#@title BuildModelHP\n",
        "def build_modelhp(max_len, item_vocab_size , embedding_item , embedding_nb_days , rnn_units_cat , learning_rate):\n",
        "    \"\"\"\n",
        "    Build a model given the hyper-parameters with item and nb_days input features\n",
        "    :param hp: (kt.HyperParameters) hyper-parameters to use when building this model\n",
        "    :return: built and compiled tensorflow model \n",
        "    \"\"\"\n",
        "    inputs = {}\n",
        "    inputs['item_id'] = tf.keras.Input(batch_input_shape=[None, max_len],\n",
        "                                       name='item_id', dtype=tf.int32)\n",
        "    # create encoding padding mask\n",
        "    encoding_padding_mask = tf.math.logical_not(tf.math.equal(inputs['item_id'], 0))\n",
        "\n",
        "    # nb_days bucketized\n",
        "    inputs['nb_days'] = tf.keras.Input(batch_input_shape=[None, max_len],\n",
        "                                       name='nb_days', dtype=tf.int32)\n",
        "\n",
        "    # Pass categorical input through embedding layer\n",
        "    # with size equals to tokenizer vocabulary size\n",
        "    # Remember that vocab_size is len of item tokenizer + 1\n",
        "    # (for the padding '0' value)\n",
        "    \n",
        "    embedding_item = tf.keras.layers.Embedding(input_dim=item_vocab_size,\n",
        "                                               output_dim=embedding_item,\n",
        "                                               name='embedding_item'\n",
        "                                              )(inputs['item_id'])\n",
        "    # nbins=100, +1 for zero padding\n",
        "    embedding_nb_days = tf.keras.layers.Embedding(input_dim=100 + 1,\n",
        "                                                  output_dim=embedding_nb_days,\n",
        "                                                  name='embedding_nb_days'\n",
        "                                                 )(inputs['nb_days'])\n",
        "\n",
        "    #  Concatenate embedding layers\n",
        "    concat_embedding_input = tf.keras.layers.Concatenate(\n",
        "     name='concat_embedding_input')([embedding_item, embedding_nb_days])\n",
        "\n",
        "    concat_embedding_input = tf.keras.layers.BatchNormalization( name='batchnorm_inputs')(concat_embedding_input)\n",
        "    \n",
        "    # LSTM layer\n",
        "    rnn = tf.keras.layers.LSTM(units=rnn_units_cat, return_sequences=True,  stateful=False,recurrent_initializer='glorot_normal', name='LSTM_cat')(concat_embedding_input)\n",
        "\n",
        "    rnn = tf.keras.layers.BatchNormalization(name='batchnorm_lstm')(rnn)\n",
        "\n",
        "    # Self attention so key=value in inputs\n",
        "    att = tf.keras.layers.Attention(use_scale=False, causal=True,\n",
        "                                    name='attention')(inputs=[rnn, rnn],\n",
        "                                                      mask=[encoding_padding_mask,\n",
        "                                                            encoding_padding_mask])\n",
        "\n",
        "    # Last layer is a fully connected one\n",
        "    output = tf.keras.layers.Dense(item_vocab_size, name='output')(att)\n",
        "\n",
        "    model = tf.keras.Model(inputs, output)\n",
        "    model.compile( optimizer=tf.keras.optimizers.Adam(learning_rate),   loss=loss_function, metrics=['sparse_categorical_accuracy'])\n",
        "    \n",
        "    return model\n",
        "     \n",
        "\n",
        "\n",
        "     \n"
      ],
      "metadata": {
        "id": "cpfTm5vbrZ73"
      },
      "execution_count": null,
      "outputs": []
    },
    {
      "cell_type": "code",
      "source": [
        "#@title LossFun\n",
        "def loss_function(real, pred):\n",
        "    \"\"\"\n",
        "    We redefine our own loss function in order to get rid of the '0' value\n",
        "    which is the one used for padding. This to avoid that the model optimize itself\n",
        "    by predicting this value because it is the padding one.\n",
        "    \n",
        "    :param real: the truth\n",
        "    :param pred: predictions\n",
        "    :return: a masked loss where '0' in real (due to padding)\n",
        "                are not taken into account for the evaluation\n",
        "    \"\"\"\n",
        "\n",
        "    # to check that pred is numric and not nan\n",
        "    mask = tf.math.logical_not(tf.math.equal(real, 0))\n",
        "    loss_object_ = tf.keras.losses.SparseCategoricalCrossentropy(from_logits=True,\n",
        "                                                                 reduction='none')\n",
        "    loss_ = loss_object_(real, pred)\n",
        "    mask = tf.cast(mask, dtype=loss_.dtype)\n",
        "    loss_ *= mask\n",
        "\n",
        "    return tf.reduce_mean(loss_)"
      ],
      "metadata": {
        "id": "sPZGiPdHraAN"
      },
      "execution_count": null,
      "outputs": []
    },
    {
      "cell_type": "code",
      "source": [
        "#@title FitModel\n",
        "def fit_model(model, train_dataset, steps_per_epoch, epochs):\n",
        "    \"\"\"\n",
        "    Fit the Keras model on the training dataset for a number of given epochs\n",
        "    :param model: tf model to be trained\n",
        "    :param train_dataset: (tf.data.Dataset object) the training dataset\n",
        "                          used to fit the model\n",
        "    :param steps_per_epoch: (int) Total number of steps (batches of samples) before \n",
        "                            declaring one epoch finished and starting the next epoch.\n",
        "    :param epochs: (int) the number of epochs for the fitting phase\n",
        "    :return: tuple (mirrored_model, history) with trained model and model history\n",
        "    \"\"\"\n",
        "        # mirrored_strategy allows to use multi GPUs when available\n",
        "    mirrored_strategy = tf.distribute.experimental.MultiWorkerMirroredStrategy(\n",
        "        tf.distribute.experimental.CollectiveCommunication.AUTO)\n",
        "    \n",
        "    with mirrored_strategy.scope():\n",
        "        mirrored_model = model\n",
        "    early_stopping = tf.keras.callbacks.EarlyStopping(patience=2)\n",
        "\n",
        "    history = mirrored_model.fit(train_dataset,  steps_per_epoch=steps_per_epoch,epochs=epochs,callbacks=early_stopping, verbose=2)\n",
        "\n",
        "    return mirrored_model, history\n",
        "     "
      ],
      "metadata": {
        "id": "gqpduDv0raEU"
      },
      "execution_count": null,
      "outputs": []
    },
    {
      "cell_type": "code",
      "source": [
        "# #@title TrainHP\n",
        "# from kerastuner.tuners import RandomSearch\n",
        "\n",
        "# # create a tuner object and define the hyperparameter search space\n",
        "# tuner = RandomSearch(\n",
        "#     build_modelhp,\n",
        "#     objective='val_loss',\n",
        "#     max_trials=10,\n",
        "#     directory='my_dir',\n",
        "#     project_name='my_project',\n",
        "#     hyperparameters={\n",
        "#         'max_len': [3,5,10],\n",
        "#         'item_vocab_size':600,\n",
        "#         'embedding_item': [16, 32, 64],\n",
        "#         'embedding_nb_days': [32, 64, 128],\n",
        "#         'rnn_units_cat': [32, 64, 128],       \n",
        "#         'learning_rate': [0.2, 0.3, 0.4]\n",
        "#     })\n",
        "\n",
        "# # prepare the training and validation data\n",
        "# ...\n",
        "\n",
        "# # start the hyperparameter search\n",
        "# tuner.search(train_dataset, epochs=10)\n",
        "\n",
        "# # fit_model(model, train_dataset, steps_per_epoch, epochs)\n",
        "# # print the best hyperparameters found\n",
        "# best_hyperparams = tuner.get_best_hyperparameters()[0].values\n",
        "# print(\"Best Hyperparameters:\", best_hyperparams)\n"
      ],
      "metadata": {
        "id": "XjScyQEDsNNJ"
      },
      "execution_count": null,
      "outputs": []
    },
    {
      "cell_type": "code",
      "source": [
        "\n",
        "from keras.callbacks import EarlyStopping\n",
        "#@title Train\n",
        "\n",
        "hyperparameters={\n",
        "        'max_len': max_len,\n",
        "        'item_vocab_size':item_vocab_size,\n",
        "        'embedding_item': 16,\n",
        "        'embedding_nb_days': 16,\n",
        "        'rnn_units_cat': 128,       \n",
        "        'learning_rate': 0.008    }\n",
        "\n",
        "\n",
        "model=build_modelhp(**hyperparameters)\n",
        "\n",
        "fit_model(model, train_dataset,50, 50)\n",
        "     \n"
      ],
      "metadata": {
        "colab": {
          "base_uri": "https://localhost:8080/"
        },
        "id": "jgefwRRzsRHn",
        "outputId": "6190a470-1d4c-47a7-99d2-79a029cb6c14"
      },
      "execution_count": null,
      "outputs": [
        {
          "output_type": "stream",
          "name": "stderr",
          "text": [
            "WARNING:absl:`causal` argument is deprecated. Please use `use_causal_mask` in call() method to specify causal masking.\n",
            "WARNING:tensorflow:Collective ops is not configured at program startup. Some performance features may not be enabled.\n"
          ]
        },
        {
          "output_type": "stream",
          "name": "stdout",
          "text": [
            "Epoch 1/50\n"
          ]
        },
        {
          "output_type": "stream",
          "name": "stderr",
          "text": [
            "WARNING:tensorflow:Early stopping conditioned on metric `val_loss` which is not available. Available metrics are: loss,sparse_categorical_accuracy\n"
          ]
        },
        {
          "output_type": "stream",
          "name": "stdout",
          "text": [
            "50/50 - 8s - loss: 0.8818 - sparse_categorical_accuracy: 0.2784 - 8s/epoch - 166ms/step\n",
            "Epoch 2/50\n"
          ]
        },
        {
          "output_type": "stream",
          "name": "stderr",
          "text": [
            "WARNING:tensorflow:Early stopping conditioned on metric `val_loss` which is not available. Available metrics are: loss,sparse_categorical_accuracy\n"
          ]
        },
        {
          "output_type": "stream",
          "name": "stdout",
          "text": [
            "50/50 - 3s - loss: 0.7125 - sparse_categorical_accuracy: 0.3533 - 3s/epoch - 52ms/step\n",
            "Epoch 3/50\n"
          ]
        },
        {
          "output_type": "stream",
          "name": "stderr",
          "text": [
            "WARNING:tensorflow:Early stopping conditioned on metric `val_loss` which is not available. Available metrics are: loss,sparse_categorical_accuracy\n"
          ]
        },
        {
          "output_type": "stream",
          "name": "stdout",
          "text": [
            "50/50 - 2s - loss: 0.6661 - sparse_categorical_accuracy: 0.3726 - 2s/epoch - 34ms/step\n",
            "Epoch 4/50\n"
          ]
        },
        {
          "output_type": "stream",
          "name": "stderr",
          "text": [
            "WARNING:tensorflow:Early stopping conditioned on metric `val_loss` which is not available. Available metrics are: loss,sparse_categorical_accuracy\n"
          ]
        },
        {
          "output_type": "stream",
          "name": "stdout",
          "text": [
            "50/50 - 2s - loss: 0.6391 - sparse_categorical_accuracy: 0.3860 - 2s/epoch - 35ms/step\n",
            "Epoch 5/50\n"
          ]
        },
        {
          "output_type": "stream",
          "name": "stderr",
          "text": [
            "WARNING:tensorflow:Early stopping conditioned on metric `val_loss` which is not available. Available metrics are: loss,sparse_categorical_accuracy\n"
          ]
        },
        {
          "output_type": "stream",
          "name": "stdout",
          "text": [
            "50/50 - 1s - loss: 0.6205 - sparse_categorical_accuracy: 0.3794 - 1s/epoch - 23ms/step\n",
            "Epoch 6/50\n"
          ]
        },
        {
          "output_type": "stream",
          "name": "stderr",
          "text": [
            "WARNING:tensorflow:Early stopping conditioned on metric `val_loss` which is not available. Available metrics are: loss,sparse_categorical_accuracy\n"
          ]
        },
        {
          "output_type": "stream",
          "name": "stdout",
          "text": [
            "50/50 - 1s - loss: 0.5936 - sparse_categorical_accuracy: 0.3889 - 1s/epoch - 23ms/step\n",
            "Epoch 7/50\n"
          ]
        },
        {
          "output_type": "stream",
          "name": "stderr",
          "text": [
            "WARNING:tensorflow:Early stopping conditioned on metric `val_loss` which is not available. Available metrics are: loss,sparse_categorical_accuracy\n"
          ]
        },
        {
          "output_type": "stream",
          "name": "stdout",
          "text": [
            "50/50 - 1s - loss: 0.5628 - sparse_categorical_accuracy: 0.4038 - 1s/epoch - 22ms/step\n",
            "Epoch 8/50\n"
          ]
        },
        {
          "output_type": "stream",
          "name": "stderr",
          "text": [
            "WARNING:tensorflow:Early stopping conditioned on metric `val_loss` which is not available. Available metrics are: loss,sparse_categorical_accuracy\n"
          ]
        },
        {
          "output_type": "stream",
          "name": "stdout",
          "text": [
            "50/50 - 1s - loss: 0.5417 - sparse_categorical_accuracy: 0.4026 - 1s/epoch - 25ms/step\n",
            "Epoch 9/50\n"
          ]
        },
        {
          "output_type": "stream",
          "name": "stderr",
          "text": [
            "WARNING:tensorflow:Early stopping conditioned on metric `val_loss` which is not available. Available metrics are: loss,sparse_categorical_accuracy\n"
          ]
        },
        {
          "output_type": "stream",
          "name": "stdout",
          "text": [
            "50/50 - 1s - loss: 0.5125 - sparse_categorical_accuracy: 0.4063 - 1s/epoch - 24ms/step\n",
            "Epoch 10/50\n"
          ]
        },
        {
          "output_type": "stream",
          "name": "stderr",
          "text": [
            "WARNING:tensorflow:Early stopping conditioned on metric `val_loss` which is not available. Available metrics are: loss,sparse_categorical_accuracy\n"
          ]
        },
        {
          "output_type": "stream",
          "name": "stdout",
          "text": [
            "50/50 - 2s - loss: 0.4682 - sparse_categorical_accuracy: 0.4163 - 2s/epoch - 32ms/step\n",
            "Epoch 11/50\n"
          ]
        },
        {
          "output_type": "stream",
          "name": "stderr",
          "text": [
            "WARNING:tensorflow:Early stopping conditioned on metric `val_loss` which is not available. Available metrics are: loss,sparse_categorical_accuracy\n"
          ]
        },
        {
          "output_type": "stream",
          "name": "stdout",
          "text": [
            "50/50 - 1s - loss: 0.4285 - sparse_categorical_accuracy: 0.4296 - 1s/epoch - 27ms/step\n",
            "Epoch 12/50\n"
          ]
        },
        {
          "output_type": "stream",
          "name": "stderr",
          "text": [
            "WARNING:tensorflow:Early stopping conditioned on metric `val_loss` which is not available. Available metrics are: loss,sparse_categorical_accuracy\n"
          ]
        },
        {
          "output_type": "stream",
          "name": "stdout",
          "text": [
            "50/50 - 1s - loss: 0.3959 - sparse_categorical_accuracy: 0.4541 - 1s/epoch - 21ms/step\n",
            "Epoch 13/50\n"
          ]
        },
        {
          "output_type": "stream",
          "name": "stderr",
          "text": [
            "WARNING:tensorflow:Early stopping conditioned on metric `val_loss` which is not available. Available metrics are: loss,sparse_categorical_accuracy\n"
          ]
        },
        {
          "output_type": "stream",
          "name": "stdout",
          "text": [
            "50/50 - 1s - loss: 0.3647 - sparse_categorical_accuracy: 0.4682 - 773ms/epoch - 15ms/step\n",
            "Epoch 14/50\n"
          ]
        },
        {
          "output_type": "stream",
          "name": "stderr",
          "text": [
            "WARNING:tensorflow:Early stopping conditioned on metric `val_loss` which is not available. Available metrics are: loss,sparse_categorical_accuracy\n"
          ]
        },
        {
          "output_type": "stream",
          "name": "stdout",
          "text": [
            "50/50 - 1s - loss: 0.3326 - sparse_categorical_accuracy: 0.4805 - 979ms/epoch - 20ms/step\n",
            "Epoch 15/50\n"
          ]
        },
        {
          "output_type": "stream",
          "name": "stderr",
          "text": [
            "WARNING:tensorflow:Early stopping conditioned on metric `val_loss` which is not available. Available metrics are: loss,sparse_categorical_accuracy\n"
          ]
        },
        {
          "output_type": "stream",
          "name": "stdout",
          "text": [
            "50/50 - 1s - loss: 0.2820 - sparse_categorical_accuracy: 0.5238 - 750ms/epoch - 15ms/step\n",
            "Epoch 16/50\n"
          ]
        },
        {
          "output_type": "stream",
          "name": "stderr",
          "text": [
            "WARNING:tensorflow:Early stopping conditioned on metric `val_loss` which is not available. Available metrics are: loss,sparse_categorical_accuracy\n"
          ]
        },
        {
          "output_type": "stream",
          "name": "stdout",
          "text": [
            "50/50 - 1s - loss: 0.1929 - sparse_categorical_accuracy: 0.6146 - 863ms/epoch - 17ms/step\n",
            "Epoch 17/50\n"
          ]
        },
        {
          "output_type": "stream",
          "name": "stderr",
          "text": [
            "WARNING:tensorflow:Early stopping conditioned on metric `val_loss` which is not available. Available metrics are: loss,sparse_categorical_accuracy\n"
          ]
        },
        {
          "output_type": "stream",
          "name": "stdout",
          "text": [
            "50/50 - 1s - loss: 0.3833 - sparse_categorical_accuracy: 0.4919 - 1s/epoch - 25ms/step\n",
            "Epoch 18/50\n"
          ]
        },
        {
          "output_type": "stream",
          "name": "stderr",
          "text": [
            "WARNING:tensorflow:Early stopping conditioned on metric `val_loss` which is not available. Available metrics are: loss,sparse_categorical_accuracy\n"
          ]
        },
        {
          "output_type": "stream",
          "name": "stdout",
          "text": [
            "50/50 - 0s - loss: 0.7294 - sparse_categorical_accuracy: 0.3542 - 461ms/epoch - 9ms/step\n",
            "Epoch 19/50\n"
          ]
        },
        {
          "output_type": "stream",
          "name": "stderr",
          "text": [
            "WARNING:tensorflow:Early stopping conditioned on metric `val_loss` which is not available. Available metrics are: loss,sparse_categorical_accuracy\n"
          ]
        },
        {
          "output_type": "stream",
          "name": "stdout",
          "text": [
            "50/50 - 0s - loss: 0.6715 - sparse_categorical_accuracy: 0.3788 - 457ms/epoch - 9ms/step\n",
            "Epoch 20/50\n"
          ]
        },
        {
          "output_type": "stream",
          "name": "stderr",
          "text": [
            "WARNING:tensorflow:Early stopping conditioned on metric `val_loss` which is not available. Available metrics are: loss,sparse_categorical_accuracy\n"
          ]
        },
        {
          "output_type": "stream",
          "name": "stdout",
          "text": [
            "50/50 - 0s - loss: 0.6447 - sparse_categorical_accuracy: 0.3833 - 471ms/epoch - 9ms/step\n",
            "Epoch 21/50\n"
          ]
        },
        {
          "output_type": "stream",
          "name": "stderr",
          "text": [
            "WARNING:tensorflow:Early stopping conditioned on metric `val_loss` which is not available. Available metrics are: loss,sparse_categorical_accuracy\n"
          ]
        },
        {
          "output_type": "stream",
          "name": "stdout",
          "text": [
            "50/50 - 0s - loss: 0.6251 - sparse_categorical_accuracy: 0.3947 - 470ms/epoch - 9ms/step\n",
            "Epoch 22/50\n"
          ]
        },
        {
          "output_type": "stream",
          "name": "stderr",
          "text": [
            "WARNING:tensorflow:Early stopping conditioned on metric `val_loss` which is not available. Available metrics are: loss,sparse_categorical_accuracy\n"
          ]
        },
        {
          "output_type": "stream",
          "name": "stdout",
          "text": [
            "50/50 - 0s - loss: 0.6003 - sparse_categorical_accuracy: 0.3943 - 477ms/epoch - 10ms/step\n",
            "Epoch 23/50\n"
          ]
        },
        {
          "output_type": "stream",
          "name": "stderr",
          "text": [
            "WARNING:tensorflow:Early stopping conditioned on metric `val_loss` which is not available. Available metrics are: loss,sparse_categorical_accuracy\n"
          ]
        },
        {
          "output_type": "stream",
          "name": "stdout",
          "text": [
            "50/50 - 0s - loss: 0.5724 - sparse_categorical_accuracy: 0.4008 - 468ms/epoch - 9ms/step\n",
            "Epoch 24/50\n"
          ]
        },
        {
          "output_type": "stream",
          "name": "stderr",
          "text": [
            "WARNING:tensorflow:Early stopping conditioned on metric `val_loss` which is not available. Available metrics are: loss,sparse_categorical_accuracy\n"
          ]
        },
        {
          "output_type": "stream",
          "name": "stdout",
          "text": [
            "50/50 - 0s - loss: 0.5431 - sparse_categorical_accuracy: 0.4100 - 487ms/epoch - 10ms/step\n",
            "Epoch 25/50\n"
          ]
        },
        {
          "output_type": "stream",
          "name": "stderr",
          "text": [
            "WARNING:tensorflow:Early stopping conditioned on metric `val_loss` which is not available. Available metrics are: loss,sparse_categorical_accuracy\n"
          ]
        },
        {
          "output_type": "stream",
          "name": "stdout",
          "text": [
            "50/50 - 0s - loss: 0.5318 - sparse_categorical_accuracy: 0.4037 - 464ms/epoch - 9ms/step\n",
            "Epoch 26/50\n"
          ]
        },
        {
          "output_type": "stream",
          "name": "stderr",
          "text": [
            "WARNING:tensorflow:Early stopping conditioned on metric `val_loss` which is not available. Available metrics are: loss,sparse_categorical_accuracy\n"
          ]
        },
        {
          "output_type": "stream",
          "name": "stdout",
          "text": [
            "50/50 - 1s - loss: 0.4937 - sparse_categorical_accuracy: 0.4162 - 881ms/epoch - 18ms/step\n",
            "Epoch 27/50\n"
          ]
        },
        {
          "output_type": "stream",
          "name": "stderr",
          "text": [
            "WARNING:tensorflow:Early stopping conditioned on metric `val_loss` which is not available. Available metrics are: loss,sparse_categorical_accuracy\n"
          ]
        },
        {
          "output_type": "stream",
          "name": "stdout",
          "text": [
            "50/50 - 1s - loss: 0.4464 - sparse_categorical_accuracy: 0.4210 - 672ms/epoch - 13ms/step\n",
            "Epoch 28/50\n"
          ]
        },
        {
          "output_type": "stream",
          "name": "stderr",
          "text": [
            "WARNING:tensorflow:Early stopping conditioned on metric `val_loss` which is not available. Available metrics are: loss,sparse_categorical_accuracy\n"
          ]
        },
        {
          "output_type": "stream",
          "name": "stdout",
          "text": [
            "50/50 - 1s - loss: 0.4150 - sparse_categorical_accuracy: 0.4443 - 685ms/epoch - 14ms/step\n",
            "Epoch 29/50\n"
          ]
        },
        {
          "output_type": "stream",
          "name": "stderr",
          "text": [
            "WARNING:tensorflow:Early stopping conditioned on metric `val_loss` which is not available. Available metrics are: loss,sparse_categorical_accuracy\n"
          ]
        },
        {
          "output_type": "stream",
          "name": "stdout",
          "text": [
            "50/50 - 1s - loss: 0.3796 - sparse_categorical_accuracy: 0.4561 - 683ms/epoch - 14ms/step\n",
            "Epoch 30/50\n"
          ]
        },
        {
          "output_type": "stream",
          "name": "stderr",
          "text": [
            "WARNING:tensorflow:Early stopping conditioned on metric `val_loss` which is not available. Available metrics are: loss,sparse_categorical_accuracy\n"
          ]
        },
        {
          "output_type": "stream",
          "name": "stdout",
          "text": [
            "50/50 - 1s - loss: 0.3488 - sparse_categorical_accuracy: 0.4745 - 610ms/epoch - 12ms/step\n",
            "Epoch 31/50\n"
          ]
        },
        {
          "output_type": "stream",
          "name": "stderr",
          "text": [
            "WARNING:tensorflow:Early stopping conditioned on metric `val_loss` which is not available. Available metrics are: loss,sparse_categorical_accuracy\n"
          ]
        },
        {
          "output_type": "stream",
          "name": "stdout",
          "text": [
            "50/50 - 1s - loss: 0.3160 - sparse_categorical_accuracy: 0.4910 - 514ms/epoch - 10ms/step\n",
            "Epoch 32/50\n"
          ]
        },
        {
          "output_type": "stream",
          "name": "stderr",
          "text": [
            "WARNING:tensorflow:Early stopping conditioned on metric `val_loss` which is not available. Available metrics are: loss,sparse_categorical_accuracy\n"
          ]
        },
        {
          "output_type": "stream",
          "name": "stdout",
          "text": [
            "50/50 - 0s - loss: 0.2563 - sparse_categorical_accuracy: 0.5483 - 492ms/epoch - 10ms/step\n",
            "Epoch 33/50\n"
          ]
        },
        {
          "output_type": "stream",
          "name": "stderr",
          "text": [
            "WARNING:tensorflow:Early stopping conditioned on metric `val_loss` which is not available. Available metrics are: loss,sparse_categorical_accuracy\n"
          ]
        },
        {
          "output_type": "stream",
          "name": "stdout",
          "text": [
            "50/50 - 0s - loss: 0.1693 - sparse_categorical_accuracy: 0.6426 - 474ms/epoch - 9ms/step\n",
            "Epoch 34/50\n"
          ]
        },
        {
          "output_type": "stream",
          "name": "stderr",
          "text": [
            "WARNING:tensorflow:Early stopping conditioned on metric `val_loss` which is not available. Available metrics are: loss,sparse_categorical_accuracy\n"
          ]
        },
        {
          "output_type": "stream",
          "name": "stdout",
          "text": [
            "50/50 - 1s - loss: 0.5706 - sparse_categorical_accuracy: 0.4069 - 680ms/epoch - 14ms/step\n",
            "Epoch 35/50\n"
          ]
        },
        {
          "output_type": "stream",
          "name": "stderr",
          "text": [
            "WARNING:tensorflow:Early stopping conditioned on metric `val_loss` which is not available. Available metrics are: loss,sparse_categorical_accuracy\n"
          ]
        },
        {
          "output_type": "stream",
          "name": "stdout",
          "text": [
            "50/50 - 0s - loss: 0.6991 - sparse_categorical_accuracy: 0.3641 - 457ms/epoch - 9ms/step\n",
            "Epoch 36/50\n"
          ]
        },
        {
          "output_type": "stream",
          "name": "stderr",
          "text": [
            "WARNING:tensorflow:Early stopping conditioned on metric `val_loss` which is not available. Available metrics are: loss,sparse_categorical_accuracy\n"
          ]
        },
        {
          "output_type": "stream",
          "name": "stdout",
          "text": [
            "50/50 - 0s - loss: 0.6585 - sparse_categorical_accuracy: 0.3838 - 453ms/epoch - 9ms/step\n",
            "Epoch 37/50\n"
          ]
        },
        {
          "output_type": "stream",
          "name": "stderr",
          "text": [
            "WARNING:tensorflow:Early stopping conditioned on metric `val_loss` which is not available. Available metrics are: loss,sparse_categorical_accuracy\n"
          ]
        },
        {
          "output_type": "stream",
          "name": "stdout",
          "text": [
            "50/50 - 1s - loss: 0.6285 - sparse_categorical_accuracy: 0.3918 - 763ms/epoch - 15ms/step\n",
            "Epoch 38/50\n"
          ]
        },
        {
          "output_type": "stream",
          "name": "stderr",
          "text": [
            "WARNING:tensorflow:Early stopping conditioned on metric `val_loss` which is not available. Available metrics are: loss,sparse_categorical_accuracy\n"
          ]
        },
        {
          "output_type": "stream",
          "name": "stdout",
          "text": [
            "50/50 - 0s - loss: 0.6223 - sparse_categorical_accuracy: 0.3906 - 480ms/epoch - 10ms/step\n",
            "Epoch 39/50\n"
          ]
        },
        {
          "output_type": "stream",
          "name": "stderr",
          "text": [
            "WARNING:tensorflow:Early stopping conditioned on metric `val_loss` which is not available. Available metrics are: loss,sparse_categorical_accuracy\n"
          ]
        },
        {
          "output_type": "stream",
          "name": "stdout",
          "text": [
            "50/50 - 1s - loss: 0.5845 - sparse_categorical_accuracy: 0.3959 - 520ms/epoch - 10ms/step\n",
            "Epoch 40/50\n"
          ]
        },
        {
          "output_type": "stream",
          "name": "stderr",
          "text": [
            "WARNING:tensorflow:Early stopping conditioned on metric `val_loss` which is not available. Available metrics are: loss,sparse_categorical_accuracy\n"
          ]
        },
        {
          "output_type": "stream",
          "name": "stdout",
          "text": [
            "50/50 - 1s - loss: 0.5620 - sparse_categorical_accuracy: 0.4066 - 519ms/epoch - 10ms/step\n",
            "Epoch 41/50\n"
          ]
        },
        {
          "output_type": "stream",
          "name": "stderr",
          "text": [
            "WARNING:tensorflow:Early stopping conditioned on metric `val_loss` which is not available. Available metrics are: loss,sparse_categorical_accuracy\n"
          ]
        },
        {
          "output_type": "stream",
          "name": "stdout",
          "text": [
            "50/50 - 0s - loss: 0.5363 - sparse_categorical_accuracy: 0.4116 - 482ms/epoch - 10ms/step\n",
            "Epoch 42/50\n"
          ]
        },
        {
          "output_type": "stream",
          "name": "stderr",
          "text": [
            "WARNING:tensorflow:Early stopping conditioned on metric `val_loss` which is not available. Available metrics are: loss,sparse_categorical_accuracy\n"
          ]
        },
        {
          "output_type": "stream",
          "name": "stdout",
          "text": [
            "50/50 - 0s - loss: 0.5183 - sparse_categorical_accuracy: 0.4063 - 479ms/epoch - 10ms/step\n",
            "Epoch 43/50\n"
          ]
        },
        {
          "output_type": "stream",
          "name": "stderr",
          "text": [
            "WARNING:tensorflow:Early stopping conditioned on metric `val_loss` which is not available. Available metrics are: loss,sparse_categorical_accuracy\n"
          ]
        },
        {
          "output_type": "stream",
          "name": "stdout",
          "text": [
            "50/50 - 0s - loss: 0.4719 - sparse_categorical_accuracy: 0.4180 - 479ms/epoch - 10ms/step\n",
            "Epoch 44/50\n"
          ]
        },
        {
          "output_type": "stream",
          "name": "stderr",
          "text": [
            "WARNING:tensorflow:Early stopping conditioned on metric `val_loss` which is not available. Available metrics are: loss,sparse_categorical_accuracy\n"
          ]
        },
        {
          "output_type": "stream",
          "name": "stdout",
          "text": [
            "50/50 - 0s - loss: 0.4406 - sparse_categorical_accuracy: 0.4252 - 458ms/epoch - 9ms/step\n",
            "Epoch 45/50\n"
          ]
        },
        {
          "output_type": "stream",
          "name": "stderr",
          "text": [
            "WARNING:tensorflow:Early stopping conditioned on metric `val_loss` which is not available. Available metrics are: loss,sparse_categorical_accuracy\n"
          ]
        },
        {
          "output_type": "stream",
          "name": "stdout",
          "text": [
            "50/50 - 0s - loss: 0.4010 - sparse_categorical_accuracy: 0.4526 - 484ms/epoch - 10ms/step\n",
            "Epoch 46/50\n"
          ]
        },
        {
          "output_type": "stream",
          "name": "stderr",
          "text": [
            "WARNING:tensorflow:Early stopping conditioned on metric `val_loss` which is not available. Available metrics are: loss,sparse_categorical_accuracy\n"
          ]
        },
        {
          "output_type": "stream",
          "name": "stdout",
          "text": [
            "50/50 - 0s - loss: 0.3676 - sparse_categorical_accuracy: 0.4667 - 459ms/epoch - 9ms/step\n",
            "Epoch 47/50\n"
          ]
        },
        {
          "output_type": "stream",
          "name": "stderr",
          "text": [
            "WARNING:tensorflow:Early stopping conditioned on metric `val_loss` which is not available. Available metrics are: loss,sparse_categorical_accuracy\n"
          ]
        },
        {
          "output_type": "stream",
          "name": "stdout",
          "text": [
            "50/50 - 1s - loss: 0.3378 - sparse_categorical_accuracy: 0.4784 - 642ms/epoch - 13ms/step\n",
            "Epoch 48/50\n"
          ]
        },
        {
          "output_type": "stream",
          "name": "stderr",
          "text": [
            "WARNING:tensorflow:Early stopping conditioned on metric `val_loss` which is not available. Available metrics are: loss,sparse_categorical_accuracy\n"
          ]
        },
        {
          "output_type": "stream",
          "name": "stdout",
          "text": [
            "50/50 - 0s - loss: 0.3001 - sparse_categorical_accuracy: 0.5072 - 461ms/epoch - 9ms/step\n",
            "Epoch 49/50\n"
          ]
        },
        {
          "output_type": "stream",
          "name": "stderr",
          "text": [
            "WARNING:tensorflow:Early stopping conditioned on metric `val_loss` which is not available. Available metrics are: loss,sparse_categorical_accuracy\n"
          ]
        },
        {
          "output_type": "stream",
          "name": "stdout",
          "text": [
            "50/50 - 1s - loss: 0.2189 - sparse_categorical_accuracy: 0.5847 - 517ms/epoch - 10ms/step\n",
            "Epoch 50/50\n"
          ]
        },
        {
          "output_type": "stream",
          "name": "stderr",
          "text": [
            "WARNING:tensorflow:Early stopping conditioned on metric `val_loss` which is not available. Available metrics are: loss,sparse_categorical_accuracy\n"
          ]
        },
        {
          "output_type": "stream",
          "name": "stdout",
          "text": [
            "50/50 - 2s - loss: 0.1765 - sparse_categorical_accuracy: 0.6366 - 2s/epoch - 31ms/step\n"
          ]
        },
        {
          "output_type": "execute_result",
          "data": {
            "text/plain": [
              "(<keras.engine.functional.Functional at 0x7f46621cd210>,\n",
              " <keras.callbacks.History at 0x7f46621ccd60>)"
            ]
          },
          "metadata": {},
          "execution_count": 54
        }
      ]
    }
  ]
}